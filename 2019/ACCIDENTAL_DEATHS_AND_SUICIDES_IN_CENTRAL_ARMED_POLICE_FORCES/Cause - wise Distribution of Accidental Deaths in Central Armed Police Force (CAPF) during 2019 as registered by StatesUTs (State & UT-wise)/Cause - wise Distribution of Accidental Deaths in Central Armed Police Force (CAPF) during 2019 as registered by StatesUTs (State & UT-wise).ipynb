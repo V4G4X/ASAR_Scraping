{
 "cells": [
  {
   "cell_type": "code",
   "execution_count": 1,
   "metadata": {},
   "outputs": [],
   "source": [
    "import wget\n",
    "import ssl\n",
    "import os\n",
    "ssl._create_default_https_context = ssl._create_unverified_context"
   ]
  },
  {
   "cell_type": "code",
   "execution_count": 2,
   "metadata": {},
   "outputs": [],
   "source": [
    "# Enter NCRB Individual PDF url\n",
    "pdf_url = 'https://ncrb.gov.in/sites/default/files/adsi_reports_previous_year/Table-3.1_2019_0.pdf'\n",
    "fileName = pdf_url[67:]\n",
    "try:\n",
    "    #Delete the file to redownload it\n",
    "    os.remove(fileName)\n",
    "except FileNotFoundError as e:\n",
    "    #Ignore in case FileNotFound Error occurs\n",
    "    pass\n",
    "# Download report\n",
    "fileName = wget.download(pdf_url,fileName)"
   ]
  },
  {
   "cell_type": "code",
   "execution_count": 3,
   "metadata": {},
   "outputs": [],
   "source": [
    "import numpy as np\n",
    "import pandas as pd\n",
    "import camelot"
   ]
  },
  {
   "cell_type": "code",
   "execution_count": 4,
   "metadata": {},
   "outputs": [
    {
     "output_type": "execute_result",
     "data": {
      "text/plain": [
       "'Table-3.1_2019_0.pdf'"
      ]
     },
     "metadata": {},
     "execution_count": 4
    }
   ],
   "source": [
    "fileName"
   ]
  },
  {
   "cell_type": "code",
   "execution_count": 5,
   "metadata": {},
   "outputs": [],
   "source": [
    "tables = camelot.read_pdf(fileName,\n",
    "                          flavor='stream',\n",
    "                          table_areas=[\n",
    "                              \"48.096930533117934,736.8267655351573,547.3430694668822,52.29867117593344\"\n",
    "                              ],\n",
    "                          columns=[\n",
    "                              \"76.9550888529887,175.0728271405493,210.66455573505655,238.56077544426498,271.26668820678515,297.2390306946688,328.02106623586434,354.95534733441036,386.6993214862682,418.4432956381261,447.30145395799684,482.8931825525041,519.4468497576737\"\n",
    "                              ],\n",
    "                          split_text=True,\n",
    "                          pages=\"all\"\n",
    "                         )"
   ]
  },
  {
   "cell_type": "code",
   "execution_count": 6,
   "metadata": {},
   "outputs": [
    {
     "output_type": "execute_result",
     "data": {
      "text/plain": [
       "<TableList n=2>"
      ]
     },
     "metadata": {},
     "execution_count": 6
    }
   ],
   "source": [
    "tables"
   ]
  },
  {
   "cell_type": "code",
   "execution_count": 7,
   "metadata": {},
   "outputs": [],
   "source": [
    "def printnAllTables(tables):\n",
    "    for i in range(len(tables)):\n",
    "        print(\"Page No: \",(i+1))\n",
    "        print(tables[i].df)\n",
    "        print()"
   ]
  },
  {
   "cell_type": "code",
   "execution_count": 8,
   "metadata": {},
   "outputs": [],
   "source": [
    "# Incase we're intersted in seeing the original scraped tables.\n",
    "# Commented as it takes too much screen space\n",
    "# Run if you want\n",
    "# printnAllTables(tables)"
   ]
  },
  {
   "cell_type": "code",
   "execution_count": 9,
   "metadata": {},
   "outputs": [],
   "source": [
    "# Removes Garbage Rows that may have been detected Before the 'STATES' row\n",
    "# AND\n",
    "# Removes Garbage Rows that may have been detected after the 'TOTAL (ALL INDIA)' row\n",
    "def clean(table):\n",
    "    while(table.df.iloc[0,1] != 'STATES'):\n",
    "        table.df = table.df.iloc[1:]\n",
    "    while(table.df.iloc[-1,1] != 'TOTAL (ALL INDIA)'):\n",
    "        table.df = table.df.iloc[:-1]\n",
    "    # The Return line is unnecessary due to all changes being reflected in the original references\n",
    "    return table"
   ]
  },
  {
   "cell_type": "code",
   "execution_count": 10,
   "metadata": {},
   "outputs": [],
   "source": [
    "for each_table in tables:\n",
    "    clean(each_table)"
   ]
  },
  {
   "source": [
    "# Incase we're intersted in seeing the scraped tables at this point.\n",
    "# Commented as it takes too much screen space\n",
    "# Run if you want\n",
    "printnAllTables(tables)"
   ],
   "cell_type": "code",
   "metadata": {},
   "execution_count": 11,
   "outputs": [
    {
     "output_type": "stream",
     "name": "stdout",
     "text": [
      "Page No:  1\n    0                  1  2  3  4  5   6  7  8   9  10 11 12 13\n5                  STATES                                      \n6    1     ANDHRA PRADESH  0  0  0  0   0  0  0   0  0  0  0  0\n7    2  ARUNACHAL PRADESH  0  0  0  0   0  0  0   0  0  0  0  0\n8    3              ASSAM  0  0  0  0   0  0  0   0  0  0  0  0\n9    4              BIHAR  0  0  0  0   0  0  0   0  0  0  0  0\n10   5       CHHATTISGARH  0  0  0  0   8  0  0   8  0  0  0  0\n11   6                GOA  0  0  0  0   0  0  0   0  0  0  0  0\n12   7            GUJARAT  0  0  0  0   0  0  0   0  0  0  0  0\n13   8            HARYANA  0  0  0  0   0  0  0   0  0  0  0  0\n14   9   HIMACHAL PRADESH  0  0  0  0   0  0  0   0  0  0  0  0\n15  10    JAMMU & KASHMIR  1  0  0  1   6  0  0   6  0  0  0  0\n16  11          JHARKHAND  0  0  0  0   0  0  0   0  0  0  0  0\n17  12          KARNATAKA  0  0  0  0   0  0  0   0  0  0  0  0\n18  13             KERALA  0  0  0  0   0  0  0   0  0  0  0  0\n19  14     MADHYA PRADESH  0  0  0  0   0  0  0   0  0  0  0  0\n20  15        MAHARASHTRA  1  0  0  1   0  0  0   0  0  0  0  0\n21  16            MANIPUR  0  0  0  0   0  0  0   0  0  0  0  0\n22  17          MEGHALAYA  0  0  0  0   0  0  0   0  0  0  0  0\n23  18            MIZORAM  0  0  0  0   0  0  0   0  0  0  0  0\n24  19           NAGALAND  0  0  0  0   0  0  0   0  0  0  0  0\n25  20             ODISHA  0  0  0  0   0  0  0   0  0  0  0  0\n26  21             PUNJAB  0  0  0  0   0  0  0   0  0  0  0  0\n27  22          RAJASTHAN  0  0  0  0   0  0  0   0  0  0  0  0\n28  23             SIKKIM  1  0  0  1   0  0  0   0  0  0  0  0\n29  24         TAMIL NADU  0  0  0  0   0  0  0   0  0  0  0  0\n30  25          TELANGANA  0  0  0  0   0  0  0   0  0  0  0  0\n31  26            TRIPURA  0  0  0  0   0  0  0   0  0  0  0  0\n32  27      UTTAR PRADESH  0  0  0  0   0  0  0   0  0  0  0  0\n33  28        UTTARAKHAND  0  0  0  0   0  0  0   0  0  0  0  0\n34  29        WEST BENGAL  0  0  0  0   0  0  0   0  0  0  0  0\n35         TOTAL (STATES)  3  0  0  3  14  0  0  14  0  0  0  0\n36      UNION TERRITORIES                                      \n37  30      A & N ISLANDS  0  0  0  0   0  0  0   0  0  0  0  0\n38  31         CHANDIGARH  0  0  0  0   0  0  0   0  0  0  0  0\n39  32       D & N HAVELI  0  0  0  0   0  0  0   0  0  0  0  0\n40  33        DAMAN & DIU  0  0  0  0   0  0  0   0  0  0  0  0\n41  34         DELHI (UT)  1  0  0  1   0  0  0   0  0  0  0  0\n42  35        LAKSHADWEEP  0  0  0  0   0  0  0   0  0  0  0  0\n43  36         PUDUCHERRY  0  0  0  0   0  0  0   0  0  0  0  0\n44            TOTAL (UTs)  1  0  0  1   0  0  0   0  0  0  0  0\n45      TOTAL (ALL INDIA)  4  0  0  4  14  0  0  14  0  0  0  0\n\nPage No:  2\n    0                  1   2  3  4   5   6  7  8   9    10 11 12   13\n2                  STATES                                            \n3    1     ANDHRA PRADESH   1  0  0   1   2  0  0   2    3  0  0    3\n4    2  ARUNACHAL PRADESH   0  0  0   0   7  0  0   7    7  0  0    7\n5    3              ASSAM   3  0  0   3   0  0  0   0    3  0  0    3\n6    4              BIHAR   1  0  0   1   1  0  0   1    2  0  0    2\n7    5       CHHATTISGARH   0  0  0   0   6  0  0   6   14  0  0   14\n8    6                GOA   0  0  0   0   0  0  0   0    0  0  0    0\n9    7            GUJARAT   0  0  0   0   1  0  0   1    1  0  0    1\n10   8            HARYANA   0  0  0   0   0  0  0   0    0  0  0    0\n11   9   HIMACHAL PRADESH   0  0  0   0   0  0  0   0    0  0  0    0\n12  10    JAMMU & KASHMIR   3  0  0   3  16  0  0  16   26  0  0   26\n13  11          JHARKHAND   0  0  0   0   0  0  0   0    0  0  0    0\n14  12          KARNATAKA   0  0  0   0   0  0  0   0    0  0  0    0\n15  13             KERALA   0  0  0   0   2  0  0   2    2  0  0    2\n16  14     MADHYA PRADESH   2  1  0   3   3  0  0   3    5  1  0    6\n17  15        MAHARASHTRA   0  0  0   0   2  0  0   2    3  0  0    3\n18  16            MANIPUR   2  0  0   2   6  0  0   6    8  0  0    8\n19  17          MEGHALAYA   0  0  0   0   0  0  0   0    0  0  0    0\n20  18            MIZORAM   0  0  0   0   0  0  0   0    0  0  0    0\n21  19           NAGALAND   0  0  0   0   1  0  0   1    1  0  0    1\n22  20             ODISHA   0  0  0   0   0  0  0   0    0  0  0    0\n23  21             PUNJAB   0  0  0   0   1  0  0   1    1  0  0    1\n24  22          RAJASTHAN   5  0  0   5  10  0  0  10   15  0  0   15\n25  23             SIKKIM   0  0  0   0   1  0  0   1    2  0  0    2\n26  24         TAMIL NADU   1  1  0   2   0  0  0   0    1  1  0    2\n27  25          TELANGANA   0  0  0   0   0  0  0   0    0  0  0    0\n28  26            TRIPURA   0  0  0   0   0  0  0   0    0  0  0    0\n29  27      UTTAR PRADESH   0  0  0   0   0  0  0   0    0  0  0    0\n30  28        UTTARAKHAND   0  0  0   0   0  0  0   0    0  0  0    0\n31  29        WEST BENGAL   0  0  0   0   0  0  0   0    0  0  0    0\n32         TOTAL (STATES)  18  2  0  20  59  0  0  59   94  2  0   96\n33      UNION TERRITORIES                                            \n34  30      A & N ISLANDS   0  0  0   0   0  0  0   0    0  0  0    0\n35  31         CHANDIGARH   0  0  0   0   0  0  0   0    0  0  0    0\n36  32       D & N HAVELI   0  0  0   0   0  0  0   0    0  0  0    0\n37  33        DAMAN & DIU   0  0  0   0   0  0  0   0    0  0  0    0\n38  34         DELHI (UT)   4  0  0   4   3  0  0   3    8  0  0    8\n39  35        LAKSHADWEEP   0  0  0   0   0  0  0   0    0  0  0    0\n40  36         PUDUCHERRY   0  0  0   0   0  0  0   0    0  0  0    0\n41            TOTAL (UTs)   4  0  0   4   3  0  0   3    8  0  0    8\n42      TOTAL (ALL INDIA)  22  2  0  24  62  0  0  62  102  2  0  104\n\n"
     ]
    }
   ]
  },
  {
   "cell_type": "code",
   "execution_count": 12,
   "metadata": {},
   "outputs": [
    {
     "output_type": "execute_result",
     "data": {
      "text/plain": [
       "2"
      ]
     },
     "metadata": {},
     "execution_count": 12
    }
   ],
   "source": [
    "# List of Column headers as column are nested, i.e exhibit a multi level/index structure\n",
    "# The multi level structre will be generated and applied in the next \n",
    "column_header = [\n",
    "    ['Deaths due to Forces of Nature','Killed in Action/Operation/Encounters/etc.','Fratricide'],\n",
    "    ['Deaths due to Road/Railway Accidents','Deaths Due to Other Causes','Total']\n",
    "]\n",
    "len(column_header)"
   ]
  },
  {
   "cell_type": "code",
   "execution_count": 13,
   "metadata": {},
   "outputs": [],
   "source": [
    "def set_Column(df, title):\n",
    "    column_list = [\n",
    "        (\"Sl. No.\",''),\n",
    "        (\"State/UT\",''), \n",
    "        (title[0],'Male'),\n",
    "        (title[0],'Female'),\n",
    "        (title[0],'Transgender'),\n",
    "        (title[0],'Total'),\n",
    "        (title[1],'Male'),\n",
    "        (title[1],'Female'),\n",
    "        (title[1],'Transgender'),\n",
    "        (title[1],'Total'),\n",
    "        (title[2],'Male'),\n",
    "        (title[2],'Female'),\n",
    "        (title[2],'Transgender'),\n",
    "        (title[2],'Total'),\n",
    "    ]\n",
    "    df.columns = pd.MultiIndex.from_tuples(column_list)"
   ]
  },
  {
   "cell_type": "code",
   "execution_count": 14,
   "metadata": {},
   "outputs": [],
   "source": [
    "for i in range(len(tables)):\n",
    "    set_Column(tables[i].df, column_header[i])\n",
    "    tables[i].df.set_index([\"Sl. No.\",\"State/UT\"],inplace=True)"
   ]
  },
  {
   "cell_type": "code",
   "execution_count": 15,
   "metadata": {},
   "outputs": [],
   "source": [
    "# Incase we're intersted in seeing the scraped tables at this point.\n",
    "# Commented as it takes too much screen space\n",
    "# Run if you want\n",
    "# printnAllTables(tables)\n",
    "\n",
    "# OR Print a simgle one according to your choice\n",
    "# tables[23].df"
   ]
  },
  {
   "cell_type": "code",
   "execution_count": 16,
   "metadata": {},
   "outputs": [],
   "source": [
    "# Convert List of tables to list of DataFrames\n",
    "DataFrames = [each.df.copy() for each in tables]\n",
    "# Concat all the tables one after the other, as they all have the same indexes.\n",
    "final = pd.concat(DataFrames,axis=1)"
   ]
  },
  {
   "cell_type": "code",
   "execution_count": 17,
   "metadata": {},
   "outputs": [],
   "source": [
    "# Reset Index before saving file, for better formatting in RAW CSV\n",
    "final.reset_index().to_csv(\"Other Causes-wise Number of Cases, Persons Injured & Persons Died during 2019 (State & UT-wise).csv\",index=False)"
   ]
  }
 ],
 "metadata": {
  "kernelspec": {
   "display_name": "Python 3",
   "language": "python",
   "name": "python3"
  },
  "language_info": {
   "codemirror_mode": {
    "name": "ipython",
    "version": 3
   },
   "file_extension": ".py",
   "mimetype": "text/x-python",
   "name": "python",
   "nbconvert_exporter": "python",
   "pygments_lexer": "ipython3",
   "version": "3.8.2-final"
  }
 },
 "nbformat": 4,
 "nbformat_minor": 4
}
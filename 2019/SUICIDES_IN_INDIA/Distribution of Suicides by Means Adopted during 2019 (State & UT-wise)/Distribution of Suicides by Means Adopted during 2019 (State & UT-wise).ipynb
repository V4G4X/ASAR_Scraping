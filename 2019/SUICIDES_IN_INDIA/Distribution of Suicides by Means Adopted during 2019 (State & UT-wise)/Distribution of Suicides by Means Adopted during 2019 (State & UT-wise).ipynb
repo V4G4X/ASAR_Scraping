{
 "cells": [
  {
   "cell_type": "code",
   "execution_count": 1,
   "metadata": {},
   "outputs": [],
   "source": [
    "import wget\n",
    "import ssl\n",
    "import os\n",
    "ssl._create_default_https_context = ssl._create_unverified_context"
   ]
  },
  {
   "cell_type": "code",
   "execution_count": 2,
   "metadata": {},
   "outputs": [],
   "source": [
    "# Enter NCRB Individual PDF url\n",
    "pdf_url = 'https://ncrb.gov.in/sites/default/files/adsi_reports_previous_year/Table-2.13_2019_0.pdf'\n",
    "fileName = pdf_url[67:]\n",
    "try:\n",
    "    #Delete the file to redownload it\n",
    "    os.remove(fileName)\n",
    "except FileNotFoundError as e:\n",
    "    #Ignore in case FileNotFound Error occurs\n",
    "    pass\n",
    "# Download report\n",
    "fileName = wget.download(pdf_url,fileName)"
   ]
  },
  {
   "cell_type": "code",
   "execution_count": 3,
   "metadata": {},
   "outputs": [],
   "source": [
    "import numpy as np\n",
    "import pandas as pd\n",
    "import camelot"
   ]
  },
  {
   "cell_type": "code",
   "execution_count": 4,
   "metadata": {},
   "outputs": [
    {
     "output_type": "execute_result",
     "data": {
      "text/plain": [
       "'Table-2.13_2019_0.pdf'"
      ]
     },
     "metadata": {},
     "execution_count": 4
    }
   ],
   "source": [
    "fileName"
   ]
  },
  {
   "cell_type": "code",
   "execution_count": 5,
   "metadata": {},
   "outputs": [],
   "source": [
    "tables = camelot.read_pdf(fileName,\n",
    "                          flavor='stream',\n",
    "                          table_areas=[\n",
    "                              \"25.972342487883687,740.0974110141216,567.5437802907917,64.80410280935504\"\n",
    "                              ],\n",
    "                          columns=[\n",
    "                              \"49.0588691437803,148.13854604200324,186.6160904684976,225.09363489499194,257.79954765751216,286.65770597738293,323.21137318255256,359.7650403877222,386.6993214862682,424.2149273021002,455.95890145395805,491.55063004846534,530.0281744749597\"\n",
    "                              ],\n",
    "                          split_text=True,\n",
    "                          pages=\"1-5\"\n",
    "                         )"
   ]
  },
  {
   "cell_type": "code",
   "execution_count": 6,
   "metadata": {},
   "outputs": [
    {
     "output_type": "execute_result",
     "data": {
      "text/plain": [
       "<TableList n=5>"
      ]
     },
     "metadata": {},
     "execution_count": 6
    }
   ],
   "source": [
    "tables"
   ]
  },
  {
   "cell_type": "code",
   "execution_count": 7,
   "metadata": {},
   "outputs": [],
   "source": [
    "def printnAllTables(tables):\n",
    "    for i in range(len(tables)):\n",
    "        print(\"Page No: \",(i+1))\n",
    "        print(tables[i].df)\n",
    "        print()"
   ]
  },
  {
   "cell_type": "code",
   "execution_count": 8,
   "metadata": {},
   "outputs": [],
   "source": [
    "# Incase we're intersted in seeing the original scraped tables.\n",
    "# Commented as it takes too much screen space\n",
    "# Run if you want\n",
    "# printnAllTables(tables)"
   ]
  },
  {
   "cell_type": "code",
   "execution_count": 9,
   "metadata": {},
   "outputs": [],
   "source": [
    "# Removes Garbage Rows that may have been detected Before the 'STATES' row\n",
    "# AND\n",
    "# Removes Garbage Rows that may have been detected after the 'TOTAL (ALL INDIA)' row\n",
    "def clean(table):\n",
    "    while(table.df.iloc[0,1] != 'STATES'):\n",
    "        table.df = table.df.iloc[1:]\n",
    "    while(table.df.iloc[-1,1] != 'TOTAL (ALL INDIA)'):\n",
    "        table.df = table.df.iloc[:-1]\n",
    "    # The Return line is unnecessary due to all changes being reflected in the original references\n",
    "    return table"
   ]
  },
  {
   "cell_type": "code",
   "execution_count": 10,
   "metadata": {},
   "outputs": [],
   "source": [
    "for each_table in tables:\n",
    "    clean(each_table)"
   ]
  },
  {
   "cell_type": "code",
   "execution_count": 11,
   "metadata": {},
   "outputs": [
    {
     "output_type": "stream",
     "name": "stdout",
     "text": [
      "Page No:  1\n    0                  1    2    3  4    5     6     7  8     9     10    11  \\\n4                  STATES                                                      \n5    1     ANDHRA PRADESH   19    8  0   27   219   139  0   358    64    61   \n6    2  ARUNACHAL PRADESH    0    0  0    0     9     3  0    12     0     0   \n7    3              ASSAM    6    5  0   11   207    54  0   261     8    18   \n8    4              BIHAR   30   10  0   40    56    17  0    73    12    18   \n9    5       CHHATTISGARH    7    0  0    7   238    53  0   291   110   238   \n10   6                GOA    1    0  0    1    18    12  0    30     4     5   \n11   7            GUJARAT    8    4  0   12   380   135  0   515   130   251   \n12   8            HARYANA    0    2  0    2   261    37  0   298    27    20   \n13   9   HIMACHAL PRADESH    0    0  0    0     9     4  0    13     4     5   \n14  10    JAMMU & KASHMIR    0    0  0    0     4     3  0     7     4     4   \n15  11          JHARKHAND   87   57  0  144   127    40  0   167    14    38   \n16  12          KARNATAKA   36   27  0   63   559   282  0   841   107   129   \n17  13             KERALA   28   11  0   39   218   159  0   377    98   225   \n18  14     MADHYA PRADESH   23   25  0   48   271   127  0   398   187   465   \n19  15        MAHARASHTRA   29   32  0   61   763   397  0  1160   187   287   \n20  16            MANIPUR    0    0  0    0     0     0  0     0     0     0   \n21  17          MEGHALAYA    0    0  0    0     8     1  0     9     2     0   \n22  18            MIZORAM    0    0  0    0     0     0  0     0     0     0   \n23  19           NAGALAND    0    0  0    0     1     0  0     1     0     0   \n24  20             ODISHA    3    1  0    4    85   107  0   192     7   117   \n25  21             PUNJAB   35   11  0   46   106    28  0   134    15    14   \n26  22          RAJASTHAN   38    6  0   44   278   106  0   384    69    49   \n27  23             SIKKIM    0    0  0    0     1     0  0     1     0     0   \n28  24         TAMIL NADU   48   18  0   66   344   215  0   559   557   628   \n29  25          TELANGANA   21    6  0   27   305   107  0   412    37   180   \n30  26            TRIPURA    0    0  0    0    29     1  0    30    28    36   \n31  27      UTTAR PRADESH   37   25  0   62   124    65  0   189   166   268   \n32  28        UTTARAKHAND    2    0  0    2     3     1  0     4     0     1   \n33  29        WEST BENGAL    7   12  0   19   339   125  0   464    80   223   \n34         TOTAL (STATES)  465  260  0  725  4962  2218  0  7180  1917  3280   \n35      UNION TERRITORIES                                                      \n36  30     A & N  ISLANDS    0    0  0    0     3     0  0     3     2     8   \n37  31         CHANDIGARH    0    0  0    0     2     0  0     2     0     0   \n38  32      D & N  HAVELI    0    1  0    1     1     1  0     2     0     1   \n39  33      DAMAN  &  DIU    0    0  0    0     2     0  0     2     1     1   \n40  34         DELHI (UT)   22    5  0   27    13     3  0    16    17     5   \n41  35        LAKSHADWEEP    0    0  0    0     0     0  0     0     0     0   \n42  36         PUDUCHERRY    0    0  0    0     3     0  0     3     0     0   \n43            TOTAL (UTs)   22    6  0   28    24     4  0    28    20    15   \n44      TOTAL (ALL INDIA)  487  266  0  753  4986  2222  0  7208  1937  3295   \n\n   12    13  \n4            \n5   0   125  \n6   0     0  \n7   0    26  \n8   0    30  \n9   0   348  \n10  0     9  \n11  0   381  \n12  0    47  \n13  0     9  \n14  0     8  \n15  0    52  \n16  1   237  \n17  0   323  \n18  1   653  \n19  0   474  \n20  0     0  \n21  0     2  \n22  0     0  \n23  0     0  \n24  0   124  \n25  0    29  \n26  0   118  \n27  0     0  \n28  0  1185  \n29  0   217  \n30  0    64  \n31  0   434  \n32  0     1  \n33  0   303  \n34  2  5199  \n35           \n36  0    10  \n37  0     0  \n38  0     1  \n39  0     2  \n40  0    22  \n41  0     0  \n42  0     0  \n43  0    35  \n44  2  5234  \n\nPage No:  2\n    0                  1    2    3  4    5      6      7   8      9      10  \\\n4                  STATES                                                     \n5    1     ANDHRA PRADESH    1    0  0    1   1685    693   0   2378   2061   \n6    2  ARUNACHAL PRADESH    2    0  0    2     56     26   0     82      1   \n7    3              ASSAM    7    8  0   15   1116    418   0   1534    167   \n8    4              BIHAR    1    0  0    1    174    130   0    304     93   \n9    5       CHHATTISGARH   12    1  0   13   2937    912   0   3849   1000   \n10   6                GOA    0    0  0    0    155     34   0    189     15   \n11   7            GUJARAT    8    3  0   11   2489   1133   1   3623   1653   \n12   8            HARYANA    5    0  0    5    899    278   0   1177    462   \n13   9   HIMACHAL PRADESH    4    0  0    4    178     97   0    275    179   \n14  10    JAMMU & KASHMIR    4    1  0    5     45     24   0     69     80   \n15  11          JHARKHAND    2    0  0    2    576    326   0    902    149   \n16  12          KARNATAKA   12    9  0   21   4936   1565   1   6502   1971   \n17  13             KERALA   12    8  0   20   5225   1210   0   6435    785   \n18  14     MADHYA PRADESH   48   30  0   78   4911   2287   0   7198   2252   \n19  15        MAHARASHTRA   14    3  0   17   9205   2397   2  11604   3613   \n20  16            MANIPUR    1    0  0    1     28     18   0     46      5   \n21  17          MEGHALAYA    0    0  0    0    151     30   0    181      0   \n22  18            MIZORAM    1    0  0    1     51     16   0     67      1   \n23  19           NAGALAND    2    0  0    2     33      5   0     38      0   \n24  20             ODISHA    2    1  0    3   1214    612   0   1826   1114   \n25  21             PUNJAB   24    3  0   27    799    259   1   1059    338   \n26  22          RAJASTHAN   21    1  0   22   1903    728   0   2631    512   \n27  23             SIKKIM    0    0  0    0    157     57   0    214      0   \n28  24         TAMIL NADU    5    0  0    5   5260   2082   5   7347   2859   \n29  25          TELANGANA    1    1  0    2   1979    631   1   2611   2546   \n30  26            TRIPURA    1    0  0    1    377    156   0    533     55   \n31  27      UTTAR PRADESH   84   53  0  137   1968   1299   0   3267    550   \n32  28        UTTARAKHAND    0    0  0    0    160     71   0    231    163   \n33  29        WEST BENGAL    2    0  0    2   3656   2171   0   5827   1775   \n34         TOTAL (STATES)  276  122  0  398  52323  19665  11  71999  24399   \n35      UNION TERRITORIES                                                     \n36  30     A & N  ISLANDS    1    0  0    1    119     34   0    153      5   \n37  31         CHANDIGARH    1    0  0    1     75     29   0    104      9   \n38  32       D & N HAVELI    0    0  0    0     58     19   0     77     13   \n39  33        DAMAN & DIU    0    0  0    0     25     15   0     40      1   \n40  34         DELHI (UT)   25    3  0   28   1329    593   0   1922    126   \n41  35        LAKSHADWEEP    0    0  0    0      0      0   0      0      0   \n42  36         PUDUCHERRY    0    0  0    0    269     65   0    334     41   \n43            TOTAL (UTs)   27    3  0   30   1875    755   0   2630    195   \n44      TOTAL (ALL INDIA)  303  125  0  428  54198  20420  11  74629  24594   \n\n       11 12     13  \n4                    \n5     680  0   2741  \n6       1  0      2  \n7     117  0    284  \n8      40  0    133  \n9     546  0   1546  \n10      4  0     19  \n11    865  0   2518  \n12    224  0    686  \n13    101  0    280  \n14     89  0    169  \n15    102  0    251  \n16    647  0   2618  \n17    194  0    979  \n18   1283  1   3536  \n19   1166  0   4779  \n20      4  0      9  \n21      1  0      1  \n22      0  0      1  \n23      0  0      0  \n24   1074  0   2188  \n25    133  0    471  \n26    210  0    722  \n27      0  0      0  \n28   1206  3   4068  \n29    910  0   3456  \n30     32  0     87  \n31    359  0    909  \n32    105  0    268  \n33   1113  0   2888  \n34  11206  4  35609  \n35                   \n36      9  0     14  \n37      7  0     16  \n38      1  0     14  \n39      1  0      2  \n40     45  0    171  \n41      0  0      0  \n42     15  0     56  \n43     78  0    273  \n44  11284  4  35882  \n\nPage No:  3\n    0                  1      2     3  4      5     6     7  8      9    10  \\\n5                  STATES                                                     \n6    1     ANDHRA PRADESH   1513   515  0   2028   548   165  0    713   25   \n7    2  ARUNACHAL PRADESH      0     0  0      0     1     1  0      2    0   \n8    3              ASSAM    167   117  0    284     0     0  0      0   19   \n9    4              BIHAR     88    35  0    123     5     5  0     10    4   \n10   5       CHHATTISGARH    613   327  0    940   387   219  0    606   34   \n11   6                GOA     12     3  0     15     3     1  0      4    1   \n12   7            GUJARAT   1215   625  0   1840   438   240  0    678   23   \n13   8            HARYANA    241    95  0    336   221   129  0    350   15   \n14   9   HIMACHAL PRADESH    178   101  0    279     1     0  0      1    1   \n15  10    JAMMU & KASHMIR     42    45  0     87    38    44  0     82    0   \n16  11          JHARKHAND    134    93  0    227    15     9  0     24    6   \n17  12          KARNATAKA   1219   411  0   1630   752   236  0    988  206   \n18  13             KERALA    525   127  0    652   260    67  0    327   14   \n19  14     MADHYA PRADESH   1821  1037  1   2859   431   246  0    677   37   \n20  15        MAHARASHTRA   3083  1022  0   4105   530   144  0    674   60   \n21  16            MANIPUR      3     2  0      5     2     2  0      4    2   \n22  17          MEGHALAYA      0     1  0      1     0     0  0      0    1   \n23  18            MIZORAM      1     0  0      1     0     0  0      0    0   \n24  19           NAGALAND      0     0  0      0     0     0  0      0    0   \n25  20             ODISHA    176   141  0    317   938   933  0   1871    2   \n26  21             PUNJAB    280   102  0    382    58    31  0     89   14   \n27  22          RAJASTHAN    200    98  0    298   312   112  0    424   40   \n28  23             SIKKIM      0     0  0      0     0     0  0      0    1   \n29  24         TAMIL NADU   1969   804  2   2775   890   402  1   1293   26   \n30  25          TELANGANA   2332   785  0   3117   214   125  0    339    1   \n31  26            TRIPURA     19    22  0     41    36    10  0     46    0   \n32  27      UTTAR PRADESH    271   160  0    431   279   199  0    478   43   \n33  28        UTTARAKHAND    133    89  0    222    30    16  0     46    1   \n34  29        WEST BENGAL    574   407  0    981  1201   706  0   1907    4   \n35         TOTAL (STATES)  16809  7164  3  23976  7590  4042  1  11633  580   \n36      UNION TERRITORIES                                                     \n37  30      A & N ISLANDS      0     1  0      1     5     8  0     13    0   \n38  31         CHANDIGARH      0     0  0      0     9     7  0     16    0   \n39  32      D & N  HAVELI      9     1  0     10     4     0  0      4    0   \n40  33        DAMAN & DIU      1     1  0      2     0     0  0      0    0   \n41  34         DELHI (UT)     54    21  0     75    72    24  0     96   14   \n42  35        LAKSHADWEEP      0     0  0      0     0     0  0      0    0   \n43  36         PUDUCHERRY      0     0  0      0    41    15  0     56    0   \n44            TOTAL (UTs)     64    24  0     88   131    54  0    185   14   \n45      TOTAL (ALL INDIA)  16873  7188  3  24064  7721  4096  1  11818  594   \n\n     11 12   13  \n5                \n6     2  0   27  \n7     0  0    0  \n8    16  0   35  \n9     4  0    8  \n10    8  0   42  \n11    0  0    1  \n12    7  0   30  \n13    1  0   16  \n14    0  0    1  \n15    1  0    1  \n16    9  0   15  \n17   85  0  291  \n18   10  0   24  \n19   11  0   48  \n20   31  0   91  \n21    0  0    2  \n22    1  0    2  \n23    0  0    0  \n24    0  0    0  \n25    1  0    3  \n26    0  0   14  \n27   16  0   56  \n28    0  0    1  \n29    1  0   27  \n30    0  0    1  \n31    0  0    0  \n32   18  0   61  \n33    1  0    2  \n34    1  0    5  \n35  224  0  804  \n36               \n37    0  0    0  \n38    0  0    0  \n39    0  0    0  \n40    0  0    0  \n41   10  0   24  \n42    0  0    0  \n43    0  0    0  \n44   10  0   24  \n45  234  0  828  \n\nPage No:  4\n    0                  1     2    3  4     5    6    7  8    9    10  11 12  \\\n5                  STATES                                                     \n6    1     ANDHRA PRADESH    34   12  0    46   22    7  0   29   11   2  0   \n7    2  ARUNACHAL PRADESH     0    0  0     0    0    0  0    0    0   0  0   \n8    3              ASSAM    40   18  0    58    2    8  0   10    0   0  0   \n9    4              BIHAR     7    6  0    13    7    6  0   13    0   0  0   \n10   5       CHHATTISGARH   114   13  0   127   16    1  0   17    9   0  0   \n11   6                GOA     4    0  0     4    2    0  0    2    0   0  0   \n12   7            GUJARAT   132   30  0   162   65   23  0   88   12   1  0   \n13   8            HARYANA   181   19  0   200    2    4  0    6   33   4  0   \n14   9   HIMACHAL PRADESH     2    0  0     2    2    0  0    2    0   0  0   \n15  10    JAMMU & KASHMIR     3    0  0     3    1    0  0    1    0   0  0   \n16  11          JHARKHAND    37    5  0    42   15    0  0   15    0   3  0   \n17  12          KARNATAKA    35   11  0    46   32   11  0   43    2   0  0   \n18  13             KERALA    78   25  0   103    8    7  0   15    3   2  0   \n19  14     MADHYA PRADESH    92   29  0   121   10    4  0   14    2   5  0   \n20  15        MAHARASHTRA   206   57  0   263  105   48  0  153   26   4  0   \n21  16            MANIPUR     0    0  0     0    0    0  0    0    0   0  0   \n22  17          MEGHALAYA     0    0  0     0    0    0  0    0    0   0  0   \n23  18            MIZORAM     1    0  0     1    1    0  0    1    0   0  0   \n24  19           NAGALAND     0    0  0     0    0    0  0    0    0   0  0   \n25  20             ODISHA     4    4  0     8    1    0  0    1    0   0  0   \n26  21             PUNJAB    42   14  0    56   39   11  0   50    3   0  0   \n27  22          RAJASTHAN   167   27  0   194   66   10  0   76   36   5  0   \n28  23             SIKKIM     1    1  0     2    1    0  0    1    0   1  0   \n29  24         TAMIL NADU    35   75  0   110   35   74  0  109    0   1  0   \n30  25          TELANGANA   229   54  0   283  210   54  0  264   19   0  0   \n31  26            TRIPURA     5    7  0    12    0    0  0    0    0   3  0   \n32  27      UTTAR PRADESH    94   20  0   114   13   13  0   26    3   0  0   \n33  28        UTTARAKHAND     4    0  0     4    4    0  0    4    0   0  0   \n34  29        WEST BENGAL    12    7  0    19    8    5  0   13    0   0  0   \n35         TOTAL (STATES)  1559  434  0  1993  667  286  0  953  159  31  0   \n36      UNION TERRITORIES                                                     \n37  30      A & N ISLANDS     0    0  0     0    0    0  0    0    0   0  0   \n38  31         CHANDIGARH     3    0  0     3    3    0  0    3    0   0  0   \n39  32      D & N  HAVELI     0    0  0     0    0    0  0    0    0   0  0   \n40  33        DAMAN & DIU     0    0  0     0    0    0  0    0    0   0  0   \n41  34         DELHI (UT)    25   13  0    38   25   12  0   37    0   0  0   \n42  35        LAKSHADWEEP     0    0  0     0    0    0  0    0    0   0  0   \n43  36         PUDUCHERRY     0    0  0     0    0    0  0    0    0   0  0   \n44            TOTAL (UTs)    28   13  0    41   28   12  0   40    0   0  0   \n45      TOTAL (ALL INDIA)  1587  447  0  2034  695  298  0  993  159  31  0   \n\n     13  \n5        \n6    13  \n7     0  \n8     0  \n9     0  \n10    9  \n11    0  \n12   13  \n13   37  \n14    0  \n15    0  \n16    3  \n17    2  \n18    5  \n19    7  \n20   30  \n21    0  \n22    0  \n23    0  \n24    0  \n25    0  \n26    3  \n27   41  \n28    1  \n29    1  \n30   19  \n31    3  \n32    3  \n33    0  \n34    0  \n35  190  \n36       \n37    0  \n38    0  \n39    0  \n40    0  \n41    0  \n42    0  \n43    0  \n44    0  \n45  190  \n\nPage No:  5\n    0                  1    2    3  4    5     6    7  8     9    10   11 12  \\\n5                  STATES                                                      \n6    1     ANDHRA PRADESH    1    3  0    4   452   50  0   502   12    1  0   \n7    2  ARUNACHAL PRADESH    0    0  0    0     0    0  0     0    0    0  0   \n8    3              ASSAM   38   10  0   48   103   10  0   113    6   27  0   \n9    4              BIHAR    0    0  0    0     4    5  0     9   13   16  0   \n10   5       CHHATTISGARH   89   12  0  101    54   15  0    69   23    6  0   \n11   6                GOA    2    0  0    2     3    2  0     5    0    0  0   \n12   7            GUJARAT   55    6  0   61   320   43  0   363    2    0  0   \n13   8            HARYANA  146   11  0  157   220   48  0   268  154   18  0   \n14   9   HIMACHAL PRADESH    0    0  0    0     0    0  0     0    0    0  0   \n15  10    JAMMU & KASHMIR    2    0  0    2     4    1  0     5    4    0  0   \n16  11          JHARKHAND   22    2  0   24    54    3  0    57   10    0  0   \n17  12          KARNATAKA    1    0  0    1    21    0  0    21   33    1  0   \n18  13             KERALA   67   16  0   83   114   19  0   133    6    0  0   \n19  14     MADHYA PRADESH   80   20  0  100    80   22  0   102   97   24  0   \n20  15        MAHARASHTRA   75    5  0   80   253   49  0   302   44    6  0   \n21  16            MANIPUR    0    0  0    0     0    0  0     0    0    0  0   \n22  17          MEGHALAYA    0    0  0    0     1    0  0     1    0    0  0   \n23  18            MIZORAM    0    0  0    0     0    0  0     0    0    0  0   \n24  19           NAGALAND    0    0  0    0     0    0  0     0    0    0  0   \n25  20             ODISHA    3    4  0    7   114   18  0   132    0    0  0   \n26  21             PUNJAB    0    3  0    3   386   51  0   437   32   16  0   \n27  22          RAJASTHAN   65   12  0   77   180   35  0   215   70   28  0   \n28  23             SIKKIM    0    0  0    0     0    0  0     0    0    0  0   \n29  24         TAMIL NADU    0    0  0    0    63   20  0    83   29    3  0   \n30  25          TELANGANA    0    0  0    0   390   37  0   427    0    0  0   \n31  26            TRIPURA    5    4  0    9     0    0  0     0    0    0  0   \n32  27      UTTAR PRADESH   78    7  0   85    22    8  0    30   18    7  0   \n33  28        UTTARAKHAND    0    0  0    0     0    0  0     0    0    0  0   \n34  29        WEST BENGAL    4    2  0    6    36    6  0    42   26    6  0   \n35         TOTAL (STATES)  733  117  0  850  2874  442  0  3316  579  159  0   \n36      UNION TERRITORIES                                                      \n37  30     A & N  ISLANDS    0    0  0    0     0    0  0     0    0    0  0   \n38  31         CHANDIGARH    0    0  0    0     0    0  0     0    0    0  0   \n39  32      D & N  HAVELI    0    0  0    0     0    0  0     0    0    0  0   \n40  33        DAMAN & DIU    0    0  0    0     0    0  0     0    0    0  0   \n41  34         DELHI (UT)    0    1  0    1    17    4  0    21   11    3  0   \n42  35        LAKSHADWEEP    0    0  0    0     0    0  0     0    0    0  0   \n43  36         PUDUCHERRY    0    0  0    0     0    0  0     0    0    0  0   \n44            TOTAL (UTs)    0    1  0    1    17    4  0    21   11    3  0   \n45      TOTAL (ALL INDIA)  733  118  0  851  2891  446  0  3337  590  162  0   \n\n     13  \n5        \n6    13  \n7     0  \n8    33  \n9    29  \n10   29  \n11    0  \n12    2  \n13  172  \n14    0  \n15    4  \n16   10  \n17   34  \n18    6  \n19  121  \n20   50  \n21    0  \n22    0  \n23    0  \n24    0  \n25    0  \n26   48  \n27   98  \n28    0  \n29   32  \n30    0  \n31    0  \n32   25  \n33    0  \n34   32  \n35  738  \n36       \n37    0  \n38    0  \n39    0  \n40    0  \n41   14  \n42    0  \n43    0  \n44   14  \n45  752  \n\n"
     ]
    }
   ],
   "source": [
    "# Incase we're intersted in seeing the scraped tables at this point.\n",
    "# Commented as it takes too much screen space\n",
    "# Run if you want\n",
    "printnAllTables(tables)"
   ]
  },
  {
   "cell_type": "code",
   "execution_count": 12,
   "metadata": {},
   "outputs": [
    {
     "output_type": "execute_result",
     "data": {
      "text/plain": [
       "5"
      ]
     },
     "metadata": {},
     "execution_count": 12
    }
   ],
   "source": [
    "# List of Column headers as column are nested, i.e exhibit a multi level/index structure\n",
    "# The multi level structre will be generated and applied in the next \n",
    "column_header = [\n",
    "    ['By Consuming Sleeping Pills','By Drowning','By Fire/Self Immolation'],\n",
    "    ['By Firearms','By Hanging','By Poison (Total)'],\n",
    "    ['By Poison (By Consuming Insecticides)','By Poison (By Consuming other Poison)','By Self Inflicting  Injury'],\n",
    "    ['Jumping (Total)','Jumping (from Building)','Jumping (from Other Sites)'],\n",
    "    ['Jumping (by Jumping off Moving Trains/Vehicles)','By Coming under Running Vehicles/Trains','By Touching Electric Wire']\n",
    "]\n",
    "len(column_header)"
   ]
  },
  {
   "cell_type": "code",
   "execution_count": 13,
   "metadata": {},
   "outputs": [],
   "source": [
    "def set_Column(df, title):\n",
    "    column_list = [\n",
    "        (\"Sl. No.\",''),\n",
    "        (\"State/UT\",''), \n",
    "        (title[0],'Male'),\n",
    "        (title[0],'Female'),\n",
    "        (title[0],'Transgender'),\n",
    "        (title[0],'Total'),\n",
    "        (title[1],'Male'),\n",
    "        (title[1],'Female'),\n",
    "        (title[1],'Transgender'),\n",
    "        (title[1],'Total'),\n",
    "        (title[2],'Male'),\n",
    "        (title[2],'Female'),\n",
    "        (title[2],'Transgender'),\n",
    "        (title[2],'Total'),\n",
    "    ]\n",
    "    df.columns = pd.MultiIndex.from_tuples(column_list)"
   ]
  },
  {
   "cell_type": "code",
   "execution_count": 14,
   "metadata": {},
   "outputs": [],
   "source": [
    "for i in range(len(tables)):\n",
    "    set_Column(tables[i].df, column_header[i])\n",
    "    tables[i].df.set_index([\"Sl. No.\",\"State/UT\"],inplace=True)"
   ]
  },
  {
   "cell_type": "code",
   "execution_count": 15,
   "metadata": {},
   "outputs": [],
   "source": [
    "# Incase we're intersted in seeing the scraped tables at this point.\n",
    "# Commented as it takes too much screen space\n",
    "# Run if you want\n",
    "# printnAllTables(tables)\n",
    "\n",
    "# OR Print a simgle one according to your choice\n",
    "# tables[23].df"
   ]
  },
  {
   "cell_type": "code",
   "execution_count": 16,
   "metadata": {},
   "outputs": [],
   "source": [
    "table6 = camelot.read_pdf(fileName,\n",
    "                          flavor='stream',\n",
    "                          table_areas=[\n",
    "                              \"25.972342487883687,709.3148100703146,563.6960258481422,83.08127211974046\"\n",
    "                              ],\n",
    "                          columns=[\n",
    "                              \"49.0588691437803,150.06242326332796,188.5399676898223,229.90332794830374,273.1905654281099,326.0971890145396,393.43289176090474,447.30145395799684,505.9797092084007\"\n",
    "                              ],\n",
    "                          split_text=True,\n",
    "                          pages=\"6\"\n",
    "                         )"
   ]
  },
  {
   "cell_type": "code",
   "execution_count": 17,
   "metadata": {},
   "outputs": [],
   "source": [
    "def set_Column(df, title):\n",
    "    column_list = [\n",
    "        (\"Sl. No.\",''),\n",
    "        (\"State/UT\",''), \n",
    "        (title[0],'Male'),\n",
    "        (title[0],'Female'),\n",
    "        (title[0],'Transgender'),\n",
    "        (title[0],'Total'),\n",
    "        (title[1],'Male'),\n",
    "        (title[1],'Female'),\n",
    "        (title[1],'Transgender'),\n",
    "        (title[1],'Total')\n",
    "    ]\n",
    "    df.columns = pd.MultiIndex.from_tuples(column_list)"
   ]
  },
  {
   "cell_type": "code",
   "execution_count": 18,
   "metadata": {},
   "outputs": [],
   "source": [
    "set_Column(table6[0].df, ['By Other Means','Total'])\n",
    "table6[0].df.set_index([\"Sl. No.\",\"State/UT\"],inplace=True)"
   ]
  },
  {
   "source": [
    "# Convert List of tables to list of DataFrames\n",
    "DataFrames = [each.df.copy() for each in tables]\n",
    "DataFrames.append(table6[0].df.copy())"
   ],
   "cell_type": "code",
   "metadata": {},
   "execution_count": 19,
   "outputs": []
  },
  {
   "cell_type": "code",
   "execution_count": 20,
   "metadata": {},
   "outputs": [],
   "source": [
    "# Use First page's indexes on all DFs for uniformity when concatenating\n",
    "index = tables[0].df.index.copy()\n",
    "for i, each_df in enumerate(DataFrames):\n",
    "    each_df.index = index"
   ]
  },
  {
   "cell_type": "code",
   "execution_count": 21,
   "metadata": {},
   "outputs": [],
   "source": [
    "# Concat all the tables one after the other, as they all have the same indexes.\n",
    "final = pd.concat(DataFrames,axis=1)"
   ]
  },
  {
   "source": [
    "# Reset Index before saving file, for better formatting in RAW CSV\n",
    "final.reset_index().to_csv(\"Distribution of Suicides by Means Adopted during 2019 (State & UT-wise).csv\",index=False)"
   ],
   "cell_type": "code",
   "metadata": {},
   "execution_count": 22,
   "outputs": []
  }
 ],
 "metadata": {
  "kernelspec": {
   "display_name": "Python 3",
   "language": "python",
   "name": "python3"
  },
  "language_info": {
   "codemirror_mode": {
    "name": "ipython",
    "version": 3
   },
   "file_extension": ".py",
   "mimetype": "text/x-python",
   "name": "python",
   "nbconvert_exporter": "python",
   "pygments_lexer": "ipython3",
   "version": "3.8.2-final"
  }
 },
 "nbformat": 4,
 "nbformat_minor": 4
}
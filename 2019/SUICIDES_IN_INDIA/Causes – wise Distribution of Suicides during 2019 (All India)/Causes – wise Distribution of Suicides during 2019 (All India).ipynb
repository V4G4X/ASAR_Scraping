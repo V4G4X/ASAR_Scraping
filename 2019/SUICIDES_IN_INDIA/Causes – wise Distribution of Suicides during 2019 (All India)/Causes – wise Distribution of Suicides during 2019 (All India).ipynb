{
 "cells": [
  {
   "cell_type": "code",
   "execution_count": 1,
   "metadata": {},
   "outputs": [],
   "source": [
    "import wget\n",
    "import ssl\n",
    "import os\n",
    "ssl._create_default_https_context = ssl._create_unverified_context"
   ]
  },
  {
   "cell_type": "code",
   "execution_count": 2,
   "metadata": {},
   "outputs": [],
   "source": [
    "# Enter NCRB Individual PDF url\n",
    "pdf_url = 'https://ncrb.gov.in/sites/default/files/adsi_reports_previous_year/Table-2.4_2019_0.pdf'\n",
    "fileName = pdf_url[67:]\n",
    "try:\n",
    "    #Delete the file to redownload it\n",
    "    os.remove(fileName)\n",
    "except FileNotFoundError as e:\n",
    "    #Ignore in case FileNotFound Error occurs\n",
    "    pass\n",
    "# Download report\n",
    "fileName = wget.download(pdf_url,fileName)"
   ]
  },
  {
   "cell_type": "code",
   "execution_count": 3,
   "metadata": {},
   "outputs": [],
   "source": [
    "import numpy as np\n",
    "import pandas as pd\n",
    "import camelot"
   ]
  },
  {
   "cell_type": "code",
   "execution_count": 4,
   "metadata": {},
   "outputs": [
    {
     "output_type": "execute_result",
     "data": {
      "text/plain": [
       "'Table-2.4_2019_0.pdf'"
      ]
     },
     "metadata": {},
     "execution_count": 4
    }
   ],
   "source": [
    "fileName"
   ]
  },
  {
   "cell_type": "code",
   "execution_count": 5,
   "metadata": {},
   "outputs": [],
   "source": [
    "tables = camelot.read_pdf(fileName,\n",
    "                          flavor='stream',\n",
    "                          table_areas=[\n",
    "                              \"60.12116316639742,678.5322091265075,559.3673021001616,101.35844143012588\"\n",
    "                              ],\n",
    "                          columns=[\n",
    "                              \"84.65059773828757,217.39812600969307,266.4569951534734,313.59198707592896,353.993408723748,392.4709531502424,439.6059450726979,484.8170597738288\"\n",
    "                              ],\n",
    "                        row_tol=12,\n",
    "                          split_text=True,\n",
    "                          strip_text='\\n\\t',\n",
    "                          pages=\"all\"\n",
    "                         )"
   ]
  },
  {
   "cell_type": "code",
   "execution_count": 6,
   "metadata": {},
   "outputs": [
    {
     "output_type": "execute_result",
     "data": {
      "text/plain": [
       "<TableList n=1>"
      ]
     },
     "metadata": {},
     "execution_count": 6
    }
   ],
   "source": [
    "tables"
   ]
  },
  {
   "cell_type": "code",
   "execution_count": 7,
   "metadata": {},
   "outputs": [],
   "source": [
    "def printnAllTables(tables):\n",
    "    for i in range(len(tables)):\n",
    "        print(\"Page No: \",(i+1))\n",
    "        print(tables[i].df)\n",
    "        print()"
   ]
  },
  {
   "cell_type": "code",
   "execution_count": 8,
   "metadata": {},
   "outputs": [
    {
     "output_type": "stream",
     "name": "stdout",
     "text": [
      "Page No:  1\n     0                                                  1       2      3  \\\n0    1                         Bankruptcy or Indebtedness    4970   5381   \n1    2                    Marriage Related Issues (Total)    8284   3382   \n2                          2.1 Non Settlement of Marriage    2585   1294   \n3                                2.2 Dowry Related Issues    2016    141   \n4                               2.3 Extra Marital Affairs    1263    674   \n5                                             2.4 Divorce     646    262   \n6                                              2.5 Others    1774   1011   \n7    3                             Failure in Examination    2625   1578   \n8    4                              Impotency/Infertility     297    191   \n9    5                                    Family Problems   40935  30110   \n10   6                                    Illness (Total)   23764  16807   \n11                                           6.1 AIDS/STD     172    184   \n12                                             6.2 Cancer    1267    857   \n13                                          6.3 Paralysis    1121    651   \n14                           6.4 Insanity/ Mental Illness   10134   7734   \n15                            6.5 Other Prolonged Illness   11070   7381   \n16   7                               Death of Dear Person    1073    791   \n17   8                     Drug Abuse/Alcoholic Addiction    7193   7719   \n18   9                          Fall in Social Reputation     524    425   \n19  10                Ideological Causes/Hero Worshipping      94     96   \n20  11                                       Love Affairs    5342   3674   \n21  12                                            Poverty    1202    941   \n22  13                                       Unemployment    2741   2509   \n23  14                                   Property Dispute    1209   1241   \n24  15  Suspected/ Illicit Relation (Other than Sl. No...     653    442   \n25  16    Illegitimate Pregnancy (Other than Sl. No. 2.3)      44      0   \n26  17                        Physical Abuse (Rape, etc.)     192     81   \n27  18                        Professional/Career Problem    1697   1430   \n28  19                                   Causes Not Known   14828  10186   \n29  20                                       Other Causes   16849  10629   \n30  21                                              Total  134516  97613   \n\n        4   5       6      7      8  \n0     527   0    5908   18.9    4.2  \n1    4213   0    7595   -8.3    5.5  \n2    1037   0    2331   -9.8    1.7  \n3    1815   0    1956   -3.0    1.4  \n4     440   0    1114  -11.8    0.8  \n5     278   0     540  -16.4    0.4  \n6     643   0    1654   -6.8    1.2  \n7    1166   0    2744    4.5    2.0  \n8     237   0     428   44.1    0.3  \n9   15025   5   45140   10.3   32.4  \n10   7016   7   23830    0.3   17.1  \n11     38   0     222   29.1    0.2  \n12    317   0    1174   -7.3    0.8  \n13    278   0     929  -17.1    0.7  \n14   3272   3   11009    8.6    7.9  \n15   3111   4   10496   -5.2    7.5  \n16    395   0    1186   10.5    0.9  \n17    140   1    7860    9.3    5.6  \n18    135   0     560    6.9    0.4  \n19     33   0     129   37.2    0.1  \n20   2637   0    6311   18.1    4.5  \n21    181   0    1122   -6.7    0.8  \n22    342   0    2851    4.0    2.0  \n23    236   1    1478   22.2    1.1  \n24    255   0     697    6.7    0.5  \n25     16   0      16  -63.6    0.0  \n26     72   0     153  -20.3    0.1  \n27    228   0    1658   -2.3    1.2  \n28   4077   2   14265   -3.8   10.3  \n29   4562   1   15192   -9.8   10.9  \n30  41493  17  139123    3.4  100.0  \n\n"
     ]
    }
   ],
   "source": [
    "# Incase we're intersted in seeing the original scraped tables.\n",
    "# Commented as it takes too much screen space\n",
    "# Run if you want\n",
    "printnAllTables(tables)"
   ]
  },
  {
   "cell_type": "code",
   "execution_count": 9,
   "metadata": {},
   "outputs": [],
   "source": [
    "# Splits the second column into 1st column index and 2nd column test when faulty/required\n",
    "def split_by_first_space(df, strIndex, stpIndex):\n",
    "    df = df.iloc[strIndex:stpIndex+1]\n",
    "    for index, each in df.iterrows():\n",
    "        space = each[1].find(' ')\n",
    "        each[0] = each[1][:space]\n",
    "        each[1] = each[1][space:]"
   ]
  },
  {
   "cell_type": "code",
   "execution_count": 10,
   "metadata": {},
   "outputs": [],
   "source": [
    "split_by_first_space(tables[0].df,2,6)\n",
    "split_by_first_space(tables[0].df,11,15)"
   ]
  },
  {
   "cell_type": "code",
   "execution_count": 11,
   "metadata": {},
   "outputs": [],
   "source": [
    "def set_Column(df,):\n",
    "    column_list = [\n",
    "        (\"Sl. No.\",''),\n",
    "        (\"Cause\",''), \n",
    "        (\"2018\",'Total'),\n",
    "        ('2019','Male'),\n",
    "        ('2019','Female'),\n",
    "        ('2019','Transgender'),\n",
    "        ('2019','Total'),\n",
    "        ('% Variance',''),\n",
    "        ('Percentage Share of Suicides during 2019','')\n",
    "    ]\n",
    "    df.columns = pd.MultiIndex.from_tuples(column_list)"
   ]
  },
  {
   "cell_type": "code",
   "execution_count": 12,
   "metadata": {},
   "outputs": [],
   "source": [
    "set_Column(tables[0].df)"
   ]
  },
  {
   "source": [
    "# Incase we're intersted in seeing the scraped tables at this point.\n",
    "# Commented as it takes too much screen space\n",
    "# Run if you want\n",
    "# printnAllTables(tables)\n",
    "\n",
    "# OR Print a simgle one according to your choice\n",
    "# tables[23].df"
   ],
   "cell_type": "code",
   "metadata": {},
   "execution_count": 13,
   "outputs": []
  },
  {
   "cell_type": "code",
   "execution_count": 14,
   "metadata": {},
   "outputs": [],
   "source": [
    "# Reset Index before saving file, for better formatting in RAW CSV\n",
    "tables[0].df.to_csv(\"Causes – wise Distribution of Suicides during 2019 (All India).csv\",index=False)"
   ]
  }
 ],
 "metadata": {
  "kernelspec": {
   "display_name": "Python 3",
   "language": "python",
   "name": "python3"
  },
  "language_info": {
   "codemirror_mode": {
    "name": "ipython",
    "version": 3
   },
   "file_extension": ".py",
   "mimetype": "text/x-python",
   "name": "python",
   "nbconvert_exporter": "python",
   "pygments_lexer": "ipython3",
   "version": "3.8.2-final"
  }
 },
 "nbformat": 4,
 "nbformat_minor": 4
}
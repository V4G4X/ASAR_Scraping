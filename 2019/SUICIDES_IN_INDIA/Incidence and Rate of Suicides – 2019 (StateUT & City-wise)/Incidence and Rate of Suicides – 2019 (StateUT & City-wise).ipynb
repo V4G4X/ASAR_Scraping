{
 "cells": [
  {
   "cell_type": "code",
   "execution_count": 1,
   "metadata": {},
   "outputs": [],
   "source": [
    "import wget\n",
    "import ssl\n",
    "import os\n",
    "ssl._create_default_https_context = ssl._create_unverified_context"
   ]
  },
  {
   "cell_type": "code",
   "execution_count": 2,
   "metadata": {},
   "outputs": [],
   "source": [
    "# Enter NCRB Individual PDF url\n",
    "pdf_url = 'https://ncrb.gov.in/sites/default/files/adsi_reports_previous_year/Table-2.2_2019_0.pdf'\n",
    "fileName = pdf_url[67:]\n",
    "try:\n",
    "    #Delete the file to redownload it\n",
    "    os.remove(fileName)\n",
    "except FileNotFoundError as e:\n",
    "    #Ignore in case FileNotFound Error occurs\n",
    "    pass\n",
    "# Download report\n",
    "fileName = wget.download(pdf_url,fileName)"
   ]
  },
  {
   "cell_type": "code",
   "execution_count": 3,
   "metadata": {},
   "outputs": [],
   "source": [
    "import numpy as np\n",
    "import pandas as pd\n",
    "import camelot"
   ]
  },
  {
   "cell_type": "code",
   "execution_count": 4,
   "metadata": {},
   "outputs": [
    {
     "output_type": "execute_result",
     "data": {
      "text/plain": [
       "'Table-2.2_2019_0.pdf'"
      ]
     },
     "metadata": {},
     "execution_count": 4
    }
   ],
   "source": [
    "fileName"
   ]
  },
  {
   "cell_type": "code",
   "execution_count": 5,
   "metadata": {},
   "outputs": [],
   "source": [
    "tables = camelot.read_pdf(fileName,\n",
    "                          flavor='stream',\n",
    "                          table_areas=[\n",
    "                              \"67.33570274636511,739.7126343736392,510.7894022617125,100.55518386407714\"\n",
    "                              ],\n",
    "                          columns=[\n",
    "                              \"93.3080452342488,211.62649434571892,286.65770597738293,355.91728594507276,450.1872697899839\"\n",
    "                              ],\n",
    "                              row_tol=10,\n",
    "                          split_text=True,\n",
    "                          pages=\"all\"\n",
    "                         )"
   ]
  },
  {
   "cell_type": "code",
   "execution_count": 6,
   "metadata": {},
   "outputs": [
    {
     "output_type": "execute_result",
     "data": {
      "text/plain": [
       "<TableList n=2>"
      ]
     },
     "metadata": {},
     "execution_count": 6
    }
   ],
   "source": [
    "tables"
   ]
  },
  {
   "cell_type": "code",
   "execution_count": 7,
   "metadata": {},
   "outputs": [],
   "source": [
    "def printnAllTables(tables):\n",
    "    for i in range(len(tables)):\n",
    "        print(\"Page No: \",(i+1))\n",
    "        print(tables[i].df)\n",
    "        print()"
   ]
  },
  {
   "cell_type": "code",
   "execution_count": 8,
   "metadata": {},
   "outputs": [],
   "source": [
    "# Incase we're intersted in seeing the original scraped tables.\n",
    "# Commented as it takes too much screen space\n",
    "# Run if you want\n",
    "# printnAllTables(tables)"
   ]
  },
  {
   "cell_type": "code",
   "execution_count": 9,
   "metadata": {},
   "outputs": [],
   "source": [
    "# Removes Garbage Rows that may have been detected Before the 'STATES' row\n",
    "# AND\n",
    "# Removes Garbage Rows that may have been detected after the 'TOTAL (ALL INDIA)' row\n",
    "def clean(table):\n",
    "    while(table.df.iloc[0,1] != 'STATES' and table.df.iloc[0,1] != 'CITIES'):\n",
    "        table.df = table.df.iloc[1:]\n",
    "    while(table.df.iloc[-1,1] != 'TOTAL (ALL INDIA)' and table.df.iloc[-1,1] != 'TOTAL (CITIES)'):\n",
    "        table.df = table.df.iloc[:-1]\n",
    "    # The Return line is unnecessary due to all changes being reflected in the original references\n",
    "    return table"
   ]
  },
  {
   "cell_type": "code",
   "execution_count": 10,
   "metadata": {},
   "outputs": [],
   "source": [
    "for each_table in tables:\n",
    "    clean(each_table)"
   ]
  },
  {
   "cell_type": "code",
   "execution_count": 11,
   "metadata": {},
   "outputs": [],
   "source": [
    "# Incase we're intersted in seeing the scraped tables at this point.\n",
    "# Commented as it takes too much screen space\n",
    "# Run if you want\n",
    "# printnAllTables(tables)"
   ]
  },
  {
   "cell_type": "code",
   "execution_count": 12,
   "metadata": {},
   "outputs": [],
   "source": [
    "def set_Column(df, city):\n",
    "    column_list = [\n",
    "        (\"Sl. No.\"),\n",
    "        (\"State/UT\" if (not city) else \"City\"), \n",
    "        ('Number of Suicides'),\n",
    "        ('Percentage Share in Total Suicides'),\n",
    "        ('Projected Mid–Year Population(in Lakh)'),\n",
    "        ('Rate of Suicides')\n",
    "    ]\n",
    "    df.columns = column_list"
   ]
  },
  {
   "cell_type": "code",
   "execution_count": 13,
   "metadata": {},
   "outputs": [],
   "source": [
    "for i in range(len(tables)):\n",
    "    city = i==1\n",
    "    set_Column(df=tables[i].df, city=city)\n",
    "    # tables[i].df.set_index([\"Sl. No.\",\"State/UT\" if (not city) else \"City\"],inplace=True)"
   ]
  },
  {
   "cell_type": "code",
   "execution_count": 14,
   "metadata": {},
   "outputs": [],
   "source": [
    "# Incase we're intersted in seeing the scraped tables at this point.\n",
    "# Commented as it takes too much screen space\n",
    "# Run if you want\n",
    "# printnAllTables(tables)\n",
    "\n",
    "# OR Print a simgle one according to your choice\n",
    "# tables[23].df"
   ]
  },
  {
   "cell_type": "code",
   "execution_count": 15,
   "metadata": {},
   "outputs": [],
   "source": [
    "# Reset Index before saving file, for better formatting in RAW CSV\n",
    "tables[0].df.to_csv(\"Incidence and Rate of Suicides – 2019 (StateUT-wise) .csv\",index=False)\n",
    "tables[1].df.to_csv(\"Incidence and Rate of Suicides – 2019 (City-wise) .csv\",index=False)"
   ]
  }
 ],
 "metadata": {
  "kernelspec": {
   "display_name": "Python 3",
   "language": "python",
   "name": "python3"
  },
  "language_info": {
   "codemirror_mode": {
    "name": "ipython",
    "version": 3
   },
   "file_extension": ".py",
   "mimetype": "text/x-python",
   "name": "python",
   "nbconvert_exporter": "python",
   "pygments_lexer": "ipython3",
   "version": "3.8.2-final"
  }
 },
 "nbformat": 4,
 "nbformat_minor": 4
}
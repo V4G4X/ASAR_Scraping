{
 "cells": [
  {
   "cell_type": "code",
   "execution_count": 1,
   "metadata": {},
   "outputs": [],
   "source": [
    "import wget\n",
    "import ssl\n",
    "import os\n",
    "ssl._create_default_https_context = ssl._create_unverified_context"
   ]
  },
  {
   "cell_type": "code",
   "execution_count": 2,
   "metadata": {},
   "outputs": [],
   "source": [
    "# Enter NCRB Individual PDF url\n",
    "pdf_url = 'https://ncrb.gov.in/sites/default/files/adsi_reports_previous_year/Table-2.7_2019_0.pdf'\n",
    "fileName = pdf_url[67:]\n",
    "try:\n",
    "    #Delete the file to redownload it\n",
    "    os.remove(fileName)\n",
    "except FileNotFoundError as e:\n",
    "    #Ignore in case FileNotFound Error occurs\n",
    "    pass\n",
    "# Download report\n",
    "fileName = wget.download(pdf_url,fileName)"
   ]
  },
  {
   "cell_type": "code",
   "execution_count": 3,
   "metadata": {},
   "outputs": [],
   "source": [
    "import numpy as np\n",
    "import pandas as pd\n",
    "import camelot"
   ]
  },
  {
   "cell_type": "code",
   "execution_count": 4,
   "metadata": {},
   "outputs": [
    {
     "output_type": "execute_result",
     "data": {
      "text/plain": [
       "'Table-2.7_2019_0.pdf'"
      ]
     },
     "metadata": {},
     "execution_count": 4
    }
   ],
   "source": [
    "fileName"
   ]
  },
  {
   "cell_type": "code",
   "execution_count": 5,
   "metadata": {},
   "outputs": [],
   "source": [
    "tables = camelot.read_pdf(fileName,\n",
    "                          flavor='stream',\n",
    "                          table_areas=[\n",
    "                              \"28.37718901453958,729.5158919396879,568.9866882067852,53.26062745542741\"\n",
    "                              ],\n",
    "                          columns=[\n",
    "                              \"49.0588691437803,151.98630048465267,187.57802907915996,226.0555735056543,255.87567043618742,289.54352180936996,324.1733117932149,362.6508562197092,392.4709531502424,427.1007431340873,459.8066558966075,498.28420032310186,536.7617447495962\"\n",
    "                              ],\n",
    "                          split_text=True,\n",
    "                          pages=\"1-8\"\n",
    "                         )"
   ]
  },
  {
   "cell_type": "code",
   "execution_count": 6,
   "metadata": {},
   "outputs": [],
   "source": [
    "table9 = camelot.read_pdf(fileName,\n",
    "                          flavor='stream',\n",
    "                          table_areas=[\n",
    "                              \"37.03463651050081,716.0485040267723,558.4053634894992,89.81496607619825\"\n",
    "                              ],\n",
    "                          columns=[\n",
    "                              \"62.52600969305332,210.66455573505655,278.962197092084,357.84116316639745,438.6440064620356\"\n",
    "                              ],\n",
    "                          split_text=True,\n",
    "                          pages=\"9\"\n",
    "                         )"
   ]
  },
  {
   "cell_type": "code",
   "execution_count": 7,
   "metadata": {},
   "outputs": [
    {
     "output_type": "execute_result",
     "data": {
      "text/plain": [
       "<TableList n=8>"
      ]
     },
     "metadata": {},
     "execution_count": 7
    }
   ],
   "source": [
    "tables"
   ]
  },
  {
   "cell_type": "code",
   "execution_count": 8,
   "metadata": {},
   "outputs": [],
   "source": [
    "def printnAllTables(tables):\n",
    "    for i in range(len(tables)):\n",
    "        print(\"Page No: \",(i+1))\n",
    "        print(tables[i].df)\n",
    "        print()"
   ]
  },
  {
   "cell_type": "code",
   "execution_count": 9,
   "metadata": {},
   "outputs": [],
   "source": [
    "# Incase we're intersted in seeing the original scraped tables.\n",
    "# Commented as it takes too much screen space\n",
    "# Run if you want\n",
    "# printnAllTables(tables)"
   ]
  },
  {
   "cell_type": "code",
   "execution_count": 10,
   "metadata": {},
   "outputs": [],
   "source": [
    "# Removes Garbage Rows that may have been detected Before the 'STATES' row\n",
    "# AND\n",
    "# Removes Garbage Rows that may have been detected after the 'TOTAL (ALL INDIA)' row\n",
    "def clean(table):\n",
    "    while(table.df.iloc[0,1] != 'STATES'):\n",
    "        table.df = table.df.iloc[1:]\n",
    "    while(table.df.iloc[-1,1] != 'TOTAL (ALL INDIA)'):\n",
    "        table.df = table.df.iloc[:-1]\n",
    "    # The Return line is unnecessary due to all changes being reflected in the original references\n",
    "    return table"
   ]
  },
  {
   "cell_type": "code",
   "execution_count": 11,
   "metadata": {},
   "outputs": [],
   "source": [
    "# Splits the second column into 1st column index and 2nd column test when faulty/required\n",
    "def split_by_first_space(df, strIndex, stpIndex):\n",
    "    df = df.iloc[strIndex:stpIndex+1]\n",
    "    for index, each in df.iterrows():\n",
    "        space = each[1].find(' ')\n",
    "        each[0] = each[1][:space]\n",
    "        each[1] = each[1][space:]"
   ]
  },
  {
   "cell_type": "code",
   "execution_count": 12,
   "metadata": {},
   "outputs": [],
   "source": [
    "for each_table in tables:\n",
    "    clean(each_table)"
   ]
  },
  {
   "source": [
    "# Incase we're intersted in seeing the scraped tables at this point.\n",
    "# Commented as it takes too much screen space\n",
    "# Run if you want\n",
    "printnAllTables(tables)"
   ],
   "cell_type": "code",
   "metadata": {},
   "execution_count": 13,
   "outputs": [
    {
     "output_type": "stream",
     "name": "stdout",
     "text": [
      "Page No:  1\n    0                  1  2      3  4      5      6     7  8      9     10  \\\n4                  STATES                                                    \n5    1     ANDHRA PRADESH  0    609  0    609    367    39  0    406    67   \n6    2  ARUNACHAL PRADESH  0      9  0      9      7     0  0      7     7   \n7    3              ASSAM  0    378  0    378    178     3  0    181    32   \n8    4              BIHAR  0    111  0    111     31    15  0     46     1   \n9    5       CHHATTISGARH  0    854  0    854    139    11  0    150    71   \n10   6                GOA  0     35  0     35     54     2  0     56     4   \n11   7            GUJARAT  0   1689  0   1689    818    28  0    846    44   \n12   8            HARYANA  0    402  0    402    432    86  0    518    51   \n13   9   HIMACHAL PRADESH  0    142  0    142     95    10  0    105    13   \n14  10    JAMMU & KASHMIR  0     42  0     42     16     0  0     16    10   \n15  11          JHARKHAND  0    180  0    180    262    10  0    272    10   \n16  12          KARNATAKA  0   1658  0   1658    910   136  0   1046   115   \n17  13             KERALA  0    961  0    961    704    71  0    775    56   \n18  14     MADHYA PRADESH  0   2938  0   2938    892   103  0    995   110   \n19  15        MAHARASHTRA  0   2737  0   2737   2131   238  0   2369   173   \n20  16            MANIPUR  0     11  0     11      4     0  0      4     4   \n21  17          MEGHALAYA  0     11  0     11     23     0  0     23    10   \n22  18            MIZORAM  0      2  0      2      6     3  0      9     4   \n23  19           NAGALAND  0      1  0      1      3     0  0      3     3   \n24  20             ODISHA  0    713  0    713    126    19  0    145    13   \n25  21             PUNJAB  0    373  0    373    224    34  0    258    40   \n26  22          RAJASTHAN  0    641  0    641    406    73  0    479   139   \n27  23             SIKKIM  0     27  0     27     19     1  0     20    11   \n28  24         TAMIL NADU  0   2025  0   2025   1402   206  0   1608   157   \n29  25          TELANGANA  0    659  0    659    428   104  0    532    94   \n30  26            TRIPURA  0    109  0    109     43    16  0     59    29   \n31  27      UTTAR PRADESH  0   1586  0   1586    350    53  0    403    52   \n32  28        UTTARAKHAND  0    149  0    149     64     1  0     65    10   \n33  29        WEST BENGAL  0   1931  0   1931    705   198  0    903    67   \n34         TOTAL (STATES)  0  20983  0  20983  10839  1460  0  12299  1397   \n35      UNION TERRITORIES                                                    \n36  30     A & N  ISLANDS  0     35  0     35     86     4  0     90    11   \n37  31         CHANDIGARH  0     18  0     18     48     5  0     53     7   \n38  32      D & N  HAVELI  0      7  0      7     26     3  0     29     2   \n39  33      DAMAN  &  DIU  0     11  0     11     16     0  0     16     0   \n40  34         DELHI (UT)  0    305  0    305    207    31  0    238    11   \n41  35        LAKSHADWEEP  0      0  0      0      0     0  0      0     0   \n42  36         PUDUCHERRY  0      0  0      0      0     0  0      0     0   \n43            TOTAL (UTs)  0    376  0    376    383    43  0    426    31   \n44      TOTAL (ALL INDIA)  0  21359  0  21359  11222  1503  0  12725  1428   \n\n     11 12    13  \n4                 \n5     9  0    76  \n6     0  0     7  \n7     2  0    34  \n8     0  0     1  \n9     7  0    78  \n10    0  0     4  \n11    6  0    50  \n12    7  0    58  \n13    3  0    16  \n14    0  0    10  \n15    0  0    10  \n16   20  0   135  \n17   14  0    70  \n18   22  0   132  \n19   13  0   186  \n20    0  0     4  \n21    0  0    10  \n22    2  0     6  \n23    0  0     3  \n24   11  0    24  \n25    4  0    44  \n26   27  0   166  \n27    1  0    12  \n28   43  0   200  \n29    3  0    97  \n30   13  0    42  \n31   10  0    62  \n32    0  0    10  \n33   26  0    93  \n34  243  0  1640  \n35                \n36    2  0    13  \n37    0  0     7  \n38    0  0     2  \n39    0  0     0  \n40   11  0    22  \n41    0  0     0  \n42    0  0     0  \n43   13  0    44  \n44  256  0  1684  \n\nPage No:  2\n    0                  1    2   3  4    5    6    7  8    9    10  11 12   13\n2                  STATES                                                    \n3    1     ANDHRA PRADESH    5   0  0    5   62    9  0   71    0   0  0    0\n4    2  ARUNACHAL PRADESH    5   0  0    5    1    0  0    1    1   0  0    1\n5    3              ASSAM    9   0  0    9   12    0  0   12   11   2  0   13\n6    4              BIHAR    1   0  0    1    0    0  0    0    0   0  0    0\n7    5       CHHATTISGARH   10   0  0   10   59    7  0   66    2   0  0    2\n8    6                GOA    0   0  0    0    4    0  0    4    0   0  0    0\n9    7            GUJARAT    4   0  0    4   29    5  0   34   11   1  0   12\n10   8            HARYANA    6   5  0   11   43    2  0   45    2   0  0    2\n11   9   HIMACHAL PRADESH    5   1  0    6    8    2  0   10    0   0  0    0\n12  10    JAMMU & KASHMIR    6   0  0    6    4    0  0    4    0   0  0    0\n13  11          JHARKHAND    1   0  0    1    3    0  0    3    6   0  0    6\n14  12          KARNATAKA   18   1  0   19   57   14  0   71   40   5  0   45\n15  13             KERALA    4   5  0    9   31    6  0   37   21   3  0   24\n16  14     MADHYA PRADESH   12   2  0   14   90   18  0  108    8   2  0   10\n17  15        MAHARASHTRA   26   1  0   27  104    7  0  111   43   5  0   48\n18  16            MANIPUR    3   0  0    3    1    0  0    1    0   0  0    0\n19  17          MEGHALAYA    0   0  0    0    9    0  0    9    1   0  0    1\n20  18            MIZORAM    1   0  0    1    2    2  0    4    1   0  0    1\n21  19           NAGALAND    3   0  0    3    0    0  0    0    0   0  0    0\n22  20             ODISHA    3   5  0    8    7    1  0    8    3   5  0    8\n23  21             PUNJAB   16   1  0   17   23    3  0   26    1   0  0    1\n24  22          RAJASTHAN   30   7  0   37   58   11  0   69   51   9  0   60\n25  23             SIKKIM    0   0  0    0   11    1  0   12    0   0  0    0\n26  24         TAMIL NADU   27   9  0   36  110   32  0  142   20   2  0   22\n27  25          TELANGANA   10   0  0   10   51    3  0   54   33   0  0   33\n28  26            TRIPURA   14   7  0   21    5    1  0    6   10   5  0   15\n29  27      UTTAR PRADESH    9   0  0    9   23    4  0   27   20   6  0   26\n30  28        UTTARAKHAND    1   0  0    1    9    0  0    9    0   0  0    0\n31  29        WEST BENGAL    3   1  0    4   11    3  0   14   53  22  0   75\n32         TOTAL (STATES)  232  45  0  277  827  131  0  958  338  67  0  405\n33      UNION TERRITORIES                                                    \n34  30     A & N  ISLANDS   11   2  0   13    0    0  0    0    0   0  0    0\n35  31         CHANDIGARH    3   0  0    3    4    0  0    4    0   0  0    0\n36  32      D & N  HAVELI    2   0  0    2    0    0  0    0    0   0  0    0\n37  33      DAMAN  &  DIU    0   0  0    0    0    0  0    0    0   0  0    0\n38  34         DELHI (UT)    6   6  0   12    4    2  0    6    1   3  0    4\n39  35        LAKSHADWEEP    0   0  0    0    0    0  0    0    0   0  0    0\n40  36         PUDUCHERRY    0   0  0    0    0    0  0    0    0   0  0    0\n41            TOTAL (UTs)   22   8  0   30    8    2  0   10    1   3  0    4\n42      TOTAL (ALL INDIA)  254  53  0  307  835  133  0  968  339  70  0  409\n\nPage No:  3\n    0                  1     2    3  4     5     6    7  8     9     10    11  \\\n1                  STATES                                                       \n2    1     ANDHRA PRADESH   268   27  0   295    32    3  0    35   247   136   \n3    2  ARUNACHAL PRADESH     0    0  0     0     0    0  0     0    22    15   \n4    3              ASSAM   137    1  0   138     9    0  0     9   236   121   \n5    4              BIHAR    29   12  0    41     1    3  0     4   100    66   \n6    5       CHHATTISGARH    48    1  0    49    20    3  0    23   269   234   \n7    6                GOA    47    2  0    49     3    0  0     3    21    14   \n8    7            GUJARAT   761   15  0   776    13    7  0    20   266   309   \n9    8            HARYANA   240   45  0   285   141   34  0   175   123    56   \n10   9   HIMACHAL PRADESH    73    5  0    78     9    2  0    11    55    35   \n11  10    JAMMU & KASHMIR     6    0  0     6     0    0  0     0    22    33   \n12  11          JHARKHAND   122    9  0   131   130    1  0   131   326   201   \n13  12          KARNATAKA   646  103  0   749   149   13  0   162   340   333   \n14  13             KERALA   542   45  0   587   106   12  0   118   211   207   \n15  14     MADHYA PRADESH   624   64  0   688   158   17  0   175   425   502   \n16  15        MAHARASHTRA  1628  179  0  1807   330   46  0   376   815   671   \n17  16            MANIPUR     0    0  0     0     0    0  0     0     3     9   \n18  17          MEGHALAYA    12    0  0    12     1    0  0     1    20    11   \n19  18            MIZORAM     1    1  0     2     1    0  0     1     4     3   \n20  19           NAGALAND     0    0  0     0     0    0  0     0     6     2   \n21  20             ODISHA    95    8  0   103    18    0  0    18   195   184   \n22  21             PUNJAB   114   21  0   135    70    9  0    79    74    47   \n23  22          RAJASTHAN   203   28  0   231    64   18  0    82   297   172   \n24  23             SIKKIM     7    0  0     7     1    0  0     1    21    11   \n25  24         TAMIL NADU  1088  149  0  1237   157   14  0   171   438   476   \n26  25          TELANGANA   201   64  0   265   133   37  0   170   249   177   \n27  26            TRIPURA    12    3  0    15     2    0  0     2    44    46   \n28  27      UTTAR PRADESH   195   28  0   223   103   15  0   118   323   280   \n29  28        UTTARAKHAND    47    1  0    48     7    0  0     7    33    21   \n30  29        WEST BENGAL   354   93  0   447   284   79  0   363   188   233   \n31         TOTAL (STATES)  7500  904  0  8404  1942  313  0  2255  5373  4605   \n32      UNION TERRITORIES                                                       \n33  30     A & N  ISLANDS    75    2  0    77     0    0  0     0     2     5   \n34  31         CHANDIGARH    32    2  0    34     9    3  0    12    10    10   \n35  32      D & N  HAVELI    18    3  0    21     6    0  0     6    13    10   \n36  33      DAMAN  &  DIU    15    0  0    15     1    0  0     1     4     6   \n37  34         DELHI (UT)   159   20  0   179    37    0  0    37   114   104   \n38  35        LAKSHADWEEP     0    0  0     0     0    0  0     0     0     0   \n39  36         PUDUCHERRY     0    0  0     0     0    0  0     0    46    32   \n40            TOTAL (UTs)   299   27  0   326    53    3  0    56   189   167   \n41      TOTAL (ALL INDIA)  7799  931  0  8730  1995  316  0  2311  5562  4772   \n\n   12     13  \n1             \n2   0    383  \n3   0     37  \n4   0    357  \n5   0    166  \n6   0    503  \n7   0     35  \n8   0    575  \n9   0    179  \n10  0     90  \n11  0     55  \n12  0    527  \n13  0    673  \n14  0    418  \n15  0    927  \n16  1   1487  \n17  0     12  \n18  0     31  \n19  0      7  \n20  0      8  \n21  0    379  \n22  0    121  \n23  0    469  \n24  0     32  \n25  0    914  \n26  0    426  \n27  0     90  \n28  0    603  \n29  0     54  \n30  0    421  \n31  1   9979  \n32            \n33  0      7  \n34  0     20  \n35  0     23  \n36  0     10  \n37  0    218  \n38  0      0  \n39  0     78  \n40  0    356  \n41  1  10335  \n\nPage No:  4\n    0                  1      2     3  4      5      6     7  8      9     10  \\\n1                  STATES                                                       \n2    1     ANDHRA PRADESH    180    34  0    214    848   236  0   1084   255   \n3    2  ARUNACHAL PRADESH     12     4  0     16      9     0  0      9     1   \n4    3              ASSAM    687   104  0    791    252     4  0    256   252   \n5    4              BIHAR    121    46  0    167     64     6  0     70    58   \n6    5       CHHATTISGARH    303    26  0    329    209    11  0    220   147   \n7    6                GOA     54     6  0     60     35     0  0     35    30   \n8    7            GUJARAT    356    17  0    373    799    17  0    816   558   \n9    8            HARYANA    464    39  0    503    293    14  0    307   208   \n10   9   HIMACHAL PRADESH    112    12  0    124     43     4  0     47    40   \n11  10    JAMMU & KASHMIR     51    32  0     83     12     2  0     14     1   \n12  11          JHARKHAND    266   120  0    386     80    27  0    107    80   \n13  12          KARNATAKA   1122   170  1   1293   2043   118  0   2161   854   \n14  13             KERALA   1559   404  0   1963    876    22  0    898   540   \n15  14     MADHYA PRADESH    415   112  0    527    879    32  0    911   698   \n16  15        MAHARASHTRA   1383   128  0   1511   1469    43  0   1512  1259   \n17  16            MANIPUR     16     2  0     18     10     0  0     10     7   \n18  17          MEGHALAYA     47     8  0     55     20     1  0     21    20   \n19  18            MIZORAM     13     0  0     13      0     0  0      0     0   \n20  19           NAGALAND      7     2  0      9     13     0  0     13    13   \n21  20             ODISHA    733   125  0    858    889   567  0   1456    73   \n22  21             PUNJAB    265    43  0    308    243     2  0    245   145   \n23  22          RAJASTHAN    509    77  0    586    879   103  0    982   438   \n24  23             SIKKIM     58    14  0     72     23     2  0     25     2   \n25  24         TAMIL NADU    988   377  3   1368   1392   224  1   1617   871   \n26  25          TELANGANA     91    21  0    112    711   206  1    918   583   \n27  26            TRIPURA     26    17  0     43    119    30  0    149    70   \n28  27      UTTAR PRADESH    673   139  0    812    581    18  0    599   359   \n29  28        UTTARAKHAND     80     3  0     83    107     0  0    107   107   \n30  29        WEST BENGAL    349   183  0    532   1138    61  0   1199   694   \n31         TOTAL (STATES)  10940  2265  4  13209  14036  1750  2  15788  8363   \n32      UNION TERRITORIES                                                       \n33  30     A & N  ISLANDS      7     2  0      9     10     1  0     11     6   \n34  31         CHANDIGARH     19     4  0     23     10     0  0     10     4   \n35  32      D & N  HAVELI      2     0  0      2      4     0  0      4     0   \n36  33      DAMAN  &  DIU      2     0  0      2      6     0  0      6     1   \n37  34         DELHI (UT)    540   137  0    677    253    26  0    279   103   \n38  35        LAKSHADWEEP      0     0  0      0      0     0  0      0     0   \n39  36         PUDUCHERRY     89     8  0     97      0     0  0      0     0   \n40            TOTAL (UTs)    659   151  0    810    283    27  0    310   114   \n41      TOTAL (ALL INDIA)  11599  2416  4  14019  14319  1777  2  16098  8477   \n\n     11 12    13  \n1                 \n2    19  0   274  \n3     0  0     1  \n4     4  0   256  \n5     6  0    64  \n6     9  0   156  \n7     0  0    30  \n8     1  0   559  \n9    10  0   218  \n10    4  0    44  \n11    0  0     1  \n12   27  0   107  \n13   21  0   875  \n14   10  0   550  \n15    9  0   707  \n16   30  0  1289  \n17    0  0     7  \n18    1  0    21  \n19    0  0     0  \n20    0  0    13  \n21   12  0    85  \n22    1  0   146  \n23   50  0   488  \n24    0  0     2  \n25  189  1  1061  \n26  104  0   687  \n27   18  0    88  \n28    4  0   363  \n29    0  0   107  \n30   44  0   738  \n31  573  1  8937  \n32                \n33    1  0     7  \n34    0  0     4  \n35    0  0     0  \n36    0  0     1  \n37    0  0   103  \n38    0  0     0  \n39    0  0     0  \n40    1  0   115  \n41  574  1  9052  \n\nPage No:  5\n    0                  1     2    3  4     5     6    7  8     9     10   11  \\\n3                  STATES                                                      \n4    1     ANDHRA PRADESH    86   13  0    99   105    4  0   109    64    2   \n5    2  ARUNACHAL PRADESH     0    0  0     0     0    0  0     0     1    0   \n6    3              ASSAM   142    2  0   144   110    2  0   112     0    0   \n7    4              BIHAR    32    0  0    32    26    6  0    32     0    0   \n8    5       CHHATTISGARH    37    3  0    40    17    0  0    17    93    6   \n9    6                GOA    21    0  0    21     8    0  0     8     1    0   \n10   7            GUJARAT    91    0  0    91   336    1  0   337   131    0   \n11   8            HARYANA    29    2  0    31    38    1  0    39   141    7   \n12   9   HIMACHAL PRADESH    17    1  0    18    20    3  0    23     3    0   \n13  10    JAMMU & KASHMIR     0    0  0     0     0    0  0     0     1    0   \n14  11          JHARKHAND    57   26  0    83    21    1  0    22     2    0   \n15  12          KARNATAKA   169    6  0   175   202    2  0   204   483   13   \n16  13             KERALA   164    1  0   165   278    3  0   281    98    6   \n17  14     MADHYA PRADESH   318    6  0   324   298    1  0   299    82    2   \n18  15        MAHARASHTRA   603   11  0   614   439   12  0   451   217    7   \n19  16            MANIPUR     2    0  0     2     5    0  0     5     0    0   \n20  17          MEGHALAYA    14    0  0    14     6    1  0     7     0    0   \n21  18            MIZORAM     0    0  0     0     0    0  0     0     0    0   \n22  19           NAGALAND     7    0  0     7     5    0  0     5     1    0   \n23  20             ODISHA     6    0  0     6    35   12  0    47    32    0   \n24  21             PUNJAB    75    1  0    76    48    0  0    48    22    0   \n25  22          RAJASTHAN   170   19  0   189    99   10  0   109   169   21   \n26  23             SIKKIM     0    0  0     0     2    0  0     2     0    0   \n27  24         TAMIL NADU   522  143  0   665   181   25  1   207   168   21   \n28  25          TELANGANA   192   32  0   224    97   13  0   110   294   59   \n29  26            TRIPURA    20    0  0    20    15    6  0    21    35   12   \n30  27      UTTAR PRADESH    79    4  0    83   193    0  0   193    87    0   \n31  28        UTTARAKHAND    33    0  0    33    74    0  0    74     0    0   \n32  29        WEST BENGAL   128   15  0   143   133    3  0   136   433   26   \n33         TOTAL (STATES)  3014  285  0  3299  2791  106  1  2898  2558  182   \n34      UNION TERRITORIES                                                      \n35  30     A & N  ISLANDS     3    0  0     3     3    1  0     4     0    0   \n36  31         CHANDIGARH     0    0  0     0     0    0  0     0     4    0   \n37  32      D & N  HAVELI     0    0  0     0     0    0  0     0     0    0   \n38  33      DAMAN  &  DIU     0    0  0     0     1    0  0     1     0    0   \n39  34         DELHI (UT)    49    0  0    49     3    0  0     3    51    0   \n40  35        LAKSHADWEEP     0    0  0     0     0    0  0     0     0    0   \n41  36         PUDUCHERRY     0    0  0     0     0    0  0     0     0    0   \n42            TOTAL (UTs)    52    0  0    52     7    1  0     8    55    0   \n43      TOTAL (ALL INDIA)  3066  285  0  3351  2798  107  1  2906  2613  182   \n\n   12    13  \n3            \n4   0    66  \n5   0     1  \n6   0     0  \n7   0     0  \n8   0    99  \n9   0     1  \n10  0   131  \n11  0   148  \n12  0     3  \n13  0     1  \n14  0     2  \n15  0   496  \n16  0   104  \n17  0    84  \n18  0   224  \n19  0     0  \n20  0     0  \n21  0     0  \n22  0     1  \n23  0    32  \n24  0    22  \n25  0   190  \n26  0     0  \n27  0   189  \n28  0   353  \n29  0    47  \n30  0    87  \n31  0     0  \n32  0   459  \n33  0  2740  \n34           \n35  0     0  \n36  0     4  \n37  0     0  \n38  0     0  \n39  0    51  \n40  0     0  \n41  0     0  \n42  0    55  \n43  0  2795  \n\nPage No:  6\n    0                  1     2     3  4     5     6    7  8      9     10  \\\n0                  STATES                                                   \n1    1     ANDHRA PRADESH   593   217  0   810   839  190  0   1029   533   \n2    2  ARUNACHAL PRADESH     8     0  0     8     1    0  0      1     0   \n3    3              ASSAM     0     0  0     0   107    0  0    107    26   \n4    4              BIHAR     6     0  0     6     0    0  0      0     0   \n5    5       CHHATTISGARH    62     2  0    64   459   40  0    499   231   \n6    6                GOA     5     0  0     5     1    0  0      1     0   \n7    7            GUJARAT   241    16  0   257    99   19  0    118     3   \n8    8            HARYANA    85     4  0    89   215    4  0    219     0   \n9    9   HIMACHAL PRADESH     3     0  0     3    16    0  0     16    12   \n10  10    JAMMU & KASHMIR    11     2  0    13    31    0  0     31     0   \n11  11          JHARKHAND     0     0  0     0    46    9  0     55     0   \n12  12          KARNATAKA  1189    97  0  1286  1842  150  0   1992  1258   \n13  13             KERALA   336    12  0   348   137   13  0    150    21   \n14  14     MADHYA PRADESH   181    23  0   204   529   12  0    541   142   \n15  15        MAHARASHTRA   210    13  0   223  3650  277  0   3927  2560   \n16  16            MANIPUR     3     0  0     3     0    0  0      0     0   \n17  17          MEGHALAYA     0     0  0     0     1    0  0      1     0   \n18  18            MIZORAM     0     0  0     0    23    3  0     26    19   \n19  19           NAGALAND     0     0  0     0     1    0  0      1     0   \n20  20             ODISHA   816   555  0  1371     0    0  0      0     0   \n21  21             PUNJAB    98     1  0    99   280   22  0    302   223   \n22  22          RAJASTHAN   441    53  0   494    25    1  0     26     2   \n23  23             SIKKIM    21     2  0    23     2    0  0      2     0   \n24  24         TAMIL NADU   521    35  0   556   294  133  0    427     4   \n25  25          TELANGANA   128   102  1   231   442   57  0    499   434   \n26  26            TRIPURA    49    12  0    61    34    4  0     38     0   \n27  27      UTTAR PRADESH   222    14  0   236   226   35  0    261    83   \n28  28        UTTARAKHAND     0     0  0     0     0    0  0      0     0   \n29  29        WEST BENGAL   444    17  0   461     0    0  0      0     0   \n30         TOTAL (STATES)  5673  1177  1  6851  9300  969  0  10269  5551   \n31      UNION TERRITORIES                                                   \n32  30     A & N  ISLANDS     4     0  0     4     5    0  0      5     5   \n33  31         CHANDIGARH     6     0  0     6     0    0  0      0     0   \n34  32      D & N  HAVELI     4     0  0     4     7    0  0      7     7   \n35  33      DAMAN  &  DIU     5     0  0     5     0    0  0      0     0   \n36  34         DELHI (UT)   150    26  0   176     0    0  0      0     0   \n37  35        LAKSHADWEEP     0     0  0     0     0    0  0      0     0   \n38  36         PUDUCHERRY     0     0  0     0     0    0  0      0     0   \n39            TOTAL (UTs)   169    26  0   195    12    0  0     12    12   \n40      TOTAL (ALL INDIA)  5842  1203  1  7046  9312  969  0  10281  5563   \n\n     11 12    13  \n0                 \n1    95  0   628  \n2     0  0     0  \n3     0  0    26  \n4     0  0     0  \n5     2  0   233  \n6     0  0     0  \n7     0  0     3  \n8     0  0     0  \n9     0  0    12  \n10    0  0     0  \n11    0  0     0  \n12   73  0  1331  \n13    1  0    22  \n14    0  0   142  \n15  120  0  2680  \n16    0  0     0  \n17    0  0     0  \n18    3  0    22  \n19    0  0     0  \n20    0  0     0  \n21   16  0   239  \n22    0  0     2  \n23    0  0     0  \n24    2  0     6  \n25   57  0   491  \n26    0  0     0  \n27   25  0   108  \n28    0  0     0  \n29    0  0     0  \n30  394  0  5945  \n31                \n32    0  0     5  \n33    0  0     0  \n34    0  0     7  \n35    0  0     0  \n36    0  0     0  \n37    0  0     0  \n38    0  0     0  \n39    0  0    12  \n40  394  0  5957  \n\nPage No:  7\n    0                  1     2    3  4     5    6   7  8    9     10   11 12  \\\n0                  STATES                                                      \n1    1     ANDHRA PRADESH   363   75  0   438  170  20  0  190   306   95  0   \n2    2  ARUNACHAL PRADESH     0    0  0     0    0   0  0    0     1    0  0   \n3    3              ASSAM    11    0  0    11   15   0  0   15    81    0  0   \n4    4              BIHAR     0    0  0     0    0   0  0    0     0    0  0   \n5    5       CHHATTISGARH   228    2  0   230    3   0  0    3   228   38  0   \n6    6                GOA     0    0  0     0    0   0  0    0     1    0  0   \n7    7            GUJARAT     2    0  0     2    1   0  0    1    96   19  0   \n8    8            HARYANA     0    0  0     0    0   0  0    0   215    4  0   \n9    9   HIMACHAL PRADESH    12    0  0    12    0   0  0    0     4    0  0   \n10  10    JAMMU & KASHMIR     0    0  0     0    0   0  0    0    31    0  0   \n11  11          JHARKHAND     0    0  0     0    0   0  0    0    46    9  0   \n12  12          KARNATAKA  1150   63  0  1213  108  10  0  118   584   77  0   \n13  13             KERALA    21    1  0    22    0   0  0    0   116   12  0   \n14  14     MADHYA PRADESH   138    0  0   138    4   0  0    4   387   12  0   \n15  15        MAHARASHTRA  2255  104  0  2359  305  16  0  321  1090  157  0   \n16  16            MANIPUR     0    0  0     0    0   0  0    0     0    0  0   \n17  17          MEGHALAYA     0    0  0     0    0   0  0    0     1    0  0   \n18  18            MIZORAM    14    3  0    17    5   0  0    5     4    0  0   \n19  19           NAGALAND     0    0  0     0    0   0  0    0     1    0  0   \n20  20             ODISHA     0    0  0     0    0   0  0    0     0    0  0   \n21  21             PUNJAB   191   12  0   203   32   4  0   36    57    6  0   \n22  22          RAJASTHAN     2    0  0     2    0   0  0    0    23    1  0   \n23  23             SIKKIM     0    0  0     0    0   0  0    0     2    0  0   \n24  24         TAMIL NADU     4    2  0     6    0   0  0    0   290  131  0   \n25  25          TELANGANA   332   41  0   373  102  16  0  118     8    0  0   \n26  26            TRIPURA     0    0  0     0    0   0  0    0    34    4  0   \n27  27      UTTAR PRADESH    67   25  0    92   16   0  0   16   143   10  0   \n28  28        UTTARAKHAND     0    0  0     0    0   0  0    0     0    0  0   \n29  29        WEST BENGAL     0    0  0     0    0   0  0    0     0    0  0   \n30         TOTAL (STATES)  4790  328  0  5118  761  66  0  827  3749  575  0   \n31      UNION TERRITORIES                                                      \n32  30     A & N  ISLANDS     4    0  0     4    1   0  0    1     0    0  0   \n33  31         CHANDIGARH     0    0  0     0    0   0  0    0     0    0  0   \n34  32       D & N HAVELI     7    0  0     7    0   0  0    0     0    0  0   \n35  33      DAMAN  &  DIU     0    0  0     0    0   0  0    0     0    0  0   \n36  34         DELHI (UT)     0    0  0     0    0   0  0    0     0    0  0   \n37  35        LAKSHADWEEP     0    0  0     0    0   0  0    0     0    0  0   \n38  36         PUDUCHERRY     0    0  0     0    0   0  0    0     0    0  0   \n39            TOTAL (UTs)    11    0  0    11    1   0  0    1     0    0  0   \n40      TOTAL (ALL INDIA)  4801  328  0  5129  762  66  0  828  3749  575  0   \n\n      13  \n0         \n1    401  \n2      1  \n3     81  \n4      0  \n5    266  \n6      1  \n7    115  \n8    219  \n9      4  \n10    31  \n11    55  \n12   661  \n13   128  \n14   399  \n15  1247  \n16     0  \n17     1  \n18     4  \n19     1  \n20     0  \n21    63  \n22    24  \n23     2  \n24   421  \n25     8  \n26    38  \n27   153  \n28     0  \n29     0  \n30  4324  \n31        \n32     0  \n33     0  \n34     0  \n35     0  \n36     0  \n37     0  \n38     0  \n39     0  \n40  4324  \n\nPage No:  8\n    0                  1      2     3  4      5     6    7  8     9      10  \\\n1                  STATES                                                     \n2    1     ANDHRA PRADESH   1811   356  0   2167    35    0  0    35    413   \n3    2  ARUNACHAL PRADESH     16     2  0     18     0    0  0     0     14   \n4    3              ASSAM    201    78  0    279    12    0  0    12      6   \n5    4              BIHAR     74     2  0     76     0    0  0     0      5   \n6    5       CHHATTISGARH   1476   203  0   1679    14    0  0    14   2651   \n7    6                GOA     30     0  0     30     3    0  0     3      3   \n8    7            GUJARAT   2381   268  0   2649   274   53  0   327    175   \n9    8            HARYANA    401     8  0    409    12    0  0    12   1357   \n10   9   HIMACHAL PRADESH     53     4  0     57     2    0  0     2      1   \n11  10    JAMMU & KASHMIR      0     0  0      0     0    0  0     0     25   \n12  11          JHARKHAND     61    31  0     92    14    0  0    14     11   \n13  12          KARNATAKA   1499   131  1   1631    82    4  0    86    575   \n14  13             KERALA   2681   128  0   2809    84   21  0   105    416   \n15  14     MADHYA PRADESH   3589   375  0   3964    43    3  0    46   1335   \n16  15        MAHARASHTRA   3873   254  1   4128   415   11  0   426    730   \n17  16            MANIPUR      1     0  0      1     0    0  0     0      2   \n18  17          MEGHALAYA     53     2  0     55     1    0  0     1      0   \n19  18            MIZORAM      7     5  0     12     1    0  0     1      0   \n20  19           NAGALAND      4     0  0      4     2    0  0     2      0   \n21  20             ODISHA    268    78  0    346     7    0  0     7    378   \n22  21             PUNJAB    578     7  0    585    20    1  0    21    133   \n23  22          RAJASTHAN    986    76  0   1062    33    2  0    35    167   \n24  23             SIKKIM     29     2  0     31     4    1  0     5      6   \n25  24         TAMIL NADU   4506   678  2   5186    42   26  0    68    173   \n26  25          TELANGANA   2300   558  0   2858    12    1  0    13   1379   \n27  26            TRIPURA    208    10  0    218    11    0  0    11     11   \n28  27      UTTAR PRADESH    823    36  0    859     5    0  0     5    252   \n29  28        UTTARAKHAND     38     6  0     44    13    0  0    13      0   \n30  29        WEST BENGAL    889   113  0   1002    17    1  0    18   4483   \n31         TOTAL (STATES)  28836  3411  4  32251  1158  124  0  1282  14701   \n32      UNION TERRITORIES                                                     \n33  30     A & N  ISLANDS      8     1  0      9     3    1  0     4      9   \n34  31         CHANDIGARH      6     1  0      7     0    0  0     0      0   \n35  32      D & N  HAVELI     13     1  0     14     1    0  0     1      6   \n36  33      DAMAN  &  DIU      0     0  0      0     1    0  0     1      0   \n37  34         DELHI (UT)    203    44  0    247    14    0  0    14    427   \n38  35        LAKSHADWEEP      0     0  0      0     0    0  0     0      0   \n39  36         PUDUCHERRY     26     9  0     35     0    0  0     0    187   \n40            TOTAL (UTs)    256    56  0    312    19    1  0    20    629   \n41      TOTAL (ALL INDIA)  29092  3467  4  32563  1177  125  0  1302  15330   \n\n      11 12     13  \n1                   \n2    125  0    538  \n3      1  0     15  \n4      3  0      9  \n5      0  0      5  \n6    730  0   3381  \n7      1  0      4  \n8     86  1    262  \n9    285  0   1642  \n10     0  0      1  \n11    18  0     43  \n12     2  0     13  \n13   173  0    748  \n14    61  0    477  \n15   271  2   1608  \n16    89  0    819  \n17     0  0      2  \n18     0  0      0  \n19     0  0      0  \n20     0  0      0  \n21   300  0    678  \n22    10  1    144  \n23    84  0    251  \n24     0  0      6  \n25   105  2    280  \n26   279  0   1658  \n27     0  0     11  \n28    84  0    336  \n29     1  0      1  \n30  2176  0   6659  \n31  4884  6  19591  \n32                  \n33     2  0     11  \n34     0  0      0  \n35     2  0      8  \n36     0  0      0  \n37   121  0    548  \n38     0  0      0  \n39    96  0    283  \n40   221  0    850  \n41  5105  6  20441  \n\n"
     ]
    }
   ]
  },
  {
   "cell_type": "code",
   "execution_count": 14,
   "metadata": {},
   "outputs": [
    {
     "output_type": "execute_result",
     "data": {
      "text/plain": [
       "8"
      ]
     },
     "metadata": {},
     "execution_count": 14
    }
   ],
   "source": [
    "# List of Column headers as column are nested, i.e exhibit a multi level/index structure\n",
    "# The multi level structre will be generated and applied in the next \n",
    "column_header = [\n",
    "    ['House wife','Professionals/Salaried Persons (Total)','Professionals/Salaried Persons [Government Servants (Total)]'],\n",
    "    ['Professionals/Salaried Persons [Government Servants(Central/UT Govt. Servants)]','Professionals/Salaried Persons [Government Servants(State  Govt. Servants)]','Professionals/Salaried Persons [Government Servants (Other Statutory Body/etc.)] '],\n",
    "    ['Professionals/Salaried Persons (Private Sector Enterprises)','Professionals/Salaried Persons (Public Sector Undertaking)','Students'],\n",
    "    ['Unemployed Persons','Self-employed Persons(Total)','Self-employed Persons[Business (Total)]'],\n",
    "    ['Self-employed Persons[Business(Vendor)]','Self-employed Persons[Business(Tradesmen)]','Self-employed Persons[Business(Other Business)]'],\n",
    "    ['Other Self-employed Persons','Persons Engaged in Farming Sector (Total)','Persons Engaged in Farming Sector [Farmers/Cultivators (Total)]'],\n",
    "    ['Farmers/Cultivators(Who Cultivate Their Own Land*)','Farmers/Cultivators(Who Cultivate On Lease Land#)','Persons engaged in Farming Sector(Agricultural Laborers)'],\n",
    "    ['Daily Wage Earner','Retired Persons','Other Persons']\n",
    "]\n",
    "len(column_header)"
   ]
  },
  {
   "cell_type": "code",
   "execution_count": 15,
   "metadata": {},
   "outputs": [],
   "source": [
    "def set_Column(df, title):\n",
    "    column_list = [\n",
    "        (\"Sl. No.\",''),\n",
    "        (\"State/UT\",''), \n",
    "        (title[0],'Male'),\n",
    "        (title[0],'Female'),\n",
    "        (title[0],'Transgender'),\n",
    "        (title[0],'Total'),\n",
    "        (title[1],'Male'),\n",
    "        (title[1],'Female'),\n",
    "        (title[1],'Transgender'),\n",
    "        (title[1],'Total'),\n",
    "        (title[2],'Male'),\n",
    "        (title[2],'Female'),\n",
    "        (title[2],'Transgender'),\n",
    "        (title[2],'Total'),\n",
    "    ]\n",
    "    df.columns = pd.MultiIndex.from_tuples(column_list)"
   ]
  },
  {
   "cell_type": "code",
   "execution_count": 16,
   "metadata": {},
   "outputs": [],
   "source": [
    "for i in range(len(tables)):\n",
    "    set_Column(tables[i].df, column_header[i])\n",
    "    tables[i].df.set_index([\"Sl. No.\",\"State/UT\"],inplace=True)"
   ]
  },
  {
   "cell_type": "code",
   "execution_count": 17,
   "metadata": {},
   "outputs": [],
   "source": [
    "def set_Column_last(df):\n",
    "    column_list = [\n",
    "        (\"Sl. No.\",''),\n",
    "        (\"State/UT\",''), \n",
    "        ('Total','Male'),\n",
    "        ('Total','Female'),\n",
    "        ('Total','Transgender'),\n",
    "        ('Total','Total')\n",
    "    ]\n",
    "    df.columns = pd.MultiIndex.from_tuples(column_list)"
   ]
  },
  {
   "cell_type": "code",
   "execution_count": 19,
   "metadata": {},
   "outputs": [],
   "source": [
    "set_Column_last(table9[0].df)\n",
    "table9[0].df.set_index([\"Sl. No.\",\"State/UT\"],inplace=True)"
   ]
  },
  {
   "source": [
    "# Incase we're intersted in seeing the scraped tables at this point.\n",
    "# Commented as it takes too much screen space\n",
    "# Run if you want\n",
    "# printnAllTables(tables)\n",
    "\n",
    "# OR Print a simgle one according to your choice\n",
    "# tables[23].df"
   ],
   "cell_type": "code",
   "metadata": {},
   "execution_count": null,
   "outputs": []
  },
  {
   "cell_type": "code",
   "execution_count": 20,
   "metadata": {},
   "outputs": [],
   "source": [
    "# Convert List of tables to list of DataFrames\n",
    "DataFrames = [each.df.copy() for each in tables]\n",
    "DataFrames.append(table9[0].df.copy())"
   ]
  },
  {
   "cell_type": "code",
   "execution_count": 22,
   "metadata": {},
   "outputs": [],
   "source": [
    "# Concat all the tables one after the other, as they all have the same indexes.\n",
    "final = pd.concat(DataFrames,axis=1)"
   ]
  },
  {
   "cell_type": "code",
   "execution_count": 23,
   "metadata": {},
   "outputs": [],
   "source": [
    "# Reset Index before saving file, for better formatting in RAW CSV\n",
    "final.reset_index().to_csv(\"Profession - wise Distribution of Suicides during 2019 (State & UT-wise).csv\",index=False)"
   ]
  }
 ],
 "metadata": {
  "kernelspec": {
   "display_name": "Python 3",
   "language": "python",
   "name": "python3"
  },
  "language_info": {
   "codemirror_mode": {
    "name": "ipython",
    "version": 3
   },
   "file_extension": ".py",
   "mimetype": "text/x-python",
   "name": "python",
   "nbconvert_exporter": "python",
   "pygments_lexer": "ipython3",
   "version": "3.8.2-final"
  }
 },
 "nbformat": 4,
 "nbformat_minor": 4
}
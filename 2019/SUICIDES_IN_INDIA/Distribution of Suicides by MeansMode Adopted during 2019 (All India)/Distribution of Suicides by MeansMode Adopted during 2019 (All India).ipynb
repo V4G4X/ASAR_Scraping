{
 "cells": [
  {
   "cell_type": "code",
   "execution_count": 1,
   "metadata": {},
   "outputs": [],
   "source": [
    "import wget\n",
    "import ssl\n",
    "import os\n",
    "ssl._create_default_https_context = ssl._create_unverified_context"
   ]
  },
  {
   "cell_type": "code",
   "execution_count": 2,
   "metadata": {},
   "outputs": [],
   "source": [
    "# Enter NCRB Individual PDF url\n",
    "pdf_url = 'https://ncrb.gov.in/sites/default/files/adsi_reports_previous_year/Table-2.12_2019_0.pdf'\n",
    "fileName = pdf_url[67:]\n",
    "try:\n",
    "    #Delete the file to redownload it\n",
    "    os.remove(fileName)\n",
    "except FileNotFoundError as e:\n",
    "    #Ignore in case FileNotFound Error occurs\n",
    "    pass\n",
    "# Download report\n",
    "fileName = wget.download(pdf_url,fileName)"
   ]
  },
  {
   "cell_type": "code",
   "execution_count": 3,
   "metadata": {},
   "outputs": [],
   "source": [
    "import numpy as np\n",
    "import pandas as pd\n",
    "import camelot"
   ]
  },
  {
   "cell_type": "code",
   "execution_count": 4,
   "metadata": {},
   "outputs": [
    {
     "output_type": "execute_result",
     "data": {
      "text/plain": [
       "'Table-2.12_2019_0.pdf'"
      ]
     },
     "metadata": {},
     "execution_count": 4
    }
   ],
   "source": [
    "fileName"
   ]
  },
  {
   "cell_type": "code",
   "execution_count": 5,
   "metadata": {},
   "outputs": [],
   "source": [
    "tables = camelot.read_pdf(fileName,\n",
    "                          flavor='stream',\n",
    "                          table_areas=[\n",
    "                              \"84.65059773828757,677.5702528470135,524.2565428109855,178.892123428655\"\n",
    "                              ],\n",
    "                          columns=[\n",
    "                              \"112.54681744749597,247.2182229402262,301.0867851373183,357.84116316639745,401.1284006462036,473.2737964458805\"\n",
    "                              ],\n",
    "                              row_tol=15,\n",
    "                          split_text=True,\n",
    "                          strip_text=\"\\t\\n\",\n",
    "                          pages=\"all\"\n",
    "                         )"
   ]
  },
  {
   "cell_type": "code",
   "execution_count": 6,
   "metadata": {},
   "outputs": [
    {
     "output_type": "execute_result",
     "data": {
      "text/plain": [
       "<TableList n=1>"
      ]
     },
     "metadata": {},
     "execution_count": 6
    }
   ],
   "source": [
    "tables"
   ]
  },
  {
   "cell_type": "code",
   "execution_count": 7,
   "metadata": {},
   "outputs": [],
   "source": [
    "def printnAllTables(tables):\n",
    "    for i in range(len(tables)):\n",
    "        print(\"Page No: \",(i+1))\n",
    "        print(tables[i].df)\n",
    "        print()"
   ]
  },
  {
   "cell_type": "code",
   "execution_count": 8,
   "metadata": {},
   "outputs": [],
   "source": [
    "# Splits the second column into 1st column index and 2nd column test when faulty/required\n",
    "def split_by_first_space(df, strIndex, stpIndex):\n",
    "    df = df.iloc[strIndex:stpIndex+1]\n",
    "    for index, each in df.iterrows():\n",
    "        space = each[1].find(' ')\n",
    "        each[0] = each[1][:space]\n",
    "        each[1] = each[1][space:]"
   ]
  },
  {
   "cell_type": "code",
   "execution_count": 9,
   "metadata": {},
   "outputs": [
    {
     "output_type": "execute_result",
     "data": {
      "text/plain": [
       "     0                                                1      2      3   4  \\\n",
       "0    1                      By Consuming Sleeping Pills    487    266   0   \n",
       "1    2                                      By Drowning   4986   2222   0   \n",
       "2    3                          By Fire/Self Immolation   1937   3295   2   \n",
       "3    4                                      By Firearms    303    125   0   \n",
       "4    5                                       By Hanging  54198  20420  11   \n",
       "5    6                                By Poison (Total)  24594  11284   4   \n",
       "6                  6.1 By Consuming        Insecticides  16873   7188   3   \n",
       "7                  6.2 By Consuming Other        Poison   7721   4096   1   \n",
       "8    7                       By Self inflicting  Injury    594    234   0   \n",
       "9    8                                  Jumping (Total)   1587    447   0   \n",
       "10                                    8.1 from Building    695    298   0   \n",
       "11                                 8.2 from Other Sites    159     31   0   \n",
       "12      8.3 by Jumping off Moving       Trains/Vehicles    733    118   0   \n",
       "13   9          By Coming under Running Vehicles/Trains   2891    446   0   \n",
       "14  10                        By Touching Electric Wire    590    162   0   \n",
       "15  11                                   By Other Means   5446   2592   0   \n",
       "16  12                                            Total  97613  41493  17   \n",
       "\n",
       "         5      6  \n",
       "0      753    0.5  \n",
       "1     7208    5.2  \n",
       "2     5234    3.8  \n",
       "3      428    0.3  \n",
       "4    74629   53.6  \n",
       "5    35882   25.8  \n",
       "6    24064   17.3  \n",
       "7    11818    8.5  \n",
       "8      828    0.6  \n",
       "9     2034    1.5  \n",
       "10     993    0.7  \n",
       "11     190    0.1  \n",
       "12     851    0.6  \n",
       "13    3337    2.4  \n",
       "14     752    0.5  \n",
       "15    8038    5.8  \n",
       "16  139123  100.0  "
      ],
      "text/html": "<div>\n<style scoped>\n    .dataframe tbody tr th:only-of-type {\n        vertical-align: middle;\n    }\n\n    .dataframe tbody tr th {\n        vertical-align: top;\n    }\n\n    .dataframe thead th {\n        text-align: right;\n    }\n</style>\n<table border=\"1\" class=\"dataframe\">\n  <thead>\n    <tr style=\"text-align: right;\">\n      <th></th>\n      <th>0</th>\n      <th>1</th>\n      <th>2</th>\n      <th>3</th>\n      <th>4</th>\n      <th>5</th>\n      <th>6</th>\n    </tr>\n  </thead>\n  <tbody>\n    <tr>\n      <th>0</th>\n      <td>1</td>\n      <td>By Consuming Sleeping Pills</td>\n      <td>487</td>\n      <td>266</td>\n      <td>0</td>\n      <td>753</td>\n      <td>0.5</td>\n    </tr>\n    <tr>\n      <th>1</th>\n      <td>2</td>\n      <td>By Drowning</td>\n      <td>4986</td>\n      <td>2222</td>\n      <td>0</td>\n      <td>7208</td>\n      <td>5.2</td>\n    </tr>\n    <tr>\n      <th>2</th>\n      <td>3</td>\n      <td>By Fire/Self Immolation</td>\n      <td>1937</td>\n      <td>3295</td>\n      <td>2</td>\n      <td>5234</td>\n      <td>3.8</td>\n    </tr>\n    <tr>\n      <th>3</th>\n      <td>4</td>\n      <td>By Firearms</td>\n      <td>303</td>\n      <td>125</td>\n      <td>0</td>\n      <td>428</td>\n      <td>0.3</td>\n    </tr>\n    <tr>\n      <th>4</th>\n      <td>5</td>\n      <td>By Hanging</td>\n      <td>54198</td>\n      <td>20420</td>\n      <td>11</td>\n      <td>74629</td>\n      <td>53.6</td>\n    </tr>\n    <tr>\n      <th>5</th>\n      <td>6</td>\n      <td>By Poison (Total)</td>\n      <td>24594</td>\n      <td>11284</td>\n      <td>4</td>\n      <td>35882</td>\n      <td>25.8</td>\n    </tr>\n    <tr>\n      <th>6</th>\n      <td></td>\n      <td>6.1 By Consuming        Insecticides</td>\n      <td>16873</td>\n      <td>7188</td>\n      <td>3</td>\n      <td>24064</td>\n      <td>17.3</td>\n    </tr>\n    <tr>\n      <th>7</th>\n      <td></td>\n      <td>6.2 By Consuming Other        Poison</td>\n      <td>7721</td>\n      <td>4096</td>\n      <td>1</td>\n      <td>11818</td>\n      <td>8.5</td>\n    </tr>\n    <tr>\n      <th>8</th>\n      <td>7</td>\n      <td>By Self inflicting  Injury</td>\n      <td>594</td>\n      <td>234</td>\n      <td>0</td>\n      <td>828</td>\n      <td>0.6</td>\n    </tr>\n    <tr>\n      <th>9</th>\n      <td>8</td>\n      <td>Jumping (Total)</td>\n      <td>1587</td>\n      <td>447</td>\n      <td>0</td>\n      <td>2034</td>\n      <td>1.5</td>\n    </tr>\n    <tr>\n      <th>10</th>\n      <td></td>\n      <td>8.1 from Building</td>\n      <td>695</td>\n      <td>298</td>\n      <td>0</td>\n      <td>993</td>\n      <td>0.7</td>\n    </tr>\n    <tr>\n      <th>11</th>\n      <td></td>\n      <td>8.2 from Other Sites</td>\n      <td>159</td>\n      <td>31</td>\n      <td>0</td>\n      <td>190</td>\n      <td>0.1</td>\n    </tr>\n    <tr>\n      <th>12</th>\n      <td></td>\n      <td>8.3 by Jumping off Moving       Trains/Vehicles</td>\n      <td>733</td>\n      <td>118</td>\n      <td>0</td>\n      <td>851</td>\n      <td>0.6</td>\n    </tr>\n    <tr>\n      <th>13</th>\n      <td>9</td>\n      <td>By Coming under Running Vehicles/Trains</td>\n      <td>2891</td>\n      <td>446</td>\n      <td>0</td>\n      <td>3337</td>\n      <td>2.4</td>\n    </tr>\n    <tr>\n      <th>14</th>\n      <td>10</td>\n      <td>By Touching Electric Wire</td>\n      <td>590</td>\n      <td>162</td>\n      <td>0</td>\n      <td>752</td>\n      <td>0.5</td>\n    </tr>\n    <tr>\n      <th>15</th>\n      <td>11</td>\n      <td>By Other Means</td>\n      <td>5446</td>\n      <td>2592</td>\n      <td>0</td>\n      <td>8038</td>\n      <td>5.8</td>\n    </tr>\n    <tr>\n      <th>16</th>\n      <td>12</td>\n      <td>Total</td>\n      <td>97613</td>\n      <td>41493</td>\n      <td>17</td>\n      <td>139123</td>\n      <td>100.0</td>\n    </tr>\n  </tbody>\n</table>\n</div>"
     },
     "metadata": {},
     "execution_count": 9
    }
   ],
   "source": [
    "# Incase we're intersted in seeing the original scraped tables.\n",
    "# Commented as it takes too much screen space\n",
    "# Run if you want\n",
    "tables[0].df"
   ]
  },
  {
   "cell_type": "code",
   "execution_count": 10,
   "metadata": {},
   "outputs": [],
   "source": [
    "split_by_first_space(tables[0].df,6,7)\n",
    "split_by_first_space(tables[0].df,10,12)"
   ]
  },
  {
   "cell_type": "code",
   "execution_count": 11,
   "metadata": {},
   "outputs": [],
   "source": [
    "def set_Column(df):\n",
    "    column_list = [\n",
    "        (\"Sl. No.\"),\n",
    "        (\"Means/Mode\"), \n",
    "        ('Male'),\n",
    "        ('Female'),\n",
    "        ('Transgender'),\n",
    "        ('Total'),\n",
    "        ('Percentage Share')\n",
    "    ]\n",
    "    df.columns = column_list"
   ]
  },
  {
   "cell_type": "code",
   "execution_count": 12,
   "metadata": {},
   "outputs": [],
   "source": [
    "for i in range(len(tables)):\n",
    "    set_Column(tables[i].df)"
   ]
  },
  {
   "cell_type": "code",
   "execution_count": 13,
   "metadata": {},
   "outputs": [],
   "source": [
    "# Incase we're intersted in seeing the scraped tables at this point.\n",
    "# Commented as it takes too much screen space\n",
    "# Run if you want\n",
    "# printnAllTables(tables)\n",
    "\n",
    "# OR Print a simgle one according to your choice\n",
    "# tables[23].df"
   ]
  },
  {
   "cell_type": "code",
   "execution_count": 14,
   "metadata": {},
   "outputs": [],
   "source": [
    "final = tables[0].df"
   ]
  },
  {
   "cell_type": "code",
   "execution_count": 15,
   "metadata": {},
   "outputs": [],
   "source": [
    "# Reset Index before saving file, for better formatting in RAW CSV\n",
    "final.to_csv(\"Distribution of Suicides by MeansMode Adopted during 2019 (All India).csv\",index=False)"
   ]
  }
 ],
 "metadata": {
  "kernelspec": {
   "display_name": "Python 3",
   "language": "python",
   "name": "python3"
  },
  "language_info": {
   "codemirror_mode": {
    "name": "ipython",
    "version": 3
   },
   "file_extension": ".py",
   "mimetype": "text/x-python",
   "name": "python",
   "nbconvert_exporter": "python",
   "pygments_lexer": "ipython3",
   "version": "3.8.2-final"
  }
 },
 "nbformat": 4,
 "nbformat_minor": 4
}
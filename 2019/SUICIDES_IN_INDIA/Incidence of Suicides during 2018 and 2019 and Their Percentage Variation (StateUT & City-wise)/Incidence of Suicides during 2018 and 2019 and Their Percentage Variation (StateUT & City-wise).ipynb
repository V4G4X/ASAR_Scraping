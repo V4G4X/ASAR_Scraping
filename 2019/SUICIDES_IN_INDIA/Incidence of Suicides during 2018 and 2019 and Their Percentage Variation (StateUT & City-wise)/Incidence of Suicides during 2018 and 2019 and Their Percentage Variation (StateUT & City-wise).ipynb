{
 "cells": [
  {
   "cell_type": "code",
   "execution_count": 1,
   "metadata": {},
   "outputs": [],
   "source": [
    "import wget\n",
    "import ssl\n",
    "import os\n",
    "ssl._create_default_https_context = ssl._create_unverified_context"
   ]
  },
  {
   "cell_type": "code",
   "execution_count": 2,
   "metadata": {},
   "outputs": [],
   "source": [
    "# Enter NCRB Individual PDF url\n",
    "pdf_url = 'https://ncrb.gov.in/sites/default/files/adsi_reports_previous_year/Table-2.3_2019_0.pdf'\n",
    "fileName = pdf_url[67:]\n",
    "try:\n",
    "    #Delete the file to redownload it\n",
    "    os.remove(fileName)\n",
    "except FileNotFoundError as e:\n",
    "    #Ignore in case FileNotFound Error occurs\n",
    "    pass\n",
    "# Download report\n",
    "fileName = wget.download(pdf_url,fileName)"
   ]
  },
  {
   "cell_type": "code",
   "execution_count": 3,
   "metadata": {},
   "outputs": [],
   "source": [
    "import numpy as np\n",
    "import pandas as pd\n",
    "import camelot"
   ]
  },
  {
   "cell_type": "code",
   "execution_count": 4,
   "metadata": {},
   "outputs": [
    {
     "output_type": "execute_result",
     "data": {
      "text/plain": [
       "'Table-2.3_2019_0.pdf'"
      ]
     },
     "metadata": {},
     "execution_count": 4
    }
   ],
   "source": [
    "fileName"
   ]
  },
  {
   "cell_type": "code",
   "execution_count": 5,
   "metadata": {},
   "outputs": [],
   "source": [
    "tables = camelot.read_pdf(fileName,\n",
    "                          flavor='stream',\n",
    "                          table_areas=[\n",
    "                              \"56.273408723747984,744.9071924115915,540.1285298869144,79.23344700176459\"\n",
    "                              ],\n",
    "                          columns=[\n",
    "                              \"76.9550888529887,227.01751211631665,296.2770920840065,396.3187075928918\"\n",
    "                              ],\n",
    "                          split_text=True,\n",
    "                          pages=\"all\"\n",
    "                         )"
   ]
  },
  {
   "cell_type": "code",
   "execution_count": 6,
   "metadata": {},
   "outputs": [
    {
     "output_type": "execute_result",
     "data": {
      "text/plain": [
       "<TableList n=2>"
      ]
     },
     "metadata": {},
     "execution_count": 6
    }
   ],
   "source": [
    "tables"
   ]
  },
  {
   "cell_type": "code",
   "execution_count": 7,
   "metadata": {},
   "outputs": [],
   "source": [
    "def printnAllTables(tables):\n",
    "    for i in range(len(tables)):\n",
    "        print(\"Page No: \",(i+1))\n",
    "        print(tables[i].df)\n",
    "        print()"
   ]
  },
  {
   "cell_type": "code",
   "execution_count": 8,
   "metadata": {},
   "outputs": [],
   "source": [
    "# Incase we're intersted in seeing the original scraped tables.\n",
    "# Commented as it takes too much screen space\n",
    "# Run if you want\n",
    "# printnAllTables(tables)"
   ]
  },
  {
   "cell_type": "code",
   "execution_count": 9,
   "metadata": {},
   "outputs": [],
   "source": [
    "# Removes Garbage Rows that may have been detected Before the 'STATES' row\n",
    "# AND\n",
    "# Removes Garbage Rows that may have been detected after the 'TOTAL (ALL INDIA)' row\n",
    "def clean(table):\n",
    "    while(table.df.iloc[0,1] != 'STATES' and table.df.iloc[0,1] != 'CITIES'):\n",
    "        table.df = table.df.iloc[1:]\n",
    "    while(table.df.iloc[-1,1] != 'TOTAL (ALL INDIA)' and table.df.iloc[-1,1] != 'TOTAL (CITIES)'):\n",
    "        table.df = table.df.iloc[:-1]\n",
    "    # The Return line is unnecessary due to all changes being reflected in the original references\n",
    "    return table"
   ]
  },
  {
   "cell_type": "code",
   "execution_count": 10,
   "metadata": {},
   "outputs": [],
   "source": [
    "for each_table in tables:\n",
    "    clean(each_table)"
   ]
  },
  {
   "cell_type": "code",
   "execution_count": 11,
   "metadata": {},
   "outputs": [
    {
     "output_type": "stream",
     "name": "stdout",
     "text": [
      "Page No:  1\n     0                  1       2       3       4\n4                  STATES                        \n5    1     ANDHRA PRADESH    5319    6465    21.5\n6    2  ARUNACHAL PRADESH     132     112   -15.2\n7    3              ASSAM    2379    2370    -0.4\n8    4              BIHAR     443     641    44.7\n9    5       CHHATTISGARH    7046    7629     8.3\n10   6                GOA     256     259     1.2\n11   7            GUJARAT    7793    7655    -1.8\n12   8            HARYANA    3547    4191    18.2\n13   9   HIMACHAL PRADESH     740     584   -21.1\n14  10    JAMMU & KASHMIR     330     284   -13.9\n15  11          JHARKHAND    1317    1646    25.0\n16  12          KARNATAKA   11561   11288    -2.4\n17  13             KERALA    8237    8556     3.9\n18  14     MADHYA PRADESH   11775   12457     5.8\n19  15        MAHARASHTRA   17972   18916     5.3\n20  16            MANIPUR      52      58    11.5\n21  17          MEGHALAYA     189     198     4.8\n22  18            MIZORAM      79      70   -11.4\n23  19           NAGALAND      36      41    13.9\n24  20             ODISHA    4592    4582    -0.2\n25  21             PUNJAB    1714    2357    37.5\n26  22          RAJASTHAN    4333    4531     4.6\n27  23             SIKKIM     199     220    10.6\n28  24         TAMIL NADU   13896   13493    -2.9\n29  25          TELANGANA    7845    7675    -2.2\n30  26            TRIPURA     720     728     1.1\n31  27      UTTAR PRADESH    4849    5464    12.7\n32  28        UTTARAKHAND     421     516    22.6\n33  29        WEST BENGAL   13255   12665    -4.5\n34         TOTAL (STATES)  131027  135651     3.5\n35      UNION TERRITORIES                        \n36  30      A & N ISLANDS     164     181    10.4\n37  31         CHANDIGARH     160     131   -18.1\n38  32       D & N HAVELI     101      95    -5.9\n39  33        DAMAN & DIU      35      46    31.4\n40  34         DELHI (UT)    2526    2526     0.0\n41  35        LAKSHADWEEP       3       0  -100.0\n42  36         PUDUCHERRY     500     493    -1.4\n43            TOTAL (UTS)    3489    3472    -0.5\n44      TOTAL (ALL INDIA)  134516  139123     3.4\n\nPage No:  2\n     0                   1      2      3      4\n4                   CITIES                     \n5   37                AGRA    113    129   14.2\n6   38           AHMEDABAD    706    763    8.1\n7   39           ALLAHABAD      0     31      -\n8   40            AMRITSAR     66     78   18.2\n9   41             ASANSOL    391    469   19.9\n10  42          AURANGABAD    269    283    5.2\n11  43           BENGALURU   2082   2081    0.0\n12  44              BHOPAL    392    353   -9.9\n13  45   CHANDIGARH (CITY)    160    131  -18.1\n14  46             CHENNAI   2102   2461   17.1\n15  47          COIMBATORE    340    338   -0.6\n16  48        DELHI (CITY)   2369   2423    2.3\n17  49             DHANBAD    261    257   -1.5\n18  50    DURG BHILAINAGAR    351    376    7.1\n19  51           FARIDABAD    149    265   77.9\n20  52           GHAZIABAD    183    132  -27.9\n21  53             GWALIOR    249    295   18.5\n22  54           HYDERABAD    536    389  -27.4\n23  55              INDORE    581    618    6.4\n24  56            JABALPUR    259    302   16.6\n25  57              JAIPUR    481    441   -8.3\n26  58          JAMSHEDPUR    105    108    2.9\n27  59             JODHPUR    118    145   22.9\n28  60              KANNUR    156    148   -5.1\n29  61              KANPUR    480    492    2.5\n30  62               KOCHI    179    222   24.0\n31  63             KOLKATA    162    181   11.7\n32  64              KOLLAM    393    457   16.3\n33  65                KOTA    114    136   19.3\n34  66           KOZHIKODE    253    258    2.0\n35  67             LUCKNOW    263    254   -3.4\n36  68            LUDHIANA    194    254   30.9\n37  69             MADURAI    295    345   16.9\n38  70          MALAPPURAM    125    101  -19.2\n39  71              MEERUT      6     38  533.3\n40  72              MUMBAI   1174   1229    4.7\n41  73              NAGPUR    680    636   -6.5\n42  74               NASIK    198    366   84.8\n43  75               PATNA     77     92   19.5\n44  76                PUNE    639    719   12.5\n45  77              RAIPUR    308    332    7.8\n46  78              RAJKOT    449    416   -7.3\n47  79              RANCHI    234     57  -75.6\n48  80            SRINAGAR     12      2  -83.3\n49  81               SURAT    816    795   -2.6\n50  82  THIRUVANANTHAPURAM    319    331    3.8\n51  83            THRISSUR    359    405   12.8\n52  84     TIRUCHIRAPPALLI    193    188   -2.6\n53  85            VADODARA    183    218   19.1\n54  86            VARANASI     27     49   81.5\n55  87         VASAI VIRAR    281    254   -9.6\n56  88          VIJAYAWADA    286    267   -6.6\n57  89      VISHAKHAPATNAM    290    280   -3.4\n58          TOTAL (CITIES)  21408  22390    4.6\n\n"
     ]
    }
   ],
   "source": [
    "# Incase we're intersted in seeing the scraped tables at this point.\n",
    "# Commented as it takes too much screen space\n",
    "# Run if you want\n",
    "printnAllTables(tables)"
   ]
  },
  {
   "cell_type": "code",
   "execution_count": 12,
   "metadata": {},
   "outputs": [],
   "source": [
    "def set_Column(df, city):\n",
    "    column_list = [\n",
    "        (\"Sl. No.\",''),\n",
    "        (\"State/UT\" if (not city) else \"City\",''), \n",
    "        ('Number of Suicides','2018'),\n",
    "        ('Number of Suicides','2019'),\n",
    "        ('Percentage Variation in 2019 over 2018','')\n",
    "    ]\n",
    "    df.columns = pd.MultiIndex.from_tuples(column_list)"
   ]
  },
  {
   "cell_type": "code",
   "execution_count": 13,
   "metadata": {},
   "outputs": [],
   "source": [
    "for i in range(len(tables)):\n",
    "    city = i==1\n",
    "    set_Column(df=tables[i].df, city=city)\n",
    "    # tables[i].df.set_index([\"Sl. No.\",\"State/UT\" if (not city) else \"City\"],inplace=True)"
   ]
  },
  {
   "cell_type": "code",
   "execution_count": 14,
   "metadata": {},
   "outputs": [],
   "source": [
    "# Incase we're intersted in seeing the scraped tables at this point.\n",
    "# Commented as it takes too much screen space\n",
    "# Run if you want\n",
    "# printnAllTables(tables)\n",
    "\n",
    "# OR Print a simgle one according to your choice\n",
    "# tables[23].df"
   ]
  },
  {
   "cell_type": "code",
   "execution_count": 15,
   "metadata": {},
   "outputs": [],
   "source": [
    "# Convert List of tables to list of DataFrames\n",
    "DataFrames = [each.df.copy() for each in tables]\n",
    "# Concat all the tables one after the other, as they all have the same indexes.\n",
    "final = pd.concat(DataFrames)"
   ]
  },
  {
   "cell_type": "code",
   "execution_count": 16,
   "metadata": {},
   "outputs": [],
   "source": [
    "# Reset Index before saving file, for better formatting in RAW CSV\n",
    "tables[0].df.to_csv(\"Incidence of Suicides during 2018 and 2019 and Their Percentage Variation (StateUT-wise) .csv\",index=False)\n",
    "tables[1].df.to_csv(\"Incidence of Suicides during 2018 and 2019 and Their Percentage Variation (City-wise) .csv\",index=False)"
   ]
  }
 ],
 "metadata": {
  "kernelspec": {
   "display_name": "Python 3",
   "language": "python",
   "name": "python3"
  },
  "language_info": {
   "codemirror_mode": {
    "name": "ipython",
    "version": 3
   },
   "file_extension": ".py",
   "mimetype": "text/x-python",
   "name": "python",
   "nbconvert_exporter": "python",
   "pygments_lexer": "ipython3",
   "version": "3.8.2-final"
  }
 },
 "nbformat": 4,
 "nbformat_minor": 4
}
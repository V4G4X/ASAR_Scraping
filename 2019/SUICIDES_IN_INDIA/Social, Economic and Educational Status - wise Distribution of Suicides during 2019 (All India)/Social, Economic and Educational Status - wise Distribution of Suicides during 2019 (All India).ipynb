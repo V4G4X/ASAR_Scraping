{
 "cells": [
  {
   "cell_type": "code",
   "execution_count": 1,
   "metadata": {},
   "outputs": [],
   "source": [
    "import wget\n",
    "import ssl\n",
    "import os\n",
    "ssl._create_default_https_context = ssl._create_unverified_context"
   ]
  },
  {
   "cell_type": "code",
   "execution_count": 2,
   "metadata": {},
   "outputs": [],
   "source": [
    "# Enter NCRB Individual PDF url\n",
    "pdf_url = 'https://ncrb.gov.in/sites/default/files/adsi_reports_previous_year/Table-2.8_2019_0.pdf'\n",
    "fileName = pdf_url[67:]\n",
    "try:\n",
    "    #Delete the file to redownload it\n",
    "    os.remove(fileName)\n",
    "except FileNotFoundError as e:\n",
    "    #Ignore in case FileNotFound Error occurs\n",
    "    pass\n",
    "# Download report\n",
    "fileName = wget.download(pdf_url,fileName)"
   ]
  },
  {
   "cell_type": "code",
   "execution_count": 3,
   "metadata": {},
   "outputs": [],
   "source": [
    "import numpy as np\n",
    "import pandas as pd\n",
    "import camelot"
   ]
  },
  {
   "cell_type": "code",
   "execution_count": 4,
   "metadata": {},
   "outputs": [
    {
     "output_type": "execute_result",
     "data": {
      "text/plain": [
       "'Table-2.8_2019_0.pdf'"
      ]
     },
     "metadata": {},
     "execution_count": 4
    }
   ],
   "source": [
    "fileName"
   ]
  },
  {
   "cell_type": "code",
   "execution_count": 5,
   "metadata": {},
   "outputs": [],
   "source": [
    "table1 = camelot.read_pdf(fileName,\n",
    "                          flavor='stream',\n",
    "                          table_areas=[\n",
    "                              \"79.84090468497578,696.809378436893,543.9762843295639,569.831149543689\"\n",
    "                              ],\n",
    "                          columns=[\n",
    "                              \"102.92743134087239,231.82720516962846,270.3047495961228,330.9068820678514,379.00381260096935,433.8343134087238\"\n",
    "                              ],\n",
    "                          split_text=True,\n",
    "                          pages=\"all\"\n",
    "                         )"
   ]
  },
  {
   "cell_type": "code",
   "execution_count": 6,
   "metadata": {},
   "outputs": [],
   "source": [
    "table2 = camelot.read_pdf(fileName,\n",
    "                          flavor='stream',\n",
    "                          table_areas=[\n",
    "                              \"74.5502423263328,486.1409532277137,543.0143457189015,388.98336899882275\"\n",
    "                              ],\n",
    "                          columns=[\n",
    "                              \"106.77518578352182,263.5711793214863,311.6681098546042,372.27024232633283,410.7477867528272,461.7305331179322\"\n",
    "                              ],\n",
    "                              row_tol=15,\n",
    "                              split_text=True,\n",
    "                              strip_text='`\\n',\n",
    "                              pages=\"all\"\n",
    "                        )"
   ]
  },
  {
   "cell_type": "code",
   "execution_count": 7,
   "metadata": {},
   "outputs": [],
   "source": [
    "table3 = camelot.read_pdf(fileName,\n",
    "                          flavor='stream',\n",
    "                          table_areas=[\n",
    "                              \"73.58830371567045,306.25512896234136,541.0904684975768,129.255173535451\"\n",
    "                              ],\n",
    "                          columns=[\n",
    "                              \"105.81324717285946,253.9517932148627,296.2770920840065,347.2598384491115,385.7373828756059,444.41563812600975\"\n",
    "                              ],\n",
    "                              row_tol=15,\n",
    "                              split_text=True,\n",
    "                              strip_text='`\\n',\n",
    "                              pages=\"all\"\n",
    "                        )"
   ]
  },
  {
   "cell_type": "code",
   "execution_count": 8,
   "metadata": {},
   "outputs": [
    {
     "output_type": "execute_result",
     "data": {
      "text/plain": [
       "    0                                                  1      2      3   4  \\\n",
       "0   1                                       No Education  11582   6004   2   \n",
       "1   2                           Primary (upto class–5th)  15932   6712   5   \n",
       "2   3                            Middle (upto class–8th)  19492   7829   2   \n",
       "3   4           Matriculate/ Secondary (upto class–10th)  23340   9082   5   \n",
       "4   5  Hr. Secondary/ Intermediate/ Pre-University (u...  13825   5681   2   \n",
       "5   6                          Diploma/ Certificate/ ITI   1348    360   0   \n",
       "6   7                                 Graduate and above   3726   1458   1   \n",
       "7   8                           Professionals (MBA etc.)    242     93   0   \n",
       "8   9                                   Status Not Known   8126   4274   0   \n",
       "9  10                                              Total  97613  41493  17   \n",
       "\n",
       "        5      6  \n",
       "0   17588   12.6  \n",
       "1   22649   16.3  \n",
       "2   27323   19.6  \n",
       "3   32427   23.3  \n",
       "4   19508   14.0  \n",
       "5    1708    1.2  \n",
       "6    5185    3.7  \n",
       "7     335    0.2  \n",
       "8   12400    8.9  \n",
       "9  139123  100.0  "
      ],
      "text/html": "<div>\n<style scoped>\n    .dataframe tbody tr th:only-of-type {\n        vertical-align: middle;\n    }\n\n    .dataframe tbody tr th {\n        vertical-align: top;\n    }\n\n    .dataframe thead th {\n        text-align: right;\n    }\n</style>\n<table border=\"1\" class=\"dataframe\">\n  <thead>\n    <tr style=\"text-align: right;\">\n      <th></th>\n      <th>0</th>\n      <th>1</th>\n      <th>2</th>\n      <th>3</th>\n      <th>4</th>\n      <th>5</th>\n      <th>6</th>\n    </tr>\n  </thead>\n  <tbody>\n    <tr>\n      <th>0</th>\n      <td>1</td>\n      <td>No Education</td>\n      <td>11582</td>\n      <td>6004</td>\n      <td>2</td>\n      <td>17588</td>\n      <td>12.6</td>\n    </tr>\n    <tr>\n      <th>1</th>\n      <td>2</td>\n      <td>Primary (upto class–5th)</td>\n      <td>15932</td>\n      <td>6712</td>\n      <td>5</td>\n      <td>22649</td>\n      <td>16.3</td>\n    </tr>\n    <tr>\n      <th>2</th>\n      <td>3</td>\n      <td>Middle (upto class–8th)</td>\n      <td>19492</td>\n      <td>7829</td>\n      <td>2</td>\n      <td>27323</td>\n      <td>19.6</td>\n    </tr>\n    <tr>\n      <th>3</th>\n      <td>4</td>\n      <td>Matriculate/ Secondary (upto class–10th)</td>\n      <td>23340</td>\n      <td>9082</td>\n      <td>5</td>\n      <td>32427</td>\n      <td>23.3</td>\n    </tr>\n    <tr>\n      <th>4</th>\n      <td>5</td>\n      <td>Hr. Secondary/ Intermediate/ Pre-University (u...</td>\n      <td>13825</td>\n      <td>5681</td>\n      <td>2</td>\n      <td>19508</td>\n      <td>14.0</td>\n    </tr>\n    <tr>\n      <th>5</th>\n      <td>6</td>\n      <td>Diploma/ Certificate/ ITI</td>\n      <td>1348</td>\n      <td>360</td>\n      <td>0</td>\n      <td>1708</td>\n      <td>1.2</td>\n    </tr>\n    <tr>\n      <th>6</th>\n      <td>7</td>\n      <td>Graduate and above</td>\n      <td>3726</td>\n      <td>1458</td>\n      <td>1</td>\n      <td>5185</td>\n      <td>3.7</td>\n    </tr>\n    <tr>\n      <th>7</th>\n      <td>8</td>\n      <td>Professionals (MBA etc.)</td>\n      <td>242</td>\n      <td>93</td>\n      <td>0</td>\n      <td>335</td>\n      <td>0.2</td>\n    </tr>\n    <tr>\n      <th>8</th>\n      <td>9</td>\n      <td>Status Not Known</td>\n      <td>8126</td>\n      <td>4274</td>\n      <td>0</td>\n      <td>12400</td>\n      <td>8.9</td>\n    </tr>\n    <tr>\n      <th>9</th>\n      <td>10</td>\n      <td>Total</td>\n      <td>97613</td>\n      <td>41493</td>\n      <td>17</td>\n      <td>139123</td>\n      <td>100.0</td>\n    </tr>\n  </tbody>\n</table>\n</div>"
     },
     "metadata": {},
     "execution_count": 8
    }
   ],
   "source": [
    "table3[0].df"
   ]
  },
  {
   "cell_type": "code",
   "execution_count": 9,
   "metadata": {},
   "outputs": [],
   "source": [
    "tables = [\n",
    "    table1[0].df.copy(),\n",
    "    table2[0].df.copy(),\n",
    "    table3[0].df.copy()\n",
    "]"
   ]
  },
  {
   "cell_type": "code",
   "execution_count": 10,
   "metadata": {},
   "outputs": [],
   "source": [
    "def set_columns(df, title):\n",
    "    column = ['Sl. No.',title,'Male','Female','Trans-gender','Total','Percentage Share']\n",
    "    df.columns = column"
   ]
  },
  {
   "cell_type": "code",
   "execution_count": 11,
   "metadata": {},
   "outputs": [],
   "source": [
    "titles = [\n",
    "    'Marital Status',\n",
    "    'Economic Status',\n",
    "    'Educational Status'\n",
    "]\n",
    "for index, df in enumerate(tables):\n",
    "    set_columns(df=df,title=titles[index])"
   ]
  },
  {
   "cell_type": "code",
   "execution_count": 12,
   "metadata": {},
   "outputs": [
    {
     "output_type": "execute_result",
     "data": {
      "text/plain": [
       "  Sl. No.    Marital Status   Male Female Trans-gender   Total  \\\n",
       "0       1        Un-Married  21638  11202           12   32852   \n",
       "1       2           Married  66815  25941            1   92757   \n",
       "2       3  Widowed/ Widower   1378   1094            0    2472   \n",
       "3       4          Divorcee    595    402            0     997   \n",
       "4       5         Separated    672    290            1     963   \n",
       "5       6            Others   1918    700            2    2620   \n",
       "6       7  Status not known   4597   1864            1    6462   \n",
       "7       8             Total  97613  41493           17  139123   \n",
       "\n",
       "  Percentage Share  \n",
       "0             23.6  \n",
       "1             66.7  \n",
       "2              1.8  \n",
       "3              0.7  \n",
       "4              0.7  \n",
       "5              1.9  \n",
       "6              4.6  \n",
       "7            100.0  "
      ],
      "text/html": "<div>\n<style scoped>\n    .dataframe tbody tr th:only-of-type {\n        vertical-align: middle;\n    }\n\n    .dataframe tbody tr th {\n        vertical-align: top;\n    }\n\n    .dataframe thead th {\n        text-align: right;\n    }\n</style>\n<table border=\"1\" class=\"dataframe\">\n  <thead>\n    <tr style=\"text-align: right;\">\n      <th></th>\n      <th>Sl. No.</th>\n      <th>Marital Status</th>\n      <th>Male</th>\n      <th>Female</th>\n      <th>Trans-gender</th>\n      <th>Total</th>\n      <th>Percentage Share</th>\n    </tr>\n  </thead>\n  <tbody>\n    <tr>\n      <th>0</th>\n      <td>1</td>\n      <td>Un-Married</td>\n      <td>21638</td>\n      <td>11202</td>\n      <td>12</td>\n      <td>32852</td>\n      <td>23.6</td>\n    </tr>\n    <tr>\n      <th>1</th>\n      <td>2</td>\n      <td>Married</td>\n      <td>66815</td>\n      <td>25941</td>\n      <td>1</td>\n      <td>92757</td>\n      <td>66.7</td>\n    </tr>\n    <tr>\n      <th>2</th>\n      <td>3</td>\n      <td>Widowed/ Widower</td>\n      <td>1378</td>\n      <td>1094</td>\n      <td>0</td>\n      <td>2472</td>\n      <td>1.8</td>\n    </tr>\n    <tr>\n      <th>3</th>\n      <td>4</td>\n      <td>Divorcee</td>\n      <td>595</td>\n      <td>402</td>\n      <td>0</td>\n      <td>997</td>\n      <td>0.7</td>\n    </tr>\n    <tr>\n      <th>4</th>\n      <td>5</td>\n      <td>Separated</td>\n      <td>672</td>\n      <td>290</td>\n      <td>1</td>\n      <td>963</td>\n      <td>0.7</td>\n    </tr>\n    <tr>\n      <th>5</th>\n      <td>6</td>\n      <td>Others</td>\n      <td>1918</td>\n      <td>700</td>\n      <td>2</td>\n      <td>2620</td>\n      <td>1.9</td>\n    </tr>\n    <tr>\n      <th>6</th>\n      <td>7</td>\n      <td>Status not known</td>\n      <td>4597</td>\n      <td>1864</td>\n      <td>1</td>\n      <td>6462</td>\n      <td>4.6</td>\n    </tr>\n    <tr>\n      <th>7</th>\n      <td>8</td>\n      <td>Total</td>\n      <td>97613</td>\n      <td>41493</td>\n      <td>17</td>\n      <td>139123</td>\n      <td>100.0</td>\n    </tr>\n  </tbody>\n</table>\n</div>"
     },
     "metadata": {},
     "execution_count": 12
    }
   ],
   "source": [
    "# Incase we're intersted in seeing the scraped tables at this point.\n",
    "# Commented as it takes too much screen space\n",
    "# Run if you want\n",
    "# printnAllTables(tables)\n",
    "\n",
    "# OR Print a simgle one according to your choice\n",
    "tables[0]"
   ]
  },
  {
   "cell_type": "code",
   "execution_count": 13,
   "metadata": {},
   "outputs": [],
   "source": [
    "# Reset Index before saving file, for better formatting in RAW CSV\n",
    "for index, each in enumerate(tables):\n",
    "    each.to_csv(\"Social, Economic and Educational Status - wise Distribution of Suicides during 2019 (All India) (%s).csv\"%(titles[index]),index=False)"
   ]
  }
 ],
 "metadata": {
  "kernelspec": {
   "display_name": "Python 3",
   "language": "python",
   "name": "python3"
  },
  "language_info": {
   "codemirror_mode": {
    "name": "ipython",
    "version": 3
   },
   "file_extension": ".py",
   "mimetype": "text/x-python",
   "name": "python",
   "nbconvert_exporter": "python",
   "pygments_lexer": "ipython3",
   "version": "3.8.2-final"
  }
 },
 "nbformat": 4,
 "nbformat_minor": 4
}
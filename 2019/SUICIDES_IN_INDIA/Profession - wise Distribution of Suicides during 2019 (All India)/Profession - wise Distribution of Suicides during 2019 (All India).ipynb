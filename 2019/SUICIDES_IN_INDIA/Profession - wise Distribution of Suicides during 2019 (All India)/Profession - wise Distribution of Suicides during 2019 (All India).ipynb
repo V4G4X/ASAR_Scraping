{
 "cells": [
  {
   "cell_type": "code",
   "execution_count": 1,
   "metadata": {},
   "outputs": [],
   "source": [
    "import wget\n",
    "import ssl\n",
    "import os\n",
    "ssl._create_default_https_context = ssl._create_unverified_context"
   ]
  },
  {
   "cell_type": "code",
   "execution_count": 2,
   "metadata": {},
   "outputs": [],
   "source": [
    "# Enter NCRB Individual PDF url\n",
    "pdf_url = 'https://ncrb.gov.in/sites/default/files/adsi_reports_previous_year/Table-2.6_2019_0.pdf'\n",
    "fileName = pdf_url[67:]\n",
    "try:\n",
    "    #Delete the file to redownload it\n",
    "    os.remove(fileName)\n",
    "except FileNotFoundError as e:\n",
    "    #Ignore in case FileNotFound Error occurs\n",
    "    pass\n",
    "# Download report\n",
    "fileName = wget.download(pdf_url,fileName)"
   ]
  },
  {
   "cell_type": "code",
   "execution_count": 3,
   "metadata": {},
   "outputs": [],
   "source": [
    "import numpy as np\n",
    "import pandas as pd\n",
    "import camelot"
   ]
  },
  {
   "cell_type": "code",
   "execution_count": 4,
   "metadata": {},
   "outputs": [
    {
     "output_type": "execute_result",
     "data": {
      "text/plain": [
       "'Table-2.6_2019_0.pdf'"
      ]
     },
     "metadata": {},
     "execution_count": 4
    }
   ],
   "source": [
    "fileName"
   ]
  },
  {
   "cell_type": "code",
   "execution_count": 5,
   "metadata": {},
   "outputs": [],
   "source": [
    "tables = camelot.read_pdf(fileName,\n",
    "                          flavor='stream',\n",
    "                          table_areas=[\n",
    "                              \"58.82714054927302,690.5591350927103,578.8788368336026,135.89712897573884\"\n",
    "                              ],\n",
    "                          columns=[\n",
    "                              \"86.01615508885298,272.8788368336026,324.2907915993538,380.64620355411955,437.0016155088853,503.2439418416801\"\n",
    "                              ],\n",
    "                          split_text=True,\n",
    "                          row_tol=13,\n",
    "                          strip_text='\\n',\n",
    "                          pages=\"all\"\n",
    "                         )"
   ]
  },
  {
   "cell_type": "code",
   "execution_count": 6,
   "metadata": {},
   "outputs": [
    {
     "output_type": "execute_result",
     "data": {
      "text/plain": [
       "<TableList n=1>"
      ]
     },
     "metadata": {},
     "execution_count": 6
    }
   ],
   "source": [
    "tables"
   ]
  },
  {
   "cell_type": "code",
   "execution_count": 7,
   "metadata": {},
   "outputs": [],
   "source": [
    "def printnAllTables(tables):\n",
    "    for i in range(len(tables)):\n",
    "        print(\"Page No: \",(i+1))\n",
    "        print(tables[i].df)\n",
    "        print()"
   ]
  },
  {
   "cell_type": "code",
   "execution_count": 8,
   "metadata": {},
   "outputs": [
    {
     "output_type": "stream",
     "name": "stdout",
     "text": [
      "Page No:  1\n     0                                                  1      2      3   4  \\\n0    1                                         House wife      0  21359   0   \n1    2             Professionals/Salaried Persons (Total)  11222   1503   0   \n2                         2.1 Government Servants (Total)   1428    256   0   \n3                         2.1.1 Central/UT Govt. Servants    254     53   0   \n4                             2.1.2 State  Govt. Servants    835    133   0   \n5                         2.1.3 Other Statutory Body/etc.    339     70   0   \n6                          2.2 Private Sector Enterprises   7799    931   0   \n7                           2.3 Public Sector Undertaking   1995    316   0   \n8    3                                           Students   5562   4772   1   \n9    4                                 Unemployed Persons  11599   2416   4   \n10   5                      Self-employed Persons (Total)  14319   1777   2   \n11                                   5.1 Business (Total)   8477    574   1   \n12                                           5.1.1 Vendor   3066    285   0   \n13                                        5.1.2 Tradesmen   2798    107   1   \n14                                   5.1.3 Other Business   2613    182   0   \n15                        5.2 Other Self-employed Persons   5842   1203   1   \n16   6                  Persons Engaged in Farming Sector   9312    969   0   \n17                                6.1 Farmers/Cultivators   5563    394   0   \n18      6.1.1  who cultivate their own land with or wi...   4801    328   0   \n19                                 agricultural labourers                     \n20      6.1.2  who cultivate on leased land/work on le...                     \n21      by different nomenclature) with or without ass...    762     66   0   \n22                                              labourers                     \n23                             6.2 Agricultural Labourers   3749    575   0   \n24   7                                  Daily Wage Earner  29092   3467   4   \n25   8                                    Retired Persons   1177    125   0   \n26   9                                      Other Persons  15330   5105   6   \n27  10                                              Total  97613  41493  17   \n\n         5      6  \n0    21359   15.4  \n1    12725    9.1  \n2     1684    1.2  \n3      307    0.2  \n4      968    0.7  \n5      409    0.3  \n6     8730    6.3  \n7     2311    1.7  \n8    10335    7.4  \n9    14019   10.1  \n10   16098   11.6  \n11    9052    6.5  \n12    3351    2.4  \n13    2906    2.1  \n14    2795    2.0  \n15    7046    5.1  \n16   10281    7.4  \n17    5957    4.3  \n18    5129    3.7  \n19                 \n20                 \n21     828    0.6  \n22                 \n23    4324    3.1  \n24   32563   23.4  \n25    1302    0.9  \n26   20441   14.7  \n27  139123  100.0  \n\n"
     ]
    }
   ],
   "source": [
    "# Incase we're intersted in seeing the original scraped tables.\n",
    "# Commented as it takes too much screen space\n",
    "# Run if you want\n",
    "printnAllTables(tables)"
   ]
  },
  {
   "cell_type": "code",
   "execution_count": 9,
   "metadata": {},
   "outputs": [],
   "source": [
    "# Removes Garbage Rows that may have been detected Before the 'STATES' row\n",
    "# AND\n",
    "# Removes Garbage Rows that may have been detected after the 'TOTAL (ALL INDIA)' row\n",
    "def clean(table):\n",
    "    while(table.df.iloc[0,1] != 'STATES'):\n",
    "        table.df = table.df.iloc[1:]\n",
    "    while(table.df.iloc[-1,1] != 'TOTAL (ALL INDIA)'):\n",
    "        table.df = table.df.iloc[:-1]\n",
    "    # The Return line is unnecessary due to all changes being reflected in the original references\n",
    "    return table"
   ]
  },
  {
   "cell_type": "code",
   "execution_count": 10,
   "metadata": {},
   "outputs": [],
   "source": [
    "def mergeRows(df, strIndex, stpIndex):\n",
    "    DF = df.loc[strIndex:stpIndex]\n",
    "    df = DF.T\n",
    "    l = []\n",
    "    for index, each in df.iterrows():\n",
    "        output = ''\n",
    "        for ind, cell in each.iteritems():\n",
    "            output += (str(cell) + ' ')\n",
    "#         if(output == ''):\n",
    "#             continue\n",
    "        l.append(output.strip())\n",
    "    l = pd.Series(l,name=str(strIndex))\n",
    "    DF.loc[strIndex] = l"
   ]
  },
  {
   "cell_type": "code",
   "execution_count": 11,
   "metadata": {},
   "outputs": [],
   "source": [
    "mergeRows(tables[0].df,18,19)\n",
    "mergeRows(tables[0].df,20,22)\n",
    "tables[0].df.drop(index=19, inplace=True)\n",
    "tables[0].df.drop(index=[21,22], inplace=True)"
   ]
  },
  {
   "cell_type": "code",
   "execution_count": 12,
   "metadata": {},
   "outputs": [
    {
     "output_type": "execute_result",
     "data": {
      "text/plain": [
       "     0                                                  1      2      3   4  \\\n",
       "0    1                                         House wife      0  21359   0   \n",
       "1    2             Professionals/Salaried Persons (Total)  11222   1503   0   \n",
       "2                         2.1 Government Servants (Total)   1428    256   0   \n",
       "3                         2.1.1 Central/UT Govt. Servants    254     53   0   \n",
       "4                             2.1.2 State  Govt. Servants    835    133   0   \n",
       "5                         2.1.3 Other Statutory Body/etc.    339     70   0   \n",
       "6                          2.2 Private Sector Enterprises   7799    931   0   \n",
       "7                           2.3 Public Sector Undertaking   1995    316   0   \n",
       "8    3                                           Students   5562   4772   1   \n",
       "9    4                                 Unemployed Persons  11599   2416   4   \n",
       "10   5                      Self-employed Persons (Total)  14319   1777   2   \n",
       "11                                   5.1 Business (Total)   8477    574   1   \n",
       "12                                           5.1.1 Vendor   3066    285   0   \n",
       "13                                        5.1.2 Tradesmen   2798    107   1   \n",
       "14                                   5.1.3 Other Business   2613    182   0   \n",
       "15                        5.2 Other Self-employed Persons   5842   1203   1   \n",
       "16   6                  Persons Engaged in Farming Sector   9312    969   0   \n",
       "17                                6.1 Farmers/Cultivators   5563    394   0   \n",
       "18      6.1.1  who cultivate their own land with or wi...   4801    328   0   \n",
       "19      6.1.2  who cultivate on leased land/work on le...    762     66   0   \n",
       "20                             6.2 Agricultural Labourers   3749    575   0   \n",
       "21   7                                  Daily Wage Earner  29092   3467   4   \n",
       "22   8                                    Retired Persons   1177    125   0   \n",
       "23   9                                      Other Persons  15330   5105   6   \n",
       "24  10                                              Total  97613  41493  17   \n",
       "\n",
       "         5      6  \n",
       "0    21359   15.4  \n",
       "1    12725    9.1  \n",
       "2     1684    1.2  \n",
       "3      307    0.2  \n",
       "4      968    0.7  \n",
       "5      409    0.3  \n",
       "6     8730    6.3  \n",
       "7     2311    1.7  \n",
       "8    10335    7.4  \n",
       "9    14019   10.1  \n",
       "10   16098   11.6  \n",
       "11    9052    6.5  \n",
       "12    3351    2.4  \n",
       "13    2906    2.1  \n",
       "14    2795    2.0  \n",
       "15    7046    5.1  \n",
       "16   10281    7.4  \n",
       "17    5957    4.3  \n",
       "18    5129    3.7  \n",
       "19     828    0.6  \n",
       "20    4324    3.1  \n",
       "21   32563   23.4  \n",
       "22    1302    0.9  \n",
       "23   20441   14.7  \n",
       "24  139123  100.0  "
      ],
      "text/html": "<div>\n<style scoped>\n    .dataframe tbody tr th:only-of-type {\n        vertical-align: middle;\n    }\n\n    .dataframe tbody tr th {\n        vertical-align: top;\n    }\n\n    .dataframe thead th {\n        text-align: right;\n    }\n</style>\n<table border=\"1\" class=\"dataframe\">\n  <thead>\n    <tr style=\"text-align: right;\">\n      <th></th>\n      <th>0</th>\n      <th>1</th>\n      <th>2</th>\n      <th>3</th>\n      <th>4</th>\n      <th>5</th>\n      <th>6</th>\n    </tr>\n  </thead>\n  <tbody>\n    <tr>\n      <th>0</th>\n      <td>1</td>\n      <td>House wife</td>\n      <td>0</td>\n      <td>21359</td>\n      <td>0</td>\n      <td>21359</td>\n      <td>15.4</td>\n    </tr>\n    <tr>\n      <th>1</th>\n      <td>2</td>\n      <td>Professionals/Salaried Persons (Total)</td>\n      <td>11222</td>\n      <td>1503</td>\n      <td>0</td>\n      <td>12725</td>\n      <td>9.1</td>\n    </tr>\n    <tr>\n      <th>2</th>\n      <td></td>\n      <td>2.1 Government Servants (Total)</td>\n      <td>1428</td>\n      <td>256</td>\n      <td>0</td>\n      <td>1684</td>\n      <td>1.2</td>\n    </tr>\n    <tr>\n      <th>3</th>\n      <td></td>\n      <td>2.1.1 Central/UT Govt. Servants</td>\n      <td>254</td>\n      <td>53</td>\n      <td>0</td>\n      <td>307</td>\n      <td>0.2</td>\n    </tr>\n    <tr>\n      <th>4</th>\n      <td></td>\n      <td>2.1.2 State  Govt. Servants</td>\n      <td>835</td>\n      <td>133</td>\n      <td>0</td>\n      <td>968</td>\n      <td>0.7</td>\n    </tr>\n    <tr>\n      <th>5</th>\n      <td></td>\n      <td>2.1.3 Other Statutory Body/etc.</td>\n      <td>339</td>\n      <td>70</td>\n      <td>0</td>\n      <td>409</td>\n      <td>0.3</td>\n    </tr>\n    <tr>\n      <th>6</th>\n      <td></td>\n      <td>2.2 Private Sector Enterprises</td>\n      <td>7799</td>\n      <td>931</td>\n      <td>0</td>\n      <td>8730</td>\n      <td>6.3</td>\n    </tr>\n    <tr>\n      <th>7</th>\n      <td></td>\n      <td>2.3 Public Sector Undertaking</td>\n      <td>1995</td>\n      <td>316</td>\n      <td>0</td>\n      <td>2311</td>\n      <td>1.7</td>\n    </tr>\n    <tr>\n      <th>8</th>\n      <td>3</td>\n      <td>Students</td>\n      <td>5562</td>\n      <td>4772</td>\n      <td>1</td>\n      <td>10335</td>\n      <td>7.4</td>\n    </tr>\n    <tr>\n      <th>9</th>\n      <td>4</td>\n      <td>Unemployed Persons</td>\n      <td>11599</td>\n      <td>2416</td>\n      <td>4</td>\n      <td>14019</td>\n      <td>10.1</td>\n    </tr>\n    <tr>\n      <th>10</th>\n      <td>5</td>\n      <td>Self-employed Persons (Total)</td>\n      <td>14319</td>\n      <td>1777</td>\n      <td>2</td>\n      <td>16098</td>\n      <td>11.6</td>\n    </tr>\n    <tr>\n      <th>11</th>\n      <td></td>\n      <td>5.1 Business (Total)</td>\n      <td>8477</td>\n      <td>574</td>\n      <td>1</td>\n      <td>9052</td>\n      <td>6.5</td>\n    </tr>\n    <tr>\n      <th>12</th>\n      <td></td>\n      <td>5.1.1 Vendor</td>\n      <td>3066</td>\n      <td>285</td>\n      <td>0</td>\n      <td>3351</td>\n      <td>2.4</td>\n    </tr>\n    <tr>\n      <th>13</th>\n      <td></td>\n      <td>5.1.2 Tradesmen</td>\n      <td>2798</td>\n      <td>107</td>\n      <td>1</td>\n      <td>2906</td>\n      <td>2.1</td>\n    </tr>\n    <tr>\n      <th>14</th>\n      <td></td>\n      <td>5.1.3 Other Business</td>\n      <td>2613</td>\n      <td>182</td>\n      <td>0</td>\n      <td>2795</td>\n      <td>2.0</td>\n    </tr>\n    <tr>\n      <th>15</th>\n      <td></td>\n      <td>5.2 Other Self-employed Persons</td>\n      <td>5842</td>\n      <td>1203</td>\n      <td>1</td>\n      <td>7046</td>\n      <td>5.1</td>\n    </tr>\n    <tr>\n      <th>16</th>\n      <td>6</td>\n      <td>Persons Engaged in Farming Sector</td>\n      <td>9312</td>\n      <td>969</td>\n      <td>0</td>\n      <td>10281</td>\n      <td>7.4</td>\n    </tr>\n    <tr>\n      <th>17</th>\n      <td></td>\n      <td>6.1 Farmers/Cultivators</td>\n      <td>5563</td>\n      <td>394</td>\n      <td>0</td>\n      <td>5957</td>\n      <td>4.3</td>\n    </tr>\n    <tr>\n      <th>18</th>\n      <td></td>\n      <td>6.1.1  who cultivate their own land with or wi...</td>\n      <td>4801</td>\n      <td>328</td>\n      <td>0</td>\n      <td>5129</td>\n      <td>3.7</td>\n    </tr>\n    <tr>\n      <th>19</th>\n      <td></td>\n      <td>6.1.2  who cultivate on leased land/work on le...</td>\n      <td>762</td>\n      <td>66</td>\n      <td>0</td>\n      <td>828</td>\n      <td>0.6</td>\n    </tr>\n    <tr>\n      <th>20</th>\n      <td></td>\n      <td>6.2 Agricultural Labourers</td>\n      <td>3749</td>\n      <td>575</td>\n      <td>0</td>\n      <td>4324</td>\n      <td>3.1</td>\n    </tr>\n    <tr>\n      <th>21</th>\n      <td>7</td>\n      <td>Daily Wage Earner</td>\n      <td>29092</td>\n      <td>3467</td>\n      <td>4</td>\n      <td>32563</td>\n      <td>23.4</td>\n    </tr>\n    <tr>\n      <th>22</th>\n      <td>8</td>\n      <td>Retired Persons</td>\n      <td>1177</td>\n      <td>125</td>\n      <td>0</td>\n      <td>1302</td>\n      <td>0.9</td>\n    </tr>\n    <tr>\n      <th>23</th>\n      <td>9</td>\n      <td>Other Persons</td>\n      <td>15330</td>\n      <td>5105</td>\n      <td>6</td>\n      <td>20441</td>\n      <td>14.7</td>\n    </tr>\n    <tr>\n      <th>24</th>\n      <td>10</td>\n      <td>Total</td>\n      <td>97613</td>\n      <td>41493</td>\n      <td>17</td>\n      <td>139123</td>\n      <td>100.0</td>\n    </tr>\n  </tbody>\n</table>\n</div>"
     },
     "metadata": {},
     "execution_count": 12
    }
   ],
   "source": [
    "# Reset Indexes\n",
    "tables[0].df.index = range(len(tables[0].df))\n",
    "tables[0].df"
   ]
  },
  {
   "cell_type": "code",
   "execution_count": 13,
   "metadata": {},
   "outputs": [],
   "source": [
    "# Splits the second column into 1st column index and 2nd column test when faulty/required\n",
    "def split_by_first_space(df, strIndex, stpIndex):\n",
    "    df = df.iloc[strIndex:stpIndex+1]\n",
    "    for index, each in df.iterrows():\n",
    "        space = each[1].find(' ')\n",
    "        each[0] = each[1][:space]\n",
    "        each[1] = each[1][space:]"
   ]
  },
  {
   "cell_type": "code",
   "execution_count": 14,
   "metadata": {},
   "outputs": [],
   "source": [
    "split_by_first_space(tables[0].df, 2, 7)\n",
    "split_by_first_space(tables[0].df, 11, 15)\n",
    "split_by_first_space(tables[0].df, 17, 20)"
   ]
  },
  {
   "cell_type": "code",
   "execution_count": 15,
   "metadata": {},
   "outputs": [
    {
     "output_type": "stream",
     "name": "stdout",
     "text": [
      "Page No:  1\n        0                                                  1      2      3  \\\n0       1                                         House wife      0  21359   \n1       2             Professionals/Salaried Persons (Total)  11222   1503   \n2     2.1                        Government Servants (Total)   1428    256   \n3   2.1.1                          Central/UT Govt. Servants    254     53   \n4   2.1.2                              State  Govt. Servants    835    133   \n5   2.1.3                          Other Statutory Body/etc.    339     70   \n6     2.2                         Private Sector Enterprises   7799    931   \n7     2.3                          Public Sector Undertaking   1995    316   \n8       3                                           Students   5562   4772   \n9       4                                 Unemployed Persons  11599   2416   \n10      5                      Self-employed Persons (Total)  14319   1777   \n11    5.1                                   Business (Total)   8477    574   \n12  5.1.1                                             Vendor   3066    285   \n13  5.1.2                                          Tradesmen   2798    107   \n14  5.1.3                                     Other Business   2613    182   \n15    5.2                        Other Self-employed Persons   5842   1203   \n16      6                  Persons Engaged in Farming Sector   9312    969   \n17    6.1                                Farmers/Cultivators   5563    394   \n18  6.1.1    who cultivate their own land with or without...   4801    328   \n19  6.1.2    who cultivate on leased land/work on lease/o...    762     66   \n20    6.2                             Agricultural Labourers   3749    575   \n21      7                                  Daily Wage Earner  29092   3467   \n22      8                                    Retired Persons   1177    125   \n23      9                                      Other Persons  15330   5105   \n24     10                                              Total  97613  41493   \n\n     4       5      6  \n0    0   21359   15.4  \n1    0   12725    9.1  \n2    0    1684    1.2  \n3    0     307    0.2  \n4    0     968    0.7  \n5    0     409    0.3  \n6    0    8730    6.3  \n7    0    2311    1.7  \n8    1   10335    7.4  \n9    4   14019   10.1  \n10   2   16098   11.6  \n11   1    9052    6.5  \n12   0    3351    2.4  \n13   1    2906    2.1  \n14   0    2795    2.0  \n15   1    7046    5.1  \n16   0   10281    7.4  \n17   0    5957    4.3  \n18   0    5129    3.7  \n19   0     828    0.6  \n20   0    4324    3.1  \n21   4   32563   23.4  \n22   0    1302    0.9  \n23   6   20441   14.7  \n24  17  139123  100.0  \n\n"
     ]
    }
   ],
   "source": [
    "# Incase we're intersted in seeing the scraped tables at this point.\n",
    "# Commented as it takes too much screen space\n",
    "# Run if you want\n",
    "printnAllTables(tables)"
   ]
  },
  {
   "cell_type": "code",
   "execution_count": 16,
   "metadata": {},
   "outputs": [],
   "source": [
    "def set_Column(df):\n",
    "    column_list = [\n",
    "        (\"Sl. No.\"),\n",
    "        (\"Profession\"),\n",
    "        (\"Male\"),\n",
    "        (\"Female\"),\n",
    "        (\"Transgender\"),\n",
    "        (\"Total\"),\n",
    "        (\"Percentage Share\"),\n",
    "        \n",
    "    ]\n",
    "    df.columns = column_list"
   ]
  },
  {
   "cell_type": "code",
   "execution_count": 17,
   "metadata": {},
   "outputs": [],
   "source": [
    "for i in range(len(tables)):\n",
    "    set_Column(tables[i].df)"
   ]
  },
  {
   "cell_type": "code",
   "execution_count": 18,
   "metadata": {},
   "outputs": [
    {
     "output_type": "execute_result",
     "data": {
      "text/plain": [
       "   Sl. No.                                         Profession   Male Female  \\\n",
       "0        1                                         House wife      0  21359   \n",
       "1        2             Professionals/Salaried Persons (Total)  11222   1503   \n",
       "2      2.1                        Government Servants (Total)   1428    256   \n",
       "3    2.1.1                          Central/UT Govt. Servants    254     53   \n",
       "4    2.1.2                              State  Govt. Servants    835    133   \n",
       "5    2.1.3                          Other Statutory Body/etc.    339     70   \n",
       "6      2.2                         Private Sector Enterprises   7799    931   \n",
       "7      2.3                          Public Sector Undertaking   1995    316   \n",
       "8        3                                           Students   5562   4772   \n",
       "9        4                                 Unemployed Persons  11599   2416   \n",
       "10       5                      Self-employed Persons (Total)  14319   1777   \n",
       "11     5.1                                   Business (Total)   8477    574   \n",
       "12   5.1.1                                             Vendor   3066    285   \n",
       "13   5.1.2                                          Tradesmen   2798    107   \n",
       "14   5.1.3                                     Other Business   2613    182   \n",
       "15     5.2                        Other Self-employed Persons   5842   1203   \n",
       "16       6                  Persons Engaged in Farming Sector   9312    969   \n",
       "17     6.1                                Farmers/Cultivators   5563    394   \n",
       "18   6.1.1    who cultivate their own land with or without...   4801    328   \n",
       "19   6.1.2    who cultivate on leased land/work on lease/o...    762     66   \n",
       "20     6.2                             Agricultural Labourers   3749    575   \n",
       "21       7                                  Daily Wage Earner  29092   3467   \n",
       "22       8                                    Retired Persons   1177    125   \n",
       "23       9                                      Other Persons  15330   5105   \n",
       "24      10                                              Total  97613  41493   \n",
       "\n",
       "   Transgender   Total Percentage Share  \n",
       "0            0   21359             15.4  \n",
       "1            0   12725              9.1  \n",
       "2            0    1684              1.2  \n",
       "3            0     307              0.2  \n",
       "4            0     968              0.7  \n",
       "5            0     409              0.3  \n",
       "6            0    8730              6.3  \n",
       "7            0    2311              1.7  \n",
       "8            1   10335              7.4  \n",
       "9            4   14019             10.1  \n",
       "10           2   16098             11.6  \n",
       "11           1    9052              6.5  \n",
       "12           0    3351              2.4  \n",
       "13           1    2906              2.1  \n",
       "14           0    2795              2.0  \n",
       "15           1    7046              5.1  \n",
       "16           0   10281              7.4  \n",
       "17           0    5957              4.3  \n",
       "18           0    5129              3.7  \n",
       "19           0     828              0.6  \n",
       "20           0    4324              3.1  \n",
       "21           4   32563             23.4  \n",
       "22           0    1302              0.9  \n",
       "23           6   20441             14.7  \n",
       "24          17  139123            100.0  "
      ],
      "text/html": "<div>\n<style scoped>\n    .dataframe tbody tr th:only-of-type {\n        vertical-align: middle;\n    }\n\n    .dataframe tbody tr th {\n        vertical-align: top;\n    }\n\n    .dataframe thead th {\n        text-align: right;\n    }\n</style>\n<table border=\"1\" class=\"dataframe\">\n  <thead>\n    <tr style=\"text-align: right;\">\n      <th></th>\n      <th>Sl. No.</th>\n      <th>Profession</th>\n      <th>Male</th>\n      <th>Female</th>\n      <th>Transgender</th>\n      <th>Total</th>\n      <th>Percentage Share</th>\n    </tr>\n  </thead>\n  <tbody>\n    <tr>\n      <th>0</th>\n      <td>1</td>\n      <td>House wife</td>\n      <td>0</td>\n      <td>21359</td>\n      <td>0</td>\n      <td>21359</td>\n      <td>15.4</td>\n    </tr>\n    <tr>\n      <th>1</th>\n      <td>2</td>\n      <td>Professionals/Salaried Persons (Total)</td>\n      <td>11222</td>\n      <td>1503</td>\n      <td>0</td>\n      <td>12725</td>\n      <td>9.1</td>\n    </tr>\n    <tr>\n      <th>2</th>\n      <td>2.1</td>\n      <td>Government Servants (Total)</td>\n      <td>1428</td>\n      <td>256</td>\n      <td>0</td>\n      <td>1684</td>\n      <td>1.2</td>\n    </tr>\n    <tr>\n      <th>3</th>\n      <td>2.1.1</td>\n      <td>Central/UT Govt. Servants</td>\n      <td>254</td>\n      <td>53</td>\n      <td>0</td>\n      <td>307</td>\n      <td>0.2</td>\n    </tr>\n    <tr>\n      <th>4</th>\n      <td>2.1.2</td>\n      <td>State  Govt. Servants</td>\n      <td>835</td>\n      <td>133</td>\n      <td>0</td>\n      <td>968</td>\n      <td>0.7</td>\n    </tr>\n    <tr>\n      <th>5</th>\n      <td>2.1.3</td>\n      <td>Other Statutory Body/etc.</td>\n      <td>339</td>\n      <td>70</td>\n      <td>0</td>\n      <td>409</td>\n      <td>0.3</td>\n    </tr>\n    <tr>\n      <th>6</th>\n      <td>2.2</td>\n      <td>Private Sector Enterprises</td>\n      <td>7799</td>\n      <td>931</td>\n      <td>0</td>\n      <td>8730</td>\n      <td>6.3</td>\n    </tr>\n    <tr>\n      <th>7</th>\n      <td>2.3</td>\n      <td>Public Sector Undertaking</td>\n      <td>1995</td>\n      <td>316</td>\n      <td>0</td>\n      <td>2311</td>\n      <td>1.7</td>\n    </tr>\n    <tr>\n      <th>8</th>\n      <td>3</td>\n      <td>Students</td>\n      <td>5562</td>\n      <td>4772</td>\n      <td>1</td>\n      <td>10335</td>\n      <td>7.4</td>\n    </tr>\n    <tr>\n      <th>9</th>\n      <td>4</td>\n      <td>Unemployed Persons</td>\n      <td>11599</td>\n      <td>2416</td>\n      <td>4</td>\n      <td>14019</td>\n      <td>10.1</td>\n    </tr>\n    <tr>\n      <th>10</th>\n      <td>5</td>\n      <td>Self-employed Persons (Total)</td>\n      <td>14319</td>\n      <td>1777</td>\n      <td>2</td>\n      <td>16098</td>\n      <td>11.6</td>\n    </tr>\n    <tr>\n      <th>11</th>\n      <td>5.1</td>\n      <td>Business (Total)</td>\n      <td>8477</td>\n      <td>574</td>\n      <td>1</td>\n      <td>9052</td>\n      <td>6.5</td>\n    </tr>\n    <tr>\n      <th>12</th>\n      <td>5.1.1</td>\n      <td>Vendor</td>\n      <td>3066</td>\n      <td>285</td>\n      <td>0</td>\n      <td>3351</td>\n      <td>2.4</td>\n    </tr>\n    <tr>\n      <th>13</th>\n      <td>5.1.2</td>\n      <td>Tradesmen</td>\n      <td>2798</td>\n      <td>107</td>\n      <td>1</td>\n      <td>2906</td>\n      <td>2.1</td>\n    </tr>\n    <tr>\n      <th>14</th>\n      <td>5.1.3</td>\n      <td>Other Business</td>\n      <td>2613</td>\n      <td>182</td>\n      <td>0</td>\n      <td>2795</td>\n      <td>2.0</td>\n    </tr>\n    <tr>\n      <th>15</th>\n      <td>5.2</td>\n      <td>Other Self-employed Persons</td>\n      <td>5842</td>\n      <td>1203</td>\n      <td>1</td>\n      <td>7046</td>\n      <td>5.1</td>\n    </tr>\n    <tr>\n      <th>16</th>\n      <td>6</td>\n      <td>Persons Engaged in Farming Sector</td>\n      <td>9312</td>\n      <td>969</td>\n      <td>0</td>\n      <td>10281</td>\n      <td>7.4</td>\n    </tr>\n    <tr>\n      <th>17</th>\n      <td>6.1</td>\n      <td>Farmers/Cultivators</td>\n      <td>5563</td>\n      <td>394</td>\n      <td>0</td>\n      <td>5957</td>\n      <td>4.3</td>\n    </tr>\n    <tr>\n      <th>18</th>\n      <td>6.1.1</td>\n      <td>who cultivate their own land with or without...</td>\n      <td>4801</td>\n      <td>328</td>\n      <td>0</td>\n      <td>5129</td>\n      <td>3.7</td>\n    </tr>\n    <tr>\n      <th>19</th>\n      <td>6.1.2</td>\n      <td>who cultivate on leased land/work on lease/o...</td>\n      <td>762</td>\n      <td>66</td>\n      <td>0</td>\n      <td>828</td>\n      <td>0.6</td>\n    </tr>\n    <tr>\n      <th>20</th>\n      <td>6.2</td>\n      <td>Agricultural Labourers</td>\n      <td>3749</td>\n      <td>575</td>\n      <td>0</td>\n      <td>4324</td>\n      <td>3.1</td>\n    </tr>\n    <tr>\n      <th>21</th>\n      <td>7</td>\n      <td>Daily Wage Earner</td>\n      <td>29092</td>\n      <td>3467</td>\n      <td>4</td>\n      <td>32563</td>\n      <td>23.4</td>\n    </tr>\n    <tr>\n      <th>22</th>\n      <td>8</td>\n      <td>Retired Persons</td>\n      <td>1177</td>\n      <td>125</td>\n      <td>0</td>\n      <td>1302</td>\n      <td>0.9</td>\n    </tr>\n    <tr>\n      <th>23</th>\n      <td>9</td>\n      <td>Other Persons</td>\n      <td>15330</td>\n      <td>5105</td>\n      <td>6</td>\n      <td>20441</td>\n      <td>14.7</td>\n    </tr>\n    <tr>\n      <th>24</th>\n      <td>10</td>\n      <td>Total</td>\n      <td>97613</td>\n      <td>41493</td>\n      <td>17</td>\n      <td>139123</td>\n      <td>100.0</td>\n    </tr>\n  </tbody>\n</table>\n</div>"
     },
     "metadata": {},
     "execution_count": 18
    }
   ],
   "source": [
    "# Incase we're intersted in seeing the scraped tables at this point.\n",
    "# Commented as it takes too much screen space\n",
    "# Run if you want\n",
    "# printnAllTables(tables)\n",
    "\n",
    "# OR Print a simgle one according to your choice\n",
    "tables[0].df"
   ]
  },
  {
   "cell_type": "code",
   "execution_count": 19,
   "metadata": {},
   "outputs": [],
   "source": [
    "# Reset Index before saving file, for better formatting in RAW CSV\n",
    "tables[0].df.to_csv(\"Profession - wise Distribution of Suicides during 2019 (All India).csv\",index=False)"
   ]
  }
 ],
 "metadata": {
  "kernelspec": {
   "display_name": "Python 3",
   "language": "python",
   "name": "python3"
  },
  "language_info": {
   "codemirror_mode": {
    "name": "ipython",
    "version": 3
   },
   "file_extension": ".py",
   "mimetype": "text/x-python",
   "name": "python",
   "nbconvert_exporter": "python",
   "pygments_lexer": "ipython3",
   "version": "3.8.2-final"
  }
 },
 "nbformat": 4,
 "nbformat_minor": 4
}
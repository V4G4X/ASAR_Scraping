{
 "cells": [
  {
   "cell_type": "code",
   "execution_count": 1,
   "metadata": {},
   "outputs": [],
   "source": [
    "import wget\n",
    "import ssl\n",
    "import os\n",
    "ssl._create_default_https_context = ssl._create_unverified_context"
   ]
  },
  {
   "cell_type": "code",
   "execution_count": 2,
   "metadata": {},
   "outputs": [],
   "source": [
    "# Enter NCRB Individual PDF url\n",
    "pdf_url = 'https://ncrb.gov.in/sites/default/files/adsi_reports_previous_year/Table-2.10_2019_0.pdf'\n",
    "fileName = pdf_url[67:]\n",
    "try:\n",
    "    #Delete the file to redownload it\n",
    "    os.remove(fileName)\n",
    "except FileNotFoundError as e:\n",
    "    #Ignore in case FileNotFound Error occurs\n",
    "    pass\n",
    "# Download report\n",
    "fileName = wget.download(pdf_url,fileName)"
   ]
  },
  {
   "cell_type": "code",
   "execution_count": 3,
   "metadata": {},
   "outputs": [],
   "source": [
    "import numpy as np\n",
    "import pandas as pd\n",
    "import camelot"
   ]
  },
  {
   "cell_type": "code",
   "execution_count": 4,
   "metadata": {},
   "outputs": [
    {
     "output_type": "execute_result",
     "data": {
      "text/plain": [
       "'Table-2.10_2019_0.pdf'"
      ]
     },
     "metadata": {},
     "execution_count": 4
    }
   ],
   "source": [
    "fileName"
   ]
  },
  {
   "cell_type": "code",
   "execution_count": 5,
   "metadata": {},
   "outputs": [],
   "source": [
    "table1 = camelot.read_pdf(fileName,\n",
    "                          flavor='stream',\n",
    "                          table_areas=[\n",
    "                              \"25.972342487883687,708.3528537908206,573.3154119547659,85.0051846787284\"\n",
    "                              ],\n",
    "                          columns=[\n",
    "                              \"49.0588691437803,146.21466882067853,189.50190630048468,225.09363489499194,256.83760904684976,291.4673990306947,325.13525040387725,358.8031017770598,391.50901453958,423.25298869143785,458.84471728594514,497.32226171243946,533.8759289176091\"\n",
    "                              ],\n",
    "                          split_text=True,\n",
    "                          pages=\"1\"\n",
    "                         )"
   ]
  },
  {
   "cell_type": "code",
   "execution_count": 6,
   "metadata": {},
   "outputs": [],
   "source": [
    "table2 = camelot.read_pdf(fileName,\n",
    "                          flavor='stream',\n",
    "                          table_areas=[\n",
    "                              \"35.59172859450727,715.0544903663822,561.7721486268175,70.54378310542263\"\n",
    "                              ],\n",
    "                          columns=[\n",
    "                              \"49.0588691437803,150.06242326332796,188.5399676898223,227.01751211631665,265.495056542811,303.97260096930535,360.72697899838454,431.91043618739906,489.6267528271406\"\n",
    "                              ],\n",
    "                          split_text=True,\n",
    "                          pages=\"2\"\n",
    "                         )"
   ]
  },
  {
   "cell_type": "code",
   "execution_count": 7,
   "metadata": {},
   "outputs": [
    {
     "output_type": "execute_result",
     "data": {
      "text/plain": [
       "     0                  1    2    3  4     5      6      7   8       9\n",
       "0                  STATES                                             \n",
       "1    1     ANDHRA PRADESH   62   26  0    88   4740   1725   0    6465\n",
       "2    2  ARUNACHAL PRADESH    0    0  0     0     81     31   0     112\n",
       "3    3              ASSAM   42   21  0    63   1679    691   0    2370\n",
       "4    4              BIHAR   10    5  0    15    395    246   0     641\n",
       "5    5       CHHATTISGARH   18    1  0    19   5520   2109   0    7629\n",
       "6    6                GOA    0    0  0     0    201     58   0     259\n",
       "7    7            GUJARAT    2    0  0     2   5168   2486   1    7655\n",
       "8    8            HARYANA  130   22  0   152   3297    894   0    4191\n",
       "9    9   HIMACHAL PRADESH    4    2  0     6    377    207   0     584\n",
       "10  10    JAMMU & KASHMIR    0    0  0     0    157    127   0     284\n",
       "11  11          JHARKHAND    5    2  0     7   1066    580   0    1646\n",
       "12  12          KARNATAKA   20    4  0    24   8413   2873   2   11288\n",
       "13  13             KERALA   13    2  0    15   6668   1888   0    8556\n",
       "14  14     MADHYA PRADESH    3    0  0     3   8107   4348   2   12457\n",
       "15  15        MAHARASHTRA   56    7  0    63  14466   4448   2   18916\n",
       "16  16            MANIPUR    0    0  0     0     36     22   0      58\n",
       "17  17          MEGHALAYA    0    0  0     0    165     33   0     198\n",
       "18  18            MIZORAM    0    0  0     0     54     16   0      70\n",
       "19  19           NAGALAND    0    0  0     0     36      5   0      41\n",
       "20  20             ODISHA    0    0  0     0   2596   1986   0    4582\n",
       "21  21             PUNJAB   36    4  0    40   1817    539   1    2357\n",
       "22  22          RAJASTHAN   33   13  0    46   3302   1229   0    4531\n",
       "23  23             SIKKIM    0    0  0     0    162     58   0     220\n",
       "24  24         TAMIL NADU   35   10  0    45   9235   4250   8   13493\n",
       "25  25          TELANGANA  106   74  0   180   5612   2062   1    7675\n",
       "26  26            TRIPURA    2    0  0     2    496    232   0     728\n",
       "27  27      UTTAR PRADESH   16    9  0    25   3233   2231   0    5464\n",
       "28  28        UTTARAKHAND    0    0  0     0    335    181   0     516\n",
       "29  29        WEST BENGAL  153   65  0   218   7769   4896   0   12665\n",
       "30         TOTAL (STATES)  746  267  0  1013  95183  40451  17  135651\n",
       "31      UNION TERRITORIES                                             \n",
       "32  30     A & N  ISLANDS    0    0  0     0    130     51   0     181\n",
       "33  31         CHANDIGARH    1    0  0     1     93     38   0     131\n",
       "34  32      D & N  HAVELI    0    0  0     0     72     23   0      95\n",
       "35  33      DAMAN  &  DIU    0    0  0     0     29     17   0      46\n",
       "36  34         DELHI (UT)    4    1  0     5   1758    768   0    2526\n",
       "37  35        LAKSHADWEEP    0    0  0     0      0      0   0       0\n",
       "38  36         PUDUCHERRY    0    0  0     0    348    145   0     493\n",
       "39            TOTAL (UTs)    5    1  0     6   2430   1042   0    3472\n",
       "40      TOTAL (ALL INDIA)  751  268  0  1019  97613  41493  17  139123"
      ],
      "text/html": "<div>\n<style scoped>\n    .dataframe tbody tr th:only-of-type {\n        vertical-align: middle;\n    }\n\n    .dataframe tbody tr th {\n        vertical-align: top;\n    }\n\n    .dataframe thead th {\n        text-align: right;\n    }\n</style>\n<table border=\"1\" class=\"dataframe\">\n  <thead>\n    <tr style=\"text-align: right;\">\n      <th></th>\n      <th>0</th>\n      <th>1</th>\n      <th>2</th>\n      <th>3</th>\n      <th>4</th>\n      <th>5</th>\n      <th>6</th>\n      <th>7</th>\n      <th>8</th>\n      <th>9</th>\n    </tr>\n  </thead>\n  <tbody>\n    <tr>\n      <th>0</th>\n      <td></td>\n      <td>STATES</td>\n      <td></td>\n      <td></td>\n      <td></td>\n      <td></td>\n      <td></td>\n      <td></td>\n      <td></td>\n      <td></td>\n    </tr>\n    <tr>\n      <th>1</th>\n      <td>1</td>\n      <td>ANDHRA PRADESH</td>\n      <td>62</td>\n      <td>26</td>\n      <td>0</td>\n      <td>88</td>\n      <td>4740</td>\n      <td>1725</td>\n      <td>0</td>\n      <td>6465</td>\n    </tr>\n    <tr>\n      <th>2</th>\n      <td>2</td>\n      <td>ARUNACHAL PRADESH</td>\n      <td>0</td>\n      <td>0</td>\n      <td>0</td>\n      <td>0</td>\n      <td>81</td>\n      <td>31</td>\n      <td>0</td>\n      <td>112</td>\n    </tr>\n    <tr>\n      <th>3</th>\n      <td>3</td>\n      <td>ASSAM</td>\n      <td>42</td>\n      <td>21</td>\n      <td>0</td>\n      <td>63</td>\n      <td>1679</td>\n      <td>691</td>\n      <td>0</td>\n      <td>2370</td>\n    </tr>\n    <tr>\n      <th>4</th>\n      <td>4</td>\n      <td>BIHAR</td>\n      <td>10</td>\n      <td>5</td>\n      <td>0</td>\n      <td>15</td>\n      <td>395</td>\n      <td>246</td>\n      <td>0</td>\n      <td>641</td>\n    </tr>\n    <tr>\n      <th>5</th>\n      <td>5</td>\n      <td>CHHATTISGARH</td>\n      <td>18</td>\n      <td>1</td>\n      <td>0</td>\n      <td>19</td>\n      <td>5520</td>\n      <td>2109</td>\n      <td>0</td>\n      <td>7629</td>\n    </tr>\n    <tr>\n      <th>6</th>\n      <td>6</td>\n      <td>GOA</td>\n      <td>0</td>\n      <td>0</td>\n      <td>0</td>\n      <td>0</td>\n      <td>201</td>\n      <td>58</td>\n      <td>0</td>\n      <td>259</td>\n    </tr>\n    <tr>\n      <th>7</th>\n      <td>7</td>\n      <td>GUJARAT</td>\n      <td>2</td>\n      <td>0</td>\n      <td>0</td>\n      <td>2</td>\n      <td>5168</td>\n      <td>2486</td>\n      <td>1</td>\n      <td>7655</td>\n    </tr>\n    <tr>\n      <th>8</th>\n      <td>8</td>\n      <td>HARYANA</td>\n      <td>130</td>\n      <td>22</td>\n      <td>0</td>\n      <td>152</td>\n      <td>3297</td>\n      <td>894</td>\n      <td>0</td>\n      <td>4191</td>\n    </tr>\n    <tr>\n      <th>9</th>\n      <td>9</td>\n      <td>HIMACHAL PRADESH</td>\n      <td>4</td>\n      <td>2</td>\n      <td>0</td>\n      <td>6</td>\n      <td>377</td>\n      <td>207</td>\n      <td>0</td>\n      <td>584</td>\n    </tr>\n    <tr>\n      <th>10</th>\n      <td>10</td>\n      <td>JAMMU &amp; KASHMIR</td>\n      <td>0</td>\n      <td>0</td>\n      <td>0</td>\n      <td>0</td>\n      <td>157</td>\n      <td>127</td>\n      <td>0</td>\n      <td>284</td>\n    </tr>\n    <tr>\n      <th>11</th>\n      <td>11</td>\n      <td>JHARKHAND</td>\n      <td>5</td>\n      <td>2</td>\n      <td>0</td>\n      <td>7</td>\n      <td>1066</td>\n      <td>580</td>\n      <td>0</td>\n      <td>1646</td>\n    </tr>\n    <tr>\n      <th>12</th>\n      <td>12</td>\n      <td>KARNATAKA</td>\n      <td>20</td>\n      <td>4</td>\n      <td>0</td>\n      <td>24</td>\n      <td>8413</td>\n      <td>2873</td>\n      <td>2</td>\n      <td>11288</td>\n    </tr>\n    <tr>\n      <th>13</th>\n      <td>13</td>\n      <td>KERALA</td>\n      <td>13</td>\n      <td>2</td>\n      <td>0</td>\n      <td>15</td>\n      <td>6668</td>\n      <td>1888</td>\n      <td>0</td>\n      <td>8556</td>\n    </tr>\n    <tr>\n      <th>14</th>\n      <td>14</td>\n      <td>MADHYA PRADESH</td>\n      <td>3</td>\n      <td>0</td>\n      <td>0</td>\n      <td>3</td>\n      <td>8107</td>\n      <td>4348</td>\n      <td>2</td>\n      <td>12457</td>\n    </tr>\n    <tr>\n      <th>15</th>\n      <td>15</td>\n      <td>MAHARASHTRA</td>\n      <td>56</td>\n      <td>7</td>\n      <td>0</td>\n      <td>63</td>\n      <td>14466</td>\n      <td>4448</td>\n      <td>2</td>\n      <td>18916</td>\n    </tr>\n    <tr>\n      <th>16</th>\n      <td>16</td>\n      <td>MANIPUR</td>\n      <td>0</td>\n      <td>0</td>\n      <td>0</td>\n      <td>0</td>\n      <td>36</td>\n      <td>22</td>\n      <td>0</td>\n      <td>58</td>\n    </tr>\n    <tr>\n      <th>17</th>\n      <td>17</td>\n      <td>MEGHALAYA</td>\n      <td>0</td>\n      <td>0</td>\n      <td>0</td>\n      <td>0</td>\n      <td>165</td>\n      <td>33</td>\n      <td>0</td>\n      <td>198</td>\n    </tr>\n    <tr>\n      <th>18</th>\n      <td>18</td>\n      <td>MIZORAM</td>\n      <td>0</td>\n      <td>0</td>\n      <td>0</td>\n      <td>0</td>\n      <td>54</td>\n      <td>16</td>\n      <td>0</td>\n      <td>70</td>\n    </tr>\n    <tr>\n      <th>19</th>\n      <td>19</td>\n      <td>NAGALAND</td>\n      <td>0</td>\n      <td>0</td>\n      <td>0</td>\n      <td>0</td>\n      <td>36</td>\n      <td>5</td>\n      <td>0</td>\n      <td>41</td>\n    </tr>\n    <tr>\n      <th>20</th>\n      <td>20</td>\n      <td>ODISHA</td>\n      <td>0</td>\n      <td>0</td>\n      <td>0</td>\n      <td>0</td>\n      <td>2596</td>\n      <td>1986</td>\n      <td>0</td>\n      <td>4582</td>\n    </tr>\n    <tr>\n      <th>21</th>\n      <td>21</td>\n      <td>PUNJAB</td>\n      <td>36</td>\n      <td>4</td>\n      <td>0</td>\n      <td>40</td>\n      <td>1817</td>\n      <td>539</td>\n      <td>1</td>\n      <td>2357</td>\n    </tr>\n    <tr>\n      <th>22</th>\n      <td>22</td>\n      <td>RAJASTHAN</td>\n      <td>33</td>\n      <td>13</td>\n      <td>0</td>\n      <td>46</td>\n      <td>3302</td>\n      <td>1229</td>\n      <td>0</td>\n      <td>4531</td>\n    </tr>\n    <tr>\n      <th>23</th>\n      <td>23</td>\n      <td>SIKKIM</td>\n      <td>0</td>\n      <td>0</td>\n      <td>0</td>\n      <td>0</td>\n      <td>162</td>\n      <td>58</td>\n      <td>0</td>\n      <td>220</td>\n    </tr>\n    <tr>\n      <th>24</th>\n      <td>24</td>\n      <td>TAMIL NADU</td>\n      <td>35</td>\n      <td>10</td>\n      <td>0</td>\n      <td>45</td>\n      <td>9235</td>\n      <td>4250</td>\n      <td>8</td>\n      <td>13493</td>\n    </tr>\n    <tr>\n      <th>25</th>\n      <td>25</td>\n      <td>TELANGANA</td>\n      <td>106</td>\n      <td>74</td>\n      <td>0</td>\n      <td>180</td>\n      <td>5612</td>\n      <td>2062</td>\n      <td>1</td>\n      <td>7675</td>\n    </tr>\n    <tr>\n      <th>26</th>\n      <td>26</td>\n      <td>TRIPURA</td>\n      <td>2</td>\n      <td>0</td>\n      <td>0</td>\n      <td>2</td>\n      <td>496</td>\n      <td>232</td>\n      <td>0</td>\n      <td>728</td>\n    </tr>\n    <tr>\n      <th>27</th>\n      <td>27</td>\n      <td>UTTAR PRADESH</td>\n      <td>16</td>\n      <td>9</td>\n      <td>0</td>\n      <td>25</td>\n      <td>3233</td>\n      <td>2231</td>\n      <td>0</td>\n      <td>5464</td>\n    </tr>\n    <tr>\n      <th>28</th>\n      <td>28</td>\n      <td>UTTARAKHAND</td>\n      <td>0</td>\n      <td>0</td>\n      <td>0</td>\n      <td>0</td>\n      <td>335</td>\n      <td>181</td>\n      <td>0</td>\n      <td>516</td>\n    </tr>\n    <tr>\n      <th>29</th>\n      <td>29</td>\n      <td>WEST BENGAL</td>\n      <td>153</td>\n      <td>65</td>\n      <td>0</td>\n      <td>218</td>\n      <td>7769</td>\n      <td>4896</td>\n      <td>0</td>\n      <td>12665</td>\n    </tr>\n    <tr>\n      <th>30</th>\n      <td></td>\n      <td>TOTAL (STATES)</td>\n      <td>746</td>\n      <td>267</td>\n      <td>0</td>\n      <td>1013</td>\n      <td>95183</td>\n      <td>40451</td>\n      <td>17</td>\n      <td>135651</td>\n    </tr>\n    <tr>\n      <th>31</th>\n      <td></td>\n      <td>UNION TERRITORIES</td>\n      <td></td>\n      <td></td>\n      <td></td>\n      <td></td>\n      <td></td>\n      <td></td>\n      <td></td>\n      <td></td>\n    </tr>\n    <tr>\n      <th>32</th>\n      <td>30</td>\n      <td>A &amp; N  ISLANDS</td>\n      <td>0</td>\n      <td>0</td>\n      <td>0</td>\n      <td>0</td>\n      <td>130</td>\n      <td>51</td>\n      <td>0</td>\n      <td>181</td>\n    </tr>\n    <tr>\n      <th>33</th>\n      <td>31</td>\n      <td>CHANDIGARH</td>\n      <td>1</td>\n      <td>0</td>\n      <td>0</td>\n      <td>1</td>\n      <td>93</td>\n      <td>38</td>\n      <td>0</td>\n      <td>131</td>\n    </tr>\n    <tr>\n      <th>34</th>\n      <td>32</td>\n      <td>D &amp; N  HAVELI</td>\n      <td>0</td>\n      <td>0</td>\n      <td>0</td>\n      <td>0</td>\n      <td>72</td>\n      <td>23</td>\n      <td>0</td>\n      <td>95</td>\n    </tr>\n    <tr>\n      <th>35</th>\n      <td>33</td>\n      <td>DAMAN  &amp;  DIU</td>\n      <td>0</td>\n      <td>0</td>\n      <td>0</td>\n      <td>0</td>\n      <td>29</td>\n      <td>17</td>\n      <td>0</td>\n      <td>46</td>\n    </tr>\n    <tr>\n      <th>36</th>\n      <td>34</td>\n      <td>DELHI (UT)</td>\n      <td>4</td>\n      <td>1</td>\n      <td>0</td>\n      <td>5</td>\n      <td>1758</td>\n      <td>768</td>\n      <td>0</td>\n      <td>2526</td>\n    </tr>\n    <tr>\n      <th>37</th>\n      <td>35</td>\n      <td>LAKSHADWEEP</td>\n      <td>0</td>\n      <td>0</td>\n      <td>0</td>\n      <td>0</td>\n      <td>0</td>\n      <td>0</td>\n      <td>0</td>\n      <td>0</td>\n    </tr>\n    <tr>\n      <th>38</th>\n      <td>36</td>\n      <td>PUDUCHERRY</td>\n      <td>0</td>\n      <td>0</td>\n      <td>0</td>\n      <td>0</td>\n      <td>348</td>\n      <td>145</td>\n      <td>0</td>\n      <td>493</td>\n    </tr>\n    <tr>\n      <th>39</th>\n      <td></td>\n      <td>TOTAL (UTs)</td>\n      <td>5</td>\n      <td>1</td>\n      <td>0</td>\n      <td>6</td>\n      <td>2430</td>\n      <td>1042</td>\n      <td>0</td>\n      <td>3472</td>\n    </tr>\n    <tr>\n      <th>40</th>\n      <td></td>\n      <td>TOTAL (ALL INDIA)</td>\n      <td>751</td>\n      <td>268</td>\n      <td>0</td>\n      <td>1019</td>\n      <td>97613</td>\n      <td>41493</td>\n      <td>17</td>\n      <td>139123</td>\n    </tr>\n  </tbody>\n</table>\n</div>"
     },
     "metadata": {},
     "execution_count": 7
    }
   ],
   "source": [
    "table2[0].df"
   ]
  },
  {
   "cell_type": "code",
   "execution_count": 8,
   "metadata": {},
   "outputs": [],
   "source": [
    "def printnAllTables(tables):\n",
    "    for i in range(len(tables)):\n",
    "        print(\"Page No: \",(i+1))\n",
    "        print(tables[i].df)\n",
    "        print()"
   ]
  },
  {
   "cell_type": "code",
   "execution_count": 9,
   "metadata": {},
   "outputs": [],
   "source": [
    "# Incase we're intersted in seeing the original scraped tables.\n",
    "# Commented as it takes too much screen space\n",
    "# Run if you want\n",
    "# printnAllTables(tables)"
   ]
  },
  {
   "cell_type": "code",
   "execution_count": 10,
   "metadata": {},
   "outputs": [
    {
     "output_type": "execute_result",
     "data": {
      "text/plain": [
       "0"
      ]
     },
     "metadata": {},
     "execution_count": 10
    }
   ],
   "source": [
    "# List of Column headers as column are nested, i.e exhibit a multi level/index structure\n",
    "# The multi level structre will be generated and applied in the next \n",
    "column_header = [\n",
    "    \n",
    "]\n",
    "len(column_header)"
   ]
  },
  {
   "cell_type": "code",
   "execution_count": 11,
   "metadata": {},
   "outputs": [],
   "source": [
    "# Setting Column Headers for table 1\n",
    "title = ['less than 1 lakh','1 lakh & above –less than 5 lakhs','5 lakhs & above –less than 10 lakhs']\n",
    "column_list = [\n",
    "    (\"Sl. No.\",''),\n",
    "    (\"State/UT\",''), \n",
    "    (title[0],'Male'),\n",
    "    (title[0],'Female'),\n",
    "    (title[0],'Transgender'),\n",
    "    (title[0],'Total'),\n",
    "    (title[1],'Male'),\n",
    "    (title[1],'Female'),\n",
    "    (title[1],'Transgender'),\n",
    "    (title[1],'Total'),\n",
    "    (title[2],'Male'),\n",
    "    (title[2],'Female'),\n",
    "    (title[2],'Transgender'),\n",
    "    (title[2],'Total')\n",
    "]\n",
    "table1[0].df.columns = pd.MultiIndex.from_tuples(column_list)"
   ]
  },
  {
   "cell_type": "code",
   "execution_count": 12,
   "metadata": {},
   "outputs": [],
   "source": [
    "# Setting Column Headers for table 2\n",
    "title = ['10 lakhs and above','Total']\n",
    "column_list = [\n",
    "    (\"Sl. No.\",''),\n",
    "    (\"State/UT\",''), \n",
    "    (title[0],'Male'),\n",
    "    (title[0],'Female'),\n",
    "    (title[0],'Transgender'),\n",
    "    (title[0],'Total'),\n",
    "    (title[1],'Male'),\n",
    "    (title[1],'Female'),\n",
    "    (title[1],'Transgender'),\n",
    "    (title[1],'Total')\n",
    "]\n",
    "table2[0].df.columns = pd.MultiIndex.from_tuples(column_list)"
   ]
  },
  {
   "cell_type": "code",
   "execution_count": 13,
   "metadata": {},
   "outputs": [],
   "source": [
    "tables = [table1[0].df.copy(),table2[0].df.copy()]\n",
    "for i in range(len(tables)):\n",
    "    tables[i].set_index([\"Sl. No.\",\"State/UT\"],inplace=True)"
   ]
  },
  {
   "cell_type": "code",
   "execution_count": 14,
   "metadata": {},
   "outputs": [],
   "source": [
    "# Incase we're intersted in seeing the scraped tables at this point.\n",
    "# Commented as it takes too much screen space\n",
    "# Run if you want\n",
    "# Print a simgle one according to your choice\n",
    "# tables"
   ]
  },
  {
   "cell_type": "code",
   "execution_count": 15,
   "metadata": {},
   "outputs": [],
   "source": [
    "# Concat all the tables one after the other, as they all have the same indexes.\n",
    "final = pd.concat(tables,axis=1)"
   ]
  },
  {
   "cell_type": "code",
   "execution_count": 16,
   "metadata": {},
   "outputs": [],
   "source": [
    "# Reset Index before saving file, for better formatting in RAW CSV\n",
    "final.reset_index().to_csv(\"Economic Status - wise Distribution of Suicides during 2019 (State & UT-wise).csv\",index=False)"
   ]
  }
 ],
 "metadata": {
  "kernelspec": {
   "display_name": "Python 3",
   "language": "python",
   "name": "python3"
  },
  "language_info": {
   "codemirror_mode": {
    "name": "ipython",
    "version": 3
   },
   "file_extension": ".py",
   "mimetype": "text/x-python",
   "name": "python",
   "nbconvert_exporter": "python",
   "pygments_lexer": "ipython3",
   "version": "3.8.2-final"
  }
 },
 "nbformat": 4,
 "nbformat_minor": 4
}
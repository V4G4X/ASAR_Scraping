{
 "cells": [
  {
   "cell_type": "code",
   "execution_count": 1,
   "metadata": {},
   "outputs": [],
   "source": [
    "import wget\n",
    "import ssl\n",
    "import os\n",
    "ssl._create_default_https_context = ssl._create_unverified_context"
   ]
  },
  {
   "cell_type": "code",
   "execution_count": 2,
   "metadata": {},
   "outputs": [],
   "source": [
    "# Enter NCRB Individual PDF url\n",
    "pdf_url = 'https://ncrb.gov.in/sites/default/files/adsi_reports_previous_year/Table-2.11_2019_0.pdf'\n",
    "fileName = pdf_url[67:]\n",
    "try:\n",
    "    #Delete the file to redownload it\n",
    "    os.remove(fileName)\n",
    "except FileNotFoundError as e:\n",
    "    #Ignore in case FileNotFound Error occurs\n",
    "    pass\n",
    "# Download report\n",
    "fileName = wget.download(pdf_url,fileName)"
   ]
  },
  {
   "cell_type": "code",
   "execution_count": 3,
   "metadata": {},
   "outputs": [],
   "source": [
    "import numpy as np\n",
    "import pandas as pd\n",
    "import camelot"
   ]
  },
  {
   "cell_type": "code",
   "execution_count": 4,
   "metadata": {},
   "outputs": [
    {
     "output_type": "execute_result",
     "data": {
      "text/plain": [
       "'Table-2.11_2019_0.pdf'"
      ]
     },
     "metadata": {},
     "execution_count": 4
    }
   ],
   "source": [
    "fileName"
   ]
  },
  {
   "cell_type": "code",
   "execution_count": 5,
   "metadata": {},
   "outputs": [],
   "source": [
    "tables = camelot.read_pdf(fileName,\n",
    "                          flavor='stream',\n",
    "                          table_areas=[\n",
    "                              \"25.972342487883687,738.1734984551337,573.3154119547659,71.53779676581283\"\n",
    "                              ],\n",
    "                          columns=[\n",
    "                              \"48.096930533117934,152.94823909531505,191.4257835218094,226.0555735056543,260.6853634894992,294.3532148626818,326.0971890145396,364.57473344103397,392.4709531502424,424.2149273021002,459.8066558966075,497.32226171243946,532.9139903069467\"\n",
    "                              ],\n",
    "                          split_text=True,\n",
    "                          pages=\"1-3\"\n",
    "                         )"
   ]
  },
  {
   "cell_type": "code",
   "execution_count": 6,
   "metadata": {},
   "outputs": [],
   "source": [
    "table4 = camelot.read_pdf(fileName,\n",
    "                          flavor='stream',\n",
    "                          table_areas=[\n",
    "                              \"25.972342487883687,732.0169841376875,533.8759289176091,78.84867036128217\"\n",
    "                              ],\n",
    "                          columns=[\n",
    "                              \"61.56407108239096,217.39812600969307,280.88607431340876,355.91728594507276,431.91043618739906\"\n",
    "                              ],\n",
    "                          split_text=True,\n",
    "                          pages=\"4\"\n",
    "                         )"
   ]
  },
  {
   "cell_type": "code",
   "execution_count": 7,
   "metadata": {},
   "outputs": [],
   "source": [
    "# Removes Garbage Rows that may have been detected Before the 'STATES' row\n",
    "# AND\n",
    "# Removes Garbage Rows that may have been detected after the 'TOTAL (ALL INDIA)' row\n",
    "def clean(table):\n",
    "    while(table.df.iloc[0,1] != 'STATES'):\n",
    "        table.df = table.df.iloc[1:]\n",
    "    while(table.df.iloc[-1,1] != 'TOTAL (ALL INDIA)'):\n",
    "        table.df = table.df.iloc[:-1]\n",
    "    # The Return line is unnecessary due to all changes being reflected in the original references\n",
    "    return table"
   ]
  },
  {
   "cell_type": "code",
   "execution_count": 8,
   "metadata": {},
   "outputs": [
    {
     "output_type": "execute_result",
     "data": {
      "text/plain": [
       "     0                  1      2      3   4       5\n",
       "2                  STATES                          \n",
       "3    1     ANDHRA PRADESH   4740   1725   0    6465\n",
       "4    2  ARUNACHAL PRADESH     81     31   0     112\n",
       "5    3              ASSAM   1679    691   0    2370\n",
       "6    4              BIHAR    395    246   0     641\n",
       "7    5       CHHATTISGARH   5520   2109   0    7629\n",
       "8    6                GOA    201     58   0     259\n",
       "9    7            GUJARAT   5168   2486   1    7655\n",
       "10   8            HARYANA   3297    894   0    4191\n",
       "11   9   HIMACHAL PRADESH    377    207   0     584\n",
       "12  10    JAMMU & KASHMIR    157    127   0     284\n",
       "13  11          JHARKHAND   1066    580   0    1646\n",
       "14  12          KARNATAKA   8413   2873   2   11288\n",
       "15  13             KERALA   6668   1888   0    8556\n",
       "16  14     MADHYA PRADESH   8107   4348   2   12457\n",
       "17  15        MAHARASHTRA  14466   4448   2   18916\n",
       "18  16            MANIPUR     36     22   0      58\n",
       "19  17          MEGHALAYA    165     33   0     198\n",
       "20  18            MIZORAM     54     16   0      70\n",
       "21  19           NAGALAND     36      5   0      41\n",
       "22  20             ODISHA   2596   1986   0    4582\n",
       "23  21             PUNJAB   1817    539   1    2357\n",
       "24  22          RAJASTHAN   3302   1229   0    4531\n",
       "25  23             SIKKIM    162     58   0     220\n",
       "26  24         TAMIL NADU   9235   4250   8   13493\n",
       "27  25          TELANGANA   5612   2062   1    7675\n",
       "28  26            TRIPURA    496    232   0     728\n",
       "29  27      UTTAR PRADESH   3233   2231   0    5464\n",
       "30  28        UTTARAKHAND    335    181   0     516\n",
       "31  29        WEST BENGAL   7769   4896   0   12665\n",
       "32         TOTAL (STATES)  95183  40451  17  135651\n",
       "33      UNION TERRITORIES                          \n",
       "34  30     A & N  ISLANDS    130     51   0     181\n",
       "35  31         CHANDIGARH     93     38   0     131\n",
       "36  32      D & N  HAVELI     72     23   0      95\n",
       "37  33      DAMAN  &  DIU     29     17   0      46\n",
       "38  34         DELHI (UT)   1758    768   0    2526\n",
       "39  35        LAKSHADWEEP      0      0   0       0\n",
       "40  36         PUDUCHERRY    348    145   0     493\n",
       "41            TOTAL (UTs)   2430   1042   0    3472\n",
       "42      TOTAL (ALL INDIA)  97613  41493  17  139123"
      ],
      "text/html": "<div>\n<style scoped>\n    .dataframe tbody tr th:only-of-type {\n        vertical-align: middle;\n    }\n\n    .dataframe tbody tr th {\n        vertical-align: top;\n    }\n\n    .dataframe thead th {\n        text-align: right;\n    }\n</style>\n<table border=\"1\" class=\"dataframe\">\n  <thead>\n    <tr style=\"text-align: right;\">\n      <th></th>\n      <th>0</th>\n      <th>1</th>\n      <th>2</th>\n      <th>3</th>\n      <th>4</th>\n      <th>5</th>\n    </tr>\n  </thead>\n  <tbody>\n    <tr>\n      <th>2</th>\n      <td></td>\n      <td>STATES</td>\n      <td></td>\n      <td></td>\n      <td></td>\n      <td></td>\n    </tr>\n    <tr>\n      <th>3</th>\n      <td>1</td>\n      <td>ANDHRA PRADESH</td>\n      <td>4740</td>\n      <td>1725</td>\n      <td>0</td>\n      <td>6465</td>\n    </tr>\n    <tr>\n      <th>4</th>\n      <td>2</td>\n      <td>ARUNACHAL PRADESH</td>\n      <td>81</td>\n      <td>31</td>\n      <td>0</td>\n      <td>112</td>\n    </tr>\n    <tr>\n      <th>5</th>\n      <td>3</td>\n      <td>ASSAM</td>\n      <td>1679</td>\n      <td>691</td>\n      <td>0</td>\n      <td>2370</td>\n    </tr>\n    <tr>\n      <th>6</th>\n      <td>4</td>\n      <td>BIHAR</td>\n      <td>395</td>\n      <td>246</td>\n      <td>0</td>\n      <td>641</td>\n    </tr>\n    <tr>\n      <th>7</th>\n      <td>5</td>\n      <td>CHHATTISGARH</td>\n      <td>5520</td>\n      <td>2109</td>\n      <td>0</td>\n      <td>7629</td>\n    </tr>\n    <tr>\n      <th>8</th>\n      <td>6</td>\n      <td>GOA</td>\n      <td>201</td>\n      <td>58</td>\n      <td>0</td>\n      <td>259</td>\n    </tr>\n    <tr>\n      <th>9</th>\n      <td>7</td>\n      <td>GUJARAT</td>\n      <td>5168</td>\n      <td>2486</td>\n      <td>1</td>\n      <td>7655</td>\n    </tr>\n    <tr>\n      <th>10</th>\n      <td>8</td>\n      <td>HARYANA</td>\n      <td>3297</td>\n      <td>894</td>\n      <td>0</td>\n      <td>4191</td>\n    </tr>\n    <tr>\n      <th>11</th>\n      <td>9</td>\n      <td>HIMACHAL PRADESH</td>\n      <td>377</td>\n      <td>207</td>\n      <td>0</td>\n      <td>584</td>\n    </tr>\n    <tr>\n      <th>12</th>\n      <td>10</td>\n      <td>JAMMU &amp; KASHMIR</td>\n      <td>157</td>\n      <td>127</td>\n      <td>0</td>\n      <td>284</td>\n    </tr>\n    <tr>\n      <th>13</th>\n      <td>11</td>\n      <td>JHARKHAND</td>\n      <td>1066</td>\n      <td>580</td>\n      <td>0</td>\n      <td>1646</td>\n    </tr>\n    <tr>\n      <th>14</th>\n      <td>12</td>\n      <td>KARNATAKA</td>\n      <td>8413</td>\n      <td>2873</td>\n      <td>2</td>\n      <td>11288</td>\n    </tr>\n    <tr>\n      <th>15</th>\n      <td>13</td>\n      <td>KERALA</td>\n      <td>6668</td>\n      <td>1888</td>\n      <td>0</td>\n      <td>8556</td>\n    </tr>\n    <tr>\n      <th>16</th>\n      <td>14</td>\n      <td>MADHYA PRADESH</td>\n      <td>8107</td>\n      <td>4348</td>\n      <td>2</td>\n      <td>12457</td>\n    </tr>\n    <tr>\n      <th>17</th>\n      <td>15</td>\n      <td>MAHARASHTRA</td>\n      <td>14466</td>\n      <td>4448</td>\n      <td>2</td>\n      <td>18916</td>\n    </tr>\n    <tr>\n      <th>18</th>\n      <td>16</td>\n      <td>MANIPUR</td>\n      <td>36</td>\n      <td>22</td>\n      <td>0</td>\n      <td>58</td>\n    </tr>\n    <tr>\n      <th>19</th>\n      <td>17</td>\n      <td>MEGHALAYA</td>\n      <td>165</td>\n      <td>33</td>\n      <td>0</td>\n      <td>198</td>\n    </tr>\n    <tr>\n      <th>20</th>\n      <td>18</td>\n      <td>MIZORAM</td>\n      <td>54</td>\n      <td>16</td>\n      <td>0</td>\n      <td>70</td>\n    </tr>\n    <tr>\n      <th>21</th>\n      <td>19</td>\n      <td>NAGALAND</td>\n      <td>36</td>\n      <td>5</td>\n      <td>0</td>\n      <td>41</td>\n    </tr>\n    <tr>\n      <th>22</th>\n      <td>20</td>\n      <td>ODISHA</td>\n      <td>2596</td>\n      <td>1986</td>\n      <td>0</td>\n      <td>4582</td>\n    </tr>\n    <tr>\n      <th>23</th>\n      <td>21</td>\n      <td>PUNJAB</td>\n      <td>1817</td>\n      <td>539</td>\n      <td>1</td>\n      <td>2357</td>\n    </tr>\n    <tr>\n      <th>24</th>\n      <td>22</td>\n      <td>RAJASTHAN</td>\n      <td>3302</td>\n      <td>1229</td>\n      <td>0</td>\n      <td>4531</td>\n    </tr>\n    <tr>\n      <th>25</th>\n      <td>23</td>\n      <td>SIKKIM</td>\n      <td>162</td>\n      <td>58</td>\n      <td>0</td>\n      <td>220</td>\n    </tr>\n    <tr>\n      <th>26</th>\n      <td>24</td>\n      <td>TAMIL NADU</td>\n      <td>9235</td>\n      <td>4250</td>\n      <td>8</td>\n      <td>13493</td>\n    </tr>\n    <tr>\n      <th>27</th>\n      <td>25</td>\n      <td>TELANGANA</td>\n      <td>5612</td>\n      <td>2062</td>\n      <td>1</td>\n      <td>7675</td>\n    </tr>\n    <tr>\n      <th>28</th>\n      <td>26</td>\n      <td>TRIPURA</td>\n      <td>496</td>\n      <td>232</td>\n      <td>0</td>\n      <td>728</td>\n    </tr>\n    <tr>\n      <th>29</th>\n      <td>27</td>\n      <td>UTTAR PRADESH</td>\n      <td>3233</td>\n      <td>2231</td>\n      <td>0</td>\n      <td>5464</td>\n    </tr>\n    <tr>\n      <th>30</th>\n      <td>28</td>\n      <td>UTTARAKHAND</td>\n      <td>335</td>\n      <td>181</td>\n      <td>0</td>\n      <td>516</td>\n    </tr>\n    <tr>\n      <th>31</th>\n      <td>29</td>\n      <td>WEST BENGAL</td>\n      <td>7769</td>\n      <td>4896</td>\n      <td>0</td>\n      <td>12665</td>\n    </tr>\n    <tr>\n      <th>32</th>\n      <td></td>\n      <td>TOTAL (STATES)</td>\n      <td>95183</td>\n      <td>40451</td>\n      <td>17</td>\n      <td>135651</td>\n    </tr>\n    <tr>\n      <th>33</th>\n      <td></td>\n      <td>UNION TERRITORIES</td>\n      <td></td>\n      <td></td>\n      <td></td>\n      <td></td>\n    </tr>\n    <tr>\n      <th>34</th>\n      <td>30</td>\n      <td>A &amp; N  ISLANDS</td>\n      <td>130</td>\n      <td>51</td>\n      <td>0</td>\n      <td>181</td>\n    </tr>\n    <tr>\n      <th>35</th>\n      <td>31</td>\n      <td>CHANDIGARH</td>\n      <td>93</td>\n      <td>38</td>\n      <td>0</td>\n      <td>131</td>\n    </tr>\n    <tr>\n      <th>36</th>\n      <td>32</td>\n      <td>D &amp; N  HAVELI</td>\n      <td>72</td>\n      <td>23</td>\n      <td>0</td>\n      <td>95</td>\n    </tr>\n    <tr>\n      <th>37</th>\n      <td>33</td>\n      <td>DAMAN  &amp;  DIU</td>\n      <td>29</td>\n      <td>17</td>\n      <td>0</td>\n      <td>46</td>\n    </tr>\n    <tr>\n      <th>38</th>\n      <td>34</td>\n      <td>DELHI (UT)</td>\n      <td>1758</td>\n      <td>768</td>\n      <td>0</td>\n      <td>2526</td>\n    </tr>\n    <tr>\n      <th>39</th>\n      <td>35</td>\n      <td>LAKSHADWEEP</td>\n      <td>0</td>\n      <td>0</td>\n      <td>0</td>\n      <td>0</td>\n    </tr>\n    <tr>\n      <th>40</th>\n      <td>36</td>\n      <td>PUDUCHERRY</td>\n      <td>348</td>\n      <td>145</td>\n      <td>0</td>\n      <td>493</td>\n    </tr>\n    <tr>\n      <th>41</th>\n      <td></td>\n      <td>TOTAL (UTs)</td>\n      <td>2430</td>\n      <td>1042</td>\n      <td>0</td>\n      <td>3472</td>\n    </tr>\n    <tr>\n      <th>42</th>\n      <td></td>\n      <td>TOTAL (ALL INDIA)</td>\n      <td>97613</td>\n      <td>41493</td>\n      <td>17</td>\n      <td>139123</td>\n    </tr>\n  </tbody>\n</table>\n</div>"
     },
     "metadata": {},
     "execution_count": 8
    }
   ],
   "source": [
    "clean(table4[0])\n",
    "table4[0].df"
   ]
  },
  {
   "cell_type": "code",
   "execution_count": 9,
   "metadata": {},
   "outputs": [
    {
     "output_type": "execute_result",
     "data": {
      "text/plain": [
       "<TableList n=3>"
      ]
     },
     "metadata": {},
     "execution_count": 9
    }
   ],
   "source": [
    "tables"
   ]
  },
  {
   "cell_type": "code",
   "execution_count": 10,
   "metadata": {},
   "outputs": [],
   "source": [
    "def printnAllTables(tables):\n",
    "    for i in range(len(tables)):\n",
    "        print(\"Page No: \",(i+1))\n",
    "        print(tables[i].df)\n",
    "        print()"
   ]
  },
  {
   "source": [
    "# Incase we're intersted in seeing the original scraped tables.\n",
    "# Commented as it takes too much screen space\n",
    "# Run if you want\n",
    "printnAllTables(tables)"
   ],
   "cell_type": "code",
   "metadata": {},
   "execution_count": 11,
   "outputs": [
    {
     "output_type": "stream",
     "name": "stdout",
     "text": [
      "Page No:  1\n     0                              1         2      3      4      5      6   \\\n0                                       Male \\nF  emale         Total   Male   \n1                                                     g  ender                 \n2   (1)                            (2)       (3)    (4)    (5)    (6)    (7)   \n3                               STATES                                         \n4     1                 ANDHRA PRADESH      1199    501      0   1700    916   \n5     2              ARUNACHAL PRADESH         3      0      0      3      7   \n6     3                          ASSAM       338    161      0    499    407   \n7     4                          BIHAR        49     45      0     94     27   \n8     5                   CHHATTISGARH       538    300      0    838   1005   \n9     6                            GOA        14      9      0     23     14   \n10    7                        GUJARAT       519    351      0    870    865   \n11    8                        HARYANA       453    161      0    614    454   \n12    9               HIMACHAL PRADESH        33     15      0     48     42   \n13   10                JAMMU & KASHMIR        33     35      0     68     14   \n14   11                      JHARKHAND        98     73      0    171     95   \n15   12                      KARNATAKA       967    416      0   1383   1678   \n16   13                         KERALA       109     62      0    171    985   \n17   14                 MADHYA PRADESH      1290    852      0   2142   1564   \n18   15                    MAHARASHTRA      1029    442      0   1471   2039   \n19   16                        MANIPUR         2      0      0      2      2   \n20   17                      MEGHALAYA        23      8      0     31     42   \n21   18                        MIZORAM         0      0      0      0      6   \n22   19                       NAGALAND         3      1      0      4      9   \n23   20                         ODISHA        30     23      0     53    116   \n24   21                         PUNJAB       395    108      0    503    213   \n25   22                      RAJASTHAN       407    238      0    645    625   \n26   23                         SIKKIM        19      5      0     24     45   \n27   24                     TAMIL NADU       989    565      1   1555   1311   \n28   25                      TELANGANA      1981    847      1   2829   1013   \n29   26                        TRIPURA        17      6      0     23    156   \n30   27                  UTTAR PRADESH       524    417      0    941    557   \n31   28                    UTTARAKHAND         7     11      0     18     24   \n32   29                    WEST BENGAL       345    289      0    634   1428   \n33                      TOTAL (STATES)     11414   5941      2  17357  15659   \n34                   UNION TERRITORIES                                         \n35   30                 A & N  ISLANDS        11      5      0     16     26   \n36   31                     CHANDIGARH         6      2      0      8     19   \n37   32                  D & N  HAVELI        16      6      0     22     10   \n38   33                  DAMAN  &  DIU         2      2      0      4      7   \n39   34                     DELHI (UT)       113     45      0    158    173   \n40   35                    LAKSHADWEEP         0      0      0      0      0   \n41   36                     PUDUCHERRY        20      3      0     23     38   \n42                         TOTAL (UTs)       168     63      0    231    273   \n43                   TOTAL (ALL INDIA)     11582   6004      2  17588  15932   \n44    •  As per data provided by State    s/UTs.                               \n\n        7      8      9      10      11      12     13  \n0   Female         Total   Male  Female          Total  \n1        g  ender                        gender         \n2      (8)    (9)   (10)   (11)    (12)    (13)   (14)  \n3                                                       \n4      321      0   1237    748     257       0   1005  \n5        2      0      9     21       5       0     26  \n6      194      0    601    313     163       0    476  \n7       29      0     56     65      43       0    108  \n8      382      0   1387   1135     404       0   1539  \n9        8      0     22     44      11       0     55  \n10     523      1   1389   1203     611       0   1814  \n11     125      0    579    515     161       0    676  \n12      26      0     68     70      33       0    103  \n13      14      0     28     27      18       0     45  \n14      44      0    139    166      69       0    235  \n15     536      1   2215   1946     580       0   2526  \n16     319      0   1304   1383     359       0   1742  \n17     833      2   2399   1895     955       0   2850  \n18     613      0   2652   2989     874       0   3863  \n19       0      0      2      5       5       0     10  \n20       9      0     51     51       6       0     57  \n21       2      0      8     27      11       0     38  \n22       0      0      9      6       1       0      7  \n23      64      0    180    125      74       0    199  \n24      67      0    280    334     101       0    435  \n25     289      0    914    641     252       0    893  \n26      16      0     61     38      15       0     53  \n27     595      1   1907   2316     833       2   3151  \n28     348      0   1361    810     303       0   1113  \n29      80      0    236    142      77       0    219  \n30     360      0    917    679     472       0   1151  \n31      11      0     35     39      20       0     59  \n32     777      0   2205   1397     969       0   2366  \n33    6587      5  22251  19130    7682       2  26814  \n34                                                      \n35       5      0     31     24      10       0     34  \n36       9      0     28     17       9       0     26  \n37       4      0     14      7       3       0     10  \n38       2      0      9      7       5       0     12  \n39     100      0    273    293     116       0    409  \n40       0      0      0      0       0       0      0  \n41       5      0     43     14       4       0     18  \n42     125      0    398    362     147       0    509  \n43    6712      5  22649  19492    7829       2  27323  \n44                                                      \n\nPage No:  2\n     0                  1         2      3      4      5      6       7   \\\n0                 State/UT                                                 \n1    No                  .                                                 \n2                                         T  rans-                     T   \n3                           Male \\nF  emale         Total   Male  Female   \n4                                         g  ender                     g   \n5   (1)                (2)      (15)   (16)   (17)   (18)   (19)    (20)   \n6                   STATES                                                 \n7     1     ANDHRA PRADESH       838    313      0   1151    451     206   \n8     2  ARUNACHAL PRADESH        17     11      0     28     19       6   \n9     3              ASSAM       423    123      0    546    142      39   \n10    4              BIHAR       150     76      0    226     72      42   \n11    5       CHHATTISGARH       873    303      0   1176    526     169   \n12    6                GOA        63     19      0     82     36      10   \n13    7            GUJARAT      1286    556      0   1842    852     340   \n14    8            HARYANA       774    179      0    953    541     105   \n15    9   HIMACHAL PRADESH       128     63      0    191     80      47   \n16   10    JAMMU & KASHMIR        49     44      0     93     18      11   \n17   11          JHARKHAND       484    276      0    760    182      94   \n18   12          KARNATAKA      2153    648      0   2801   1055     410   \n19   13             KERALA      2736    649      0   3385   1066     364   \n20   14     MADHYA PRADESH      1590    860      0   2450   1233     624   \n21   15        MAHARASHTRA      4358   1344      2   5704   3005     892   \n22   16            MANIPUR        16     11      0     27      9       5   \n23   17          MEGHALAYA        30      7      0     37     15       2   \n24   18            MIZORAM        15      2      0     17      4       1   \n25   19           NAGALAND         8      1      0      9      5       0   \n26   20             ODISHA       186    107      0    293     98      57   \n27   21             PUNJAB       405    125      0    530    307      95   \n28   22          RAJASTHAN       689    188      0    877    380     114   \n29   23             SIKKIM        24     10      0     34      7       7   \n30   24         TAMIL NADU      2292   1078      3   3373   1436     742   \n31   25          TELANGANA       954    308      0   1262    488     173   \n32   26            TRIPURA       130     56      0    186     36      11   \n33   27      UTTAR PRADESH       671    552      0   1223    309     151   \n34   28        UTTARAKHAND       151     79      0    230     97      49   \n35   29        WEST BENGAL      1270    876      0   2146    768     596   \n36          TOTAL (STATES)     22763   8864      5  31632  13237    5362   \n37       UNION TERRITORIES                                                 \n38   30     A & N  ISLANDS        21      7      0     28     21      11   \n39   31         CHANDIGARH        25      5      0     30     17       9   \n40   32      D & N  HAVELI        21      7      0     28     14       3   \n41   33      DAMAN  &  DIU         6      3      0      9      6       5   \n42   34         DELHI (UT)       454    190      0    644    360     181   \n43   35        LAKSHADWEEP         0      0      0      0      0       0   \n44   36         PUDUCHERRY        50      6      0     56    170     110   \n45             TOTAL (UTs)       577    218      0    795    588     319   \n46       TOTAL (ALL INDIA)     23340   9082      5  32427  13825    5681   \n\n       8      9     10      11      12     13  \n0                                              \n1                                              \n2   rans-                       Trans-         \n3          Total  Male  Female          Total  \n4   ender                       gender         \n5    (21)   (22)  (23)    (24)    (25)   (26)  \n6                                              \n7       0    657    80       9       0     89  \n8       0     25     0       0       0      0  \n9       0    181     1       0       0      1  \n10      0    114     0       0       0      0  \n11      0    695    33       8       0     41  \n12      0     46     0       0       0      0  \n13      0   1192    48      10       0     58  \n14      0    646    77      20       0     97  \n15      0    127     9       4       0     13  \n16      0     29     0       0       0      0  \n17      0    276    18      13       0     31  \n18      1   1466   116      61       0    177  \n19      0   1430   121      16       0    137  \n20      0   1857    47      18       0     65  \n21      0   3897   202      33       0    235  \n22      0     14     0       0       0      0  \n23      0     17     0       0       0      0  \n24      0      5     0       0       0      0  \n25      0      5     0       0       0      0  \n26      0    155    15      12       0     27  \n27      1    403    22       7       0     29  \n28      0    494    49       9       0     58  \n29      0     14     2       0       0      2  \n30      0   2178   265      91       0    356  \n31      0    661    90      21       0    111  \n32      0     47     5       0       0      5  \n33      0    460    67      12       0     79  \n34      0    146     0       0       0      0  \n35      0   1364    14       8       0     22  \n36      2  18601  1281     352       0   1633  \n37                                             \n38      0     32     1       1       0      2  \n39      0     26     2       0       0      2  \n40      0     17     0       0       0      0  \n41      0     11     0       0       0      0  \n42      0    541    23       3       0     26  \n43      0      0     0       0       0      0  \n44      0    280    41       4       0     45  \n45      0    907    67       8       0     75  \n46      2  19508  1348     360       0   1708  \n\nPage No:  3\n     0                              1         2      3      4      5     6   \\\n0                                       Male \\nF  emale         Total  Male   \n1                                                     g  ender                \n2   (1)                            (2)      (27)   (28)   (29)   (30)  (31)   \n3                               STATES                                        \n4     1                 ANDHRA PRADESH       293     98      0    391    17   \n5     2              ARUNACHAL PRADESH         2      1      0      3     0   \n6     3                          ASSAM        41      7      0     48     2   \n7     4                          BIHAR        22      9      0     31    10   \n8     5                   CHHATTISGARH       110     33      0    143     3   \n9     6                            GOA        22      0      0     22     1   \n10    7                        GUJARAT       188     49      0    237     6   \n11    8                        HARYANA       105     23      0    128     8   \n12    9               HIMACHAL PRADESH        11     17      0     28     4   \n13   10                JAMMU & KASHMIR         0      1      0      1     0   \n14   11                      JHARKHAND        17      8      0     25     0   \n15   12                      KARNATAKA       352    173      0    525    26   \n16   13                         KERALA       202     98      0    300     8   \n17   14                 MADHYA PRADESH       243    105      0    348     2   \n18   15                    MAHARASHTRA       622    183      0    805    19   \n19   16                        MANIPUR         0      1      0      1     0   \n20   17                      MEGHALAYA         4      1      0      5     0   \n21   18                        MIZORAM         2      0      0      2     0   \n22   19                       NAGALAND         2      0      0      2     0   \n23   20                         ODISHA        65     14      0     79     3   \n24   21                         PUNJAB        75     22      0     97     5   \n25   22                      RAJASTHAN       156     52      0    208    18   \n26   23                         SIKKIM         3      0      0      3     0   \n27   24                     TAMIL NADU       542    312      1    855    70   \n28   25                      TELANGANA       193     41      0    234    25   \n29   26                        TRIPURA         8      2      0     10     0   \n30   27                  UTTAR PRADESH       198    104      0    302     9   \n31   28                    UTTARAKHAND        17     11      0     28     0   \n32   29                    WEST BENGAL       130     54      0    184     0   \n33                      TOTAL (STATES)      3625   1419      1   5045   236   \n34                   UNION TERRITORIES                                        \n35   30                 A & N  ISLANDS         3      4      0      7     0   \n36   31                     CHANDIGARH         7      4      0     11     0   \n37   32                  D & N  HAVELI         4      0      0      4     0   \n38   33                  DAMAN  &  DIU         1      0      0      1     0   \n39   34                     DELHI (UT)        86     31      0    117     6   \n40   35                    LAKSHADWEEP         0      0      0      0     0   \n41   36                     PUDUCHERRY         0      0      0      0     0   \n42                         TOTAL (UTs)       101     39      0    140     6   \n43                   TOTAL (ALL INDIA)      3726   1458      1   5185   242   \n44    •  As per data provided by State    s/UTs.                              \n\n        7      8      9     10      11      12     13  \n0   Female         Total  Male  Female          Total  \n1        g  ender                       gender         \n2     (32)   (33)   (34)  (35)    (36)    (37)   (38)  \n3                                                      \n4        8      0     25   198      12       0    210  \n5        0      0      0    12       6       0     18  \n6        1      0      3    12       3       0     15  \n7        0      0     10     0       2       0      2  \n8        0      0      3  1297     510       0   1807  \n9        0      0      1     7       1       0      8  \n10       1      0      7   201      45       0    246  \n11       0      0      8   370     120       0    490  \n12       2      0      6     0       0       0      0  \n13       0      0      0    16       4       0     20  \n14       0      0      0     6       3       0      9  \n15      14      0     40   120      35       0    155  \n16       3      0     11    58      18       0     76  \n17       4      0      6   243      97       0    340  \n18       4      0     23   203      63       0    266  \n19       0      0      0     2       0       0      2  \n20       0      0      0     0       0       0      0  \n21       0      0      0     0       0       0      0  \n22       0      0      0     3       2       0      5  \n23       2      0      5  1958    1633       0   3591  \n24       4      0      9    61      10       0     71  \n25       6      0     24   337      81       0    418  \n26       0      0      0    24       5       0     29  \n27      31      0    101    14       3       0     17  \n28       4      0     29    58      17       0     75  \n29       0      0      0     2       0       0      2  \n30       5      0     14   219     158       0    377  \n31       0      0      0     0       0       0      0  \n32       0      0      0  2417    1327       0   3744  \n33      89      0    325  7838    4155       0  11993  \n34                                                     \n35       0      0      0    23       8       0     31  \n36       0      0      0     0       0       0      0  \n37       0      0      0     0       0       0      0  \n38       0      0      0     0       0       0      0  \n39       4      0     10   250      98       0    348  \n40       0      0      0     0       0       0      0  \n41       0      0      0    15      13       0     28  \n42       4      0     10   288     119       0    407  \n43      93      0    335  8126    4274       0  12400  \n44                                                     \n\n"
     ]
    }
   ]
  },
  {
   "cell_type": "code",
   "execution_count": 12,
   "metadata": {},
   "outputs": [],
   "source": [
    "for each_table in tables:\n",
    "    clean(each_table)"
   ]
  },
  {
   "source": [
    "# Incase we're intersted in seeing the scraped tables at this point.\n",
    "# Commented as it takes too much screen space\n",
    "# Run if you want\n",
    "printnAllTables(tables)"
   ],
   "cell_type": "code",
   "metadata": {},
   "execution_count": 13,
   "outputs": [
    {
     "output_type": "stream",
     "name": "stdout",
     "text": [
      "Page No:  1\n",
      "    0                  1      2     3  4      5      6     7  8      9   \\\n",
      "3                  STATES                                                 \n",
      "4    1     ANDHRA PRADESH   1199   501  0   1700    916   321  0   1237   \n",
      "5    2  ARUNACHAL PRADESH      3     0  0      3      7     2  0      9   \n",
      "6    3              ASSAM    338   161  0    499    407   194  0    601   \n",
      "7    4              BIHAR     49    45  0     94     27    29  0     56   \n",
      "8    5       CHHATTISGARH    538   300  0    838   1005   382  0   1387   \n",
      "9    6                GOA     14     9  0     23     14     8  0     22   \n",
      "10   7            GUJARAT    519   351  0    870    865   523  1   1389   \n",
      "11   8            HARYANA    453   161  0    614    454   125  0    579   \n",
      "12   9   HIMACHAL PRADESH     33    15  0     48     42    26  0     68   \n",
      "13  10    JAMMU & KASHMIR     33    35  0     68     14    14  0     28   \n",
      "14  11          JHARKHAND     98    73  0    171     95    44  0    139   \n",
      "15  12          KARNATAKA    967   416  0   1383   1678   536  1   2215   \n",
      "16  13             KERALA    109    62  0    171    985   319  0   1304   \n",
      "17  14     MADHYA PRADESH   1290   852  0   2142   1564   833  2   2399   \n",
      "18  15        MAHARASHTRA   1029   442  0   1471   2039   613  0   2652   \n",
      "19  16            MANIPUR      2     0  0      2      2     0  0      2   \n",
      "20  17          MEGHALAYA     23     8  0     31     42     9  0     51   \n",
      "21  18            MIZORAM      0     0  0      0      6     2  0      8   \n",
      "22  19           NAGALAND      3     1  0      4      9     0  0      9   \n",
      "23  20             ODISHA     30    23  0     53    116    64  0    180   \n",
      "24  21             PUNJAB    395   108  0    503    213    67  0    280   \n",
      "25  22          RAJASTHAN    407   238  0    645    625   289  0    914   \n",
      "26  23             SIKKIM     19     5  0     24     45    16  0     61   \n",
      "27  24         TAMIL NADU    989   565  1   1555   1311   595  1   1907   \n",
      "28  25          TELANGANA   1981   847  1   2829   1013   348  0   1361   \n",
      "29  26            TRIPURA     17     6  0     23    156    80  0    236   \n",
      "30  27      UTTAR PRADESH    524   417  0    941    557   360  0    917   \n",
      "31  28        UTTARAKHAND      7    11  0     18     24    11  0     35   \n",
      "32  29        WEST BENGAL    345   289  0    634   1428   777  0   2205   \n",
      "33         TOTAL (STATES)  11414  5941  2  17357  15659  6587  5  22251   \n",
      "34      UNION TERRITORIES                                                 \n",
      "35  30     A & N  ISLANDS     11     5  0     16     26     5  0     31   \n",
      "36  31         CHANDIGARH      6     2  0      8     19     9  0     28   \n",
      "37  32      D & N  HAVELI     16     6  0     22     10     4  0     14   \n",
      "38  33      DAMAN  &  DIU      2     2  0      4      7     2  0      9   \n",
      "39  34         DELHI (UT)    113    45  0    158    173   100  0    273   \n",
      "40  35        LAKSHADWEEP      0     0  0      0      0     0  0      0   \n",
      "41  36         PUDUCHERRY     20     3  0     23     38     5  0     43   \n",
      "42            TOTAL (UTs)    168    63  0    231    273   125  0    398   \n",
      "43      TOTAL (ALL INDIA)  11582  6004  2  17588  15932  6712  5  22649   \n",
      "\n",
      "       10    11 12     13  \n",
      "3                          \n",
      "4     748   257  0   1005  \n",
      "5      21     5  0     26  \n",
      "6     313   163  0    476  \n",
      "7      65    43  0    108  \n",
      "8    1135   404  0   1539  \n",
      "9      44    11  0     55  \n",
      "10   1203   611  0   1814  \n",
      "11    515   161  0    676  \n",
      "12     70    33  0    103  \n",
      "13     27    18  0     45  \n",
      "14    166    69  0    235  \n",
      "15   1946   580  0   2526  \n",
      "16   1383   359  0   1742  \n",
      "17   1895   955  0   2850  \n",
      "18   2989   874  0   3863  \n",
      "19      5     5  0     10  \n",
      "20     51     6  0     57  \n",
      "21     27    11  0     38  \n",
      "22      6     1  0      7  \n",
      "23    125    74  0    199  \n",
      "24    334   101  0    435  \n",
      "25    641   252  0    893  \n",
      "26     38    15  0     53  \n",
      "27   2316   833  2   3151  \n",
      "28    810   303  0   1113  \n",
      "29    142    77  0    219  \n",
      "30    679   472  0   1151  \n",
      "31     39    20  0     59  \n",
      "32   1397   969  0   2366  \n",
      "33  19130  7682  2  26814  \n",
      "34                         \n",
      "35     24    10  0     34  \n",
      "36     17     9  0     26  \n",
      "37      7     3  0     10  \n",
      "38      7     5  0     12  \n",
      "39    293   116  0    409  \n",
      "40      0     0  0      0  \n",
      "41     14     4  0     18  \n",
      "42    362   147  0    509  \n",
      "43  19492  7829  2  27323  \n",
      "\n",
      "Page No:  2\n",
      "    0                  1      2     3  4      5      6     7  8      9     10  \\\n",
      "6                  STATES                                                       \n",
      "7    1     ANDHRA PRADESH    838   313  0   1151    451   206  0    657    80   \n",
      "8    2  ARUNACHAL PRADESH     17    11  0     28     19     6  0     25     0   \n",
      "9    3              ASSAM    423   123  0    546    142    39  0    181     1   \n",
      "10   4              BIHAR    150    76  0    226     72    42  0    114     0   \n",
      "11   5       CHHATTISGARH    873   303  0   1176    526   169  0    695    33   \n",
      "12   6                GOA     63    19  0     82     36    10  0     46     0   \n",
      "13   7            GUJARAT   1286   556  0   1842    852   340  0   1192    48   \n",
      "14   8            HARYANA    774   179  0    953    541   105  0    646    77   \n",
      "15   9   HIMACHAL PRADESH    128    63  0    191     80    47  0    127     9   \n",
      "16  10    JAMMU & KASHMIR     49    44  0     93     18    11  0     29     0   \n",
      "17  11          JHARKHAND    484   276  0    760    182    94  0    276    18   \n",
      "18  12          KARNATAKA   2153   648  0   2801   1055   410  1   1466   116   \n",
      "19  13             KERALA   2736   649  0   3385   1066   364  0   1430   121   \n",
      "20  14     MADHYA PRADESH   1590   860  0   2450   1233   624  0   1857    47   \n",
      "21  15        MAHARASHTRA   4358  1344  2   5704   3005   892  0   3897   202   \n",
      "22  16            MANIPUR     16    11  0     27      9     5  0     14     0   \n",
      "23  17          MEGHALAYA     30     7  0     37     15     2  0     17     0   \n",
      "24  18            MIZORAM     15     2  0     17      4     1  0      5     0   \n",
      "25  19           NAGALAND      8     1  0      9      5     0  0      5     0   \n",
      "26  20             ODISHA    186   107  0    293     98    57  0    155    15   \n",
      "27  21             PUNJAB    405   125  0    530    307    95  1    403    22   \n",
      "28  22          RAJASTHAN    689   188  0    877    380   114  0    494    49   \n",
      "29  23             SIKKIM     24    10  0     34      7     7  0     14     2   \n",
      "30  24         TAMIL NADU   2292  1078  3   3373   1436   742  0   2178   265   \n",
      "31  25          TELANGANA    954   308  0   1262    488   173  0    661    90   \n",
      "32  26            TRIPURA    130    56  0    186     36    11  0     47     5   \n",
      "33  27      UTTAR PRADESH    671   552  0   1223    309   151  0    460    67   \n",
      "34  28        UTTARAKHAND    151    79  0    230     97    49  0    146     0   \n",
      "35  29        WEST BENGAL   1270   876  0   2146    768   596  0   1364    14   \n",
      "36         TOTAL (STATES)  22763  8864  5  31632  13237  5362  2  18601  1281   \n",
      "37      UNION TERRITORIES                                                       \n",
      "38  30     A & N  ISLANDS     21     7  0     28     21    11  0     32     1   \n",
      "39  31         CHANDIGARH     25     5  0     30     17     9  0     26     2   \n",
      "40  32      D & N  HAVELI     21     7  0     28     14     3  0     17     0   \n",
      "41  33      DAMAN  &  DIU      6     3  0      9      6     5  0     11     0   \n",
      "42  34         DELHI (UT)    454   190  0    644    360   181  0    541    23   \n",
      "43  35        LAKSHADWEEP      0     0  0      0      0     0  0      0     0   \n",
      "44  36         PUDUCHERRY     50     6  0     56    170   110  0    280    41   \n",
      "45            TOTAL (UTs)    577   218  0    795    588   319  0    907    67   \n",
      "46      TOTAL (ALL INDIA)  23340  9082  5  32427  13825  5681  2  19508  1348   \n",
      "\n",
      "     11 12    13  \n",
      "6                 \n",
      "7     9  0    89  \n",
      "8     0  0     0  \n",
      "9     0  0     1  \n",
      "10    0  0     0  \n",
      "11    8  0    41  \n",
      "12    0  0     0  \n",
      "13   10  0    58  \n",
      "14   20  0    97  \n",
      "15    4  0    13  \n",
      "16    0  0     0  \n",
      "17   13  0    31  \n",
      "18   61  0   177  \n",
      "19   16  0   137  \n",
      "20   18  0    65  \n",
      "21   33  0   235  \n",
      "22    0  0     0  \n",
      "23    0  0     0  \n",
      "24    0  0     0  \n",
      "25    0  0     0  \n",
      "26   12  0    27  \n",
      "27    7  0    29  \n",
      "28    9  0    58  \n",
      "29    0  0     2  \n",
      "30   91  0   356  \n",
      "31   21  0   111  \n",
      "32    0  0     5  \n",
      "33   12  0    79  \n",
      "34    0  0     0  \n",
      "35    8  0    22  \n",
      "36  352  0  1633  \n",
      "37                \n",
      "38    1  0     2  \n",
      "39    0  0     2  \n",
      "40    0  0     0  \n",
      "41    0  0     0  \n",
      "42    3  0    26  \n",
      "43    0  0     0  \n",
      "44    4  0    45  \n",
      "45    8  0    75  \n",
      "46  360  0  1708  \n",
      "\n",
      "Page No:  3\n",
      "    0                  1     2     3  4     5    6   7  8    9     10    11  \\\n",
      "3                  STATES                                                     \n",
      "4    1     ANDHRA PRADESH   293    98  0   391   17   8  0   25   198    12   \n",
      "5    2  ARUNACHAL PRADESH     2     1  0     3    0   0  0    0    12     6   \n",
      "6    3              ASSAM    41     7  0    48    2   1  0    3    12     3   \n",
      "7    4              BIHAR    22     9  0    31   10   0  0   10     0     2   \n",
      "8    5       CHHATTISGARH   110    33  0   143    3   0  0    3  1297   510   \n",
      "9    6                GOA    22     0  0    22    1   0  0    1     7     1   \n",
      "10   7            GUJARAT   188    49  0   237    6   1  0    7   201    45   \n",
      "11   8            HARYANA   105    23  0   128    8   0  0    8   370   120   \n",
      "12   9   HIMACHAL PRADESH    11    17  0    28    4   2  0    6     0     0   \n",
      "13  10    JAMMU & KASHMIR     0     1  0     1    0   0  0    0    16     4   \n",
      "14  11          JHARKHAND    17     8  0    25    0   0  0    0     6     3   \n",
      "15  12          KARNATAKA   352   173  0   525   26  14  0   40   120    35   \n",
      "16  13             KERALA   202    98  0   300    8   3  0   11    58    18   \n",
      "17  14     MADHYA PRADESH   243   105  0   348    2   4  0    6   243    97   \n",
      "18  15        MAHARASHTRA   622   183  0   805   19   4  0   23   203    63   \n",
      "19  16            MANIPUR     0     1  0     1    0   0  0    0     2     0   \n",
      "20  17          MEGHALAYA     4     1  0     5    0   0  0    0     0     0   \n",
      "21  18            MIZORAM     2     0  0     2    0   0  0    0     0     0   \n",
      "22  19           NAGALAND     2     0  0     2    0   0  0    0     3     2   \n",
      "23  20             ODISHA    65    14  0    79    3   2  0    5  1958  1633   \n",
      "24  21             PUNJAB    75    22  0    97    5   4  0    9    61    10   \n",
      "25  22          RAJASTHAN   156    52  0   208   18   6  0   24   337    81   \n",
      "26  23             SIKKIM     3     0  0     3    0   0  0    0    24     5   \n",
      "27  24         TAMIL NADU   542   312  1   855   70  31  0  101    14     3   \n",
      "28  25          TELANGANA   193    41  0   234   25   4  0   29    58    17   \n",
      "29  26            TRIPURA     8     2  0    10    0   0  0    0     2     0   \n",
      "30  27      UTTAR PRADESH   198   104  0   302    9   5  0   14   219   158   \n",
      "31  28        UTTARAKHAND    17    11  0    28    0   0  0    0     0     0   \n",
      "32  29        WEST BENGAL   130    54  0   184    0   0  0    0  2417  1327   \n",
      "33         TOTAL (STATES)  3625  1419  1  5045  236  89  0  325  7838  4155   \n",
      "34      UNION TERRITORIES                                                     \n",
      "35  30     A & N  ISLANDS     3     4  0     7    0   0  0    0    23     8   \n",
      "36  31         CHANDIGARH     7     4  0    11    0   0  0    0     0     0   \n",
      "37  32      D & N  HAVELI     4     0  0     4    0   0  0    0     0     0   \n",
      "38  33      DAMAN  &  DIU     1     0  0     1    0   0  0    0     0     0   \n",
      "39  34         DELHI (UT)    86    31  0   117    6   4  0   10   250    98   \n",
      "40  35        LAKSHADWEEP     0     0  0     0    0   0  0    0     0     0   \n",
      "41  36         PUDUCHERRY     0     0  0     0    0   0  0    0    15    13   \n",
      "42            TOTAL (UTs)   101    39  0   140    6   4  0   10   288   119   \n",
      "43      TOTAL (ALL INDIA)  3726  1458  1  5185  242  93  0  335  8126  4274   \n",
      "\n",
      "   12     13  \n",
      "3             \n",
      "4   0    210  \n",
      "5   0     18  \n",
      "6   0     15  \n",
      "7   0      2  \n",
      "8   0   1807  \n",
      "9   0      8  \n",
      "10  0    246  \n",
      "11  0    490  \n",
      "12  0      0  \n",
      "13  0     20  \n",
      "14  0      9  \n",
      "15  0    155  \n",
      "16  0     76  \n",
      "17  0    340  \n",
      "18  0    266  \n",
      "19  0      2  \n",
      "20  0      0  \n",
      "21  0      0  \n",
      "22  0      5  \n",
      "23  0   3591  \n",
      "24  0     71  \n",
      "25  0    418  \n",
      "26  0     29  \n",
      "27  0     17  \n",
      "28  0     75  \n",
      "29  0      2  \n",
      "30  0    377  \n",
      "31  0      0  \n",
      "32  0   3744  \n",
      "33  0  11993  \n",
      "34            \n",
      "35  0     31  \n",
      "36  0      0  \n",
      "37  0      0  \n",
      "38  0      0  \n",
      "39  0    348  \n",
      "40  0      0  \n",
      "41  0     28  \n",
      "42  0    407  \n",
      "43  0  12400  \n",
      "\n"
     ]
    }
   ]
  },
  {
   "cell_type": "code",
   "execution_count": 14,
   "metadata": {},
   "outputs": [
    {
     "output_type": "execute_result",
     "data": {
      "text/plain": [
       "3"
      ]
     },
     "metadata": {},
     "execution_count": 14
    }
   ],
   "source": [
    "# List of Column headers as column are nested, i.e exhibit a multi level/index structure\n",
    "# The multi level structre will be generated and applied in the next \n",
    "column_header = [\n",
    "    ['No Education','Primary (up to class–5th)','Middle (up to class–8th)'],\n",
    "    ['Matriculate/ Secondary(up to class–10th)','Hr. Secondary/ Intermediate/Pre-University (up to class–12th)','Diploma/Certificate/ ITI'],\n",
    "    ['Graduate and above','Professionals (MBA etc.)','Status Not known ']\n",
    "]\n",
    "len(column_header)"
   ]
  },
  {
   "cell_type": "code",
   "execution_count": 15,
   "metadata": {},
   "outputs": [],
   "source": [
    "def set_Column(df, title):\n",
    "    column_list = [\n",
    "        (\"Sl. No.\",''),\n",
    "        (\"State/UT\",''), \n",
    "        (title[0],'Male'),\n",
    "        (title[0],'Female'),\n",
    "        (title[0],'Transgender'),\n",
    "        (title[0],'Total'),\n",
    "        (title[1],'Male'),\n",
    "        (title[1],'Female'),\n",
    "        (title[1],'Transgender'),\n",
    "        (title[1],'Total'),\n",
    "        (title[2],'Male'),\n",
    "        (title[2],'Female'),\n",
    "        (title[2],'Transgender'),\n",
    "        (title[2],'Total')\n",
    "    ]\n",
    "    df.columns = pd.MultiIndex.from_tuples(column_list)"
   ]
  },
  {
   "cell_type": "code",
   "execution_count": 16,
   "metadata": {},
   "outputs": [],
   "source": [
    "#Sets column headers for pages 1-3\n",
    "for i in range(len(tables)):\n",
    "    set_Column(tables[i].df, column_header[i])\n",
    "    tables[i].df.set_index([\"Sl. No.\",\"State/UT\"],inplace=True)"
   ]
  },
  {
   "cell_type": "code",
   "execution_count": 17,
   "metadata": {},
   "outputs": [],
   "source": [
    "#Sets column headers for page 4\n",
    "table4[0].df.columns = pd.MultiIndex.from_tuples(\n",
    "    [\n",
    "        (\"Sl. No.\",''),\n",
    "        (\"State/UT\",''), \n",
    "        ('Total','Male'),\n",
    "        ('Total','Female'),\n",
    "        ('Total','Transgender'),\n",
    "        ('Total','Total')\n",
    "    ]\n",
    ")\n",
    "# Sets Index to first 2 columns\n",
    "table4[0].df.set_index([\"Sl. No.\",\"State/UT\"],inplace=True)"
   ]
  },
  {
   "cell_type": "code",
   "execution_count": 18,
   "metadata": {},
   "outputs": [],
   "source": [
    "# Incase we're intersted in seeing the scraped tables at this point.\n",
    "# Commented as it takes too much screen space\n",
    "# Run if you want\n",
    "# printnAllTables(tables)\n",
    "\n",
    "# OR Print a simgle one according to your choice\n",
    "# tables[23].df"
   ]
  },
  {
   "cell_type": "code",
   "execution_count": 19,
   "metadata": {},
   "outputs": [],
   "source": [
    "# Convert List of tables to list of DataFrames\n",
    "DataFrames = [each.df.copy() for each in tables]\n",
    "DataFrames.append(table4[0].df.copy())"
   ]
  },
  {
   "source": [
    "# DataFrames"
   ],
   "cell_type": "code",
   "metadata": {},
   "execution_count": 20,
   "outputs": []
  },
  {
   "cell_type": "code",
   "execution_count": 21,
   "metadata": {},
   "outputs": [],
   "source": [
    "# Concat all the tables one after the other, as they all have the same indexes.\n",
    "final = pd.concat(DataFrames,axis=1)"
   ]
  },
  {
   "cell_type": "code",
   "execution_count": 22,
   "metadata": {},
   "outputs": [],
   "source": [
    "# Reset Index before saving file, for better formatting in RAW CSV\n",
    "final.reset_index().to_csv(\"Educational Status - wise Distribution of Suicides during 2019 (State & UT-wise).csv\",index=False)"
   ]
  }
 ],
 "metadata": {
  "kernelspec": {
   "display_name": "Python 3",
   "language": "python",
   "name": "python3"
  },
  "language_info": {
   "codemirror_mode": {
    "name": "ipython",
    "version": 3
   },
   "file_extension": ".py",
   "mimetype": "text/x-python",
   "name": "python",
   "nbconvert_exporter": "python",
   "pygments_lexer": "ipython3",
   "version": "3.8.2-final"
  }
 },
 "nbformat": 4,
 "nbformat_minor": 4
}
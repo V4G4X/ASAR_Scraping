{
 "cells": [
  {
   "cell_type": "code",
   "execution_count": 1,
   "metadata": {},
   "outputs": [],
   "source": [
    "import wget\n",
    "import ssl\n",
    "import os\n",
    "ssl._create_default_https_context = ssl._create_unverified_context"
   ]
  },
  {
   "cell_type": "code",
   "execution_count": 2,
   "metadata": {},
   "outputs": [],
   "source": [
    "pdf_url = 'https://ncrb.gov.in/sites/default/files/adsi_reports_previous_year/Table-1.9_2019.pdf'\n",
    "fileName = pdf_url[67:]\n",
    "try:\n",
    "    #Delete the file to redownload it\n",
    "    os.remove(fileName)\n",
    "except FileNotFoundError as e:\n",
    "    #Ignore in case FileNotFound Error occurs\n",
    "    pass\n",
    "fileName = wget.download(pdf_url,fileName)"
   ]
  },
  {
   "cell_type": "code",
   "execution_count": 3,
   "metadata": {},
   "outputs": [],
   "source": [
    "import numpy as np\n",
    "import pandas as pd\n",
    "import camelot"
   ]
  },
  {
   "cell_type": "code",
   "execution_count": 4,
   "metadata": {},
   "outputs": [
    {
     "data": {
      "text/plain": [
       "'Table-1.9_2019.pdf'"
      ]
     },
     "execution_count": 4,
     "metadata": {},
     "output_type": "execute_result"
    }
   ],
   "source": [
    "fileName"
   ]
  },
  {
   "cell_type": "code",
   "execution_count": 8,
   "metadata": {},
   "outputs": [
    {
     "name": "stderr",
     "output_type": "stream",
     "text": [
      "UserWarning: No tables found in table area 1 [stream.py:359]\n"
     ]
    }
   ],
   "source": [
    "tables = camelot.read_pdf(fileName,\n",
    "                          flavor='stream',\n",
    "                          table_areas=[\"205.3738933764136,788.1631676079238,570.9105654281099,754.494697825635\"],\n",
    "#                           columns=[\"54.83050080775445,161.60568659127628,203.93098546042006,256.83760904684976,308.7822940226172,340.526268174475,379.00381260096935,430.9484975767367,477.12155088852995,515.5990953150243\"],\n",
    "#                           split_text=True,\n",
    "                          pages=\"all\"\n",
    "                         )"
   ]
  },
  {
   "cell_type": "code",
   "execution_count": 13,
   "metadata": {},
   "outputs": [
    {
     "name": "stdout",
     "output_type": "stream",
     "text": [
      "0                          \n",
      "1    No. of Persons Injured\n",
      "Name: 0, dtype: object\n",
      "0    Ship Accidents\n",
      "Name: 0, dtype: object\n",
      "0    Collapse of Structure (Total)\n",
      "Name: 0, dtype: object\n",
      "0    Collapse of Structure (Dwelling House/Resident...\n",
      "Name: 0, dtype: object\n",
      "0    Collapse of Structure (Official/Commercial Bui...\n",
      "Name: 0, dtype: object\n",
      "0    Collapse of Structure (Dam)\n",
      "Name: 0, dtype: object\n",
      "0    Collapse of Structure (Bridge)\n",
      "Name: 0, dtype: object\n",
      "0    Collapse of Structure (Others)\n",
      "Name: 0, dtype: object\n",
      "0    Drowning (Total)\n",
      "Name: 0, dtype: object\n",
      "0    Drowning (Boat Capsize)\n",
      "Name: 0, dtype: object\n",
      "0    Drowning (Accidental Falls into Water body)\n",
      "Name: 0, dtype: object\n",
      "0    Drowning (Other Cases)\n",
      "Name: 0, dtype: object\n",
      "0    Electrocution\n",
      "Name: 0, dtype: object\n",
      "0    Accidental Explosion (Total)\n",
      "Name: 0, dtype: object\n",
      "0    Accidental Explosion (Domestic Gas Cylinder)\n",
      "Name: 0, dtype: object\n",
      "0    Accidental Explosion (Industrial Boiler/Gas Cy...\n",
      "Name: 0, dtype: object\n",
      "0    Accidental Explosion (Ammunition Explosion in ...\n",
      "Name: 0, dtype: object\n",
      "0    Accidental Explosion (Other)\n",
      "Name: 0, dtype: object\n",
      "0    Falls (Total)\n",
      "Name: 0, dtype: object\n",
      "0    Falls (from Height)\n",
      "Name: 0, dtype: object\n",
      "0    Falls (from Vehicles (Automobile like Bus, Tru...\n",
      "Name: 0, dtype: object\n",
      "0    Falls (into Manhole)\n",
      "Name: 0, dtype: object\n",
      "0    Falls (into Pit)\n",
      "Name: 0, dtype: object\n",
      "0    Falls (into Borewell)\n",
      "Name: 0, dtype: object\n",
      "0    Falls (Others)\n",
      "Name: 0, dtype: object\n",
      "0    Factory / Machine Accidents\n",
      "Name: 0, dtype: object\n",
      "0    Accidental Fire (Total)\n",
      "Name: 0, dtype: object\n",
      "0    Accidental Fire (Electrical Short Circuit)\n",
      "Name: 0, dtype: object\n",
      "0    Accidental Fire (Riot/Agitation)\n",
      "Name: 0, dtype: object\n",
      "0    Accidental Fire (Fireworks)\n",
      "Name: 0, dtype: object\n",
      "0    Accidental Fire (Cooking Gas Cylinder/Stove Bu...\n",
      "Name: 0, dtype: object\n",
      "0    Accidental Fire (Other Causes)\n",
      "Name: 0, dtype: object\n",
      "0    Firearm\n",
      "Name: 0, dtype: object\n",
      "0    Mines or Quarry Disaster\n",
      "Name: 0, dtype: object\n",
      "0    Traffic Accidents (Total)\n",
      "Name: 0, dtype: object\n",
      "0    Road Accidents\n",
      "Name: 0, dtype: object\n",
      "0    Railway Crossing Accidents\n",
      "Name: 0, dtype: object\n",
      "0    Railway Accidents\n",
      "Name: 0, dtype: object\n",
      "0    Stampede\n",
      "Name: 0, dtype: object\n",
      "0    Sudden Deaths (Total)\n",
      "Name: 0, dtype: object\n",
      "0    Sudden Deaths (Heart Attack)\n",
      "Name: 0, dtype: object\n",
      "0    Sudden Deaths (Others)\n",
      "Name: 0, dtype: object\n",
      "0    Deaths of Women during Pregnancy (Total)\n",
      "Name: 0, dtype: object\n",
      "0    Deaths of Women during Pregnancy (Due to Abort...\n",
      "Name: 0, dtype: object\n",
      "0    Deaths of Women during Pregnancy (Other than A...\n",
      "Name: 0, dtype: object\n",
      "0    Deaths due to Consumption of Illicit/Spurious ...\n",
      "Name: 0, dtype: object\n",
      "0    Killed / Injured by Animals\n",
      "Name: 0, dtype: object\n",
      "0    Poisoning (Total)\n",
      "Name: 0, dtype: object\n",
      "0    Poisoning (Food Poisoning)\n",
      "Name: 0, dtype: object\n",
      "0    Poisoning (Accidental Intake of Insecticides/P...\n",
      "Name: 0, dtype: object\n",
      "0    Poisoning [Poisonous Gases (Total)]\n",
      "Name: 0, dtype: object\n",
      "0    Poisoning [Poisonous Gases (Carbon Monoxide (C...\n",
      "Name: 0, dtype: object\n",
      "0    Poisoning [Poisonous Gases (Other poisonous Ga...\n",
      "Name: 0, dtype: object\n",
      "0    Poisoning (Snake Bite)\n",
      "Name: 0, dtype: object\n",
      "0    Poisoning (Animal/Reptiles/Insects Bite)\n",
      "Name: 0, dtype: object\n",
      "0    Poisoning (Other)\n",
      "Name: 0, dtype: object\n",
      "0    Suffocation\n",
      "Name: 0, dtype: object\n",
      "0    Drug Overdose\n",
      "Name: 0, dtype: object\n",
      "0    Other than above Causes\n",
      "Name: 0, dtype: object\n",
      "0    Causes Not Known\n",
      "Name: 0, dtype: object\n",
      "0    Other Causes-wise Number of Cases, Persons Inj...\n",
      "1                                    (State & UT-wise)\n",
      "2                                                Total\n",
      "Name: 0, dtype: object\n"
     ]
    }
   ],
   "source": [
    "for each in tables:\n",
    "    print(each.df[0])"
   ]
  }
 ],
 "metadata": {
  "kernelspec": {
   "display_name": "Python 3",
   "language": "python",
   "name": "python3"
  },
  "language_info": {
   "codemirror_mode": {
    "name": "ipython",
    "version": 3
   },
   "file_extension": ".py",
   "mimetype": "text/x-python",
   "name": "python",
   "nbconvert_exporter": "python",
   "pygments_lexer": "ipython3",
   "version": "3.8.2"
  }
 },
 "nbformat": 4,
 "nbformat_minor": 4
}

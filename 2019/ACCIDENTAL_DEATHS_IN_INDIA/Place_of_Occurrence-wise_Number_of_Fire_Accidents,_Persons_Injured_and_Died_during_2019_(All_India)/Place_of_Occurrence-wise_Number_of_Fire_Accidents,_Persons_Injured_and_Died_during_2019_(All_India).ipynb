{
 "cells": [
  {
   "cell_type": "code",
   "execution_count": 1,
   "metadata": {},
   "outputs": [],
   "source": [
    "import wget\n",
    "import ssl\n",
    "ssl._create_default_https_context = ssl._create_unverified_context"
   ]
  },
  {
   "cell_type": "code",
   "execution_count": 2,
   "metadata": {},
   "outputs": [],
   "source": [
    "pdf_url = 'https://ncrb.gov.in/sites/default/files/adsi_reports_previous_year/Table-1.10_2019.pdf'\n",
    "fileName = wget.download(pdf_url)"
   ]
  },
  {
   "cell_type": "code",
   "execution_count": 3,
   "metadata": {},
   "outputs": [],
   "source": [
    "import numpy as np\n",
    "import pandas as pd\n",
    "import camelot"
   ]
  },
  {
   "cell_type": "code",
   "execution_count": 4,
   "metadata": {},
   "outputs": [
    {
     "output_type": "execute_result",
     "data": {
      "text/plain": [
       "'Table-1.10_2019.pdf'"
      ]
     },
     "metadata": {},
     "execution_count": 4
    }
   ],
   "source": [
    "fileName"
   ]
  },
  {
   "cell_type": "code",
   "execution_count": 5,
   "metadata": {},
   "outputs": [],
   "source": [
    "tables = camelot.read_pdf(fileName,\n",
    "                          flavor='stream', \n",
    "                          row_tol=20,\n",
    "                          column_tol=2,\n",
    "                          table_areas=[\"41.84432956381261,659.2930835366282,568.0247495961229,229.29862660282382\"],\n",
    "                          strip_text='\\n\\t',\n",
    "                          split_text=True)"
   ]
  },
  {
   "cell_type": "code",
   "execution_count": 6,
   "metadata": {},
   "outputs": [
    {
     "output_type": "execute_result",
     "data": {
      "text/plain": [
       "     0                                                  1      2      3   \\\n",
       "0   (1)                                                (2)    (3)    (4)   \n",
       "1     1                           Fire in School Buildings      7     23   \n",
       "2     2                       Fire in Commercial Buildings    367    328   \n",
       "3     3             Fire in Residential/Dwelling Buildings   7241   6364   \n",
       "4     4                       Fire in Government Buildings     24     60   \n",
       "5     5                                  Fire in the Mines     13      2   \n",
       "6     6  Fire in Factory Manufacturing Combustible Mate...     51     27   \n",
       "7     7          Fire in the Factories (other than Sl.– 6)    184    181   \n",
       "8     8                        Accidental Fire in Train(s)      9      8   \n",
       "9     9  Accidental Fire in Vehicles (Automobiles) (Total)    502    257   \n",
       "10       9.1 Passenger Vehicle (e.g.           Bus/Taxi...    175     63   \n",
       "11                                     9.2 Private Vehicle    146    136   \n",
       "12                                      9.3 Goods Carriers    181     58   \n",
       "13   10                                             Others   4701   3787   \n",
       "14   11                                              Total  13099  11037   \n",
       "\n",
       "       4    5    6    7    8     9     10    11     12     13  \n",
       "0     (5)  (6)  (7)  (8)  (9)  (10)  (11)  (12)   (13)   (14)  \n",
       "1   228.6    0    0    0    0    12    16     0     28    0.3  \n",
       "2   -10.6   19    5    0   24   189   141     0    330    3.0  \n",
       "3   -12.1  222   99    0  321  2698  3631     0   6329   58.0  \n",
       "4   150.0    0    1    0    1    47     7     0     54    0.5  \n",
       "5   -84.6    0    0    0    0     2     0     0      2    0.0  \n",
       "6   -47.1    2    1    0    3    21    12     0     33    0.3  \n",
       "7    -1.6   27    5    0   32   102    75     0    177    1.6  \n",
       "8   -11.1    2    0    0    2     6     1     0      7    0.1  \n",
       "9   -48.8   19    6    0   25    87    65     0    152    1.4  \n",
       "10  -64.0    5    3    0    8    26    13     0     39    0.4  \n",
       "11   -6.8   10    3    0   13    27    41     0     68    0.6  \n",
       "12  -68.0    4    0    0    4    34    11     0     45    0.4  \n",
       "13  -19.4   22   11    0   33  1783  2020     0   3803   34.8  \n",
       "14  -15.7  313  128    0  441  4947  5968     0  10915  100.0  "
      ],
      "text/html": "<div>\n<style scoped>\n    .dataframe tbody tr th:only-of-type {\n        vertical-align: middle;\n    }\n\n    .dataframe tbody tr th {\n        vertical-align: top;\n    }\n\n    .dataframe thead th {\n        text-align: right;\n    }\n</style>\n<table border=\"1\" class=\"dataframe\">\n  <thead>\n    <tr style=\"text-align: right;\">\n      <th></th>\n      <th>0</th>\n      <th>1</th>\n      <th>2</th>\n      <th>3</th>\n      <th>4</th>\n      <th>5</th>\n      <th>6</th>\n      <th>7</th>\n      <th>8</th>\n      <th>9</th>\n      <th>10</th>\n      <th>11</th>\n      <th>12</th>\n      <th>13</th>\n    </tr>\n  </thead>\n  <tbody>\n    <tr>\n      <th>0</th>\n      <td>(1)</td>\n      <td>(2)</td>\n      <td>(3)</td>\n      <td>(4)</td>\n      <td>(5)</td>\n      <td>(6)</td>\n      <td>(7)</td>\n      <td>(8)</td>\n      <td>(9)</td>\n      <td>(10)</td>\n      <td>(11)</td>\n      <td>(12)</td>\n      <td>(13)</td>\n      <td>(14)</td>\n    </tr>\n    <tr>\n      <th>1</th>\n      <td>1</td>\n      <td>Fire in School Buildings</td>\n      <td>7</td>\n      <td>23</td>\n      <td>228.6</td>\n      <td>0</td>\n      <td>0</td>\n      <td>0</td>\n      <td>0</td>\n      <td>12</td>\n      <td>16</td>\n      <td>0</td>\n      <td>28</td>\n      <td>0.3</td>\n    </tr>\n    <tr>\n      <th>2</th>\n      <td>2</td>\n      <td>Fire in Commercial Buildings</td>\n      <td>367</td>\n      <td>328</td>\n      <td>-10.6</td>\n      <td>19</td>\n      <td>5</td>\n      <td>0</td>\n      <td>24</td>\n      <td>189</td>\n      <td>141</td>\n      <td>0</td>\n      <td>330</td>\n      <td>3.0</td>\n    </tr>\n    <tr>\n      <th>3</th>\n      <td>3</td>\n      <td>Fire in Residential/Dwelling Buildings</td>\n      <td>7241</td>\n      <td>6364</td>\n      <td>-12.1</td>\n      <td>222</td>\n      <td>99</td>\n      <td>0</td>\n      <td>321</td>\n      <td>2698</td>\n      <td>3631</td>\n      <td>0</td>\n      <td>6329</td>\n      <td>58.0</td>\n    </tr>\n    <tr>\n      <th>4</th>\n      <td>4</td>\n      <td>Fire in Government Buildings</td>\n      <td>24</td>\n      <td>60</td>\n      <td>150.0</td>\n      <td>0</td>\n      <td>1</td>\n      <td>0</td>\n      <td>1</td>\n      <td>47</td>\n      <td>7</td>\n      <td>0</td>\n      <td>54</td>\n      <td>0.5</td>\n    </tr>\n    <tr>\n      <th>5</th>\n      <td>5</td>\n      <td>Fire in the Mines</td>\n      <td>13</td>\n      <td>2</td>\n      <td>-84.6</td>\n      <td>0</td>\n      <td>0</td>\n      <td>0</td>\n      <td>0</td>\n      <td>2</td>\n      <td>0</td>\n      <td>0</td>\n      <td>2</td>\n      <td>0.0</td>\n    </tr>\n    <tr>\n      <th>6</th>\n      <td>6</td>\n      <td>Fire in Factory Manufacturing Combustible Mate...</td>\n      <td>51</td>\n      <td>27</td>\n      <td>-47.1</td>\n      <td>2</td>\n      <td>1</td>\n      <td>0</td>\n      <td>3</td>\n      <td>21</td>\n      <td>12</td>\n      <td>0</td>\n      <td>33</td>\n      <td>0.3</td>\n    </tr>\n    <tr>\n      <th>7</th>\n      <td>7</td>\n      <td>Fire in the Factories (other than Sl.– 6)</td>\n      <td>184</td>\n      <td>181</td>\n      <td>-1.6</td>\n      <td>27</td>\n      <td>5</td>\n      <td>0</td>\n      <td>32</td>\n      <td>102</td>\n      <td>75</td>\n      <td>0</td>\n      <td>177</td>\n      <td>1.6</td>\n    </tr>\n    <tr>\n      <th>8</th>\n      <td>8</td>\n      <td>Accidental Fire in Train(s)</td>\n      <td>9</td>\n      <td>8</td>\n      <td>-11.1</td>\n      <td>2</td>\n      <td>0</td>\n      <td>0</td>\n      <td>2</td>\n      <td>6</td>\n      <td>1</td>\n      <td>0</td>\n      <td>7</td>\n      <td>0.1</td>\n    </tr>\n    <tr>\n      <th>9</th>\n      <td>9</td>\n      <td>Accidental Fire in Vehicles (Automobiles) (Total)</td>\n      <td>502</td>\n      <td>257</td>\n      <td>-48.8</td>\n      <td>19</td>\n      <td>6</td>\n      <td>0</td>\n      <td>25</td>\n      <td>87</td>\n      <td>65</td>\n      <td>0</td>\n      <td>152</td>\n      <td>1.4</td>\n    </tr>\n    <tr>\n      <th>10</th>\n      <td></td>\n      <td>9.1 Passenger Vehicle (e.g.           Bus/Taxi...</td>\n      <td>175</td>\n      <td>63</td>\n      <td>-64.0</td>\n      <td>5</td>\n      <td>3</td>\n      <td>0</td>\n      <td>8</td>\n      <td>26</td>\n      <td>13</td>\n      <td>0</td>\n      <td>39</td>\n      <td>0.4</td>\n    </tr>\n    <tr>\n      <th>11</th>\n      <td></td>\n      <td>9.2 Private Vehicle</td>\n      <td>146</td>\n      <td>136</td>\n      <td>-6.8</td>\n      <td>10</td>\n      <td>3</td>\n      <td>0</td>\n      <td>13</td>\n      <td>27</td>\n      <td>41</td>\n      <td>0</td>\n      <td>68</td>\n      <td>0.6</td>\n    </tr>\n    <tr>\n      <th>12</th>\n      <td></td>\n      <td>9.3 Goods Carriers</td>\n      <td>181</td>\n      <td>58</td>\n      <td>-68.0</td>\n      <td>4</td>\n      <td>0</td>\n      <td>0</td>\n      <td>4</td>\n      <td>34</td>\n      <td>11</td>\n      <td>0</td>\n      <td>45</td>\n      <td>0.4</td>\n    </tr>\n    <tr>\n      <th>13</th>\n      <td>10</td>\n      <td>Others</td>\n      <td>4701</td>\n      <td>3787</td>\n      <td>-19.4</td>\n      <td>22</td>\n      <td>11</td>\n      <td>0</td>\n      <td>33</td>\n      <td>1783</td>\n      <td>2020</td>\n      <td>0</td>\n      <td>3803</td>\n      <td>34.8</td>\n    </tr>\n    <tr>\n      <th>14</th>\n      <td>11</td>\n      <td>Total</td>\n      <td>13099</td>\n      <td>11037</td>\n      <td>-15.7</td>\n      <td>313</td>\n      <td>128</td>\n      <td>0</td>\n      <td>441</td>\n      <td>4947</td>\n      <td>5968</td>\n      <td>0</td>\n      <td>10915</td>\n      <td>100.0</td>\n    </tr>\n  </tbody>\n</table>\n</div>"
     },
     "metadata": {},
     "execution_count": 6
    }
   ],
   "source": [
    "tables[0].df"
   ]
  },
  {
   "cell_type": "code",
   "execution_count": 7,
   "metadata": {},
   "outputs": [],
   "source": [
    "def split_by_first_space(df, strIndex, stpIndex):\n",
    "    df = df.iloc[strIndex:stpIndex+1]\n",
    "    for index, each in df.iterrows():\n",
    "        space = each[1].find(' ')\n",
    "        each[0] = each[1][:space]\n",
    "        each[1] = each[1][space:]"
   ]
  },
  {
   "cell_type": "code",
   "execution_count": 8,
   "metadata": {},
   "outputs": [],
   "source": [
    "split_by_first_space(tables[0].df,10,12)"
   ]
  },
  {
   "cell_type": "code",
   "execution_count": 9,
   "metadata": {},
   "outputs": [],
   "source": [
    "columns=[(\"Sl. No.\",\"\"),\n",
    "         (\"Cause\",\"\"),\n",
    "         (\"No. of Cases\",\"2018\"),\n",
    "         (\"No. of Cases\",\"2019\"),\n",
    "         (\"No. of Cases\",\"% Var.\"),\n",
    "         ('Persons Injured - 2019','Male'),\n",
    "         ('Persons Injured - 2019','Female'),\n",
    "         ('Persons Injured - 2019','Transgender'),\n",
    "         ('Persons Injured - 2019','Total'),\n",
    "         ('Persons Died - 2019','Male'),\n",
    "         ('Persons Died - 2019','Female'),\n",
    "         ('Persons Died - 2019','Transgender'),\n",
    "         ('Persons Died - 2019','Total'),\n",
    "         (\"Percentage Share in Deaths\",\"\")\n",
    "    ]\n",
    "tables[0].df.columns = pd.MultiIndex.from_tuples(columns)"
   ]
  },
  {
   "cell_type": "code",
   "execution_count": 10,
   "metadata": {},
   "outputs": [],
   "source": [
    "tables[0].df.drop(0,inplace=True)"
   ]
  },
  {
   "cell_type": "code",
   "execution_count": 11,
   "metadata": {},
   "outputs": [
    {
     "output_type": "execute_result",
     "data": {
      "text/plain": [
       "   Sl. No.                                              Cause No. of Cases  \\\n",
       "                                                                      2018   \n",
       "1        1                           Fire in School Buildings            7   \n",
       "2        2                       Fire in Commercial Buildings          367   \n",
       "3        3             Fire in Residential/Dwelling Buildings         7241   \n",
       "4        4                       Fire in Government Buildings           24   \n",
       "5        5                                  Fire in the Mines           13   \n",
       "6        6  Fire in Factory Manufacturing Combustible Mate...           51   \n",
       "7        7          Fire in the Factories (other than Sl.– 6)          184   \n",
       "8        8                        Accidental Fire in Train(s)            9   \n",
       "9        9  Accidental Fire in Vehicles (Automobiles) (Total)          502   \n",
       "10     9.1   Passenger Vehicle (e.g.           Bus/Taxi/Au...          175   \n",
       "11     9.2                                    Private Vehicle          146   \n",
       "12     9.3                                     Goods Carriers          181   \n",
       "13      10                                             Others         4701   \n",
       "14      11                                              Total        13099   \n",
       "\n",
       "                 Persons Injured - 2019                           \\\n",
       "     2019 % Var.                   Male Female Transgender Total   \n",
       "1      23  228.6                      0      0           0     0   \n",
       "2     328  -10.6                     19      5           0    24   \n",
       "3    6364  -12.1                    222     99           0   321   \n",
       "4      60  150.0                      0      1           0     1   \n",
       "5       2  -84.6                      0      0           0     0   \n",
       "6      27  -47.1                      2      1           0     3   \n",
       "7     181   -1.6                     27      5           0    32   \n",
       "8       8  -11.1                      2      0           0     2   \n",
       "9     257  -48.8                     19      6           0    25   \n",
       "10     63  -64.0                      5      3           0     8   \n",
       "11    136   -6.8                     10      3           0    13   \n",
       "12     58  -68.0                      4      0           0     4   \n",
       "13   3787  -19.4                     22     11           0    33   \n",
       "14  11037  -15.7                    313    128           0   441   \n",
       "\n",
       "   Persons Died - 2019                           Percentage Share in Deaths  \n",
       "                  Male Female Transgender  Total                             \n",
       "1                   12     16           0     28                        0.3  \n",
       "2                  189    141           0    330                        3.0  \n",
       "3                 2698   3631           0   6329                       58.0  \n",
       "4                   47      7           0     54                        0.5  \n",
       "5                    2      0           0      2                        0.0  \n",
       "6                   21     12           0     33                        0.3  \n",
       "7                  102     75           0    177                        1.6  \n",
       "8                    6      1           0      7                        0.1  \n",
       "9                   87     65           0    152                        1.4  \n",
       "10                  26     13           0     39                        0.4  \n",
       "11                  27     41           0     68                        0.6  \n",
       "12                  34     11           0     45                        0.4  \n",
       "13                1783   2020           0   3803                       34.8  \n",
       "14                4947   5968           0  10915                      100.0  "
      ],
      "text/html": "<div>\n<style scoped>\n    .dataframe tbody tr th:only-of-type {\n        vertical-align: middle;\n    }\n\n    .dataframe tbody tr th {\n        vertical-align: top;\n    }\n\n    .dataframe thead tr th {\n        text-align: left;\n    }\n</style>\n<table border=\"1\" class=\"dataframe\">\n  <thead>\n    <tr>\n      <th></th>\n      <th>Sl. No.</th>\n      <th>Cause</th>\n      <th colspan=\"3\" halign=\"left\">No. of Cases</th>\n      <th colspan=\"4\" halign=\"left\">Persons Injured - 2019</th>\n      <th colspan=\"4\" halign=\"left\">Persons Died - 2019</th>\n      <th>Percentage Share in Deaths</th>\n    </tr>\n    <tr>\n      <th></th>\n      <th></th>\n      <th></th>\n      <th>2018</th>\n      <th>2019</th>\n      <th>% Var.</th>\n      <th>Male</th>\n      <th>Female</th>\n      <th>Transgender</th>\n      <th>Total</th>\n      <th>Male</th>\n      <th>Female</th>\n      <th>Transgender</th>\n      <th>Total</th>\n      <th></th>\n    </tr>\n  </thead>\n  <tbody>\n    <tr>\n      <th>1</th>\n      <td>1</td>\n      <td>Fire in School Buildings</td>\n      <td>7</td>\n      <td>23</td>\n      <td>228.6</td>\n      <td>0</td>\n      <td>0</td>\n      <td>0</td>\n      <td>0</td>\n      <td>12</td>\n      <td>16</td>\n      <td>0</td>\n      <td>28</td>\n      <td>0.3</td>\n    </tr>\n    <tr>\n      <th>2</th>\n      <td>2</td>\n      <td>Fire in Commercial Buildings</td>\n      <td>367</td>\n      <td>328</td>\n      <td>-10.6</td>\n      <td>19</td>\n      <td>5</td>\n      <td>0</td>\n      <td>24</td>\n      <td>189</td>\n      <td>141</td>\n      <td>0</td>\n      <td>330</td>\n      <td>3.0</td>\n    </tr>\n    <tr>\n      <th>3</th>\n      <td>3</td>\n      <td>Fire in Residential/Dwelling Buildings</td>\n      <td>7241</td>\n      <td>6364</td>\n      <td>-12.1</td>\n      <td>222</td>\n      <td>99</td>\n      <td>0</td>\n      <td>321</td>\n      <td>2698</td>\n      <td>3631</td>\n      <td>0</td>\n      <td>6329</td>\n      <td>58.0</td>\n    </tr>\n    <tr>\n      <th>4</th>\n      <td>4</td>\n      <td>Fire in Government Buildings</td>\n      <td>24</td>\n      <td>60</td>\n      <td>150.0</td>\n      <td>0</td>\n      <td>1</td>\n      <td>0</td>\n      <td>1</td>\n      <td>47</td>\n      <td>7</td>\n      <td>0</td>\n      <td>54</td>\n      <td>0.5</td>\n    </tr>\n    <tr>\n      <th>5</th>\n      <td>5</td>\n      <td>Fire in the Mines</td>\n      <td>13</td>\n      <td>2</td>\n      <td>-84.6</td>\n      <td>0</td>\n      <td>0</td>\n      <td>0</td>\n      <td>0</td>\n      <td>2</td>\n      <td>0</td>\n      <td>0</td>\n      <td>2</td>\n      <td>0.0</td>\n    </tr>\n    <tr>\n      <th>6</th>\n      <td>6</td>\n      <td>Fire in Factory Manufacturing Combustible Mate...</td>\n      <td>51</td>\n      <td>27</td>\n      <td>-47.1</td>\n      <td>2</td>\n      <td>1</td>\n      <td>0</td>\n      <td>3</td>\n      <td>21</td>\n      <td>12</td>\n      <td>0</td>\n      <td>33</td>\n      <td>0.3</td>\n    </tr>\n    <tr>\n      <th>7</th>\n      <td>7</td>\n      <td>Fire in the Factories (other than Sl.– 6)</td>\n      <td>184</td>\n      <td>181</td>\n      <td>-1.6</td>\n      <td>27</td>\n      <td>5</td>\n      <td>0</td>\n      <td>32</td>\n      <td>102</td>\n      <td>75</td>\n      <td>0</td>\n      <td>177</td>\n      <td>1.6</td>\n    </tr>\n    <tr>\n      <th>8</th>\n      <td>8</td>\n      <td>Accidental Fire in Train(s)</td>\n      <td>9</td>\n      <td>8</td>\n      <td>-11.1</td>\n      <td>2</td>\n      <td>0</td>\n      <td>0</td>\n      <td>2</td>\n      <td>6</td>\n      <td>1</td>\n      <td>0</td>\n      <td>7</td>\n      <td>0.1</td>\n    </tr>\n    <tr>\n      <th>9</th>\n      <td>9</td>\n      <td>Accidental Fire in Vehicles (Automobiles) (Total)</td>\n      <td>502</td>\n      <td>257</td>\n      <td>-48.8</td>\n      <td>19</td>\n      <td>6</td>\n      <td>0</td>\n      <td>25</td>\n      <td>87</td>\n      <td>65</td>\n      <td>0</td>\n      <td>152</td>\n      <td>1.4</td>\n    </tr>\n    <tr>\n      <th>10</th>\n      <td>9.1</td>\n      <td>Passenger Vehicle (e.g.           Bus/Taxi/Au...</td>\n      <td>175</td>\n      <td>63</td>\n      <td>-64.0</td>\n      <td>5</td>\n      <td>3</td>\n      <td>0</td>\n      <td>8</td>\n      <td>26</td>\n      <td>13</td>\n      <td>0</td>\n      <td>39</td>\n      <td>0.4</td>\n    </tr>\n    <tr>\n      <th>11</th>\n      <td>9.2</td>\n      <td>Private Vehicle</td>\n      <td>146</td>\n      <td>136</td>\n      <td>-6.8</td>\n      <td>10</td>\n      <td>3</td>\n      <td>0</td>\n      <td>13</td>\n      <td>27</td>\n      <td>41</td>\n      <td>0</td>\n      <td>68</td>\n      <td>0.6</td>\n    </tr>\n    <tr>\n      <th>12</th>\n      <td>9.3</td>\n      <td>Goods Carriers</td>\n      <td>181</td>\n      <td>58</td>\n      <td>-68.0</td>\n      <td>4</td>\n      <td>0</td>\n      <td>0</td>\n      <td>4</td>\n      <td>34</td>\n      <td>11</td>\n      <td>0</td>\n      <td>45</td>\n      <td>0.4</td>\n    </tr>\n    <tr>\n      <th>13</th>\n      <td>10</td>\n      <td>Others</td>\n      <td>4701</td>\n      <td>3787</td>\n      <td>-19.4</td>\n      <td>22</td>\n      <td>11</td>\n      <td>0</td>\n      <td>33</td>\n      <td>1783</td>\n      <td>2020</td>\n      <td>0</td>\n      <td>3803</td>\n      <td>34.8</td>\n    </tr>\n    <tr>\n      <th>14</th>\n      <td>11</td>\n      <td>Total</td>\n      <td>13099</td>\n      <td>11037</td>\n      <td>-15.7</td>\n      <td>313</td>\n      <td>128</td>\n      <td>0</td>\n      <td>441</td>\n      <td>4947</td>\n      <td>5968</td>\n      <td>0</td>\n      <td>10915</td>\n      <td>100.0</td>\n    </tr>\n  </tbody>\n</table>\n</div>"
     },
     "metadata": {},
     "execution_count": 11
    }
   ],
   "source": [
    "tables[0].df"
   ]
  },
  {
   "cell_type": "code",
   "execution_count": 12,
   "metadata": {},
   "outputs": [],
   "source": [
    "tables[0].df.to_csv(\"Place_of_Occurrence-wise_Number_of_Fire_Accidents,_Persons_Injured_and_Died_during_2019_(All_India).csv\", index = False)"
   ]
  }
 ],
 "metadata": {
  "kernelspec": {
   "display_name": "Python 3",
   "language": "python",
   "name": "python3"
  },
  "language_info": {
   "codemirror_mode": {
    "name": "ipython",
    "version": 3
   },
   "file_extension": ".py",
   "mimetype": "text/x-python",
   "name": "python",
   "nbconvert_exporter": "python",
   "pygments_lexer": "ipython3",
   "version": "3.8.2-final"
  }
 },
 "nbformat": 4,
 "nbformat_minor": 4
}
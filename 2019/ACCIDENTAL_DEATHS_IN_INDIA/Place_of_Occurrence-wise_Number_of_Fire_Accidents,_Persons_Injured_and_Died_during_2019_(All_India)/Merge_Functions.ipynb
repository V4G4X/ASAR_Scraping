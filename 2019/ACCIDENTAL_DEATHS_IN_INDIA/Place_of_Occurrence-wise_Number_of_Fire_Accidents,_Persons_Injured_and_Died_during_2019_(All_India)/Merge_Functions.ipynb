{
 "cells": [
  {
   "cell_type": "code",
   "execution_count": null,
   "metadata": {},
   "outputs": [],
   "source": [
    "def mergeRows(df, strIndex, stpIndex):\n",
    "    DF = df.loc[strIndex:stpIndex]\n",
    "    df = DF.T\n",
    "    l = []\n",
    "    for index, each in df.iterrows():\n",
    "        output = ''\n",
    "        for ind, cell in each.iteritems():\n",
    "            output += (str(cell) + ' ')\n",
    "#         if(output == ''):\n",
    "#             continue\n",
    "        l.append(output.strip())\n",
    "    l = pd.Series(l,name=str(strIndex))\n",
    "    DF.loc[strIndex] = l"
   ]
  },
  {
   "cell_type": "code",
   "execution_count": null,
   "metadata": {},
   "outputs": [],
   "source": [
    "def mergeCol(df, strIndex, stpIndex):\n",
    "    df = df.loc[:,7:8]\n",
    "    l = []\n",
    "    for index, each in df.iterrows():\n",
    "        output = ''\n",
    "        for ind, cell in each.iteritems():\n",
    "            output += (str(cell) + ' ')\n",
    "        l.append(output.strip())\n",
    "    l = pd.Series(l,name=str(strIndex))\n",
    "    df[strIndex] = l"
   ]
  },
  {
   "cell_type": "code",
   "execution_count": null,
   "metadata": {},
   "outputs": [],
   "source": [
    "#Column to be Merged\n",
    "# 7,8\n",
    "mergeCol(table,7,8)\n",
    "table.drop(columns=[8],inplace=True)\n",
    "\n",
    "# Reset Column Index for future functionality that uses Indexing, and positioning\n",
    "n = len(table.columns)\n",
    "table.columns = list(range(0,n))"
   ]
  },
  {
   "cell_type": "code",
   "execution_count": null,
   "metadata": {},
   "outputs": [],
   "source": [
    "# Rows to merged\n",
    "# 3,4,5\n",
    "mergeRows(table,3,5)\n",
    "table.drop(index=[4,5],inplace=True)\n",
    "\n",
    "# 8,9,10\n",
    "mergeRows(table,8,10)\n",
    "table.drop(index=[9,10],inplace=True)\n",
    "\n",
    "# 11,12,13\n",
    "mergeRows(table,11,13)\n",
    "table.drop(index=[12,13],inplace=True)\n",
    "\n",
    "# 15,16,17\n",
    "mergeRows(table,15,17)\n",
    "table.drop(index=[16,17],inplace=True)\n",
    "\n",
    "# 18,19,20\n",
    "mergeRows(table,18,20)\n",
    "table.drop(index=[19,20],inplace=True)\n",
    "\n",
    "# Reset Row Index for future functionality that uses Indexing, and positioning\n",
    "n = len(table.index)\n",
    "table.index = list(range(0,n))"
   ]
  }
 ],
 "metadata": {
  "kernelspec": {
   "display_name": "Python 3",
   "language": "python",
   "name": "python3"
  },
  "language_info": {
   "codemirror_mode": {
    "name": "ipython",
    "version": 3
   },
   "file_extension": ".py",
   "mimetype": "text/x-python",
   "name": "python",
   "nbconvert_exporter": "python",
   "pygments_lexer": "ipython3",
   "version": "3.8.2"
  }
 },
 "nbformat": 4,
 "nbformat_minor": 4
}

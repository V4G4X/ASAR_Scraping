{
 "cells": [
  {
   "cell_type": "code",
   "execution_count": 1,
   "metadata": {},
   "outputs": [],
   "source": [
    "import wget\n",
    "import ssl\n",
    "import os\n",
    "ssl._create_default_https_context = ssl._create_unverified_context"
   ]
  },
  {
   "cell_type": "code",
   "execution_count": 2,
   "metadata": {},
   "outputs": [],
   "source": [
    "# Enter NCRB Individual PDF url\n",
    "pdf_url = 'https://ncrb.gov.in/sites/default/files/adsi_reports_previous_year/Table-1.4_2019.pdf'\n",
    "fileName = pdf_url[67:]\n",
    "try:\n",
    "    #Delete the file to redownload it\n",
    "    os.remove(fileName)\n",
    "except FileNotFoundError as e:\n",
    "    #Ignore in case FileNotFound Error occurs\n",
    "    pass\n",
    "# Download report\n",
    "fileName = wget.download(pdf_url,fileName)"
   ]
  },
  {
   "cell_type": "code",
   "execution_count": 3,
   "metadata": {},
   "outputs": [],
   "source": [
    "import numpy as np\n",
    "import pandas as pd\n",
    "import camelot"
   ]
  },
  {
   "cell_type": "code",
   "execution_count": 4,
   "metadata": {},
   "outputs": [
    {
     "output_type": "execute_result",
     "data": {
      "text/plain": [
       "'Table-1.4_2019.pdf'"
      ]
     },
     "metadata": {},
     "execution_count": 4
    }
   ],
   "source": [
    "fileName"
   ]
  },
  {
   "cell_type": "markdown",
   "metadata": {},
   "source": [
    "## What the structure of the final DataFrame is supposed to look like after stitching(concatinating)?\n",
    "\n",
    "| tableA   | tableB   | tableC   |\n",
    "| -------- | -------- | -------- |\n",
    "| Page1    | Page3    | Page5    |\n",
    "| Page2    | Page4    | Page6    |"
   ]
  },
  {
   "cell_type": "code",
   "execution_count": 5,
   "metadata": {},
   "outputs": [],
   "source": [
    "tables = camelot.read_pdf(fileName,\n",
    "                          flavor='stream',\n",
    "                          table_areas=[\n",
    "                              \"25.972342487883687,739.1354547346276,569.4676575121164,52.29867117593344\"\n",
    "                          ],\n",
    "                          columns=[\n",
    "                              \"49.0588691437803,149.1004846526656,183.73027463651053,222.20781906300488,258.7614862681745,289.54352180936996,326.0971890145396,360.72697899838454,387.66126009693056,425.1768659127626,459.8066558966075,498.28420032310186,530.0281744749597\"\n",
    "                          ],\n",
    "                          split_text=True,\n",
    "                          pages=\"1-4\"\n",
    "                         )"
   ]
  },
  {
   "cell_type": "code",
   "execution_count": 6,
   "metadata": {},
   "outputs": [],
   "source": [
    "tables5_6 = camelot.read_pdf(fileName,\n",
    "                          flavor='stream',\n",
    "                          table_areas=[\n",
    "                              \"25.972342487883687,732.0169841376875,556.4814862681745,69.61388420682489\"\n",
    "                          ],\n",
    "                          columns=[\n",
    "                              \"61.56407108239096,239.52271405492732,318.40168012924073,394.3948303715671,470.38798061389343\"\n",
    "                          ],\n",
    "                          split_text=True,\n",
    "                          pages=\"5-6\"\n",
    "                         )"
   ]
  },
  {
   "cell_type": "code",
   "execution_count": 7,
   "metadata": {},
   "outputs": [
    {
     "output_type": "execute_result",
     "data": {
      "text/plain": [
       "<TableList n=4>"
      ]
     },
     "metadata": {},
     "execution_count": 7
    }
   ],
   "source": [
    "tables"
   ]
  },
  {
   "cell_type": "code",
   "execution_count": 8,
   "metadata": {},
   "outputs": [],
   "source": [
    "def printnAllTables(tables):\n",
    "    for i in range(len(tables)):\n",
    "        print(\"Page No: \",(i+1))\n",
    "        print(tables[i].df)\n",
    "        print()"
   ]
  },
  {
   "cell_type": "code",
   "execution_count": 9,
   "metadata": {},
   "outputs": [
    {
     "output_type": "stream",
     "name": "stdout",
     "text": [
      "Page No:  1\n         0                                 1       2       3            4  \\\n0                                               Male  Female  Transgender   \n1      (1)                               (2)    (27)    (28)         (29)   \n2                                     STATES                                \n3        1                    ANDHRA PRADESH   15002    2934            2   \n4        2                 ARUNACHAL PRADESH     236      39            0   \n5        3                             ASSAM    4495     941            0   \n6        4                             BIHAR   12032    3179            0   \n7        5                      CHHATTISGARH   14638    5150            1   \n8        6                               GOA     685     110            0   \n9        7                           GUJARAT   19717    4191            2   \n10       8                           HARYANA   13271    2367            1   \n11       9                  HIMACHAL PRADESH    2724     532            0   \n12      10                   JAMMU & KASHMIR    1204     247            0   \n13      11                         JHARKHAND    6181    1518            4   \n14      12                         KARNATAKA   21057    4389            5   \n15      13                            KERALA   11254    2509            0   \n16      14                    MADHYA PRADESH   32596    9833            2   \n17      15                       MAHARASHTRA   55407   14910           12   \n18      16                           MANIPUR     261      48            0   \n19      17                         MEGHALAYA     404      72            0   \n20      18                           MIZORAM     150      21            0   \n21      19                          NAGALAND      56       7            0   \n22      20                            ODISHA   13574    2885            0   \n23      21                            PUNJAB    9645    1402            1   \n24      22                         RAJASTHAN   23704    4992            1   \n25      23                            SIKKIM     244      51            0   \n26      24                        TAMIL NADU   18358    4044            2   \n27      25                         TELANGANA    9632    2087            1   \n28      26                           TRIPURA     582     125            0   \n29      27                     UTTAR PRADESH   33059    7537            0   \n30      28                       UTTARAKHAND    1605     281            0   \n31      29                       WEST BENGAL   12563    3421            1   \n32                            TOTAL (STATES)  334336   79822           35   \n33                          UNIONTERRITORIES                                \n34      30                      A & NISLANDS     168      30            0   \n35      31                        CHANDIGARH     334      80            0   \n36      32                      D & N HAVELI     109      15            0   \n37      33                       DAMAN & DIU     123      25            0   \n38      34                        DELHI (UT)    4234     684            1   \n39      35                       LAKSHADWEEP       5       0            0   \n40      36                        PUDUCHERRY     958     144            1   \n41                               TOTAL (UTs)    5931     978            2   \n42                         TOTAL (ALL INDIA)  340267   80800           37   \n43  • \\nAs  per data provided by States/UTs.                                \n\n         5  \n0    Total  \n1     (30)  \n2           \n3    17938  \n4      275  \n5     5436  \n6    15211  \n7    19789  \n8      795  \n9    23910  \n10   15639  \n11    3256  \n12    1451  \n13    7703  \n14   25451  \n15   13763  \n16   42431  \n17   70329  \n18     309  \n19     476  \n20     171  \n21      63  \n22   16459  \n23   11048  \n24   28697  \n25     295  \n26   22404  \n27   11720  \n28     707  \n29   40596  \n30    1886  \n31   15985  \n32  414193  \n33          \n34     198  \n35     414  \n36     124  \n37     148  \n38    4919  \n39       5  \n40    1103  \n41    6911  \n42  421104  \n43          \n\nPage No:  2\n         0                                 1      2       3            4  \\\n0                                              Male  Female  Transgender   \n1      (1)                               (2)   (27)    (28)         (29)   \n2       37                              AGRA    396      65            0   \n3       38                         AHMEDABAD   1539     296            1   \n4       39                         ALLAHABAD    210     111            0   \n5       40                          AMRITSAR    365      35            0   \n6       41                           ASANSOL    720     259            0   \n7       42                        AURANGABAD    841     195            0   \n8       43                         BENGALURU   3387     625            4   \n9       44                            BHOPAL    618     122            0   \n10      45                 CHANDIGARH (CITY)    334      80            0   \n11      46                           CHENNAI   1576     369            0   \n12      47                        COIMBATORE    460      64            0   \n13      48                      DELHI (CITY)   3870     645            1   \n14      49                           DHANBAD    151      17            0   \n15      50                  DURG BHILAINAGAR    614     141            0   \n16      51                         FARIDABAD    963     212            0   \n17      52                         GHAZIABAD    436      52            0   \n18      53                           GWALIOR    264      50            0   \n19      54                         HYDERABAD    669     121            0   \n20      55                            INDORE    933     209            0   \n21      56                          JABALPUR    400      88            0   \n22      57                            JAIPUR   2211     417            0   \n23      58                        JAMSHEDPUR    291     100            0   \n24      59                           JODHPUR    939     174            0   \n25      60                            KANNUR    185      41            0   \n26      61                            KANPUR   1298     222            0   \n27      62                             KOCHI    507      88            0   \n28      63                           KOLKATA    242      80            0   \n29      64                            KOLLAM    493      88            0   \n30      65                              KOTA    509     100            0   \n31      66                         KOZHIKODE    447      98            0   \n32      67                           LUCKNOW    484      91            0   \n33      68                          LUDHIANA    921     141            0   \n34      69                           MADURAI    444      88            0   \n35      70                        MALAPPURAM    274      60            0   \n36      71                            MEERUT    193      19            0   \n37      72                            MUMBAI   7082    2162            2   \n38      73                            NAGPUR   1810     303            0   \n39      74                             NASIK   1231     313            0   \n40      75                             PATNA    123     102            0   \n41      76                              PUNE   3110     839            0   \n42      77                            RAIPUR    798     203            0   \n43      78                            RAJKOT   1105     275            0   \n44      79                            RANCHI    290      77            0   \n45      80                          SRINAGAR    105      14            0   \n46      81                             SURAT   1991     361            1   \n47      82                THIRUVANANTHAPURAM    539     116            0   \n48      83                          THRISSUR    644     126            0   \n49      84                   TIRUCHIRAPPALLI    198      52            0   \n50      85                          VADODARA    662     132            0   \n51      86                          VARANASI    283      70            0   \n52      87                       VASAI VIRAR    867     257            0   \n53      88                        VIJAYAWADA    456      77            1   \n54      89                    VISHAKHAPATNAM    686     188            0   \n55                            TOTAL (CITIES)  50164   11230           10   \n56  • \\nAs  per data provided by States/UTs.                               \n\n        5  \n0   Total  \n1    (30)  \n2     461  \n3    1836  \n4     321  \n5     400  \n6     979  \n7    1036  \n8    4016  \n9     740  \n10    414  \n11   1945  \n12    524  \n13   4516  \n14    168  \n15    755  \n16   1175  \n17    488  \n18    314  \n19    790  \n20   1142  \n21    488  \n22   2628  \n23    391  \n24   1113  \n25    226  \n26   1520  \n27    595  \n28    322  \n29    581  \n30    609  \n31    545  \n32    575  \n33   1062  \n34    532  \n35    334  \n36    212  \n37   9246  \n38   2113  \n39   1544  \n40    225  \n41   3949  \n42   1001  \n43   1380  \n44    367  \n45    119  \n46   2353  \n47    655  \n48    770  \n49    250  \n50    794  \n51    353  \n52   1124  \n53    534  \n54    874  \n55  61404  \n56         \n\n"
     ]
    }
   ],
   "source": [
    "# Incase we're intersted in seeing the original scraped tables.\n",
    "# Commented as it takes too much screen space\n",
    "# Run if you want\n",
    "# printnAllTables(tables)\n",
    "printnAllTables(tables5_6)"
   ]
  },
  {
   "cell_type": "code",
   "execution_count": 10,
   "metadata": {},
   "outputs": [],
   "source": [
    "# Removes Garbage Rows that may have been detected Before the 'STATES' row\n",
    "# AND\n",
    "# Removes Garbage Rows that may have been detected after the 'TOTAL (ALL INDIA)' row\n",
    "def clean(table):\n",
    "    while( (table.df.iloc[0,1] != 'STATES') and (table.df.iloc[0,1] != 'AGRA') ):\n",
    "        table.df = table.df.iloc[1:]\n",
    "    while( (table.df.iloc[-1,1] != 'TOTAL (ALL INDIA)') and (table.df.iloc[-1,1] != 'TOTAL (CITIES)') ):\n",
    "        table.df = table.df.iloc[:-1]\n",
    "    # The Return line is unnecessary due to all changes being reflected in the original references\n",
    "    return table"
   ]
  },
  {
   "cell_type": "code",
   "execution_count": 11,
   "metadata": {},
   "outputs": [],
   "source": [
    "for each_table in tables:\n",
    "    clean(each_table)\n",
    "for each_table in tables5_6:\n",
    "    clean(each_table)"
   ]
  },
  {
   "cell_type": "code",
   "execution_count": 12,
   "metadata": {},
   "outputs": [],
   "source": [
    "df1 = tables[0].df.copy()\n",
    "df2 = tables[1].df.copy()\n",
    "df3 = tables[2].df.copy()\n",
    "df4 = tables[3].df.copy()\n",
    "df5 = tables5_6[0].df.copy()\n",
    "df6 = tables5_6[1].df.copy()"
   ]
  },
  {
   "cell_type": "code",
   "execution_count": 13,
   "metadata": {},
   "outputs": [],
   "source": [
    "tableA = pd.concat([df1,df2])\n",
    "tableB = pd.concat([df3,df4])\n",
    "tableC = pd.concat([df5,df6])"
   ]
  },
  {
   "cell_type": "code",
   "execution_count": 14,
   "metadata": {},
   "outputs": [],
   "source": [
    "# Incase we're intersted in seeing the scraped tables at this point.\n",
    "# Commented as it takes too much screen space\n",
    "# Run if you want\n",
    "# printnAllTables(tables)"
   ]
  },
  {
   "cell_type": "code",
   "execution_count": 15,
   "metadata": {},
   "outputs": [
    {
     "output_type": "execute_result",
     "data": {
      "text/plain": [
       "2"
      ]
     },
     "metadata": {},
     "execution_count": 15
    }
   ],
   "source": [
    "# List of Column headers as column are nested, i.e exhibit a multi level/index structure\n",
    "# The multi level structre will be generated and applied in the next \n",
    "column_header = [\n",
    "    [\"Below 14 years\",\"14 and Above – Below 18 years\",\"18 and Above – Below 30 years\"],\n",
    "    [\"30 and Above – Below 45 years\",\"45 and Above–Below 60 years\",\"60 years & Above\"]\n",
    "]\n",
    "len(column_header)"
   ]
  },
  {
   "cell_type": "code",
   "execution_count": 16,
   "metadata": {},
   "outputs": [],
   "source": [
    "def set_Column(df, title):\n",
    "    column_list = [\n",
    "        (\"Sl. No.\",'',''),\n",
    "        (\"State/UT\",'',''), \n",
    "        (title[0],'No. of Persons Injured','Male'),\n",
    "        (title[0],'No. of Persons Injured','Female'),\n",
    "        (title[0],'No. of Persons Injured','Transgender'),\n",
    "        (title[0],'No. of Persons Injured','Total'),\n",
    "        (title[1],'No. of Persons Died','Male'),\n",
    "        (title[1],'No. of Persons Died','Female'),\n",
    "        (title[1],'No. of Persons Died','Transgender'),\n",
    "        (title[1],'No. of Persons Died','Total'),\n",
    "        (title[2],'No. of Persons Died','Male'),\n",
    "        (title[2],'No. of Persons Died','Female'),\n",
    "        (title[2],'No. of Persons Died','Transgender'),\n",
    "        (title[2],'No. of Persons Died','Total')\n",
    "    ]\n",
    "    df.columns = pd.MultiIndex.from_tuples(column_list)"
   ]
  },
  {
   "cell_type": "code",
   "execution_count": 17,
   "metadata": {},
   "outputs": [],
   "source": [
    "# TableC not included here as it has a different column format, it will be done sperately\n",
    "tables = [tableA,tableB]"
   ]
  },
  {
   "cell_type": "code",
   "execution_count": 18,
   "metadata": {},
   "outputs": [],
   "source": [
    "for i in range(len(tables)):\n",
    "    set_Column(tables[i], column_header[i])\n",
    "    tables[i].set_index([\"Sl. No.\",\"State/UT\"],inplace=True)"
   ]
  },
  {
   "cell_type": "code",
   "execution_count": 19,
   "metadata": {},
   "outputs": [],
   "source": [
    "column_list = [\n",
    "    (\"Sl. No.\",'',''),\n",
    "    (\"State/UT\",'',''), \n",
    "    (\"Total\",'No. of Persons Injured','Male'),\n",
    "    (\"Total\",'No. of Persons Injured','Female'),\n",
    "    (\"Total\",'No. of Persons Injured','Transgender'),\n",
    "    (\"Total\",'No. of Persons Injured','Total')\n",
    "]\n",
    "tableC.columns = pd.MultiIndex.from_tuples(column_list)\n",
    "tableC.set_index([\"Sl. No.\",\"State/UT\"],inplace=True)"
   ]
  },
  {
   "cell_type": "code",
   "execution_count": 20,
   "metadata": {},
   "outputs": [],
   "source": [
    "# Incase we're intersted in seeing the scraped tables at this point.\n",
    "# Commented as it takes too much screen space\n",
    "# Run if you want\n",
    "# printnAllTables(tables)\n",
    "\n",
    "# OR Print a simgle one according to your choice"
   ]
  },
  {
   "cell_type": "code",
   "execution_count": 21,
   "metadata": {},
   "outputs": [],
   "source": [
    "# Convert List of tables to list of DataFrames\n",
    "DataFrames = [tableA,tableB,tableC]\n",
    "# Concat all the tables one after the other, as they all have the same indexes.\n",
    "final = pd.concat(DataFrames,axis=1)"
   ]
  },
  {
   "cell_type": "code",
   "execution_count": 22,
   "metadata": {},
   "outputs": [
    {
     "output_type": "execute_result",
     "data": {
      "text/plain": [
       "                                  Below 14 years                           \\\n",
       "                          No. of Persons Injured                            \n",
       "                                            Male Female Transgender Total   \n",
       "Sl. No. State/UT                                                            \n",
       "        STATES                                                              \n",
       "1       ANDHRA PRADESH                       326    143           0   469   \n",
       "2       ARUNACHAL PRADESH                     10      9           0    19   \n",
       "3       ASSAM                                135     67           0   202   \n",
       "4       BIHAR                               1136    420           0  1556   \n",
       "...                                          ...    ...         ...   ...   \n",
       "86      VARANASI                               1      0           0     1   \n",
       "87      VASAI VIRAR                           54     38           0    92   \n",
       "88      VIJAYAWADA                             6      1           0     7   \n",
       "89      VISHAKHAPATNAM                        12     11           0    23   \n",
       "        TOTAL (CITIES)                      1500   1024           1  2525   \n",
       "\n",
       "                          14 and Above – Below 18 years                     \\\n",
       "                                    No. of Persons Died                      \n",
       "                                                   Male Female Transgender   \n",
       "Sl. No. State/UT                                                             \n",
       "        STATES                                                               \n",
       "1       ANDHRA PRADESH                              544    137           0   \n",
       "2       ARUNACHAL PRADESH                             7      4           0   \n",
       "3       ASSAM                                       348    147           0   \n",
       "4       BIHAR                                      1903    536           0   \n",
       "...                                                 ...    ...         ...   \n",
       "86      VARANASI                                      6      2           0   \n",
       "87      VASAI VIRAR                                  21      9           0   \n",
       "88      VIJAYAWADA                                    6      1           0   \n",
       "89      VISHAKHAPATNAM                               24      6           0   \n",
       "        TOTAL (CITIES)                             1795    561           0   \n",
       "\n",
       "                                18 and Above – Below 30 years         ...  \\\n",
       "                                          No. of Persons Died         ...   \n",
       "                          Total                          Male Female  ...   \n",
       "Sl. No. State/UT                                                      ...   \n",
       "        STATES                                                        ...   \n",
       "1       ANDHRA PRADESH      681                          3725    530  ...   \n",
       "2       ARUNACHAL PRADESH    11                            91     14  ...   \n",
       "3       ASSAM               495                          1574    327  ...   \n",
       "4       BIHAR              2439                          3942    834  ...   \n",
       "...                         ...                           ...    ...  ...   \n",
       "86      VARANASI              8                            55      9  ...   \n",
       "87      VASAI VIRAR          30                           171     59  ...   \n",
       "88      VIJAYAWADA            7                           113      5  ...   \n",
       "89      VISHAKHAPATNAM       30                           183     42  ...   \n",
       "        TOTAL (CITIES)     2356                         10739   2294  ...   \n",
       "\n",
       "                          45 and Above–Below 60 years         \\\n",
       "                                  No. of Persons Died          \n",
       "                                          Transgender  Total   \n",
       "Sl. No. State/UT                                               \n",
       "        STATES                                                 \n",
       "1       ANDHRA PRADESH                              0   4413   \n",
       "2       ARUNACHAL PRADESH                           0     38   \n",
       "3       ASSAM                                       0    919   \n",
       "4       BIHAR                                       0   2030   \n",
       "...                                               ...    ...   \n",
       "86      VARANASI                                    0     89   \n",
       "87      VASAI VIRAR                                 0    265   \n",
       "88      VIJAYAWADA                                  0    132   \n",
       "89      VISHAKHAPATNAM                              0    230   \n",
       "        TOTAL (CITIES)                              1  15792   \n",
       "\n",
       "                             60 years & Above                           \\\n",
       "                          No. of Persons Died                            \n",
       "                                         Male Female Transgender Total   \n",
       "Sl. No. State/UT                                                         \n",
       "        STATES                                                           \n",
       "1       ANDHRA PRADESH                   1602    551           0  2153   \n",
       "2       ARUNACHAL PRADESH                   3      1           0     4   \n",
       "3       ASSAM                             208     30           0   238   \n",
       "4       BIHAR                             700    236           0   936   \n",
       "...                                       ...    ...         ...   ...   \n",
       "86      VARANASI                           84     26           0   110   \n",
       "87      VASAI VIRAR                        90     59           0   149   \n",
       "88      VIJAYAWADA                         64     24           0    88   \n",
       "89      VISHAKHAPATNAM                     60     25           0    85   \n",
       "        TOTAL (CITIES)                   7310   2303           0  9613   \n",
       "\n",
       "                                           Total                            \n",
       "                          No. of Persons Injured                            \n",
       "                                            Male Female Transgender  Total  \n",
       "Sl. No. State/UT                                                            \n",
       "        STATES                                                              \n",
       "1       ANDHRA PRADESH                     15002   2934           2  17938  \n",
       "2       ARUNACHAL PRADESH                    236     39           0    275  \n",
       "3       ASSAM                               4495    941           0   5436  \n",
       "4       BIHAR                              12032   3179           0  15211  \n",
       "...                                          ...    ...         ...    ...  \n",
       "86      VARANASI                             283     70           0    353  \n",
       "87      VASAI VIRAR                          867    257           0   1124  \n",
       "88      VIJAYAWADA                           456     77           1    534  \n",
       "89      VISHAKHAPATNAM                       686    188           0    874  \n",
       "        TOTAL (CITIES)                     50164  11230          10  61404  \n",
       "\n",
       "[95 rows x 28 columns]"
      ],
      "text/html": "<div>\n<style scoped>\n    .dataframe tbody tr th:only-of-type {\n        vertical-align: middle;\n    }\n\n    .dataframe tbody tr th {\n        vertical-align: top;\n    }\n\n    .dataframe thead tr th {\n        text-align: left;\n    }\n\n    .dataframe thead tr:last-of-type th {\n        text-align: right;\n    }\n</style>\n<table border=\"1\" class=\"dataframe\">\n  <thead>\n    <tr>\n      <th></th>\n      <th></th>\n      <th colspan=\"4\" halign=\"left\">Below 14 years</th>\n      <th colspan=\"4\" halign=\"left\">14 and Above – Below 18 years</th>\n      <th colspan=\"2\" halign=\"left\">18 and Above – Below 30 years</th>\n      <th>...</th>\n      <th colspan=\"2\" halign=\"left\">45 and Above–Below 60 years</th>\n      <th colspan=\"4\" halign=\"left\">60 years &amp; Above</th>\n      <th colspan=\"4\" halign=\"left\">Total</th>\n    </tr>\n    <tr>\n      <th></th>\n      <th></th>\n      <th colspan=\"4\" halign=\"left\">No. of Persons Injured</th>\n      <th colspan=\"4\" halign=\"left\">No. of Persons Died</th>\n      <th colspan=\"2\" halign=\"left\">No. of Persons Died</th>\n      <th>...</th>\n      <th colspan=\"2\" halign=\"left\">No. of Persons Died</th>\n      <th colspan=\"4\" halign=\"left\">No. of Persons Died</th>\n      <th colspan=\"4\" halign=\"left\">No. of Persons Injured</th>\n    </tr>\n    <tr>\n      <th></th>\n      <th></th>\n      <th>Male</th>\n      <th>Female</th>\n      <th>Transgender</th>\n      <th>Total</th>\n      <th>Male</th>\n      <th>Female</th>\n      <th>Transgender</th>\n      <th>Total</th>\n      <th>Male</th>\n      <th>Female</th>\n      <th>...</th>\n      <th>Transgender</th>\n      <th>Total</th>\n      <th>Male</th>\n      <th>Female</th>\n      <th>Transgender</th>\n      <th>Total</th>\n      <th>Male</th>\n      <th>Female</th>\n      <th>Transgender</th>\n      <th>Total</th>\n    </tr>\n    <tr>\n      <th>Sl. No.</th>\n      <th>State/UT</th>\n      <th></th>\n      <th></th>\n      <th></th>\n      <th></th>\n      <th></th>\n      <th></th>\n      <th></th>\n      <th></th>\n      <th></th>\n      <th></th>\n      <th></th>\n      <th></th>\n      <th></th>\n      <th></th>\n      <th></th>\n      <th></th>\n      <th></th>\n      <th></th>\n      <th></th>\n      <th></th>\n      <th></th>\n    </tr>\n  </thead>\n  <tbody>\n    <tr>\n      <th></th>\n      <th>STATES</th>\n      <td></td>\n      <td></td>\n      <td></td>\n      <td></td>\n      <td></td>\n      <td></td>\n      <td></td>\n      <td></td>\n      <td></td>\n      <td></td>\n      <td>...</td>\n      <td></td>\n      <td></td>\n      <td></td>\n      <td></td>\n      <td></td>\n      <td></td>\n      <td></td>\n      <td></td>\n      <td></td>\n      <td></td>\n    </tr>\n    <tr>\n      <th>1</th>\n      <th>ANDHRA PRADESH</th>\n      <td>326</td>\n      <td>143</td>\n      <td>0</td>\n      <td>469</td>\n      <td>544</td>\n      <td>137</td>\n      <td>0</td>\n      <td>681</td>\n      <td>3725</td>\n      <td>530</td>\n      <td>...</td>\n      <td>0</td>\n      <td>4413</td>\n      <td>1602</td>\n      <td>551</td>\n      <td>0</td>\n      <td>2153</td>\n      <td>15002</td>\n      <td>2934</td>\n      <td>2</td>\n      <td>17938</td>\n    </tr>\n    <tr>\n      <th>2</th>\n      <th>ARUNACHAL PRADESH</th>\n      <td>10</td>\n      <td>9</td>\n      <td>0</td>\n      <td>19</td>\n      <td>7</td>\n      <td>4</td>\n      <td>0</td>\n      <td>11</td>\n      <td>91</td>\n      <td>14</td>\n      <td>...</td>\n      <td>0</td>\n      <td>38</td>\n      <td>3</td>\n      <td>1</td>\n      <td>0</td>\n      <td>4</td>\n      <td>236</td>\n      <td>39</td>\n      <td>0</td>\n      <td>275</td>\n    </tr>\n    <tr>\n      <th>3</th>\n      <th>ASSAM</th>\n      <td>135</td>\n      <td>67</td>\n      <td>0</td>\n      <td>202</td>\n      <td>348</td>\n      <td>147</td>\n      <td>0</td>\n      <td>495</td>\n      <td>1574</td>\n      <td>327</td>\n      <td>...</td>\n      <td>0</td>\n      <td>919</td>\n      <td>208</td>\n      <td>30</td>\n      <td>0</td>\n      <td>238</td>\n      <td>4495</td>\n      <td>941</td>\n      <td>0</td>\n      <td>5436</td>\n    </tr>\n    <tr>\n      <th>4</th>\n      <th>BIHAR</th>\n      <td>1136</td>\n      <td>420</td>\n      <td>0</td>\n      <td>1556</td>\n      <td>1903</td>\n      <td>536</td>\n      <td>0</td>\n      <td>2439</td>\n      <td>3942</td>\n      <td>834</td>\n      <td>...</td>\n      <td>0</td>\n      <td>2030</td>\n      <td>700</td>\n      <td>236</td>\n      <td>0</td>\n      <td>936</td>\n      <td>12032</td>\n      <td>3179</td>\n      <td>0</td>\n      <td>15211</td>\n    </tr>\n    <tr>\n      <th>...</th>\n      <th>...</th>\n      <td>...</td>\n      <td>...</td>\n      <td>...</td>\n      <td>...</td>\n      <td>...</td>\n      <td>...</td>\n      <td>...</td>\n      <td>...</td>\n      <td>...</td>\n      <td>...</td>\n      <td>...</td>\n      <td>...</td>\n      <td>...</td>\n      <td>...</td>\n      <td>...</td>\n      <td>...</td>\n      <td>...</td>\n      <td>...</td>\n      <td>...</td>\n      <td>...</td>\n      <td>...</td>\n    </tr>\n    <tr>\n      <th>86</th>\n      <th>VARANASI</th>\n      <td>1</td>\n      <td>0</td>\n      <td>0</td>\n      <td>1</td>\n      <td>6</td>\n      <td>2</td>\n      <td>0</td>\n      <td>8</td>\n      <td>55</td>\n      <td>9</td>\n      <td>...</td>\n      <td>0</td>\n      <td>89</td>\n      <td>84</td>\n      <td>26</td>\n      <td>0</td>\n      <td>110</td>\n      <td>283</td>\n      <td>70</td>\n      <td>0</td>\n      <td>353</td>\n    </tr>\n    <tr>\n      <th>87</th>\n      <th>VASAI VIRAR</th>\n      <td>54</td>\n      <td>38</td>\n      <td>0</td>\n      <td>92</td>\n      <td>21</td>\n      <td>9</td>\n      <td>0</td>\n      <td>30</td>\n      <td>171</td>\n      <td>59</td>\n      <td>...</td>\n      <td>0</td>\n      <td>265</td>\n      <td>90</td>\n      <td>59</td>\n      <td>0</td>\n      <td>149</td>\n      <td>867</td>\n      <td>257</td>\n      <td>0</td>\n      <td>1124</td>\n    </tr>\n    <tr>\n      <th>88</th>\n      <th>VIJAYAWADA</th>\n      <td>6</td>\n      <td>1</td>\n      <td>0</td>\n      <td>7</td>\n      <td>6</td>\n      <td>1</td>\n      <td>0</td>\n      <td>7</td>\n      <td>113</td>\n      <td>5</td>\n      <td>...</td>\n      <td>0</td>\n      <td>132</td>\n      <td>64</td>\n      <td>24</td>\n      <td>0</td>\n      <td>88</td>\n      <td>456</td>\n      <td>77</td>\n      <td>1</td>\n      <td>534</td>\n    </tr>\n    <tr>\n      <th>89</th>\n      <th>VISHAKHAPATNAM</th>\n      <td>12</td>\n      <td>11</td>\n      <td>0</td>\n      <td>23</td>\n      <td>24</td>\n      <td>6</td>\n      <td>0</td>\n      <td>30</td>\n      <td>183</td>\n      <td>42</td>\n      <td>...</td>\n      <td>0</td>\n      <td>230</td>\n      <td>60</td>\n      <td>25</td>\n      <td>0</td>\n      <td>85</td>\n      <td>686</td>\n      <td>188</td>\n      <td>0</td>\n      <td>874</td>\n    </tr>\n    <tr>\n      <th></th>\n      <th>TOTAL (CITIES)</th>\n      <td>1500</td>\n      <td>1024</td>\n      <td>1</td>\n      <td>2525</td>\n      <td>1795</td>\n      <td>561</td>\n      <td>0</td>\n      <td>2356</td>\n      <td>10739</td>\n      <td>2294</td>\n      <td>...</td>\n      <td>1</td>\n      <td>15792</td>\n      <td>7310</td>\n      <td>2303</td>\n      <td>0</td>\n      <td>9613</td>\n      <td>50164</td>\n      <td>11230</td>\n      <td>10</td>\n      <td>61404</td>\n    </tr>\n  </tbody>\n</table>\n<p>95 rows × 28 columns</p>\n</div>"
     },
     "metadata": {},
     "execution_count": 22
    }
   ],
   "source": [
    "final"
   ]
  },
  {
   "cell_type": "code",
   "execution_count": 23,
   "metadata": {},
   "outputs": [],
   "source": [
    "# Reset Index before saving file, for better formatting in RAW CSV\n",
    "final.reset_index().to_csv(\"Age and Gender-wise Distribution of Total Accidental Deaths during 2019.csv\",index=False)"
   ]
  }
 ],
 "metadata": {
  "kernelspec": {
   "display_name": "Python 3",
   "language": "python",
   "name": "python3"
  },
  "language_info": {
   "codemirror_mode": {
    "name": "ipython",
    "version": 3
   },
   "file_extension": ".py",
   "mimetype": "text/x-python",
   "name": "python",
   "nbconvert_exporter": "python",
   "pygments_lexer": "ipython3",
   "version": "3.8.2-final"
  }
 },
 "nbformat": 4,
 "nbformat_minor": 4
}
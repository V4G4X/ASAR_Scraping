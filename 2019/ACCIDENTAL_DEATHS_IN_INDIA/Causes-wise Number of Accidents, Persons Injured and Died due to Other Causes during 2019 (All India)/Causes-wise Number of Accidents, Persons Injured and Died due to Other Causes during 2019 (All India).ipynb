{
 "cells": [
  {
   "cell_type": "code",
   "execution_count": 1,
   "metadata": {},
   "outputs": [],
   "source": [
    "import wget\n",
    "import ssl\n",
    "import os\n",
    "ssl._create_default_https_context = ssl._create_unverified_context"
   ]
  },
  {
   "cell_type": "code",
   "execution_count": 2,
   "metadata": {},
   "outputs": [],
   "source": [
    "# Enter NCRB Individual PDF url\n",
    "pdf_url = 'https://ncrb.gov.in/sites/default/files/adsi_reports_previous_year/Table-1.6_2019.pdf'\n",
    "fileName = pdf_url[67:]\n",
    "try:\n",
    "    #Delete the file to redownload it\n",
    "    os.remove(fileName)\n",
    "except FileNotFoundError as e:\n",
    "    #Ignore in case FileNotFound Error occurs\n",
    "    pass\n",
    "# Download report\n",
    "fileName = wget.download(pdf_url,fileName)"
   ]
  },
  {
   "cell_type": "code",
   "execution_count": 3,
   "metadata": {},
   "outputs": [],
   "source": [
    "import numpy as np\n",
    "import pandas as pd\n",
    "import camelot"
   ]
  },
  {
   "cell_type": "code",
   "execution_count": 4,
   "metadata": {},
   "outputs": [
    {
     "output_type": "execute_result",
     "data": {
      "text/plain": [
       "'Table-1.6_2019.pdf'"
      ]
     },
     "metadata": {},
     "execution_count": 4
    }
   ],
   "source": [
    "fileName"
   ]
  },
  {
   "cell_type": "code",
   "execution_count": 5,
   "metadata": {},
   "outputs": [],
   "source": [
    "#Scraping All Pages \n",
    "tables = camelot.read_pdf(fileName,\n",
    "                          flavor='stream',\n",
    "                          table_areas=[\"15.39101777059774,712.777858547808,584.8586752827141,107.70735874610126\"],\n",
    "                          columns=[\"38.47754442649435,171.22507269789986,212.5884329563813,256.83760904684976,296.2770920840065,335.7165751211632,372.27024232633283,399.20452342487886,437.68206785137323,476.1596122778676,514.6371567043619,543.4953150242327\"],\n",
    "                          split_text=True,\n",
    "                          row_tol=12,\n",
    "                          strip_text='\\n\\t',\n",
    "                          pages=\"1-2\"\n",
    "                         )"
   ]
  },
  {
   "cell_type": "code",
   "execution_count": 6,
   "metadata": {},
   "outputs": [
    {
     "output_type": "execute_result",
     "data": {
      "text/plain": [
       "<TableList n=2>"
      ]
     },
     "metadata": {},
     "execution_count": 6
    }
   ],
   "source": [
    "tables"
   ]
  },
  {
   "cell_type": "code",
   "execution_count": 7,
   "metadata": {},
   "outputs": [],
   "source": [
    "def printnAllTables(tables):\n",
    "    for i in range(len(tables)):\n",
    "        print(\"Page No: \",(i+1))\n",
    "        print(tables[i].df)\n",
    "        print()"
   ]
  },
  {
   "cell_type": "code",
   "execution_count": 8,
   "metadata": {},
   "outputs": [
    {
     "output_type": "stream",
     "name": "stdout",
     "text": [
      "Page No:  1\n         0                                                  1       2   \\\n0   Sl. No.                                              Cause           \n1                                                                 2018   \n2       (1)                                                (2)     (3)   \n3         1                                          Air Crash       3   \n4         2                                     Ship Accidents       0   \n5         3                      Collapse of Structure (Total)    1953   \n6            3.1 Collapse of Dwelling     House/Residential...    1201   \n7            3.2 Collapse of Official/      Commercial Buil...      47   \n8                                          3.3 Collapse of Dam       4   \n9                                      3.4 Collapse of  Bridge      17   \n10                                                  3.5 Others     684   \n11        4                                   Drowning (Total)   29696   \n12                                            4.1 Boat Capsize     211   \n13                    4.2 Accidental Falls into      Waterbody   19533   \n14                                             4.3 Other Cases    9952   \n15        5                                      Electrocution   12146   \n16        6                       Accidental Explosion (Total)     697   \n17                                   6.1 Domestic Gas Cylinder     307   \n18           6.2 Industrial Boiler/      Gas Cylinder Explo...      39   \n19           6.3 Ammunition Explosion in       Armed Forces...      18   \n20                                                   6.4 Other     333   \n21        7                                      Falls (Total)   20311   \n22                                        7.1 Fall from Height   11736   \n23           7.2 Fall from Vehicles      (Automobile like B...    3396   \n24                                       7.3 Fall into Manhole     103   \n25                                           7.4 Fall into Pit     700   \n26                                      7.5 Fall into Borewell     121   \n27                                                  7.6 Others    4255   \n28        8                          Factory/Machine Accidents    1147   \n29        9                            Accidental Fire (Total)   13099   \n30                                9.1 Electrical Short circuit    1970   \n31                                          9.2 Riot/Agitation      16   \n32                                               9.3 Fireworks     238   \n33                 9.4 Cooking Gas Cylinder/       Stove Burst    2672   \n34                                            9.5 Other Causes    8203   \n35       10                                            Firearm     667   \n36       11                           Mines or Quarry Disaster     138   \n37       12                          Traffic Accidents (Total)  474638   \n38                                         12.1 Road Accidents  445514   \n39                             12.2 Railway Crossing Accidents    1481   \n40                                      12.3 Railway Accidents   27643   \n41       13                                           Stampede       5   \n42        •                As per data provided by States/UTs.           \n\n         3        4       5         6     7       8       9          10  \\\n0         i   n 2019  Male F  emale Tr  ans-   Total                  T   \n1   2019 ov  er 2018                ge  nder            Male  Female ge   \n2       (4)      (5)     (6)       (7)   (8)     (9)    (10)       (11)   \n3         2    -33.3       0         0     0       0      11          1   \n4         0        -       0         0     0       0       0          0   \n5      1866     -4.5     134        64     2     200    1363        566   \n6      1218      1.4     103        43     0     146     867        374   \n7        89     89.4       7         3     0      10      89         15   \n8         0   -100.0       0         0     0       0       0          0   \n9        23     35.3       4        13     0      17      18          8   \n10      536    -21.6      20         5     2      27     389        169   \n11    32271      8.7     291        83    12     386   26025       6643   \n12      162    -23.2       7         0     0       7     177         37   \n13    21826     11.7     183        59    12     254   17635       4533   \n14    10283      3.3     101        24     0     125    8213       2073   \n15    13378     10.1     171        43     1     215   11412       2020   \n16      620    -11.0      48        37     1      86     368        287   \n17      314      2.3      25        34     0      59     117        213   \n18       95    143.6      12         1     1      14      90         13   \n19       19      5.6       0         0     0       0      18          1   \n20      192    -42.3      11         2     0      13     143         60   \n21    21481      5.8     603       268     4     875   17369       3531   \n22    12048      2.7     222        53     1     276   10122       1874   \n23     4346     28.0     335       191     3     529    3227        669   \n24      101     -1.9       0         0     0       0      90         12   \n25      901     28.7       8         4     0      12     672        227   \n26       62    -48.8       4         0     0       4      53          9   \n27     4023     -5.5      34        20     0      54    3205        740   \n28     1082     -5.7     118        11     0     129     884        117   \n29    11037    -15.7     313       128     0     441    4947       5968   \n30     2183     10.8     169        39     0     208    1649        341   \n31        6    -62.5       0         0     0       0       3          2   \n32      102    -57.1      15         5     0      20      61         41   \n33     2137    -20.0      27        49     0      76     595       1548   \n34     6609    -19.4     102        35     0     137    2639       4036   \n35      376    -43.6      80         5     0      85     269         51   \n36       85    -38.4       2         2     0       4      63         19   \n37   467171     -1.6  357994     85001     1  442996  155051      26057   \n38   437396     -1.8  354847     84415     0  439262  132587      22143   \n39     1788     20.7     114        51     0     165    1520        242   \n40    27987      1.2    3033       535     1    3569   20944       3672   \n41       14    180.0       3         9     0      12       6          6   \n42                                                                        \n\n       11      12  \n0   rans-   Total  \n1    nder          \n2    (12)    (13)  \n3       0      12  \n4       0       0  \n5       0    1929  \n6       0    1241  \n7       0     104  \n8       0       0  \n9       0      26  \n10      0     558  \n11      3   32671  \n12      0     214  \n13      3   22171  \n14      0   10286  \n15      0   13432  \n16      0     655  \n17      0     330  \n18      0     103  \n19      0      19  \n20      0     203  \n21      1   20901  \n22      1   11997  \n23      0    3896  \n24      0     102  \n25      0     899  \n26      0      62  \n27      0    3945  \n28      0    1001  \n29      0   10915  \n30      0    1990  \n31      0       5  \n32      0     102  \n33      0    2143  \n34      0    6675  \n35      0     320  \n36      0      82  \n37      5  181113  \n38      2  154732  \n39      0    1762  \n40      3   24619  \n41      0      12  \n42                 \n\nPage No:  2\n         0                                                  1       2   \\\n0   Sl. No.                                              Cause           \n1                                                                 2018   \n2       (1)                                                (2)     (3)   \n3        14                              Sudden Deaths (Total)   45671   \n4                                            14.1 Heart Attack   25764   \n5                                                  14.2 Others   19907   \n6        15           Deaths of Women during Pregnancy (Total)    1149   \n7                                        15.1 Due to Abortions     175   \n8                                   15.2 Other  than Abortions     974   \n9        16  Deaths Due to Consumption of Illicit/Spurious ...    1346   \n10       17                        Killed / Injured by Animals    1123   \n11       18                                  Poisoning (Total)   21898   \n12                                         18.1 Food Poisoning     934   \n13           18.2 Accidental Intake of           Insecticid...    7690   \n14                                18.3 Poisonous Gases (Total)     233   \n15           18.3.1 Carbon Monoxide                     (CO...       9   \n16             18.3.2 Other Poisonous                    Gases     224   \n17                                             18.4 Snake Bite    8982   \n18                18.5 Animal/Reptiles/           Insects Bite     845   \n19                                                  18.6 Other    3214   \n20       19                                        Suffocation    1896   \n21       20                                      Drug Overdose     895   \n22       21                            Other than above Causes   59042   \n23       22                                   Causes Not Known   14574   \n24                                                       Total  702094   \n25        •                As per data provided by States/UTs.           \n\n         3                4       5         6     7       8       9   \\\n0        Vi  ariation n 2019  Male F  emale Tr  ans-   Total           \n1   2019 ov          er 2018                ge  nder            Male   \n2       (4)              (5)     (6)       (7)   (8)     (9)    (10)   \n3     47731              4.5       0         0     0       0   39225   \n4     28005              8.7       0         0     0       0   23960   \n5     19726             -0.9                                   15265   \n6      1162              1.1       0         0     0       0       0   \n7       200             14.3       0         0     0       0       0   \n8       962             -1.2       0         0     0       0       0   \n9      1141            -15.2       0         0     0       0    1188   \n10     1431             27.4       0         0     0       0    1111   \n11    21318             -2.6     208        93     0     301   14044   \n12     1145             22.6      10         8     0      18     689   \n13     7007             -8.9     133        53     0     186    4800   \n14      230             -1.3       2         0     0       2     201   \n15       35            288.9       0         0     0       0      28   \n16      195            -12.9       2         0     0       2     173   \n17     9236              2.8      26        13     0      39    5785   \n18      946             12.0       6         0     0       6     630   \n19     2754            -14.3      31        19     0      50    1939   \n20     1584            -16.5      16         9     0      25    1208   \n21      729            -18.5      33         1     0      34     594   \n22    59321              0.5     266        73     0     339   45616   \n23    17524             20.2     117        39     0     156   13212   \n24   701324             -0.1  360397     85866    21  446284  333966   \n25                                                                     \n\n           10     11      12  \n0           T  rans-   Total  \n1   Female ge   nder          \n2        (11)   (12)    (13)  \n3        8064      6   47295  \n4        4042      3   28005  \n5        4022      3   19290  \n6        1160      0    1160  \n7         200      0     200  \n8         960      0     960  \n9         108      0    1296  \n10        314      0    1425  \n11       7150      2   21196  \n12        438      0    1127  \n13       2160      2    6962  \n14         40      0     241  \n15          9      0      37  \n16         31      0     204  \n17       3439      0    9224  \n18        315      0     945  \n19        758      0    2697  \n20        390      0    1598  \n21        110      0     704  \n22      12953      7   58576  \n23       3452      2   16666  \n24      78967     26  412959  \n25                            \n\n"
     ]
    }
   ],
   "source": [
    "# Incase we're intersted in seeing the original scraped tables.\n",
    "# Commented as it takes too much screen space\n",
    "# Run if you want\n",
    "printnAllTables(tables)"
   ]
  },
  {
   "cell_type": "code",
   "execution_count": 9,
   "metadata": {},
   "outputs": [],
   "source": [
    "# Removes Garbage Rows that may have been detected Before the 'Air Crash' or 'Sudden Deaths (Total)' row\n",
    "# AND\n",
    "# Removes Garbage Rows that may have been detected after the 'TOTAL' or 'Stampede' row\n",
    "def clean(table):\n",
    "    while(table.df.iloc[0,1] not in  ['Air Crash','Sudden Deaths (Total)']):\n",
    "        table.df = table.df.iloc[1:]\n",
    "    while(table.df.iloc[-1,1] not in  ['Total', 'Stampede']):\n",
    "        table.df = table.df.iloc[:-1]\n",
    "    # The Return line is unnecessary due to all changes being reflected in the original references\n",
    "    return table"
   ]
  },
  {
   "cell_type": "code",
   "execution_count": 10,
   "metadata": {},
   "outputs": [],
   "source": [
    "for each_table in tables:\n",
    "    clean(each_table)"
   ]
  },
  {
   "cell_type": "code",
   "execution_count": 11,
   "metadata": {},
   "outputs": [],
   "source": [
    "# Incase we're intersted in seeing the scraped tables at this point.\n",
    "# Commented as it takes too much screen space\n",
    "# Run if you want\n",
    "# printnAllTables(tables)"
   ]
  },
  {
   "cell_type": "code",
   "execution_count": 12,
   "metadata": {},
   "outputs": [],
   "source": [
    "df1 = tables[0].df\n",
    "df2 = tables[1].df"
   ]
  },
  {
   "cell_type": "code",
   "execution_count": 13,
   "metadata": {},
   "outputs": [],
   "source": [
    "tableA = pd.concat([df1,df2],axis=0)"
   ]
  },
  {
   "cell_type": "code",
   "execution_count": 14,
   "metadata": {},
   "outputs": [
    {
     "output_type": "execute_result",
     "data": {
      "text/plain": [
       "    0                                                  1       2       3   \\\n",
       "3    1                                          Air Crash       3       2   \n",
       "4    2                                     Ship Accidents       0       0   \n",
       "5    3                      Collapse of Structure (Total)    1953    1866   \n",
       "6       3.1 Collapse of Dwelling     House/Residential...    1201    1218   \n",
       "7       3.2 Collapse of Official/      Commercial Buil...      47      89   \n",
       "..  ..                                                ...     ...     ...   \n",
       "20  19                                        Suffocation    1896    1584   \n",
       "21  20                                      Drug Overdose     895     729   \n",
       "22  21                            Other than above Causes   59042   59321   \n",
       "23  22                                   Causes Not Known   14574   17524   \n",
       "24                                                  Total  702094  701324   \n",
       "\n",
       "       4       5      6   7       8       9      10  11      12  \n",
       "3   -33.3       0      0   0       0      11      1   0      12  \n",
       "4       -       0      0   0       0       0      0   0       0  \n",
       "5    -4.5     134     64   2     200    1363    566   0    1929  \n",
       "6     1.4     103     43   0     146     867    374   0    1241  \n",
       "7    89.4       7      3   0      10      89     15   0     104  \n",
       "..    ...     ...    ...  ..     ...     ...    ...  ..     ...  \n",
       "20  -16.5      16      9   0      25    1208    390   0    1598  \n",
       "21  -18.5      33      1   0      34     594    110   0     704  \n",
       "22    0.5     266     73   0     339   45616  12953   7   58576  \n",
       "23   20.2     117     39   0     156   13212   3452   2   16666  \n",
       "24   -0.1  360397  85866  21  446284  333966  78967  26  412959  \n",
       "\n",
       "[61 rows x 13 columns]"
      ],
      "text/html": "<div>\n<style scoped>\n    .dataframe tbody tr th:only-of-type {\n        vertical-align: middle;\n    }\n\n    .dataframe tbody tr th {\n        vertical-align: top;\n    }\n\n    .dataframe thead th {\n        text-align: right;\n    }\n</style>\n<table border=\"1\" class=\"dataframe\">\n  <thead>\n    <tr style=\"text-align: right;\">\n      <th></th>\n      <th>0</th>\n      <th>1</th>\n      <th>2</th>\n      <th>3</th>\n      <th>4</th>\n      <th>5</th>\n      <th>6</th>\n      <th>7</th>\n      <th>8</th>\n      <th>9</th>\n      <th>10</th>\n      <th>11</th>\n      <th>12</th>\n    </tr>\n  </thead>\n  <tbody>\n    <tr>\n      <th>3</th>\n      <td>1</td>\n      <td>Air Crash</td>\n      <td>3</td>\n      <td>2</td>\n      <td>-33.3</td>\n      <td>0</td>\n      <td>0</td>\n      <td>0</td>\n      <td>0</td>\n      <td>11</td>\n      <td>1</td>\n      <td>0</td>\n      <td>12</td>\n    </tr>\n    <tr>\n      <th>4</th>\n      <td>2</td>\n      <td>Ship Accidents</td>\n      <td>0</td>\n      <td>0</td>\n      <td>-</td>\n      <td>0</td>\n      <td>0</td>\n      <td>0</td>\n      <td>0</td>\n      <td>0</td>\n      <td>0</td>\n      <td>0</td>\n      <td>0</td>\n    </tr>\n    <tr>\n      <th>5</th>\n      <td>3</td>\n      <td>Collapse of Structure (Total)</td>\n      <td>1953</td>\n      <td>1866</td>\n      <td>-4.5</td>\n      <td>134</td>\n      <td>64</td>\n      <td>2</td>\n      <td>200</td>\n      <td>1363</td>\n      <td>566</td>\n      <td>0</td>\n      <td>1929</td>\n    </tr>\n    <tr>\n      <th>6</th>\n      <td></td>\n      <td>3.1 Collapse of Dwelling     House/Residential...</td>\n      <td>1201</td>\n      <td>1218</td>\n      <td>1.4</td>\n      <td>103</td>\n      <td>43</td>\n      <td>0</td>\n      <td>146</td>\n      <td>867</td>\n      <td>374</td>\n      <td>0</td>\n      <td>1241</td>\n    </tr>\n    <tr>\n      <th>7</th>\n      <td></td>\n      <td>3.2 Collapse of Official/      Commercial Buil...</td>\n      <td>47</td>\n      <td>89</td>\n      <td>89.4</td>\n      <td>7</td>\n      <td>3</td>\n      <td>0</td>\n      <td>10</td>\n      <td>89</td>\n      <td>15</td>\n      <td>0</td>\n      <td>104</td>\n    </tr>\n    <tr>\n      <th>...</th>\n      <td>...</td>\n      <td>...</td>\n      <td>...</td>\n      <td>...</td>\n      <td>...</td>\n      <td>...</td>\n      <td>...</td>\n      <td>...</td>\n      <td>...</td>\n      <td>...</td>\n      <td>...</td>\n      <td>...</td>\n      <td>...</td>\n    </tr>\n    <tr>\n      <th>20</th>\n      <td>19</td>\n      <td>Suffocation</td>\n      <td>1896</td>\n      <td>1584</td>\n      <td>-16.5</td>\n      <td>16</td>\n      <td>9</td>\n      <td>0</td>\n      <td>25</td>\n      <td>1208</td>\n      <td>390</td>\n      <td>0</td>\n      <td>1598</td>\n    </tr>\n    <tr>\n      <th>21</th>\n      <td>20</td>\n      <td>Drug Overdose</td>\n      <td>895</td>\n      <td>729</td>\n      <td>-18.5</td>\n      <td>33</td>\n      <td>1</td>\n      <td>0</td>\n      <td>34</td>\n      <td>594</td>\n      <td>110</td>\n      <td>0</td>\n      <td>704</td>\n    </tr>\n    <tr>\n      <th>22</th>\n      <td>21</td>\n      <td>Other than above Causes</td>\n      <td>59042</td>\n      <td>59321</td>\n      <td>0.5</td>\n      <td>266</td>\n      <td>73</td>\n      <td>0</td>\n      <td>339</td>\n      <td>45616</td>\n      <td>12953</td>\n      <td>7</td>\n      <td>58576</td>\n    </tr>\n    <tr>\n      <th>23</th>\n      <td>22</td>\n      <td>Causes Not Known</td>\n      <td>14574</td>\n      <td>17524</td>\n      <td>20.2</td>\n      <td>117</td>\n      <td>39</td>\n      <td>0</td>\n      <td>156</td>\n      <td>13212</td>\n      <td>3452</td>\n      <td>2</td>\n      <td>16666</td>\n    </tr>\n    <tr>\n      <th>24</th>\n      <td></td>\n      <td>Total</td>\n      <td>702094</td>\n      <td>701324</td>\n      <td>-0.1</td>\n      <td>360397</td>\n      <td>85866</td>\n      <td>21</td>\n      <td>446284</td>\n      <td>333966</td>\n      <td>78967</td>\n      <td>26</td>\n      <td>412959</td>\n    </tr>\n  </tbody>\n</table>\n<p>61 rows × 13 columns</p>\n</div>"
     },
     "metadata": {},
     "execution_count": 14
    }
   ],
   "source": [
    "tableA"
   ]
  },
  {
   "cell_type": "code",
   "execution_count": 15,
   "metadata": {},
   "outputs": [
    {
     "output_type": "stream",
     "name": "stdout",
     "text": [
      "0 Air Crash\n1 Ship Accidents\n2 Collapse of Structure (Total)\n3 3.1 Collapse of Dwelling     House/Residential Building\n4 3.2 Collapse of Official/      Commercial Building\n5 3.3 Collapse of Dam\n6 3.4 Collapse of  Bridge\n7 3.5 Others\n8 Drowning (Total)\n9 4.1 Boat Capsize\n10 4.2 Accidental Falls into      Waterbody\n11 4.3 Other Cases\n12 Electrocution\n13 Accidental Explosion (Total)\n14 6.1 Domestic Gas Cylinder\n15 6.2 Industrial Boiler/      Gas Cylinder Explosion\n16 6.3 Ammunition Explosion in       Armed Forces/Police/CPMF\n17 6.4 Other\n18 Falls (Total)\n19 7.1 Fall from Height\n20 7.2 Fall from Vehicles      (Automobile like Bus,      Trucks, etc.)\n21 7.3 Fall into Manhole\n22 7.4 Fall into Pit\n23 7.5 Fall into Borewell\n24 7.6 Others\n25 Factory/Machine Accidents\n26 Accidental Fire (Total)\n27 9.1 Electrical Short circuit\n28 9.2 Riot/Agitation\n29 9.3 Fireworks\n30 9.4 Cooking Gas Cylinder/       Stove Burst\n31 9.5 Other Causes\n32 Firearm\n33 Mines or Quarry Disaster\n34 Traffic Accidents (Total)\n35 12.1 Road Accidents\n36 12.2 Railway Crossing Accidents\n37 12.3 Railway Accidents\n38 Stampede\n39 Sudden Deaths (Total)\n40 14.1 Heart Attack\n41 14.2 Others\n42 Deaths of Women during Pregnancy (Total)\n43 15.1 Due to Abortions\n44 15.2 Other  than Abortions\n45 Deaths Due to Consumption of Illicit/Spurious Liquor\n46 Killed / Injured by Animals\n47 Poisoning (Total)\n48 18.1 Food Poisoning\n49 18.2 Accidental Intake of           Insecticides/Pesticides\n50 18.3 Poisonous Gases (Total)\n51 18.3.1 Carbon Monoxide                     (CO) Gas\n52 18.3.2 Other Poisonous                    Gases\n53 18.4 Snake Bite\n54 18.5 Animal/Reptiles/           Insects Bite\n55 18.6 Other\n56 Suffocation\n57 Drug Overdose\n58 Other than above Causes\n59 Causes Not Known\n60 Total\n"
     ]
    }
   ],
   "source": [
    "# Interate through entire IndexList to get the rows whose States need to be split\n",
    "# e.g \n",
    "# Sl. No      State\n",
    "#             7.1 Fall from Height\n",
    "#         to\n",
    "# Sl. No      State\n",
    "# 7.1         Fall from Height\n",
    "\n",
    "i = 0\n",
    "for index, each in tableA.iterrows():\n",
    "    print(i, each[1])\n",
    "    i+=1"
   ]
  },
  {
   "cell_type": "markdown",
   "metadata": {},
   "source": [
    "Such index ranges are:\n",
    "1. 3-7  \n",
    "2. 9-11  \n",
    "3. 14-17  \n",
    "4. 19-24  \n",
    "5. 27-31  \n",
    "6. 35-37  \n",
    "7. 40-41  \n",
    "8. 43-44  \n",
    "9. 48-55  "
   ]
  },
  {
   "cell_type": "code",
   "execution_count": 16,
   "metadata": {},
   "outputs": [],
   "source": [
    "final = tableA.copy()"
   ]
  },
  {
   "cell_type": "code",
   "execution_count": 17,
   "metadata": {},
   "outputs": [],
   "source": [
    "def split_by_first_space(DF, strIndex, stpIndex):\n",
    "    df = DF.iloc[strIndex:stpIndex+1].copy()\n",
    "    for index, each in df.iterrows():\n",
    "            space = each[1].find(' ')\n",
    "            i = each[1][:space]\n",
    "            val = each[1][space:]\n",
    "            each[0] = i\n",
    "            each[1] = val\n",
    "    DF[strIndex:stpIndex+1] = df.copy()\n",
    "        \n",
    "split_by_first_space(final,3,7)\n",
    "split_by_first_space(final,9,11)\n",
    "split_by_first_space(final,14,17)\n",
    "split_by_first_space(final,19,24)\n",
    "split_by_first_space(final,27,31)\n",
    "split_by_first_space(final,35,37)\n",
    "split_by_first_space(final,40,41)\n",
    "split_by_first_space(final,43,44)\n",
    "split_by_first_space(final,48,55)"
   ]
  },
  {
   "cell_type": "code",
   "execution_count": 18,
   "metadata": {},
   "outputs": [
    {
     "output_type": "stream",
     "name": "stdout",
     "text": [
      "         0                                                                  1\n3        1                                                          Air Crash\n4        2                                                     Ship Accidents\n5        3                                      Collapse of Structure (Total)\n6      3.1                Collapse of Dwelling     House/Residential Building\n7      3.2                     Collapse of Official/      Commercial Building\n8      3.3                                                    Collapse of Dam\n9      3.4                                                Collapse of  Bridge\n10     3.5                                                             Others\n11       4                                                   Drowning (Total)\n12     4.1                                                       Boat Capsize\n13     4.2                               Accidental Falls into      Waterbody\n14     4.3                                                        Other Cases\n15       5                                                      Electrocution\n16       6                                       Accidental Explosion (Total)\n17     6.1                                              Domestic Gas Cylinder\n18     6.2                     Industrial Boiler/      Gas Cylinder Explosion\n19     6.3             Ammunition Explosion in       Armed Forces/Police/CPMF\n20     6.4                                                              Other\n21       7                                                      Falls (Total)\n22     7.1                                                   Fall from Height\n23     7.2   Fall from Vehicles      (Automobile like Bus,      Trucks, etc.)\n24     7.3                                                  Fall into Manhole\n25     7.4                                                      Fall into Pit\n26     7.5                                                 Fall into Borewell\n27     7.6                                                             Others\n28       8                                          Factory/Machine Accidents\n29       9                                            Accidental Fire (Total)\n30     9.1                                           Electrical Short circuit\n31     9.2                                                     Riot/Agitation\n32     9.3                                                          Fireworks\n33     9.4                            Cooking Gas Cylinder/       Stove Burst\n34     9.5                                                       Other Causes\n35      10                                                            Firearm\n36      11                                           Mines or Quarry Disaster\n37      12                                          Traffic Accidents (Total)\n38    12.1                                                     Road Accidents\n39    12.2                                         Railway Crossing Accidents\n40    12.3                                                  Railway Accidents\n41      13                                                           Stampede\n3       14                                              Sudden Deaths (Total)\n4     14.1                                                       Heart Attack\n5     14.2                                                             Others\n6       15                           Deaths of Women during Pregnancy (Total)\n7     15.1                                                   Due to Abortions\n8     15.2                                              Other  than Abortions\n9       16               Deaths Due to Consumption of Illicit/Spurious Liquor\n10      17                                        Killed / Injured by Animals\n11      18                                                  Poisoning (Total)\n12    18.1                                                     Food Poisoning\n13    18.2             Accidental Intake of           Insecticides/Pesticides\n14    18.3                                            Poisonous Gases (Total)\n15  18.3.1                       Carbon Monoxide                     (CO) Gas\n16  18.3.2                           Other Poisonous                    Gases\n17    18.4                                                         Snake Bite\n18    18.5                            Animal/Reptiles/           Insects Bite\n19    18.6                                                              Other\n20      19                                                        Suffocation\n21      20                                                      Drug Overdose\n22      21                                            Other than above Causes\n23      22                                                   Causes Not Known\n24                                                                      Total\n"
     ]
    }
   ],
   "source": [
    "print(final.iloc[:,0:2].to_string())"
   ]
  },
  {
   "cell_type": "code",
   "execution_count": 19,
   "metadata": {},
   "outputs": [],
   "source": [
    "# To Rename the columns accordingly\n",
    "ColumnList = [\n",
    "    (\"Sl. No.\",''),\n",
    "    (\"State/UT\",''), \n",
    "    ('No. of Cases','2018'),\n",
    "    ('No. of Cases','2019'),\n",
    "    ('% Variation in 2019 over 2018',''),\n",
    "    ('Persons Injured – 2019','Male'),\n",
    "    ('Persons Injured – 2019','Female'),\n",
    "    ('Persons Injured – 2019','Transgender'),\n",
    "    ('Persons Injured – 2019','Total'),\n",
    "    ('Persons Died – 2019','Male'),\n",
    "    ('Persons Died – 2019','Female'),\n",
    "    ('Persons Died – 2019','Transgender'),\n",
    "    ('Persons Died – 2019','Total')\n",
    "]\n",
    "final.columns = pd.MultiIndex.from_tuples(ColumnList)\n",
    "final.set_index([\"Sl. No.\",\"State/UT\"],inplace=True)"
   ]
  },
  {
   "cell_type": "code",
   "execution_count": 20,
   "metadata": {},
   "outputs": [
    {
     "output_type": "execute_result",
     "data": {
      "text/plain": [
       "                                                           No. of Cases  \\\n",
       "                                                                   2018   \n",
       "Sl. No. State/UT                                                          \n",
       "1       Air Crash                                                     3   \n",
       "2       Ship Accidents                                                0   \n",
       "3       Collapse of Structure (Total)                              1953   \n",
       "3.1      Collapse of Dwelling     House/Residential Bui...         1201   \n",
       "3.2      Collapse of Official/      Commercial Building              47   \n",
       "...                                                                 ...   \n",
       "19      Suffocation                                                1896   \n",
       "20      Drug Overdose                                               895   \n",
       "21      Other than above Causes                                   59042   \n",
       "22      Causes Not Known                                          14574   \n",
       "        Total                                                    702094   \n",
       "\n",
       "                                                                    \\\n",
       "                                                              2019   \n",
       "Sl. No. State/UT                                                     \n",
       "1       Air Crash                                                2   \n",
       "2       Ship Accidents                                           0   \n",
       "3       Collapse of Structure (Total)                         1866   \n",
       "3.1      Collapse of Dwelling     House/Residential Bui...    1218   \n",
       "3.2      Collapse of Official/      Commercial Building         89   \n",
       "...                                                            ...   \n",
       "19      Suffocation                                           1584   \n",
       "20      Drug Overdose                                          729   \n",
       "21      Other than above Causes                              59321   \n",
       "22      Causes Not Known                                     17524   \n",
       "        Total                                               701324   \n",
       "\n",
       "                                                           % Variation in 2019 over 2018  \\\n",
       "                                                                                           \n",
       "Sl. No. State/UT                                                                           \n",
       "1       Air Crash                                                                  -33.3   \n",
       "2       Ship Accidents                                                                 -   \n",
       "3       Collapse of Structure (Total)                                               -4.5   \n",
       "3.1      Collapse of Dwelling     House/Residential Bui...                           1.4   \n",
       "3.2      Collapse of Official/      Commercial Building                             89.4   \n",
       "...                                                                                  ...   \n",
       "19      Suffocation                                                                -16.5   \n",
       "20      Drug Overdose                                                              -18.5   \n",
       "21      Other than above Causes                                                      0.5   \n",
       "22      Causes Not Known                                                            20.2   \n",
       "        Total                                                                       -0.1   \n",
       "\n",
       "                                                           Persons Injured – 2019  \\\n",
       "                                                                             Male   \n",
       "Sl. No. State/UT                                                                    \n",
       "1       Air Crash                                                               0   \n",
       "2       Ship Accidents                                                          0   \n",
       "3       Collapse of Structure (Total)                                         134   \n",
       "3.1      Collapse of Dwelling     House/Residential Bui...                    103   \n",
       "3.2      Collapse of Official/      Commercial Building                         7   \n",
       "...                                                                           ...   \n",
       "19      Suffocation                                                            16   \n",
       "20      Drug Overdose                                                          33   \n",
       "21      Other than above Causes                                               266   \n",
       "22      Causes Not Known                                                      117   \n",
       "        Total                                                              360397   \n",
       "\n",
       "                                                                               \\\n",
       "                                                           Female Transgender   \n",
       "Sl. No. State/UT                                                                \n",
       "1       Air Crash                                               0           0   \n",
       "2       Ship Accidents                                          0           0   \n",
       "3       Collapse of Structure (Total)                          64           2   \n",
       "3.1      Collapse of Dwelling     House/Residential Bui...     43           0   \n",
       "3.2      Collapse of Official/      Commercial Building         3           0   \n",
       "...                                                           ...         ...   \n",
       "19      Suffocation                                             9           0   \n",
       "20      Drug Overdose                                           1           0   \n",
       "21      Other than above Causes                                73           0   \n",
       "22      Causes Not Known                                       39           0   \n",
       "        Total                                               85866          21   \n",
       "\n",
       "                                                                    \\\n",
       "                                                             Total   \n",
       "Sl. No. State/UT                                                     \n",
       "1       Air Crash                                                0   \n",
       "2       Ship Accidents                                           0   \n",
       "3       Collapse of Structure (Total)                          200   \n",
       "3.1      Collapse of Dwelling     House/Residential Bui...     146   \n",
       "3.2      Collapse of Official/      Commercial Building         10   \n",
       "...                                                            ...   \n",
       "19      Suffocation                                             25   \n",
       "20      Drug Overdose                                           34   \n",
       "21      Other than above Causes                                339   \n",
       "22      Causes Not Known                                       156   \n",
       "        Total                                               446284   \n",
       "\n",
       "                                                           Persons Died – 2019  \\\n",
       "                                                                          Male   \n",
       "Sl. No. State/UT                                                                 \n",
       "1       Air Crash                                                           11   \n",
       "2       Ship Accidents                                                       0   \n",
       "3       Collapse of Structure (Total)                                     1363   \n",
       "3.1      Collapse of Dwelling     House/Residential Bui...                 867   \n",
       "3.2      Collapse of Official/      Commercial Building                     89   \n",
       "...                                                                        ...   \n",
       "19      Suffocation                                                       1208   \n",
       "20      Drug Overdose                                                      594   \n",
       "21      Other than above Causes                                          45616   \n",
       "22      Causes Not Known                                                 13212   \n",
       "        Total                                                           333966   \n",
       "\n",
       "                                                                               \\\n",
       "                                                           Female Transgender   \n",
       "Sl. No. State/UT                                                                \n",
       "1       Air Crash                                               1           0   \n",
       "2       Ship Accidents                                          0           0   \n",
       "3       Collapse of Structure (Total)                         566           0   \n",
       "3.1      Collapse of Dwelling     House/Residential Bui...    374           0   \n",
       "3.2      Collapse of Official/      Commercial Building        15           0   \n",
       "...                                                           ...         ...   \n",
       "19      Suffocation                                           390           0   \n",
       "20      Drug Overdose                                         110           0   \n",
       "21      Other than above Causes                             12953           7   \n",
       "22      Causes Not Known                                     3452           2   \n",
       "        Total                                               78967          26   \n",
       "\n",
       "                                                                    \n",
       "                                                             Total  \n",
       "Sl. No. State/UT                                                    \n",
       "1       Air Crash                                               12  \n",
       "2       Ship Accidents                                           0  \n",
       "3       Collapse of Structure (Total)                         1929  \n",
       "3.1      Collapse of Dwelling     House/Residential Bui...    1241  \n",
       "3.2      Collapse of Official/      Commercial Building        104  \n",
       "...                                                            ...  \n",
       "19      Suffocation                                           1598  \n",
       "20      Drug Overdose                                          704  \n",
       "21      Other than above Causes                              58576  \n",
       "22      Causes Not Known                                     16666  \n",
       "        Total                                               412959  \n",
       "\n",
       "[61 rows x 11 columns]"
      ],
      "text/html": "<div>\n<style scoped>\n    .dataframe tbody tr th:only-of-type {\n        vertical-align: middle;\n    }\n\n    .dataframe tbody tr th {\n        vertical-align: top;\n    }\n\n    .dataframe thead tr th {\n        text-align: left;\n    }\n\n    .dataframe thead tr:last-of-type th {\n        text-align: right;\n    }\n</style>\n<table border=\"1\" class=\"dataframe\">\n  <thead>\n    <tr>\n      <th></th>\n      <th></th>\n      <th colspan=\"2\" halign=\"left\">No. of Cases</th>\n      <th>% Variation in 2019 over 2018</th>\n      <th colspan=\"4\" halign=\"left\">Persons Injured – 2019</th>\n      <th colspan=\"4\" halign=\"left\">Persons Died – 2019</th>\n    </tr>\n    <tr>\n      <th></th>\n      <th></th>\n      <th>2018</th>\n      <th>2019</th>\n      <th></th>\n      <th>Male</th>\n      <th>Female</th>\n      <th>Transgender</th>\n      <th>Total</th>\n      <th>Male</th>\n      <th>Female</th>\n      <th>Transgender</th>\n      <th>Total</th>\n    </tr>\n    <tr>\n      <th>Sl. No.</th>\n      <th>State/UT</th>\n      <th></th>\n      <th></th>\n      <th></th>\n      <th></th>\n      <th></th>\n      <th></th>\n      <th></th>\n      <th></th>\n      <th></th>\n      <th></th>\n      <th></th>\n    </tr>\n  </thead>\n  <tbody>\n    <tr>\n      <th>1</th>\n      <th>Air Crash</th>\n      <td>3</td>\n      <td>2</td>\n      <td>-33.3</td>\n      <td>0</td>\n      <td>0</td>\n      <td>0</td>\n      <td>0</td>\n      <td>11</td>\n      <td>1</td>\n      <td>0</td>\n      <td>12</td>\n    </tr>\n    <tr>\n      <th>2</th>\n      <th>Ship Accidents</th>\n      <td>0</td>\n      <td>0</td>\n      <td>-</td>\n      <td>0</td>\n      <td>0</td>\n      <td>0</td>\n      <td>0</td>\n      <td>0</td>\n      <td>0</td>\n      <td>0</td>\n      <td>0</td>\n    </tr>\n    <tr>\n      <th>3</th>\n      <th>Collapse of Structure (Total)</th>\n      <td>1953</td>\n      <td>1866</td>\n      <td>-4.5</td>\n      <td>134</td>\n      <td>64</td>\n      <td>2</td>\n      <td>200</td>\n      <td>1363</td>\n      <td>566</td>\n      <td>0</td>\n      <td>1929</td>\n    </tr>\n    <tr>\n      <th>3.1</th>\n      <th>Collapse of Dwelling     House/Residential Building</th>\n      <td>1201</td>\n      <td>1218</td>\n      <td>1.4</td>\n      <td>103</td>\n      <td>43</td>\n      <td>0</td>\n      <td>146</td>\n      <td>867</td>\n      <td>374</td>\n      <td>0</td>\n      <td>1241</td>\n    </tr>\n    <tr>\n      <th>3.2</th>\n      <th>Collapse of Official/      Commercial Building</th>\n      <td>47</td>\n      <td>89</td>\n      <td>89.4</td>\n      <td>7</td>\n      <td>3</td>\n      <td>0</td>\n      <td>10</td>\n      <td>89</td>\n      <td>15</td>\n      <td>0</td>\n      <td>104</td>\n    </tr>\n    <tr>\n      <th>...</th>\n      <th>...</th>\n      <td>...</td>\n      <td>...</td>\n      <td>...</td>\n      <td>...</td>\n      <td>...</td>\n      <td>...</td>\n      <td>...</td>\n      <td>...</td>\n      <td>...</td>\n      <td>...</td>\n      <td>...</td>\n    </tr>\n    <tr>\n      <th>19</th>\n      <th>Suffocation</th>\n      <td>1896</td>\n      <td>1584</td>\n      <td>-16.5</td>\n      <td>16</td>\n      <td>9</td>\n      <td>0</td>\n      <td>25</td>\n      <td>1208</td>\n      <td>390</td>\n      <td>0</td>\n      <td>1598</td>\n    </tr>\n    <tr>\n      <th>20</th>\n      <th>Drug Overdose</th>\n      <td>895</td>\n      <td>729</td>\n      <td>-18.5</td>\n      <td>33</td>\n      <td>1</td>\n      <td>0</td>\n      <td>34</td>\n      <td>594</td>\n      <td>110</td>\n      <td>0</td>\n      <td>704</td>\n    </tr>\n    <tr>\n      <th>21</th>\n      <th>Other than above Causes</th>\n      <td>59042</td>\n      <td>59321</td>\n      <td>0.5</td>\n      <td>266</td>\n      <td>73</td>\n      <td>0</td>\n      <td>339</td>\n      <td>45616</td>\n      <td>12953</td>\n      <td>7</td>\n      <td>58576</td>\n    </tr>\n    <tr>\n      <th>22</th>\n      <th>Causes Not Known</th>\n      <td>14574</td>\n      <td>17524</td>\n      <td>20.2</td>\n      <td>117</td>\n      <td>39</td>\n      <td>0</td>\n      <td>156</td>\n      <td>13212</td>\n      <td>3452</td>\n      <td>2</td>\n      <td>16666</td>\n    </tr>\n    <tr>\n      <th></th>\n      <th>Total</th>\n      <td>702094</td>\n      <td>701324</td>\n      <td>-0.1</td>\n      <td>360397</td>\n      <td>85866</td>\n      <td>21</td>\n      <td>446284</td>\n      <td>333966</td>\n      <td>78967</td>\n      <td>26</td>\n      <td>412959</td>\n    </tr>\n  </tbody>\n</table>\n<p>61 rows × 11 columns</p>\n</div>"
     },
     "metadata": {},
     "execution_count": 20
    }
   ],
   "source": [
    "final"
   ]
  },
  {
   "cell_type": "code",
   "execution_count": 21,
   "metadata": {},
   "outputs": [],
   "source": [
    "# Reset Index before saving file, for better formatting in RAW CSV\n",
    "final.reset_index().to_csv(\"Causes-wise Number of Accidents, Persons Injured and Died due to Other Causes during 2019 (All India).csv\",index=False)"
   ]
  }
 ],
 "metadata": {
  "kernelspec": {
   "display_name": "Python 3",
   "language": "python",
   "name": "python3"
  },
  "language_info": {
   "codemirror_mode": {
    "name": "ipython",
    "version": 3
   },
   "file_extension": ".py",
   "mimetype": "text/x-python",
   "name": "python",
   "nbconvert_exporter": "python",
   "pygments_lexer": "ipython3",
   "version": "3.8.2-final"
  }
 },
 "nbformat": 4,
 "nbformat_minor": 4
}
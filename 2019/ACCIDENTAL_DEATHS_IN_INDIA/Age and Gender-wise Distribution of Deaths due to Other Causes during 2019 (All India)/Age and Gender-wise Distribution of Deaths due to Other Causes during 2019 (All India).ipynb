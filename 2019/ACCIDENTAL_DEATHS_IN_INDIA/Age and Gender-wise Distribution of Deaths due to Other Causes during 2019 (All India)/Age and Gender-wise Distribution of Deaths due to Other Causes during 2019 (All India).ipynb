{
 "cells": [
  {
   "cell_type": "code",
   "execution_count": 4,
   "metadata": {},
   "outputs": [],
   "source": [
    "import wget\n",
    "import ssl\n",
    "import os\n",
    "ssl._create_default_https_context = ssl._create_unverified_context"
   ]
  },
  {
   "cell_type": "code",
   "execution_count": 5,
   "metadata": {},
   "outputs": [],
   "source": [
    "# Enter NCRB Individual PDF url\n",
    "pdf_url = 'https://ncrb.gov.in/sites/default/files/adsi_reports_previous_year/Table-1.7_2019.pdf'\n",
    "fileName = pdf_url[67:]\n",
    "try:\n",
    "    #Delete the file to redownload it\n",
    "    os.remove(fileName)\n",
    "except FileNotFoundError as e:\n",
    "    #Ignore in case FileNotFound Error occurs\n",
    "    pass\n",
    "# Download report\n",
    "fileName = wget.download(pdf_url,fileName)"
   ]
  },
  {
   "source": [
    "## What the structure of the final DataFrame is supposed to look like after stitching(concatinating)?\n",
    "\n",
    "| tableA   | tableB   | tableC   |\n",
    "| -------- | -------- | -------- |\n",
    "| Page1    | Page3    | Page5    |\n",
    "| Page2    | Page4    | Page6    |"
   ],
   "cell_type": "markdown",
   "metadata": {}
  },
  {
   "cell_type": "code",
   "execution_count": 6,
   "metadata": {},
   "outputs": [],
   "source": [
    "import numpy as np\n",
    "import pandas as pd\n",
    "import camelot"
   ]
  },
  {
   "cell_type": "code",
   "execution_count": 7,
   "metadata": {},
   "outputs": [
    {
     "output_type": "execute_result",
     "data": {
      "text/plain": [
       "'Table-1.7_2019.pdf'"
      ]
     },
     "metadata": {},
     "execution_count": 7
    }
   ],
   "source": [
    "fileName"
   ]
  },
  {
   "cell_type": "code",
   "execution_count": 163,
   "metadata": {},
   "outputs": [],
   "source": [
    "#Scraping Pages 1 to 3\n",
    "tables = camelot.read_pdf(fileName,\n",
    "                          flavor='stream',\n",
    "                          table_areas=[\"21.162649434571893,728.5539356601939,582.9347980613894,115.0160479455716\"],\n",
    "                          columns=[\"44.2491760904685,174.11088852988692,207.7787399030695,246.25628432956384,274.15250403877224,307.8203554119548,346.29789983844915,381.88962843295644,409.7858481421648,447.30145395799684,482.8931825525041,518.4849111470114,546.3811308562198\"],\n",
    "                          split_text=True,\n",
    "                          row_tol=12,\n",
    "                          pages=\"1-3\"\n",
    "                         )"
   ]
  },
  {
   "cell_type": "code",
   "execution_count": 158,
   "metadata": {},
   "outputs": [
    {
     "output_type": "execute_result",
     "data": {
      "text/plain": [
       "<TableList n=3>"
      ]
     },
     "metadata": {},
     "execution_count": 158
    }
   ],
   "source": [
    "tables"
   ]
  },
  {
   "cell_type": "code",
   "execution_count": 159,
   "metadata": {},
   "outputs": [],
   "source": [
    "def printnAllTables(tables):\n",
    "    for i in range(len(tables)):\n",
    "        print(\"Page No: \",(i+1))\n",
    "        print(tables[i].df)\n",
    "        print()"
   ]
  },
  {
   "source": [
    "# Incase we're intersted in seeing the original scraped tables.\n",
    "# Commented as it takes too much screen space\n",
    "# Run if you want\n",
    "printnAllTables(tables)"
   ],
   "cell_type": "code",
   "metadata": {},
   "execution_count": null,
   "outputs": []
  },
  {
   "cell_type": "code",
   "execution_count": 160,
   "metadata": {},
   "outputs": [],
   "source": [
    "# Removes Garbage Rows that may have been detected Before the 'Air Crash' or 'Sudden Deaths (Total)' row\n",
    "# AND\n",
    "# Removes Garbage Rows that may have been detected after the 'TOTAL' or 'Stampede' row\n",
    "def clean(table):\n",
    "    while(table.df.iloc[0,1] not in  ['Air Crash','Sudden Deaths (Total)']):\n",
    "        table.df = table.df.iloc[1:]\n",
    "    while(table.df.iloc[-1,1] not in  ['Total', 'Stampede']):\n",
    "        table.df = table.df.iloc[:-1]\n",
    "    # The Return line is unnecessary due to all changes being reflected in the original references\n",
    "    return table"
   ]
  },
  {
   "source": [
    "for each_table in tables:\n",
    "    clean(each_table)"
   ],
   "cell_type": "code",
   "metadata": {},
   "execution_count": 161,
   "outputs": []
  },
  {
   "source": [
    "# Incase we're intersted in seeing the scraped tables at this point.\n",
    "# Commented as it takes too much screen space\n",
    "# Run if you want\n",
    "# printnAllTables(tables)"
   ],
   "cell_type": "code",
   "metadata": {},
   "execution_count": null,
   "outputs": []
  },
  {
   "cell_type": "code",
   "execution_count": 164,
   "metadata": {},
   "outputs": [],
   "source": [
    "#Scraping Page 4\n",
    "table4 = camelot.read_pdf(fileName,\n",
    "                          flavor='stream',\n",
    "                          table_areas=[\"21.162649434571893,713.1626351882904,582.9347980613894,385.13554388084685\"],\n",
    "                          columns=[\"44.2491760904685,167.37731825525043,204.8929240710824,243.37046849757675,267.4189337641357,305.8964781906301,344.3740226171244,382.8515670436188,409.7858481421648,446.33951534733444,479.04542810985464,517.522972536349,544.4572536348951\"],\n",
    "                          split_text=True,\n",
    "                          row_tol=12,\n",
    "                          pages=\"4\"\n",
    "                         )"
   ]
  },
  {
   "cell_type": "code",
   "execution_count": 165,
   "metadata": {},
   "outputs": [
    {
     "output_type": "execute_result",
     "data": {
      "text/plain": [
       "    0                                                  1       2      3   4   \\\n",
       "0   14                              Sudden Deaths (Total)   11373   1877   4   \n",
       "1                                       14.1 Heart Attack    6858    893   1   \n",
       "2                                             14.2 Others    4515    984   3   \n",
       "3   15         Deaths of Women during \\nPregnancy (Total)       0    304   0   \n",
       "4                                   15.1 Due to Abortions       0     34   0   \n",
       "5                              15.2 Other  than Abortions       0    270   0   \n",
       "6   16  Deaths Due to Consumption of \\nIllicit/Spuriou...     498     48   0   \n",
       "7   17                        Killed / Injured by Animals     292     70   0   \n",
       "8   18                                  Poisoning (Total)    4535   1943   0   \n",
       "9                                     18.1 Food Poisoning     236    117   0   \n",
       "10      18.2 Accidental Intake of  \\nInsecticides/Pest...    1691    595   0   \n",
       "11                           18.3 Poisonous Gases (Total)      73     16   0   \n",
       "12      18.3.1 Carbon Monoxide  \\n                    ...      12      4   0   \n",
       "13      18.3.2 Other Poisonous \\n                    G...      61     12   0   \n",
       "14                                        18.4 Snake Bite    1691    930   0   \n",
       "15                   18.5 Animal/Reptiles/ \\nInsects Bite     187     75   0   \n",
       "16                                             18.6 Other     657    210   0   \n",
       "17  19                                        Suffocation     348     74   0   \n",
       "18  20                                      Drug Overdose     203     26   0   \n",
       "19  21                            Other than above Causes   14569   3332   4   \n",
       "20  22                                   Causes Not Known    4253    885   1   \n",
       "21                                                  Total  106852  21286  10   \n",
       "\n",
       "        5      6      7  8      9      10     11 12     13  \n",
       "0    13254  14421   2188  2  16611   8323   2182  0  10505  \n",
       "1     7752   9706   1334  2  11042   5267   1345  0   6612  \n",
       "2     5502   4715    854  0   5569   3056    837  0   3893  \n",
       "3      304      0     17  0     17      0      1  0      1  \n",
       "4       34      0      7  0      7      0      0  0      0  \n",
       "5      270      0     10  0     10      0      1  0      1  \n",
       "6      546    335     25  0    360     98      5  0    103  \n",
       "7      362    353    100  0    453    203     73  0    276  \n",
       "8     6478   3046   1324  0   4370   1186    571  1   1758  \n",
       "9      353    154     88  0    242     38     42  0     80  \n",
       "10    2286    906    280  0   1186    369    105  1    475  \n",
       "11      89     38      7  0     45      8      2  0     10  \n",
       "12      16      4      0  0      4      1      0  0      1  \n",
       "13      73     34      7  0     41      7      2  0      9  \n",
       "14    2621   1325    758  0   2083    502    354  0    856  \n",
       "15     262    150     68  0    218     91     33  0    124  \n",
       "16     867    473    123  0    596    178     35  0    213  \n",
       "17     422    230     51  0    281    120     28  0    148  \n",
       "18     229    156     34  0    190     61      9  0     70  \n",
       "19   17905  13064   2563  0  15627   6397   2026  1   8424  \n",
       "20    5139   3281    732  0   4013   1744    434  0   2178  \n",
       "21  128148  75235  15456  2  90693  34434  10657  3  45094  "
      ],
      "text/html": "<div>\n<style scoped>\n    .dataframe tbody tr th:only-of-type {\n        vertical-align: middle;\n    }\n\n    .dataframe tbody tr th {\n        vertical-align: top;\n    }\n\n    .dataframe thead th {\n        text-align: right;\n    }\n</style>\n<table border=\"1\" class=\"dataframe\">\n  <thead>\n    <tr style=\"text-align: right;\">\n      <th></th>\n      <th>0</th>\n      <th>1</th>\n      <th>2</th>\n      <th>3</th>\n      <th>4</th>\n      <th>5</th>\n      <th>6</th>\n      <th>7</th>\n      <th>8</th>\n      <th>9</th>\n      <th>10</th>\n      <th>11</th>\n      <th>12</th>\n      <th>13</th>\n    </tr>\n  </thead>\n  <tbody>\n    <tr>\n      <th>0</th>\n      <td>14</td>\n      <td>Sudden Deaths (Total)</td>\n      <td>11373</td>\n      <td>1877</td>\n      <td>4</td>\n      <td>13254</td>\n      <td>14421</td>\n      <td>2188</td>\n      <td>2</td>\n      <td>16611</td>\n      <td>8323</td>\n      <td>2182</td>\n      <td>0</td>\n      <td>10505</td>\n    </tr>\n    <tr>\n      <th>1</th>\n      <td></td>\n      <td>14.1 Heart Attack</td>\n      <td>6858</td>\n      <td>893</td>\n      <td>1</td>\n      <td>7752</td>\n      <td>9706</td>\n      <td>1334</td>\n      <td>2</td>\n      <td>11042</td>\n      <td>5267</td>\n      <td>1345</td>\n      <td>0</td>\n      <td>6612</td>\n    </tr>\n    <tr>\n      <th>2</th>\n      <td></td>\n      <td>14.2 Others</td>\n      <td>4515</td>\n      <td>984</td>\n      <td>3</td>\n      <td>5502</td>\n      <td>4715</td>\n      <td>854</td>\n      <td>0</td>\n      <td>5569</td>\n      <td>3056</td>\n      <td>837</td>\n      <td>0</td>\n      <td>3893</td>\n    </tr>\n    <tr>\n      <th>3</th>\n      <td>15</td>\n      <td>Deaths of Women during \\nPregnancy (Total)</td>\n      <td>0</td>\n      <td>304</td>\n      <td>0</td>\n      <td>304</td>\n      <td>0</td>\n      <td>17</td>\n      <td>0</td>\n      <td>17</td>\n      <td>0</td>\n      <td>1</td>\n      <td>0</td>\n      <td>1</td>\n    </tr>\n    <tr>\n      <th>4</th>\n      <td></td>\n      <td>15.1 Due to Abortions</td>\n      <td>0</td>\n      <td>34</td>\n      <td>0</td>\n      <td>34</td>\n      <td>0</td>\n      <td>7</td>\n      <td>0</td>\n      <td>7</td>\n      <td>0</td>\n      <td>0</td>\n      <td>0</td>\n      <td>0</td>\n    </tr>\n    <tr>\n      <th>5</th>\n      <td></td>\n      <td>15.2 Other  than Abortions</td>\n      <td>0</td>\n      <td>270</td>\n      <td>0</td>\n      <td>270</td>\n      <td>0</td>\n      <td>10</td>\n      <td>0</td>\n      <td>10</td>\n      <td>0</td>\n      <td>1</td>\n      <td>0</td>\n      <td>1</td>\n    </tr>\n    <tr>\n      <th>6</th>\n      <td>16</td>\n      <td>Deaths Due to Consumption of \\nIllicit/Spuriou...</td>\n      <td>498</td>\n      <td>48</td>\n      <td>0</td>\n      <td>546</td>\n      <td>335</td>\n      <td>25</td>\n      <td>0</td>\n      <td>360</td>\n      <td>98</td>\n      <td>5</td>\n      <td>0</td>\n      <td>103</td>\n    </tr>\n    <tr>\n      <th>7</th>\n      <td>17</td>\n      <td>Killed / Injured by Animals</td>\n      <td>292</td>\n      <td>70</td>\n      <td>0</td>\n      <td>362</td>\n      <td>353</td>\n      <td>100</td>\n      <td>0</td>\n      <td>453</td>\n      <td>203</td>\n      <td>73</td>\n      <td>0</td>\n      <td>276</td>\n    </tr>\n    <tr>\n      <th>8</th>\n      <td>18</td>\n      <td>Poisoning (Total)</td>\n      <td>4535</td>\n      <td>1943</td>\n      <td>0</td>\n      <td>6478</td>\n      <td>3046</td>\n      <td>1324</td>\n      <td>0</td>\n      <td>4370</td>\n      <td>1186</td>\n      <td>571</td>\n      <td>1</td>\n      <td>1758</td>\n    </tr>\n    <tr>\n      <th>9</th>\n      <td></td>\n      <td>18.1 Food Poisoning</td>\n      <td>236</td>\n      <td>117</td>\n      <td>0</td>\n      <td>353</td>\n      <td>154</td>\n      <td>88</td>\n      <td>0</td>\n      <td>242</td>\n      <td>38</td>\n      <td>42</td>\n      <td>0</td>\n      <td>80</td>\n    </tr>\n    <tr>\n      <th>10</th>\n      <td></td>\n      <td>18.2 Accidental Intake of  \\nInsecticides/Pest...</td>\n      <td>1691</td>\n      <td>595</td>\n      <td>0</td>\n      <td>2286</td>\n      <td>906</td>\n      <td>280</td>\n      <td>0</td>\n      <td>1186</td>\n      <td>369</td>\n      <td>105</td>\n      <td>1</td>\n      <td>475</td>\n    </tr>\n    <tr>\n      <th>11</th>\n      <td></td>\n      <td>18.3 Poisonous Gases (Total)</td>\n      <td>73</td>\n      <td>16</td>\n      <td>0</td>\n      <td>89</td>\n      <td>38</td>\n      <td>7</td>\n      <td>0</td>\n      <td>45</td>\n      <td>8</td>\n      <td>2</td>\n      <td>0</td>\n      <td>10</td>\n    </tr>\n    <tr>\n      <th>12</th>\n      <td></td>\n      <td>18.3.1 Carbon Monoxide  \\n                    ...</td>\n      <td>12</td>\n      <td>4</td>\n      <td>0</td>\n      <td>16</td>\n      <td>4</td>\n      <td>0</td>\n      <td>0</td>\n      <td>4</td>\n      <td>1</td>\n      <td>0</td>\n      <td>0</td>\n      <td>1</td>\n    </tr>\n    <tr>\n      <th>13</th>\n      <td></td>\n      <td>18.3.2 Other Poisonous \\n                    G...</td>\n      <td>61</td>\n      <td>12</td>\n      <td>0</td>\n      <td>73</td>\n      <td>34</td>\n      <td>7</td>\n      <td>0</td>\n      <td>41</td>\n      <td>7</td>\n      <td>2</td>\n      <td>0</td>\n      <td>9</td>\n    </tr>\n    <tr>\n      <th>14</th>\n      <td></td>\n      <td>18.4 Snake Bite</td>\n      <td>1691</td>\n      <td>930</td>\n      <td>0</td>\n      <td>2621</td>\n      <td>1325</td>\n      <td>758</td>\n      <td>0</td>\n      <td>2083</td>\n      <td>502</td>\n      <td>354</td>\n      <td>0</td>\n      <td>856</td>\n    </tr>\n    <tr>\n      <th>15</th>\n      <td></td>\n      <td>18.5 Animal/Reptiles/ \\nInsects Bite</td>\n      <td>187</td>\n      <td>75</td>\n      <td>0</td>\n      <td>262</td>\n      <td>150</td>\n      <td>68</td>\n      <td>0</td>\n      <td>218</td>\n      <td>91</td>\n      <td>33</td>\n      <td>0</td>\n      <td>124</td>\n    </tr>\n    <tr>\n      <th>16</th>\n      <td></td>\n      <td>18.6 Other</td>\n      <td>657</td>\n      <td>210</td>\n      <td>0</td>\n      <td>867</td>\n      <td>473</td>\n      <td>123</td>\n      <td>0</td>\n      <td>596</td>\n      <td>178</td>\n      <td>35</td>\n      <td>0</td>\n      <td>213</td>\n    </tr>\n    <tr>\n      <th>17</th>\n      <td>19</td>\n      <td>Suffocation</td>\n      <td>348</td>\n      <td>74</td>\n      <td>0</td>\n      <td>422</td>\n      <td>230</td>\n      <td>51</td>\n      <td>0</td>\n      <td>281</td>\n      <td>120</td>\n      <td>28</td>\n      <td>0</td>\n      <td>148</td>\n    </tr>\n    <tr>\n      <th>18</th>\n      <td>20</td>\n      <td>Drug Overdose</td>\n      <td>203</td>\n      <td>26</td>\n      <td>0</td>\n      <td>229</td>\n      <td>156</td>\n      <td>34</td>\n      <td>0</td>\n      <td>190</td>\n      <td>61</td>\n      <td>9</td>\n      <td>0</td>\n      <td>70</td>\n    </tr>\n    <tr>\n      <th>19</th>\n      <td>21</td>\n      <td>Other than above Causes</td>\n      <td>14569</td>\n      <td>3332</td>\n      <td>4</td>\n      <td>17905</td>\n      <td>13064</td>\n      <td>2563</td>\n      <td>0</td>\n      <td>15627</td>\n      <td>6397</td>\n      <td>2026</td>\n      <td>1</td>\n      <td>8424</td>\n    </tr>\n    <tr>\n      <th>20</th>\n      <td>22</td>\n      <td>Causes Not Known</td>\n      <td>4253</td>\n      <td>885</td>\n      <td>1</td>\n      <td>5139</td>\n      <td>3281</td>\n      <td>732</td>\n      <td>0</td>\n      <td>4013</td>\n      <td>1744</td>\n      <td>434</td>\n      <td>0</td>\n      <td>2178</td>\n    </tr>\n    <tr>\n      <th>21</th>\n      <td></td>\n      <td>Total</td>\n      <td>106852</td>\n      <td>21286</td>\n      <td>10</td>\n      <td>128148</td>\n      <td>75235</td>\n      <td>15456</td>\n      <td>2</td>\n      <td>90693</td>\n      <td>34434</td>\n      <td>10657</td>\n      <td>3</td>\n      <td>45094</td>\n    </tr>\n  </tbody>\n</table>\n</div>"
     },
     "metadata": {},
     "execution_count": 165
    }
   ],
   "source": [
    "table4[0].df"
   ]
  },
  {
   "cell_type": "code",
   "execution_count": null,
   "metadata": {},
   "outputs": [],
   "source": [
    "# List of Column headers as column are nested, i.e exhibit a multi level/index structure\n",
    "# The multi level structre will be generated and applied in the next \n",
    "column_header = [\n",
    "    \"Air Crash\",\n",
    "    \"Ship Accidents\",\n",
    "    \"Collapse of Structure(Total)\",\n",
    "    \"Collapse of Structure (Dwelling House/Residential building)\",\n",
    "    \"Collapse of Structure (Official/Commercial Building)\",\n",
    "    \"Collapse of Structure (Dam)\",\n",
    "    \"Collapse of Structure (Bridge)\",\n",
    "    \"Collapse of Structure (Others)\",\n",
    "    \"Drowning (Total)\",\n",
    "    \"Drowning (Boat Capsize)\",\n",
    "    \"Drowning (Accidental Falls into Water body)\",\n",
    "    \"Drowning (Other Cases)\",\n",
    "    \"Electrocution\",\n",
    "    \"Accidental Explosion (Total)\",\n",
    "    \"Accidental Explosion (Domestic Gas Cylinder)\",\n",
    "    \"Accidental Explosion (Industrial Boiler/Gas Cylinder Explosion)\",\n",
    "    \"Accidental Explosion (Ammunition Explosion in Armed Forces/Police/CPMF)\",\n",
    "    \"Accidental Explosion (Other)\",\n",
    "    \"Falls (Total)\",\n",
    "    \"Falls (from Height)\",\n",
    "    \"Falls (from Vehicles (Automobile like Bus, Trucks, etc.))\",\n",
    "    \"Falls (into Manhole)\",\n",
    "    \"Falls (into Pit)\",\n",
    "    \"Falls (into Borewell)\",\n",
    "    \"Falls (Others)\",\n",
    "    \"Factory / Machine Accidents\",\n",
    "    \"Accidental Fire (Total)\",\n",
    "    \"Accidental Fire (Electrical Short Circuit\",\n",
    "    \"Accidental Fire (Riot/Agitation)\",\n",
    "    \"Accidental Fire (Fireworks)\",\n",
    "    \"Accidental Fire (Cooking Gas Cylinder/Stove Burst)\",\n",
    "    \"Accidental Fire (Other Causes)\",\n",
    "    \"Firearm\",\n",
    "    \"Mines or Quarry Disaster\",\n",
    "    \"Traffic Accidents (Total)\",\n",
    "    \"Road Accidents\",\n",
    "    \"Railway Crossing Accidents\",\n",
    "    \"Railway Accidents\",\n",
    "    \"Stampede\",\n",
    "    \"Sudden Deaths (Total)\",\n",
    "    \"Sudden Deaths (Heart Attack)\",\n",
    "    \"Sudden Deaths (Others)\",\n",
    "    \"Deaths of Women during Pregnancy (Total)\",\n",
    "    \"Deaths of Women during Pregnancy (Due to Abortions)\",\n",
    "    \"Deaths of Women during Pregnancy (Other than Abortions)\",\n",
    "    \"Deaths due to Consumption of Illicit/Spurious Liquor\",\n",
    "    \"Killed / Injured by Animals\",\n",
    "    \"Poisoning (Total)\",\n",
    "    \"Poisoning (Food Poisoning)\",\n",
    "    \"Poisoning (Accidental Intake of Insecticides/Pesticides)\",\n",
    "    \"Poisoning [Poisonous Gases (Total)]\",\n",
    "    \"Poisoning [Poisonous Gases (Carbon Monoxide (CO) Gas)]\",\n",
    "    \"Poisoning [Poisonous Gases (Other poisonous Gases)]\",\n",
    "    \"Poisoning (Snake Bite)\",\n",
    "    \"Poisoning (Animal/Reptiles/Insects Bite)\",\n",
    "    \"Poisoning (Other)\",\n",
    "    \"Suffocation\",\n",
    "    \"Drug Overdose\",\n",
    "    \"Other than above Causes\",\n",
    "    \"Causes Not Known\",\n",
    "    \"Total\"\n",
    "]\n",
    "len(column_header)"
   ]
  },
  {
   "cell_type": "code",
   "execution_count": null,
   "metadata": {},
   "outputs": [],
   "source": [
    "def set_Column(df, title):\n",
    "    column_list = [\n",
    "        (\"Sl. No.\",'',''),\n",
    "        (\"State/UT\",'',''), \n",
    "        (title,\"No. of Cases\",''),\n",
    "        (title,'No. of Persons Injured','Male'),\n",
    "        (title,'No. of Persons Injured','Female'),\n",
    "        (title,'No. of Persons Injured','Transgender'),\n",
    "        (title,'No. of Persons Injured','Total'),\n",
    "        (title,'No. of Persons Died','Male'),\n",
    "        (title,'No. of Persons Died','Female'),\n",
    "        (title,'No. of Persons Died','Transgender'),\n",
    "        (title,'No. of Persons Died','Total'),\n",
    "    ]\n",
    "    df.columns = pd.MultiIndex.from_tuples(column_list)"
   ]
  },
  {
   "cell_type": "code",
   "execution_count": null,
   "metadata": {},
   "outputs": [],
   "source": [
    "for i in range(len(tables)):\n",
    "    set_Column(tables[i].df, column_header[i])\n",
    "    tables[i].df.set_index([\"Sl. No.\",\"State/UT\"],inplace=True)"
   ]
  },
  {
   "cell_type": "code",
   "execution_count": null,
   "metadata": {},
   "outputs": [],
   "source": [
    "# Incase we're intersted in seeing the scraped tables at this point.\n",
    "# Commented as it takes too much screen space\n",
    "# Run if you want\n",
    "# printnAllTables(tables)\n",
    "\n",
    "# OR Print a simgle one according to your choice\n",
    "# tables[23].df"
   ]
  },
  {
   "cell_type": "code",
   "execution_count": null,
   "metadata": {},
   "outputs": [],
   "source": [
    "# Convert List of tables to list of DataFrames\n",
    "DataFrames = [each.df.copy() for each in tables]\n",
    "# Concat all the tables one after the other, as they all have the same indexes.\n",
    "final = pd.concat(DataFrames,axis=1)"
   ]
  },
  {
   "cell_type": "code",
   "execution_count": null,
   "metadata": {},
   "outputs": [],
   "source": [
    "# Reset Index before saving file, for better formatting in RAW CSV\n",
    "final.reset_index().to_csv(\"Other Causes-wise Number of Cases, Persons Injured & Persons Died during 2019 (State & UT-wise).csv\",index=False)"
   ]
  }
 ],
 "metadata": {
  "kernelspec": {
   "display_name": "Python 3",
   "language": "python",
   "name": "python3"
  },
  "language_info": {
   "codemirror_mode": {
    "name": "ipython",
    "version": 3
   },
   "file_extension": ".py",
   "mimetype": "text/x-python",
   "name": "python",
   "nbconvert_exporter": "python",
   "pygments_lexer": "ipython3",
   "version": "3.8.2-final"
  }
 },
 "nbformat": 4,
 "nbformat_minor": 4
}
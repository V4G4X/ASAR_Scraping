{
 "cells": [
  {
   "cell_type": "code",
   "execution_count": 1,
   "metadata": {},
   "outputs": [],
   "source": [
    "import wget\n",
    "import ssl\n",
    "import os\n",
    "ssl._create_default_https_context = ssl._create_unverified_context"
   ]
  },
  {
   "cell_type": "code",
   "execution_count": 2,
   "metadata": {},
   "outputs": [],
   "source": [
    "# Enter NCRB Individual PDF url\n",
    "pdf_url = 'https://ncrb.gov.in/sites/default/files/adsi_reports_previous_year/Table-1.7_2019.pdf'\n",
    "fileName = pdf_url[67:]\n",
    "try:\n",
    "    #Delete the file to redownload it\n",
    "    os.remove(fileName)\n",
    "except FileNotFoundError as e:\n",
    "    #Ignore in case FileNotFound Error occurs\n",
    "    pass\n",
    "# Download report\n",
    "fileName = wget.download(pdf_url,fileName)"
   ]
  },
  {
   "cell_type": "markdown",
   "metadata": {},
   "source": [
    "## What the structure of the final DataFrame is supposed to look like after stitching(concatinating)?\n",
    "\n",
    "| tableA   | tableB   | tableC   |\n",
    "| -------- | -------- | -------- |\n",
    "| Page1    | Page3    | Page5    |\n",
    "| Page2    | Page4    | Page6    |"
   ]
  },
  {
   "cell_type": "code",
   "execution_count": 3,
   "metadata": {},
   "outputs": [],
   "source": [
    "import numpy as np\n",
    "import pandas as pd\n",
    "import camelot"
   ]
  },
  {
   "cell_type": "code",
   "execution_count": 4,
   "metadata": {},
   "outputs": [
    {
     "output_type": "execute_result",
     "data": {
      "text/plain": [
       "'Table-1.7_2019.pdf'"
      ]
     },
     "metadata": {},
     "execution_count": 4
    }
   ],
   "source": [
    "fileName"
   ]
  },
  {
   "cell_type": "code",
   "execution_count": 5,
   "metadata": {},
   "outputs": [],
   "source": [
    "#Scraping Pages 1 to 3\n",
    "tables = camelot.read_pdf(fileName,\n",
    "                          flavor='stream',\n",
    "                          table_areas=[\"21.162649434571893,728.5539356601939,582.9347980613894,115.0160479455716\"],\n",
    "                          columns=[\"44.2491760904685,174.11088852988692,207.7787399030695,246.25628432956384,274.15250403877224,307.8203554119548,346.29789983844915,381.88962843295644,409.7858481421648,447.30145395799684,482.8931825525041,518.4849111470114,546.3811308562198\"],\n",
    "                          split_text=True,\n",
    "                          row_tol=12,\n",
    "                          strip_text='\\n\\t',\n",
    "                          pages=\"1-3\"\n",
    "                         )"
   ]
  },
  {
   "cell_type": "code",
   "execution_count": 6,
   "metadata": {},
   "outputs": [
    {
     "output_type": "execute_result",
     "data": {
      "text/plain": [
       "<TableList n=3>"
      ]
     },
     "metadata": {},
     "execution_count": 6
    }
   ],
   "source": [
    "tables"
   ]
  },
  {
   "cell_type": "code",
   "execution_count": 7,
   "metadata": {},
   "outputs": [],
   "source": [
    "def printnAllTables(tables):\n",
    "    for i in range(len(tables)):\n",
    "        print(\"Page No: \",(i+1))\n",
    "        print(tables[i].df)\n",
    "        print()"
   ]
  },
  {
   "cell_type": "code",
   "execution_count": 8,
   "metadata": {},
   "outputs": [
    {
     "output_type": "stream",
     "name": "stdout",
     "text": [
      "Page No:  1\n         0                                                  1       2   \\\n0   Sl. No.                                              Cause  Male F   \n1                                                                        \n2       (1)                                                (2)     (3)   \n3         1                                          Air Crash       0   \n4         2                                     Ship Accidents       0   \n5         3                      Collapse of Structure (Total)     141   \n6            3.1 Collapse of Dwelling House/Residential Bui...     105   \n7                3.2 Collapse of Official/ Commercial Building       2   \n8                                          3.3 Collapse of Dam       0   \n9                                      3.4 Collapse of  Bridge       0   \n10                                                  3.5 Others      34   \n11        4                                   Drowning (Total)    3257   \n12                                            4.1 Boat Capsize      15   \n13                        4.2 Accidental Falls into  Waterbody    2314   \n14                                             4.3 Other Cases     928   \n15        5                                      Electrocution     514   \n16        6                       Accidental Explosion (Total)      18   \n17                                   6.1 Domestic Gas Cylinder      13   \n18               6.2 Industrial Boiler/ Gas Cylinder Explosion       1   \n19           6.3 Ammunition Explosion in       Armed Forces...       0   \n20                                                   6.4 Other       4   \n21        7                                      Falls (Total)     647   \n22                                        7.1 Fall from Height     409   \n23           7.2 Fall from Vehicles (Automobile like Bus, T...      58   \n24                                       7.3 Fall into Manhole       4   \n25                                           7.4 Fall into Pit      60   \n26                                     7.5 Fall into Bore well       7   \n27                                                  7.6 Others     109   \n28        8                          Factory/Machine Accidents       5   \n29        9                            Accidental Fire (Total)     277   \n30                                9.1 Electrical Short circuit      61   \n31                                          9.2 Riot/Agitation       0   \n32                                               9.3 Fireworks       5   \n33                 9.4 Cooking Gas Cylinder/       Stove Burst      39   \n34                                            9.5 Other Causes     172   \n35       10                                            Firearm       2   \n36       11                           Mines or Quarry Disaster       4   \n37       12                          Traffic Accidents (Total)    3106   \n38                                         12.1 Road Accidents    2945   \n39                             12.2 Railway Crossing Accidents      20   \n40                                      12.3 Railway Accidents     141   \n41       13                                           Stampede       0   \n42        •                 As per data provided by States/UTs       .   \n\n          3      4     5        6       7     8      9       10       11  \\\n0   Traemale  ns- T  otal  Male Fe  Trmale  ans-  Total  Male F  Tremale   \n1        gen    der                     ge  nder                      ge   \n2      (4) (     5)   (6)      (7)     (8)   (9)   (10)    (11)   (12) (   \n3          0      0     0        0       0     0      0       1        1   \n4          0      0     0        0       0     0      0       0        0   \n5         91      0   232       83      38     0    121     315      116   \n6         54      0   159       56      30     0     86     208       77   \n7          3      0     5        5       1     0      6      15        4   \n8          0      0     0        0       0     0      0       0        0   \n9          1      0     1        1       1     0      2       5        3   \n10        33      0    67       21       6     0     27      87       32   \n11      1294      0  4551     2773     710     0   3483    6657     1522   \n12        10      0    25       14       5     0     19      44       11   \n13       893      0  3207     1932     482     0   2414    4497     1027   \n14       391      0  1319      827     223     0   1050    2116      484   \n15       164      0   678      739     148     0    887    3882      526   \n16        31      0    49       34      14     0     48     116       86   \n17        28      0    41       21      13     0     34      37       70   \n18         0      0     1        7       0     0      7      29        4   \n19         1      0     1        0       0     0      0       6        0   \n20         2      0     6        6       1     0      7      44       12   \n21       336      1   984      696     214     0    910    4099      630   \n22       220      1   630      379     130     0    509    2361      352   \n23        21      0    79      160      23     0    183     969      119   \n24         1      0     5        9       1     0     10      21        3   \n25        24      0    84       55      33     0     88     152       56   \n26         3      0    10        1       2     0      3      13        0   \n27        67      0   176       92      25     0    117     583      100   \n28         1      0     6       22      11     0     33     297       26   \n29       297      0   574      285     351     0    636    1619     1910   \n30        27      0    88      152      34     0    186     647      100   \n31         1      0     1        0       0     0      0       0        1   \n32         6      0    11        5       3     0      8      11        6   \n33        60      0    99       25      69     0     94     139      490   \n34       203      0   375      103     245     0    348     822     1313   \n35         0      0     2        4       1     0      5      93       27   \n36         1      0     5        1       3     0      4      23        8   \n37      1207      0  4313    10106    2352     0  12458   50520     6673   \n38      1134      0  4079     9312    2142     0  11454   43882     5775   \n39         3      0    23      108      11     0    119     453       53   \n40        70      0   211      686     199     0    885    6185      845   \n41         0      0     0        0       0     0      0       0        0   \n42                                                                         \n\n      12     13  \n0   ans-  Total  \n1   nder         \n2    13)   (14)  \n3      0      2  \n4      0      0  \n5      0    431  \n6      0    285  \n7      0     19  \n8      0      0  \n9      0      8  \n10     0    119  \n11     3   8182  \n12     0     55  \n13     3   5527  \n14     0   2600  \n15     0   4408  \n16     0    202  \n17     0    107  \n18     0     33  \n19     0      6  \n20     0     56  \n21     0   4729  \n22     0   2713  \n23     0   1088  \n24     0     24  \n25     0    208  \n26     0     13  \n27     0    683  \n28     0    323  \n29     0   3529  \n30     0    747  \n31     0      1  \n32     0     17  \n33     0    629  \n34     0   2135  \n35     0    120  \n36     0     31  \n37     3  57196  \n38     1  49658  \n39     0    506  \n40     2   7032  \n41     0      0  \n42               \n\nPage No:  2\n     0                                                  1       2          3   \\\n0   No.                                                     Male F  emale gen   \n1   (1)                                                (2)     (3)      (4) (   \n2    14                              Sudden Deaths (Total)     548        406   \n3                                        14.1 Heart Attack      51         44   \n4                                              14.2 Others     497        362   \n5    15           Deaths of Women during Pregnancy (Total)       0         15   \n6                                    15.1 Due to Abortions       0          1   \n7                               15.2 Other  than Abortions       0         14   \n8    16  Deaths Due to Consumption of Illicit/Spurious ...       3          1   \n9    17                        Killed / Injured by Animals      46         24   \n10   18                                  Poisoning (Total)     835        678   \n11                                     18.1 Food Poisoning      21         19   \n12       18.2 Accidental Intake of  Insecticides/Pestic...      68         87   \n13                            18.3 Poisonous Gases (Total)       4          0   \n14       18.3.1 Carbon Monoxide                      (C...       0          0   \n15        18.3.2 Other Poisonous                     Gases       4          0   \n16                                         18.4 Snake Bite     648        483   \n17                      18.5 Animal/Reptiles/ Insects Bite      63         63   \n18                                              18.6 Other      31         26   \n19   19                                        Suffocation      44         44   \n20   20                                      Drug Overdose       9          1   \n21   21                            Other than above Causes    1428       1172   \n22   22                                   Causes Not Known     344        194   \n23                                                   Total   11228       5957   \n24    •                 As per data provided by States/UTs       .              \n\n      4      5        6        7     8      9       10        11    12      13  \n0   Tder   otal  Male Fe  male ge  nder  Total  Male F  emale ge  nder   Total  \n1     5)    (6)      (7)      (8)   (9)   (10)    (11)    (12) (   13)    (14)  \n2      0    954      414      189     0    603    4146      1222     0    5368  \n3      0     95       98       25     0    123    1980       401     0    2381  \n4      0    859      316      164     0    480    2166       821     0    2987  \n5      0     15        0        8     0      8       0       815     0     815  \n6      0      1        0        2     0      2       0       156     0     156  \n7      0     14        0        6     0      6       0       659     0     659  \n8      0      4       22        8     0     30     232        21     0     253  \n9      0     70       34       12     0     46     183        35     0     218  \n10     0   1513      823      682     0   1505    3619      1952     1    5572  \n11     0     40       58       44     0    102     182       128     0     310  \n12     0    155      239      287     0    526    1527       806     1    2334  \n13     0      4        6        2     0      8      72        13     0      85  \n14     0      0        0        0     0      0      11         5     0      16  \n15     0      4        6        2     0      8      61         8     0      69  \n16     0   1131      393      245     0    638    1226       669     0    1895  \n17     0    126       39       18     0     57     100        58     0     158  \n18     0     57       88       86     0    174     512       278     0     790  \n19     0     88       37       61     0     98     429       132     0     561  \n20     0     10       13       10     0     23     152        30     0     182  \n21     0   2600     1366      828     0   2194    8792      3032     2   11826  \n22     0    538      559      257     0    816    3031       950     1    3982  \n23     1  17186    18011     5897     0  23908   88206     19714    10  107930  \n24                                                                              \n\nPage No:  3\n     0                                                  1      2        3   \\\n0   (1)                                                (2)   (15)  (16) (1   \n1     1                                          Air Crash     10        0   \n2     2                                     Ship Accidents      0        0   \n3     3                      Collapse of Structure (Total)    431      155   \n4        3.1 Collapse of Dwelling     House/Residential...    259       96   \n5        3.2 Collapse of Official/      Commercial Buil...     42        5   \n6                                      3.3 Collapse of Dam      0        0   \n7                                  3.4 Collapse of  Bridge      7        3   \n8                                               3.5 Others    123       51   \n9     4                                   Drowning (Total)   6842     1301   \n10                                        4.1 Boat Capsize     52        4   \n11                4.2 Accidental Falls into      Waterbody   4549      902   \n12                                         4.3 Other Cases   2241      395   \n13    5                                      Electrocution   3773      658   \n14    6                       Accidental Explosion (Total)    122       90   \n15                               6.1 Domestic Gas Cylinder     35       67   \n16       6.2 Industrial Boiler/      Gas Cylinder Explo...     30        6   \n17       6.3 Ammunition Explosion in       Armed Forces...      6        0   \n18                                               6.4 Other     51       17   \n19    7                                      Falls (Total)   5572      912   \n20                                    7.1 Fall from Height   3241      460   \n21       7.2 Fall from Vehicles      (Automobile like B...   1116      233   \n22                                   7.3 Fall into Manhole     31        3   \n23                                       7.4 Fall into Pit    195       64   \n24                                  7.5 Fall into Borewell     22        3   \n25                                              7.6 Others    967      149   \n26    8                          Factory/Machine Accidents    345       46   \n27    9                            Accidental Fire (Total)   1517     1799   \n28                            9.1 Electrical Short circuit    486      109   \n29                                      9.2 Riot/Agitation      1        0   \n30                                           9.3 Fireworks     21       15   \n31             9.4 Cooking Gas Cylinder/       Stove Burst    198      526   \n32                                        9.5 Other Causes    811     1149   \n33   10                                            Firearm    100       15   \n34   11                           Mines or Quarry Disaster     22        6   \n35   12                          Traffic Accidents (Total)  52046     7743   \n36                                     12.1 Road Accidents  44284     6698   \n37                         12.2 Railway Crossing Accidents    498       85   \n38                                  12.3 Railway Accidents   7264      960   \n39   13                                           Stampede      1        2   \n40    •                 As per data provided by States/UTs      .            \n\n    4      5      6       7    8      9      10      11   12     13  \n0   7)   (18)   (19)  (20) (  21)   (22)   (23)  (24) (  25)   (26)  \n1    0     10      0       0    0      0      0       0    0      0  \n2    0      0      0       0    0      0      0       0    0      0  \n3    0    586    278      90    0    368    115      76    0    191  \n4    0    355    163      61    0    224     76      56    0    132  \n5    0     47     21       2    0     23      4       0    0      4  \n6    0      0      0       0    0      0      0       0    0      0  \n7    0     10      5       0    0      5      0       0    0      0  \n8    0    174     89      27    0    116     35      20    0     55  \n9    0   8143   4336     910    0   5246   2160     906    0   3066  \n10   0     56     36       4    0     40     16       3    0     19  \n11   0   5451   2891     603    0   3494   1452     626    0   2078  \n12   0   2636   1409     303    0   1712    692     277    0    969  \n13   0   4431   1970     375    0   2345    534     149    0    683  \n14   0    212     60      39    0     99     18      27    0     45  \n15   0    102      7      25    0     32      4      10    0     14  \n16   0     36     17       3    0     20      6       0    0      6  \n17   0      6      6       0    0      6      0       0    0      0  \n18   0     68     30      11    0     41      8      17    0     25  \n19   0   6484   4273     753    0   5026   2082     686    0   2768  \n20   0   3701   2563     381    0   2944   1169     331    0   1500  \n21   0   1349    654     169    0    823    270     104    0    374  \n22   0     34     17       2    0     19      8       2    0     10  \n23   0    259    148      28    0    176     62      22    0     84  \n24   0     25     10       0    0     10      0       1    0      1  \n25   0   1116    881     173    0   1054    573     226    0    799  \n26   0    391    185      26    0    211     30       7    0     37  \n27   0   3316    791     768    0   1559    458     843    0   1301  \n28   0    595    234      48    0    282     69      23    0     92  \n29   0      1      2       0    0      2      0       0    0      0  \n30   0     36     10       5    0     15      9       6    0     15  \n31   0    724    124     215    0    339     70     188    0    258  \n32   0   1960    421     500    0    921    310     626    0    936  \n33   0    115     55       6    0     61     15       2    0     17  \n34   0     28     12       1    0     13      1       0    0      1  \n35   1  59790  28385    5451    0  33836  10888    2631    1  13520  \n36   1  50983  23608    4464    0  28072   8556    1930    0  10486  \n37   0    583    333      54    0    387    108      36    0    144  \n38   0   8224   4444     933    0   5377   2224     665    1   2890  \n39   0      3      4       3    0      7      1       1    0      2  \n40                                                                   \n\n"
     ]
    }
   ],
   "source": [
    "# Incase we're intersted in seeing the original scraped tables.\n",
    "# Commented as it takes too much screen space\n",
    "# Run if you want\n",
    "printnAllTables(tables)"
   ]
  },
  {
   "cell_type": "code",
   "execution_count": 9,
   "metadata": {},
   "outputs": [],
   "source": [
    "# Removes Garbage Rows that may have been detected Before the 'Air Crash' or 'Sudden Deaths (Total)' row\n",
    "# AND\n",
    "# Removes Garbage Rows that may have been detected after the 'TOTAL' or 'Stampede' row\n",
    "def clean(table):\n",
    "    while(table.df.iloc[0,1] not in  ['Air Crash','Sudden Deaths (Total)']):\n",
    "        table.df = table.df.iloc[1:]\n",
    "    while(table.df.iloc[-1,1] not in  ['Total', 'Stampede']):\n",
    "        table.df = table.df.iloc[:-1]\n",
    "    # The Return line is unnecessary due to all changes being reflected in the original references\n",
    "    return table"
   ]
  },
  {
   "cell_type": "code",
   "execution_count": 10,
   "metadata": {},
   "outputs": [],
   "source": [
    "for each_table in tables:\n",
    "    clean(each_table)"
   ]
  },
  {
   "cell_type": "code",
   "execution_count": 11,
   "metadata": {},
   "outputs": [],
   "source": [
    "# Incase we're intersted in seeing the scraped tables at this point.\n",
    "# Commented as it takes too much screen space\n",
    "# Run if you want\n",
    "# printnAllTables(tables)"
   ]
  },
  {
   "cell_type": "code",
   "execution_count": 12,
   "metadata": {},
   "outputs": [
    {
     "output_type": "execute_result",
     "data": {
      "text/plain": [
       "<Table shape=(22, 14)>"
      ]
     },
     "metadata": {},
     "execution_count": 12
    }
   ],
   "source": [
    "#Scraping Page 4\n",
    "table4 = camelot.read_pdf(fileName,\n",
    "                          flavor='stream',\n",
    "                          table_areas=[\"21.162649434571893,713.1626351882904,582.9347980613894,385.13554388084685\"],\n",
    "                          columns=[\"44.2491760904685,167.37731825525043,204.8929240710824,243.37046849757675,267.4189337641357,305.8964781906301,344.3740226171244,382.8515670436188,409.7858481421648,446.33951534733444,479.04542810985464,517.522972536349,544.4572536348951\"],\n",
    "                          split_text=True,\n",
    "                          row_tol=12,\n",
    "                          strip_text='\\n\\t',\n",
    "                          pages=\"4\"\n",
    "                         )\n",
    "clean(table4[0])"
   ]
  },
  {
   "cell_type": "code",
   "execution_count": 13,
   "metadata": {},
   "outputs": [
    {
     "output_type": "execute_result",
     "data": {
      "text/plain": [
       "<Table shape=(40, 7)>"
      ]
     },
     "metadata": {},
     "execution_count": 13
    }
   ],
   "source": [
    "#Scraping Page 5\n",
    "table5 = camelot.read_pdf(fileName,\n",
    "                          flavor='stream',\n",
    "                          table_areas=[\"36.55366720516963,736.2495858961457,542.5333764135703,157.1519056407761\"],\n",
    "                          columns=[\"59.640193861066244,215.47424878836836,279.9241357027464,342.4501453957997,408.82390953150247,492.5125686591277\"],\n",
    "                          split_text=True,\n",
    "                          row_tol=12,\n",
    "                          strip_text='\\n\\t',\n",
    "                          pages=\"5\"\n",
    "                         )\n",
    "clean(table5[0])"
   ]
  },
  {
   "cell_type": "code",
   "execution_count": 14,
   "metadata": {},
   "outputs": [
    {
     "output_type": "execute_result",
     "data": {
      "text/plain": [
       "<Table shape=(23, 7)>"
      ]
     },
     "metadata": {},
     "execution_count": 14
    }
   ],
   "source": [
    "#Scraping Page 6\n",
    "table6 = camelot.read_pdf(fileName,\n",
    "                          flavor='stream',\n",
    "                          table_areas=[\"36.55366720516963,697.7392773354907,544.4572536348951,357.20675439462553\"],\n",
    "                          columns=[\"63.487948303715676,211.62649434571892,279.9241357027464,343.41208400646207,412.6716639741519,492.5125686591277\"],\n",
    "                          split_text=True,\n",
    "                          row_tol=12,\n",
    "                          strip_text='\\n\\t',\n",
    "                          pages=\"6\"\n",
    "                         )\n",
    "clean(table6[0])"
   ]
  },
  {
   "cell_type": "code",
   "execution_count": 15,
   "metadata": {},
   "outputs": [],
   "source": [
    "df1 = tables[0].df\n",
    "df2 = tables[1].df\n",
    "df3 = tables[2].df\n",
    "df4 = table4[0].df\n",
    "df5 = table5[0].df\n",
    "df6 = table6[0].df"
   ]
  },
  {
   "cell_type": "code",
   "execution_count": 16,
   "metadata": {},
   "outputs": [],
   "source": [
    "tableA = pd.concat([df1,df2],axis=0)\n",
    "tableB = pd.concat([df3,df4],axis=0)\n",
    "tableC = pd.concat([df5,df6],axis=0)"
   ]
  },
  {
   "cell_type": "code",
   "execution_count": 17,
   "metadata": {},
   "outputs": [],
   "source": [
    "# To Rename the columns accordingly\n",
    "tableAColumnList = [\n",
    "    (\"Sl. No.\",''),\n",
    "    (\"State/UT\",''), \n",
    "    ('Below 14 years','Male'),\n",
    "    ('Below 14 years','Female'),\n",
    "    ('Below 14 years','Transgender'),\n",
    "    ('Below 14 years','Total'),\n",
    "    ('14 and Above – Below 18 years','Male'),\n",
    "    ('14 and Above – Below 18 years','Female'),\n",
    "    ('14 and Above – Below 18 years','Transgender'),\n",
    "    ('14 and Above – Below 18 years','Total'),\n",
    "    ('18 and Above – Below 30 years','Male'),\n",
    "    ('18 and Above – Below 30 years','Female'),\n",
    "    ('18 and Above – Below 30 years','Transgender'),\n",
    "    ('18 and Above – Below 30 years','Total')\n",
    "]\n",
    "tableA.columns = pd.MultiIndex.from_tuples(tableAColumnList)\n",
    "tableA.set_index([\"Sl. No.\",\"State/UT\"],inplace=True)\n",
    "\n",
    "tableBColumnList = [\n",
    "    (\"Sl. No.\",''),\n",
    "    (\"State/UT\",''), \n",
    "    ('30 and Above – Below 45 years','Male'),\n",
    "    ('30 and Above – Below 45 years','Female'),\n",
    "    ('30 and Above – Below 45 years','Transgender'),\n",
    "    ('30 and Above – Below 45 years','Total'),\n",
    "    ('45 and Above – Below 60 years','Male'),\n",
    "    ('45 and Above – Below 60 years','Female'),\n",
    "    ('45 and Above – Below 60 years','Transgender'),\n",
    "    ('45 and Above – Below 60 years','Total'),\n",
    "    ('60 years & Above','Male'),\n",
    "    ('60 years & Above','Female'),\n",
    "    ('60 years & Above','Transgender'),\n",
    "    ('60 years & Above','Total')\n",
    "]\n",
    "tableB.columns = pd.MultiIndex.from_tuples(tableBColumnList)\n",
    "tableB.set_index([\"Sl. No.\",\"State/UT\"],inplace=True)\n",
    "\n",
    "tableCColumnList = [\n",
    "    (\"Sl. No.\",''),\n",
    "    (\"State/UT\",''), \n",
    "    ('Total','Male'),\n",
    "    ('Total','Female'),\n",
    "    ('Total','Transgender'),\n",
    "    ('Total','Total'),\n",
    "    ('Total','Percentage Share')\n",
    "]\n",
    "tableC.columns = pd.MultiIndex.from_tuples(tableCColumnList)\n",
    "tableC.set_index([\"Sl. No.\",\"State/UT\"],inplace=True)"
   ]
  },
  {
   "cell_type": "code",
   "execution_count": 18,
   "metadata": {},
   "outputs": [],
   "source": [
    "# Rename indexes to bring uniformity when joining/concatenating\n",
    "tableB.index = tableA.index.copy()\n",
    "tableC.index = tableA.index.copy()"
   ]
  },
  {
   "cell_type": "code",
   "execution_count": 19,
   "metadata": {},
   "outputs": [
    {
     "output_type": "execute_result",
     "data": {
      "text/plain": [
       "                                                           Below 14 years  \\\n",
       "                                                                     Male   \n",
       "Sl. No. State/UT                                                            \n",
       "1       Air Crash                                                       0   \n",
       "2       Ship Accidents                                                  0   \n",
       "3       Collapse of Structure (Total)                                 141   \n",
       "        3.1 Collapse of Dwelling House/Residential Buil...            105   \n",
       "        3.2 Collapse of Official/ Commercial Building                   2   \n",
       "\n",
       "                                                                               \\\n",
       "                                                           Female Transgender   \n",
       "Sl. No. State/UT                                                                \n",
       "1       Air Crash                                               0           0   \n",
       "2       Ship Accidents                                          0           0   \n",
       "3       Collapse of Structure (Total)                          91           0   \n",
       "        3.1 Collapse of Dwelling House/Residential Buil...     54           0   \n",
       "        3.2 Collapse of Official/ Commercial Building           3           0   \n",
       "\n",
       "                                                                  \\\n",
       "                                                           Total   \n",
       "Sl. No. State/UT                                                   \n",
       "1       Air Crash                                              0   \n",
       "2       Ship Accidents                                         0   \n",
       "3       Collapse of Structure (Total)                        232   \n",
       "        3.1 Collapse of Dwelling House/Residential Buil...   159   \n",
       "        3.2 Collapse of Official/ Commercial Building          5   \n",
       "\n",
       "                                                           14 and Above – Below 18 years  \\\n",
       "                                                                                    Male   \n",
       "Sl. No. State/UT                                                                           \n",
       "1       Air Crash                                                                      0   \n",
       "2       Ship Accidents                                                                 0   \n",
       "3       Collapse of Structure (Total)                                                 83   \n",
       "        3.1 Collapse of Dwelling House/Residential Buil...                            56   \n",
       "        3.2 Collapse of Official/ Commercial Building                                  5   \n",
       "\n",
       "                                                                               \\\n",
       "                                                           Female Transgender   \n",
       "Sl. No. State/UT                                                                \n",
       "1       Air Crash                                               0           0   \n",
       "2       Ship Accidents                                          0           0   \n",
       "3       Collapse of Structure (Total)                          38           0   \n",
       "        3.1 Collapse of Dwelling House/Residential Buil...     30           0   \n",
       "        3.2 Collapse of Official/ Commercial Building           1           0   \n",
       "\n",
       "                                                                  \\\n",
       "                                                           Total   \n",
       "Sl. No. State/UT                                                   \n",
       "1       Air Crash                                              0   \n",
       "2       Ship Accidents                                         0   \n",
       "3       Collapse of Structure (Total)                        121   \n",
       "        3.1 Collapse of Dwelling House/Residential Buil...    86   \n",
       "        3.2 Collapse of Official/ Commercial Building          6   \n",
       "\n",
       "                                                           18 and Above – Below 30 years  \\\n",
       "                                                                                    Male   \n",
       "Sl. No. State/UT                                                                           \n",
       "1       Air Crash                                                                      1   \n",
       "2       Ship Accidents                                                                 0   \n",
       "3       Collapse of Structure (Total)                                                315   \n",
       "        3.1 Collapse of Dwelling House/Residential Buil...                           208   \n",
       "        3.2 Collapse of Official/ Commercial Building                                 15   \n",
       "\n",
       "                                                                   ...  \\\n",
       "                                                           Female  ...   \n",
       "Sl. No. State/UT                                                   ...   \n",
       "1       Air Crash                                               1  ...   \n",
       "2       Ship Accidents                                          0  ...   \n",
       "3       Collapse of Structure (Total)                         116  ...   \n",
       "        3.1 Collapse of Dwelling House/Residential Buil...     77  ...   \n",
       "        3.2 Collapse of Official/ Commercial Building           4  ...   \n",
       "\n",
       "                                                           45 and Above – Below 60 years  \\\n",
       "                                                                                   Total   \n",
       "Sl. No. State/UT                                                                           \n",
       "1       Air Crash                                                                      0   \n",
       "2       Ship Accidents                                                                 0   \n",
       "3       Collapse of Structure (Total)                                                368   \n",
       "        3.1 Collapse of Dwelling House/Residential Buil...                           224   \n",
       "        3.2 Collapse of Official/ Commercial Building                                 23   \n",
       "\n",
       "                                                           60 years & Above  \\\n",
       "                                                                       Male   \n",
       "Sl. No. State/UT                                                              \n",
       "1       Air Crash                                                         0   \n",
       "2       Ship Accidents                                                    0   \n",
       "3       Collapse of Structure (Total)                                   115   \n",
       "        3.1 Collapse of Dwelling House/Residential Buil...               76   \n",
       "        3.2 Collapse of Official/ Commercial Building                     4   \n",
       "\n",
       "                                                                               \\\n",
       "                                                           Female Transgender   \n",
       "Sl. No. State/UT                                                                \n",
       "1       Air Crash                                               0           0   \n",
       "2       Ship Accidents                                          0           0   \n",
       "3       Collapse of Structure (Total)                          76           0   \n",
       "        3.1 Collapse of Dwelling House/Residential Buil...     56           0   \n",
       "        3.2 Collapse of Official/ Commercial Building           0           0   \n",
       "\n",
       "                                                                 Total         \\\n",
       "                                                           Total  Male Female   \n",
       "Sl. No. State/UT                                                                \n",
       "1       Air Crash                                              0    11      1   \n",
       "2       Ship Accidents                                         0     0      0   \n",
       "3       Collapse of Structure (Total)                        191  1363    566   \n",
       "        3.1 Collapse of Dwelling House/Residential Buil...   132   867    374   \n",
       "        3.2 Collapse of Official/ Commercial Building          4    89     15   \n",
       "\n",
       "                                                                              \\\n",
       "                                                           Transgender Total   \n",
       "Sl. No. State/UT                                                               \n",
       "1       Air Crash                                                    0    12   \n",
       "2       Ship Accidents                                               0     0   \n",
       "3       Collapse of Structure (Total)                                0  1929   \n",
       "        3.1 Collapse of Dwelling House/Residential Buil...           0  1241   \n",
       "        3.2 Collapse of Official/ Commercial Building                0   104   \n",
       "\n",
       "                                                                             \n",
       "                                                           Percentage Share  \n",
       "Sl. No. State/UT                                                             \n",
       "1       Air Crash                                                       0.0  \n",
       "2       Ship Accidents                                                  0.0  \n",
       "3       Collapse of Structure (Total)                                   0.5  \n",
       "        3.1 Collapse of Dwelling House/Residential Buil...              0.3  \n",
       "        3.2 Collapse of Official/ Commercial Building                   0.0  \n",
       "\n",
       "[5 rows x 29 columns]"
      ],
      "text/html": "<div>\n<style scoped>\n    .dataframe tbody tr th:only-of-type {\n        vertical-align: middle;\n    }\n\n    .dataframe tbody tr th {\n        vertical-align: top;\n    }\n\n    .dataframe thead tr th {\n        text-align: left;\n    }\n\n    .dataframe thead tr:last-of-type th {\n        text-align: right;\n    }\n</style>\n<table border=\"1\" class=\"dataframe\">\n  <thead>\n    <tr>\n      <th></th>\n      <th></th>\n      <th colspan=\"4\" halign=\"left\">Below 14 years</th>\n      <th colspan=\"4\" halign=\"left\">14 and Above – Below 18 years</th>\n      <th colspan=\"2\" halign=\"left\">18 and Above – Below 30 years</th>\n      <th>...</th>\n      <th>45 and Above – Below 60 years</th>\n      <th colspan=\"4\" halign=\"left\">60 years &amp; Above</th>\n      <th colspan=\"5\" halign=\"left\">Total</th>\n    </tr>\n    <tr>\n      <th></th>\n      <th></th>\n      <th>Male</th>\n      <th>Female</th>\n      <th>Transgender</th>\n      <th>Total</th>\n      <th>Male</th>\n      <th>Female</th>\n      <th>Transgender</th>\n      <th>Total</th>\n      <th>Male</th>\n      <th>Female</th>\n      <th>...</th>\n      <th>Total</th>\n      <th>Male</th>\n      <th>Female</th>\n      <th>Transgender</th>\n      <th>Total</th>\n      <th>Male</th>\n      <th>Female</th>\n      <th>Transgender</th>\n      <th>Total</th>\n      <th>Percentage Share</th>\n    </tr>\n    <tr>\n      <th>Sl. No.</th>\n      <th>State/UT</th>\n      <th></th>\n      <th></th>\n      <th></th>\n      <th></th>\n      <th></th>\n      <th></th>\n      <th></th>\n      <th></th>\n      <th></th>\n      <th></th>\n      <th></th>\n      <th></th>\n      <th></th>\n      <th></th>\n      <th></th>\n      <th></th>\n      <th></th>\n      <th></th>\n      <th></th>\n      <th></th>\n      <th></th>\n    </tr>\n  </thead>\n  <tbody>\n    <tr>\n      <th>1</th>\n      <th>Air Crash</th>\n      <td>0</td>\n      <td>0</td>\n      <td>0</td>\n      <td>0</td>\n      <td>0</td>\n      <td>0</td>\n      <td>0</td>\n      <td>0</td>\n      <td>1</td>\n      <td>1</td>\n      <td>...</td>\n      <td>0</td>\n      <td>0</td>\n      <td>0</td>\n      <td>0</td>\n      <td>0</td>\n      <td>11</td>\n      <td>1</td>\n      <td>0</td>\n      <td>12</td>\n      <td>0.0</td>\n    </tr>\n    <tr>\n      <th>2</th>\n      <th>Ship Accidents</th>\n      <td>0</td>\n      <td>0</td>\n      <td>0</td>\n      <td>0</td>\n      <td>0</td>\n      <td>0</td>\n      <td>0</td>\n      <td>0</td>\n      <td>0</td>\n      <td>0</td>\n      <td>...</td>\n      <td>0</td>\n      <td>0</td>\n      <td>0</td>\n      <td>0</td>\n      <td>0</td>\n      <td>0</td>\n      <td>0</td>\n      <td>0</td>\n      <td>0</td>\n      <td>0.0</td>\n    </tr>\n    <tr>\n      <th>3</th>\n      <th>Collapse of Structure (Total)</th>\n      <td>141</td>\n      <td>91</td>\n      <td>0</td>\n      <td>232</td>\n      <td>83</td>\n      <td>38</td>\n      <td>0</td>\n      <td>121</td>\n      <td>315</td>\n      <td>116</td>\n      <td>...</td>\n      <td>368</td>\n      <td>115</td>\n      <td>76</td>\n      <td>0</td>\n      <td>191</td>\n      <td>1363</td>\n      <td>566</td>\n      <td>0</td>\n      <td>1929</td>\n      <td>0.5</td>\n    </tr>\n    <tr>\n      <th rowspan=\"2\" valign=\"top\"></th>\n      <th>3.1 Collapse of Dwelling House/Residential Building</th>\n      <td>105</td>\n      <td>54</td>\n      <td>0</td>\n      <td>159</td>\n      <td>56</td>\n      <td>30</td>\n      <td>0</td>\n      <td>86</td>\n      <td>208</td>\n      <td>77</td>\n      <td>...</td>\n      <td>224</td>\n      <td>76</td>\n      <td>56</td>\n      <td>0</td>\n      <td>132</td>\n      <td>867</td>\n      <td>374</td>\n      <td>0</td>\n      <td>1241</td>\n      <td>0.3</td>\n    </tr>\n    <tr>\n      <th>3.2 Collapse of Official/ Commercial Building</th>\n      <td>2</td>\n      <td>3</td>\n      <td>0</td>\n      <td>5</td>\n      <td>5</td>\n      <td>1</td>\n      <td>0</td>\n      <td>6</td>\n      <td>15</td>\n      <td>4</td>\n      <td>...</td>\n      <td>23</td>\n      <td>4</td>\n      <td>0</td>\n      <td>0</td>\n      <td>4</td>\n      <td>89</td>\n      <td>15</td>\n      <td>0</td>\n      <td>104</td>\n      <td>0.0</td>\n    </tr>\n  </tbody>\n</table>\n<p>5 rows × 29 columns</p>\n</div>"
     },
     "metadata": {},
     "execution_count": 19
    }
   ],
   "source": [
    "# Create Final Table using joins on the 2 indexes we selected\n",
    "final = tableA.join(tableB,on=[\"Sl. No.\",\"State/UT\"]).join(tableC,on=[\"Sl. No.\",\"State/UT\"])\n",
    "final.head()"
   ]
  },
  {
   "cell_type": "code",
   "execution_count": 20,
   "metadata": {},
   "outputs": [
    {
     "output_type": "stream",
     "name": "stdout",
     "text": [
      "0 ('1', 'Air Crash')\n1 ('2', 'Ship Accidents')\n2 ('3', 'Collapse of Structure (Total)')\n3 ('', '3.1 Collapse of Dwelling House/Residential Building')\n4 ('', '3.2 Collapse of Official/ Commercial Building')\n5 ('', '3.3 Collapse of Dam')\n6 ('', '3.4 Collapse of  Bridge')\n7 ('', '3.5 Others')\n8 ('4', 'Drowning (Total)')\n9 ('', '4.1 Boat Capsize')\n10 ('', '4.2 Accidental Falls into  Waterbody')\n11 ('', '4.3 Other Cases')\n12 ('5', 'Electrocution')\n13 ('6', 'Accidental Explosion (Total)')\n14 ('', '6.1 Domestic Gas Cylinder')\n15 ('', '6.2 Industrial Boiler/ Gas Cylinder Explosion')\n16 ('', '6.3 Ammunition Explosion in       Armed Forces/Police/CPMF')\n17 ('', '6.4 Other')\n18 ('7', 'Falls (Total)')\n19 ('', '7.1 Fall from Height')\n20 ('', '7.2 Fall from Vehicles (Automobile like Bus, Trucks, etc.)')\n21 ('', '7.3 Fall into Manhole')\n22 ('', '7.4 Fall into Pit')\n23 ('', '7.5 Fall into Bore well')\n24 ('', '7.6 Others')\n25 ('8', 'Factory/Machine Accidents')\n26 ('9', 'Accidental Fire (Total)')\n27 ('', '9.1 Electrical Short circuit')\n28 ('', '9.2 Riot/Agitation')\n29 ('', '9.3 Fireworks')\n30 ('', '9.4 Cooking Gas Cylinder/       Stove Burst')\n31 ('', '9.5 Other Causes')\n32 ('10', 'Firearm')\n33 ('11', 'Mines or Quarry Disaster')\n34 ('12', 'Traffic Accidents (Total)')\n35 ('', '12.1 Road Accidents')\n36 ('', '12.2 Railway Crossing Accidents')\n37 ('', '12.3 Railway Accidents')\n38 ('13', 'Stampede')\n39 ('14', 'Sudden Deaths (Total)')\n40 ('', '14.1 Heart Attack')\n41 ('', '14.2 Others')\n42 ('15', 'Deaths of Women during Pregnancy (Total)')\n43 ('', '15.1 Due to Abortions')\n44 ('', '15.2 Other  than Abortions')\n45 ('16', 'Deaths Due to Consumption of Illicit/Spurious Liquor')\n46 ('17', 'Killed / Injured by Animals')\n47 ('18', 'Poisoning (Total)')\n48 ('', '18.1 Food Poisoning')\n49 ('', '18.2 Accidental Intake of  Insecticides/Pesticides')\n50 ('', '18.3 Poisonous Gases (Total)')\n51 ('', '18.3.1 Carbon Monoxide                      (CO) Gas')\n52 ('', '18.3.2 Other Poisonous                     Gases')\n53 ('', '18.4 Snake Bite')\n54 ('', '18.5 Animal/Reptiles/ Insects Bite')\n55 ('', '18.6 Other')\n56 ('19', 'Suffocation')\n57 ('20', 'Drug Overdose')\n58 ('21', 'Other than above Causes')\n59 ('22', 'Causes Not Known')\n60 ('', 'Total')\n"
     ]
    }
   ],
   "source": [
    "# Interate through entire IndexList to get the rows whose States need to be split\n",
    "# e.g \n",
    "# Sl. No      State\n",
    "#             7.1 Fall from Height\n",
    "#         to\n",
    "# Sl. No      State\n",
    "# 7.1         Fall from Height\n",
    "\n",
    "i = 0\n",
    "for index, each in final[\"Below 14 years\"].iterrows():\n",
    "    print(i, index)\n",
    "    i+=1"
   ]
  },
  {
   "cell_type": "markdown",
   "metadata": {},
   "source": [
    "Such index ranges are:\n",
    "1. 3-7\n",
    "2. 9-11\n",
    "3. 14-17\n",
    "4. 19-24\n",
    "5. 27-31\n",
    "6. 35-37\n",
    "7. 40-41\n",
    "8. 43-44\n",
    "9. 48-55"
   ]
  },
  {
   "cell_type": "code",
   "execution_count": 21,
   "metadata": {},
   "outputs": [],
   "source": [
    "final = final.reset_index()"
   ]
  },
  {
   "cell_type": "code",
   "execution_count": 22,
   "metadata": {},
   "outputs": [],
   "source": [
    "def split_by_first_space(DF, strIndex, stpIndex):\n",
    "    df = DF.iloc[strIndex:stpIndex+1].copy()\n",
    "    for index, each in df.iterrows():\n",
    "            space = each[\"State/UT\"][0].find(' ')\n",
    "            i = each[\"State/UT\"][0][:space]\n",
    "            val = each[\"State/UT\"][0][space:]\n",
    "            each[\"Sl. No.\"] = i\n",
    "            each[\"State/UT\"] = val\n",
    "    DF[strIndex:stpIndex+1] = df.copy()\n",
    "        \n",
    "split_by_first_space(final,3,7)\n",
    "split_by_first_space(final,9,11)\n",
    "split_by_first_space(final,14,17)\n",
    "split_by_first_space(final,19,24)\n",
    "split_by_first_space(final,27,31)\n",
    "split_by_first_space(final,35,37)\n",
    "split_by_first_space(final,40,41)\n",
    "split_by_first_space(final,43,44)\n",
    "split_by_first_space(final,48,55)"
   ]
  },
  {
   "cell_type": "code",
   "execution_count": 23,
   "metadata": {},
   "outputs": [
    {
     "output_type": "execute_result",
     "data": {
      "text/plain": [
       "  Sl. No.                                          State/UT Below 14 years  \\\n",
       "                                                                      Male   \n",
       "0       1                                         Air Crash              0   \n",
       "1       2                                    Ship Accidents              0   \n",
       "2       3                     Collapse of Structure (Total)            141   \n",
       "3     3.1   Collapse of Dwelling House/Residential Building            105   \n",
       "4     3.2         Collapse of Official/ Commercial Building              2   \n",
       "\n",
       "                           14 and Above – Below 18 years                     \\\n",
       "  Female Transgender Total                          Male Female Transgender   \n",
       "0      0           0     0                             0      0           0   \n",
       "1      0           0     0                             0      0           0   \n",
       "2     91           0   232                            83     38           0   \n",
       "3     54           0   159                            56     30           0   \n",
       "4      3           0     5                             5      1           0   \n",
       "\n",
       "         ... 45 and Above – Below 60 years 60 years & Above         \\\n",
       "  Total  ...                         Total             Male Female   \n",
       "0     0  ...                             0                0      0   \n",
       "1     0  ...                             0                0      0   \n",
       "2   121  ...                           368              115     76   \n",
       "3    86  ...                           224               76     56   \n",
       "4     6  ...                            23                4      0   \n",
       "\n",
       "                    Total                                            \n",
       "  Transgender Total  Male Female Transgender Total Percentage Share  \n",
       "0           0     0    11      1           0    12              0.0  \n",
       "1           0     0     0      0           0     0              0.0  \n",
       "2           0   191  1363    566           0  1929              0.5  \n",
       "3           0   132   867    374           0  1241              0.3  \n",
       "4           0     4    89     15           0   104              0.0  \n",
       "\n",
       "[5 rows x 31 columns]"
      ],
      "text/html": "<div>\n<style scoped>\n    .dataframe tbody tr th:only-of-type {\n        vertical-align: middle;\n    }\n\n    .dataframe tbody tr th {\n        vertical-align: top;\n    }\n\n    .dataframe thead tr th {\n        text-align: left;\n    }\n</style>\n<table border=\"1\" class=\"dataframe\">\n  <thead>\n    <tr>\n      <th></th>\n      <th>Sl. No.</th>\n      <th>State/UT</th>\n      <th colspan=\"4\" halign=\"left\">Below 14 years</th>\n      <th colspan=\"4\" halign=\"left\">14 and Above – Below 18 years</th>\n      <th>...</th>\n      <th>45 and Above – Below 60 years</th>\n      <th colspan=\"4\" halign=\"left\">60 years &amp; Above</th>\n      <th colspan=\"5\" halign=\"left\">Total</th>\n    </tr>\n    <tr>\n      <th></th>\n      <th></th>\n      <th></th>\n      <th>Male</th>\n      <th>Female</th>\n      <th>Transgender</th>\n      <th>Total</th>\n      <th>Male</th>\n      <th>Female</th>\n      <th>Transgender</th>\n      <th>Total</th>\n      <th>...</th>\n      <th>Total</th>\n      <th>Male</th>\n      <th>Female</th>\n      <th>Transgender</th>\n      <th>Total</th>\n      <th>Male</th>\n      <th>Female</th>\n      <th>Transgender</th>\n      <th>Total</th>\n      <th>Percentage Share</th>\n    </tr>\n  </thead>\n  <tbody>\n    <tr>\n      <th>0</th>\n      <td>1</td>\n      <td>Air Crash</td>\n      <td>0</td>\n      <td>0</td>\n      <td>0</td>\n      <td>0</td>\n      <td>0</td>\n      <td>0</td>\n      <td>0</td>\n      <td>0</td>\n      <td>...</td>\n      <td>0</td>\n      <td>0</td>\n      <td>0</td>\n      <td>0</td>\n      <td>0</td>\n      <td>11</td>\n      <td>1</td>\n      <td>0</td>\n      <td>12</td>\n      <td>0.0</td>\n    </tr>\n    <tr>\n      <th>1</th>\n      <td>2</td>\n      <td>Ship Accidents</td>\n      <td>0</td>\n      <td>0</td>\n      <td>0</td>\n      <td>0</td>\n      <td>0</td>\n      <td>0</td>\n      <td>0</td>\n      <td>0</td>\n      <td>...</td>\n      <td>0</td>\n      <td>0</td>\n      <td>0</td>\n      <td>0</td>\n      <td>0</td>\n      <td>0</td>\n      <td>0</td>\n      <td>0</td>\n      <td>0</td>\n      <td>0.0</td>\n    </tr>\n    <tr>\n      <th>2</th>\n      <td>3</td>\n      <td>Collapse of Structure (Total)</td>\n      <td>141</td>\n      <td>91</td>\n      <td>0</td>\n      <td>232</td>\n      <td>83</td>\n      <td>38</td>\n      <td>0</td>\n      <td>121</td>\n      <td>...</td>\n      <td>368</td>\n      <td>115</td>\n      <td>76</td>\n      <td>0</td>\n      <td>191</td>\n      <td>1363</td>\n      <td>566</td>\n      <td>0</td>\n      <td>1929</td>\n      <td>0.5</td>\n    </tr>\n    <tr>\n      <th>3</th>\n      <td>3.1</td>\n      <td>Collapse of Dwelling House/Residential Building</td>\n      <td>105</td>\n      <td>54</td>\n      <td>0</td>\n      <td>159</td>\n      <td>56</td>\n      <td>30</td>\n      <td>0</td>\n      <td>86</td>\n      <td>...</td>\n      <td>224</td>\n      <td>76</td>\n      <td>56</td>\n      <td>0</td>\n      <td>132</td>\n      <td>867</td>\n      <td>374</td>\n      <td>0</td>\n      <td>1241</td>\n      <td>0.3</td>\n    </tr>\n    <tr>\n      <th>4</th>\n      <td>3.2</td>\n      <td>Collapse of Official/ Commercial Building</td>\n      <td>2</td>\n      <td>3</td>\n      <td>0</td>\n      <td>5</td>\n      <td>5</td>\n      <td>1</td>\n      <td>0</td>\n      <td>6</td>\n      <td>...</td>\n      <td>23</td>\n      <td>4</td>\n      <td>0</td>\n      <td>0</td>\n      <td>4</td>\n      <td>89</td>\n      <td>15</td>\n      <td>0</td>\n      <td>104</td>\n      <td>0.0</td>\n    </tr>\n  </tbody>\n</table>\n<p>5 rows × 31 columns</p>\n</div>"
     },
     "metadata": {},
     "execution_count": 23
    }
   ],
   "source": [
    "final.head()"
   ]
  },
  {
   "cell_type": "code",
   "execution_count": 24,
   "metadata": {},
   "outputs": [],
   "source": [
    "# Reset Index before saving file, for better formatting in RAW CSV\n",
    "final.to_csv(\"Age and Gender-wise Distribution of Deaths due to Other Causes during 2019 (All India).csv\",index=False)"
   ]
  }
 ],
 "metadata": {
  "kernelspec": {
   "display_name": "Python 3",
   "language": "python",
   "name": "python3"
  },
  "language_info": {
   "codemirror_mode": {
    "name": "ipython",
    "version": 3
   },
   "file_extension": ".py",
   "mimetype": "text/x-python",
   "name": "python",
   "nbconvert_exporter": "python",
   "pygments_lexer": "ipython3",
   "version": "3.8.2-final"
  }
 },
 "nbformat": 4,
 "nbformat_minor": 4
}
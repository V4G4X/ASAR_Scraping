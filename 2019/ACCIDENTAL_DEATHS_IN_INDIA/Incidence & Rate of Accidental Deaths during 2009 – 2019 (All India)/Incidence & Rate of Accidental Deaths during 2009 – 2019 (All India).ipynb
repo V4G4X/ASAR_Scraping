{
 "cells": [
  {
   "cell_type": "code",
   "execution_count": 1,
   "metadata": {},
   "outputs": [],
   "source": [
    "import wget\n",
    "import ssl\n",
    "import os\n",
    "ssl._create_default_https_context = ssl._create_unverified_context"
   ]
  },
  {
   "cell_type": "code",
   "execution_count": 2,
   "metadata": {},
   "outputs": [],
   "source": [
    "# Enter NCRB Individual PDF url\n",
    "pdf_url = 'https://ncrb.gov.in/sites/default/files/adsi_reports_previous_year/Table-1.1_2019.pdf'\n",
    "fileName = pdf_url[67:]\n",
    "try:\n",
    "    #Delete the file to redownload it\n",
    "    os.remove(fileName)\n",
    "except FileNotFoundError as e:\n",
    "    #Ignore in case FileNotFound Error occurs\n",
    "    pass\n",
    "# Download report\n",
    "fileName = wget.download(pdf_url,fileName)"
   ]
  },
  {
   "cell_type": "code",
   "execution_count": 3,
   "metadata": {},
   "outputs": [],
   "source": [
    "import numpy as np\n",
    "import pandas as pd\n",
    "import camelot"
   ]
  },
  {
   "cell_type": "code",
   "execution_count": 4,
   "metadata": {},
   "outputs": [
    {
     "output_type": "execute_result",
     "data": {
      "text/plain": [
       "'Table-1.1_2019.pdf'"
      ]
     },
     "metadata": {},
     "execution_count": 4
    }
   ],
   "source": [
    "fileName"
   ]
  },
  {
   "cell_type": "code",
   "execution_count": 5,
   "metadata": {},
   "outputs": [],
   "source": [
    "tables = camelot.read_pdf(fileName,\n",
    "flavor='stream',\n",
    "table_areas=[\n",
    "    \"86.0935056542811,588.1083188540745,529.5472051696285,301.44534756487155\"\n",
    "    ],\n",
    "    columns=[\n",
    "        \"117.35651050080777,182.76833602584816,238.56077544426498,317.4397415185784,385.7373828756059,466.540226171244\"\n",
    "        ],\n",
    "        row_tol=18,\n",
    "        split_text=True,\n",
    "        strip_text='#@ .\\n',\n",
    "        pages=\"all\"\n",
    ")"
   ]
  },
  {
   "cell_type": "code",
   "execution_count": 6,
   "metadata": {},
   "outputs": [
    {
     "output_type": "execute_result",
     "data": {
      "text/plain": [
       "<TableList n=1>"
      ]
     },
     "metadata": {},
     "execution_count": 6
    }
   ],
   "source": [
    "tables"
   ]
  },
  {
   "cell_type": "code",
   "execution_count": 7,
   "metadata": {},
   "outputs": [],
   "source": [
    "def printnAllTables(tables):\n",
    "    for i in range(len(tables)):\n",
    "        print(\"Page No: \",(i+1))\n",
    "        print(tables[i].df)\n",
    "        print()"
   ]
  },
  {
   "cell_type": "code",
   "execution_count": 8,
   "metadata": {},
   "outputs": [
    {
     "output_type": "stream",
     "name": "stdout",
     "text": [
      "Page No:  1\n     0                   1      2       3       4       5    6\n0    1                2009  22255  334766  357021  116944  305\n1    2                2010  25066  359583  384649  118576  324\n2    3                2011  23690  367194  390884  121019  323\n3    4                2012  22960  372022  394982  121337  326\n4    5                2013  22759  377758  400517  122879  326\n5    6                2014  20201  431556  451757  124404  363\n6    7                2015  10510  402947  413457  125911  328\n7    8                2016   8684  409537  418221  127399  328\n8    9                2017   7143  389441  396584  130916  303\n9   10                2018   6891  404933  411824  132338  311\n10  11                2019   8145  412959  421104  133761  315\n11  12  PercentageChangein   -634     234     179     144   33\n12            2019Over2009                                    \n\n"
     ]
    }
   ],
   "source": [
    "# Incase we're intersted in seeing the original scraped tables.\n",
    "# Commented as it takes too much screen space\n",
    "# Run if you want\n",
    "printnAllTables(tables)"
   ]
  },
  {
   "cell_type": "code",
   "execution_count": 9,
   "metadata": {},
   "outputs": [],
   "source": [
    "tables[0].df.iloc[11,1] = 'Percentage Change in 2019 Over 2009'\n",
    "tables[0].df.drop(index=[12], inplace=True)"
   ]
  },
  {
   "cell_type": "code",
   "execution_count": 10,
   "metadata": {},
   "outputs": [],
   "source": [
    "# Incase we're intersted in seeing the scraped tables at this point.\n",
    "# Commented as it takes too much screen space\n",
    "# Run if you want\n",
    "# printnAllTables(tables)"
   ]
  },
  {
   "cell_type": "code",
   "execution_count": 11,
   "metadata": {},
   "outputs": [],
   "source": [
    "column_list = [\n",
    "    (\"Sl. No.\",''),\n",
    "    (\"Year\",''), \n",
    "    ('Total number of Accidental Deaths','Forces of Nature'),\n",
    "    ('Total number of Accidental Deaths','Other Causes'),\n",
    "    ('Total number of Accidental Deaths','Total'),\n",
    "    ('Mid–Year Projected Population(In Lakh)',''),\n",
    "    ('Rate ofAccidental Deaths','')\n",
    "]"
   ]
  },
  {
   "cell_type": "code",
   "execution_count": 12,
   "metadata": {},
   "outputs": [
    {
     "output_type": "execute_result",
     "data": {
      "text/plain": [
       "   Sl. No.                                 Year  \\\n",
       "                                                  \n",
       "0        1                                 2009   \n",
       "1        2                                 2010   \n",
       "2        3                                 2011   \n",
       "3        4                                 2012   \n",
       "4        5                                 2013   \n",
       "5        6                                 2014   \n",
       "6        7                                 2015   \n",
       "7        8                                 2016   \n",
       "8        9                                 2017   \n",
       "9       10                                 2018   \n",
       "10      11                                 2019   \n",
       "11      12  Percentage Change in 2019 Over 2009   \n",
       "\n",
       "   Total number of Accidental Deaths                       \\\n",
       "                    Forces of Nature Other Causes   Total   \n",
       "0                              22255       334766  357021   \n",
       "1                              25066       359583  384649   \n",
       "2                              23690       367194  390884   \n",
       "3                              22960       372022  394982   \n",
       "4                              22759       377758  400517   \n",
       "5                              20201       431556  451757   \n",
       "6                              10510       402947  413457   \n",
       "7                               8684       409537  418221   \n",
       "8                               7143       389441  396584   \n",
       "9                               6891       404933  411824   \n",
       "10                              8145       412959  421104   \n",
       "11                              -634          234     179   \n",
       "\n",
       "   Mid–Year Projected Population(In Lakh) Rate ofAccidental Deaths  \n",
       "                                                                    \n",
       "0                                  116944                      305  \n",
       "1                                  118576                      324  \n",
       "2                                  121019                      323  \n",
       "3                                  121337                      326  \n",
       "4                                  122879                      326  \n",
       "5                                  124404                      363  \n",
       "6                                  125911                      328  \n",
       "7                                  127399                      328  \n",
       "8                                  130916                      303  \n",
       "9                                  132338                      311  \n",
       "10                                 133761                      315  \n",
       "11                                    144                       33  "
      ],
      "text/html": "<div>\n<style scoped>\n    .dataframe tbody tr th:only-of-type {\n        vertical-align: middle;\n    }\n\n    .dataframe tbody tr th {\n        vertical-align: top;\n    }\n\n    .dataframe thead tr th {\n        text-align: left;\n    }\n</style>\n<table border=\"1\" class=\"dataframe\">\n  <thead>\n    <tr>\n      <th></th>\n      <th>Sl. No.</th>\n      <th>Year</th>\n      <th colspan=\"3\" halign=\"left\">Total number of Accidental Deaths</th>\n      <th>Mid–Year Projected Population(In Lakh)</th>\n      <th>Rate ofAccidental Deaths</th>\n    </tr>\n    <tr>\n      <th></th>\n      <th></th>\n      <th></th>\n      <th>Forces of Nature</th>\n      <th>Other Causes</th>\n      <th>Total</th>\n      <th></th>\n      <th></th>\n    </tr>\n  </thead>\n  <tbody>\n    <tr>\n      <th>0</th>\n      <td>1</td>\n      <td>2009</td>\n      <td>22255</td>\n      <td>334766</td>\n      <td>357021</td>\n      <td>116944</td>\n      <td>305</td>\n    </tr>\n    <tr>\n      <th>1</th>\n      <td>2</td>\n      <td>2010</td>\n      <td>25066</td>\n      <td>359583</td>\n      <td>384649</td>\n      <td>118576</td>\n      <td>324</td>\n    </tr>\n    <tr>\n      <th>2</th>\n      <td>3</td>\n      <td>2011</td>\n      <td>23690</td>\n      <td>367194</td>\n      <td>390884</td>\n      <td>121019</td>\n      <td>323</td>\n    </tr>\n    <tr>\n      <th>3</th>\n      <td>4</td>\n      <td>2012</td>\n      <td>22960</td>\n      <td>372022</td>\n      <td>394982</td>\n      <td>121337</td>\n      <td>326</td>\n    </tr>\n    <tr>\n      <th>4</th>\n      <td>5</td>\n      <td>2013</td>\n      <td>22759</td>\n      <td>377758</td>\n      <td>400517</td>\n      <td>122879</td>\n      <td>326</td>\n    </tr>\n    <tr>\n      <th>5</th>\n      <td>6</td>\n      <td>2014</td>\n      <td>20201</td>\n      <td>431556</td>\n      <td>451757</td>\n      <td>124404</td>\n      <td>363</td>\n    </tr>\n    <tr>\n      <th>6</th>\n      <td>7</td>\n      <td>2015</td>\n      <td>10510</td>\n      <td>402947</td>\n      <td>413457</td>\n      <td>125911</td>\n      <td>328</td>\n    </tr>\n    <tr>\n      <th>7</th>\n      <td>8</td>\n      <td>2016</td>\n      <td>8684</td>\n      <td>409537</td>\n      <td>418221</td>\n      <td>127399</td>\n      <td>328</td>\n    </tr>\n    <tr>\n      <th>8</th>\n      <td>9</td>\n      <td>2017</td>\n      <td>7143</td>\n      <td>389441</td>\n      <td>396584</td>\n      <td>130916</td>\n      <td>303</td>\n    </tr>\n    <tr>\n      <th>9</th>\n      <td>10</td>\n      <td>2018</td>\n      <td>6891</td>\n      <td>404933</td>\n      <td>411824</td>\n      <td>132338</td>\n      <td>311</td>\n    </tr>\n    <tr>\n      <th>10</th>\n      <td>11</td>\n      <td>2019</td>\n      <td>8145</td>\n      <td>412959</td>\n      <td>421104</td>\n      <td>133761</td>\n      <td>315</td>\n    </tr>\n    <tr>\n      <th>11</th>\n      <td>12</td>\n      <td>Percentage Change in 2019 Over 2009</td>\n      <td>-634</td>\n      <td>234</td>\n      <td>179</td>\n      <td>144</td>\n      <td>33</td>\n    </tr>\n  </tbody>\n</table>\n</div>"
     },
     "metadata": {},
     "execution_count": 12
    }
   ],
   "source": [
    "tables[0].df.columns = pd.MultiIndex.from_tuples(column_list)\n",
    "tables[0].df"
   ]
  },
  {
   "source": [
    "# Incase we're intersted in seeing the scraped tables at this point.\n",
    "# Commented as it takes too much screen space\n",
    "# Run if you want\n",
    "# printnAllTables(tables)\n",
    "\n",
    "# OR Print a simgle one according to your choice\n",
    "# tables[23].df"
   ],
   "cell_type": "code",
   "metadata": {},
   "execution_count": 13,
   "outputs": []
  },
  {
   "cell_type": "code",
   "execution_count": 14,
   "metadata": {},
   "outputs": [],
   "source": [
    "# Reset Index before saving file, for better formatting in RAW CSV\n",
    "tables[0].df.to_csv(\"Incidence & Rate of Accidental Deaths during 2009 – 2019 (All India).csv\" ,index=False)"
   ]
  }
 ],
 "metadata": {
  "kernelspec": {
   "display_name": "Python 3",
   "language": "python",
   "name": "python3"
  },
  "language_info": {
   "codemirror_mode": {
    "name": "ipython",
    "version": 3
   },
   "file_extension": ".py",
   "mimetype": "text/x-python",
   "name": "python",
   "nbconvert_exporter": "python",
   "pygments_lexer": "ipython3",
   "version": "3.8.2-final"
  }
 },
 "nbformat": 4,
 "nbformat_minor": 4
}
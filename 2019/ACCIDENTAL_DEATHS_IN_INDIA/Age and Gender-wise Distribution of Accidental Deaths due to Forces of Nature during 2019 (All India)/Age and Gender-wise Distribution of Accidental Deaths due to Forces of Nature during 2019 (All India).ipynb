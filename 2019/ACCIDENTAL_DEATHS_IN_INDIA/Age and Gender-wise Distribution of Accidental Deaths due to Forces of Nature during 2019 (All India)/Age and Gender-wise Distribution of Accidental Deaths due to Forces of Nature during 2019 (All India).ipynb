{
 "cells": [
  {
   "cell_type": "code",
   "execution_count": 1,
   "metadata": {},
   "outputs": [],
   "source": [
    "import wget\n",
    "import ssl\n",
    "import os\n",
    "ssl._create_default_https_context = ssl._create_unverified_context"
   ]
  },
  {
   "cell_type": "code",
   "execution_count": 2,
   "metadata": {},
   "outputs": [],
   "source": [
    "# Enter NCRB Individual PDF url\n",
    "pdf_url = 'https://ncrb.gov.in/sites/default/files/adsi_reports_previous_year/Table-1.5_2019.pdf'\n",
    "fileName = pdf_url[67:]\n",
    "try:\n",
    "    #Delete the file to redownload it\n",
    "    os.remove(fileName)\n",
    "except FileNotFoundError as e:\n",
    "    #Ignore in case FileNotFound Error occurs\n",
    "    pass\n",
    "# Download report\n",
    "fileName = wget.download(pdf_url,fileName)"
   ]
  },
  {
   "cell_type": "code",
   "execution_count": 3,
   "metadata": {},
   "outputs": [],
   "source": [
    "import numpy as np\n",
    "import pandas as pd\n",
    "import camelot"
   ]
  },
  {
   "cell_type": "code",
   "execution_count": 4,
   "metadata": {},
   "outputs": [
    {
     "output_type": "execute_result",
     "data": {
      "text/plain": [
       "'Table-1.5_2019.pdf'"
      ]
     },
     "metadata": {},
     "execution_count": 4
    }
   ],
   "source": [
    "fileName"
   ]
  },
  {
   "cell_type": "code",
   "execution_count": 5,
   "metadata": {},
   "outputs": [],
   "source": [
    "table1 = camelot.read_pdf(fileName,\n",
    "                          flavor='stream',\n",
    "                          table_areas=[\"31.743974151857838,691.9995970394231,569.4676575121164,453.4735533568694\"],\n",
    "                          columns=[\"50,150.06242326332796,188.5399676898223,227.01751211631665,259.72342487883685,292.42933764135705,326.0971890145396,365.5366720516963,389.5851373182553,425.1768659127626,460.7685945072698,499.2461389337642,531.9520516962843\"],\n",
    "                          split_text=True,\n",
    "                          row_tol=11,\n",
    "                          strip_text=\"\\n\\t\",\n",
    "                          pages=\"1\"\n",
    "                         )"
   ]
  },
  {
   "cell_type": "code",
   "execution_count": 6,
   "metadata": {},
   "outputs": [
    {
     "output_type": "execute_result",
     "data": {
      "text/plain": [
       "    0                         1    2    3  4    5    6    7  8    9     10  \\\n",
       "0    1                 Avalanche    1    0  0    1    0    0  0    0    19   \n",
       "1    2          Exposure to cold   16    2  0   18    7    3  0   10    65   \n",
       "2    3                   Cyclone    0    0  0    0    0    0  0    0     9   \n",
       "3    4                   Tornado    0    2  0    2    2    0  0    2     3   \n",
       "4    5                   Tsunami    0    0  0    0    0    0  0    0     0   \n",
       "5    6                Earthquake    0    0  0    0    0    0  0    0     0   \n",
       "6    7                  Epidemic    0    0  0    0    0    0  0    0     0   \n",
       "7    8                     Flood  136   86  0  222  102   43  0  145   134   \n",
       "8    9           Heat/Sun Stroke   11    7  0   18   15   12  0   27   133   \n",
       "9   10                 Landslide    9   13  0   22    6    8  0   14    45   \n",
       "10  11                 Lightning  133   62  0  195  193   56  0  249   550   \n",
       "11  12           Torrential Rain    2    2  0    4    1    1  0    2     5   \n",
       "12  13               Forest Fire    0    2  0    2    1    0  0    1     0   \n",
       "13  14  Causes other than  above   31   18  0   49   10    8  0   18   147   \n",
       "14  15                     Total  339  194  0  533  337  131  0  468  1110   \n",
       "\n",
       "     11 12    13  \n",
       "0     0  0    19  \n",
       "1     7  1    73  \n",
       "2     0  0     9  \n",
       "3     1  0     4  \n",
       "4     0  0     0  \n",
       "5     0  0     0  \n",
       "6     1  0     1  \n",
       "7    50  0   184  \n",
       "8    30  0   163  \n",
       "9    14  0    59  \n",
       "10  177  0   727  \n",
       "11    3  0     8  \n",
       "12    0  0     0  \n",
       "13   54  0   201  \n",
       "14  337  1  1448  "
      ],
      "text/html": "<div>\n<style scoped>\n    .dataframe tbody tr th:only-of-type {\n        vertical-align: middle;\n    }\n\n    .dataframe tbody tr th {\n        vertical-align: top;\n    }\n\n    .dataframe thead th {\n        text-align: right;\n    }\n</style>\n<table border=\"1\" class=\"dataframe\">\n  <thead>\n    <tr style=\"text-align: right;\">\n      <th></th>\n      <th>0</th>\n      <th>1</th>\n      <th>2</th>\n      <th>3</th>\n      <th>4</th>\n      <th>5</th>\n      <th>6</th>\n      <th>7</th>\n      <th>8</th>\n      <th>9</th>\n      <th>10</th>\n      <th>11</th>\n      <th>12</th>\n      <th>13</th>\n    </tr>\n  </thead>\n  <tbody>\n    <tr>\n      <th>0</th>\n      <td>1</td>\n      <td>Avalanche</td>\n      <td>1</td>\n      <td>0</td>\n      <td>0</td>\n      <td>1</td>\n      <td>0</td>\n      <td>0</td>\n      <td>0</td>\n      <td>0</td>\n      <td>19</td>\n      <td>0</td>\n      <td>0</td>\n      <td>19</td>\n    </tr>\n    <tr>\n      <th>1</th>\n      <td>2</td>\n      <td>Exposure to cold</td>\n      <td>16</td>\n      <td>2</td>\n      <td>0</td>\n      <td>18</td>\n      <td>7</td>\n      <td>3</td>\n      <td>0</td>\n      <td>10</td>\n      <td>65</td>\n      <td>7</td>\n      <td>1</td>\n      <td>73</td>\n    </tr>\n    <tr>\n      <th>2</th>\n      <td>3</td>\n      <td>Cyclone</td>\n      <td>0</td>\n      <td>0</td>\n      <td>0</td>\n      <td>0</td>\n      <td>0</td>\n      <td>0</td>\n      <td>0</td>\n      <td>0</td>\n      <td>9</td>\n      <td>0</td>\n      <td>0</td>\n      <td>9</td>\n    </tr>\n    <tr>\n      <th>3</th>\n      <td>4</td>\n      <td>Tornado</td>\n      <td>0</td>\n      <td>2</td>\n      <td>0</td>\n      <td>2</td>\n      <td>2</td>\n      <td>0</td>\n      <td>0</td>\n      <td>2</td>\n      <td>3</td>\n      <td>1</td>\n      <td>0</td>\n      <td>4</td>\n    </tr>\n    <tr>\n      <th>4</th>\n      <td>5</td>\n      <td>Tsunami</td>\n      <td>0</td>\n      <td>0</td>\n      <td>0</td>\n      <td>0</td>\n      <td>0</td>\n      <td>0</td>\n      <td>0</td>\n      <td>0</td>\n      <td>0</td>\n      <td>0</td>\n      <td>0</td>\n      <td>0</td>\n    </tr>\n    <tr>\n      <th>5</th>\n      <td>6</td>\n      <td>Earthquake</td>\n      <td>0</td>\n      <td>0</td>\n      <td>0</td>\n      <td>0</td>\n      <td>0</td>\n      <td>0</td>\n      <td>0</td>\n      <td>0</td>\n      <td>0</td>\n      <td>0</td>\n      <td>0</td>\n      <td>0</td>\n    </tr>\n    <tr>\n      <th>6</th>\n      <td>7</td>\n      <td>Epidemic</td>\n      <td>0</td>\n      <td>0</td>\n      <td>0</td>\n      <td>0</td>\n      <td>0</td>\n      <td>0</td>\n      <td>0</td>\n      <td>0</td>\n      <td>0</td>\n      <td>1</td>\n      <td>0</td>\n      <td>1</td>\n    </tr>\n    <tr>\n      <th>7</th>\n      <td>8</td>\n      <td>Flood</td>\n      <td>136</td>\n      <td>86</td>\n      <td>0</td>\n      <td>222</td>\n      <td>102</td>\n      <td>43</td>\n      <td>0</td>\n      <td>145</td>\n      <td>134</td>\n      <td>50</td>\n      <td>0</td>\n      <td>184</td>\n    </tr>\n    <tr>\n      <th>8</th>\n      <td>9</td>\n      <td>Heat/Sun Stroke</td>\n      <td>11</td>\n      <td>7</td>\n      <td>0</td>\n      <td>18</td>\n      <td>15</td>\n      <td>12</td>\n      <td>0</td>\n      <td>27</td>\n      <td>133</td>\n      <td>30</td>\n      <td>0</td>\n      <td>163</td>\n    </tr>\n    <tr>\n      <th>9</th>\n      <td>10</td>\n      <td>Landslide</td>\n      <td>9</td>\n      <td>13</td>\n      <td>0</td>\n      <td>22</td>\n      <td>6</td>\n      <td>8</td>\n      <td>0</td>\n      <td>14</td>\n      <td>45</td>\n      <td>14</td>\n      <td>0</td>\n      <td>59</td>\n    </tr>\n    <tr>\n      <th>10</th>\n      <td>11</td>\n      <td>Lightning</td>\n      <td>133</td>\n      <td>62</td>\n      <td>0</td>\n      <td>195</td>\n      <td>193</td>\n      <td>56</td>\n      <td>0</td>\n      <td>249</td>\n      <td>550</td>\n      <td>177</td>\n      <td>0</td>\n      <td>727</td>\n    </tr>\n    <tr>\n      <th>11</th>\n      <td>12</td>\n      <td>Torrential Rain</td>\n      <td>2</td>\n      <td>2</td>\n      <td>0</td>\n      <td>4</td>\n      <td>1</td>\n      <td>1</td>\n      <td>0</td>\n      <td>2</td>\n      <td>5</td>\n      <td>3</td>\n      <td>0</td>\n      <td>8</td>\n    </tr>\n    <tr>\n      <th>12</th>\n      <td>13</td>\n      <td>Forest Fire</td>\n      <td>0</td>\n      <td>2</td>\n      <td>0</td>\n      <td>2</td>\n      <td>1</td>\n      <td>0</td>\n      <td>0</td>\n      <td>1</td>\n      <td>0</td>\n      <td>0</td>\n      <td>0</td>\n      <td>0</td>\n    </tr>\n    <tr>\n      <th>13</th>\n      <td>14</td>\n      <td>Causes other than  above</td>\n      <td>31</td>\n      <td>18</td>\n      <td>0</td>\n      <td>49</td>\n      <td>10</td>\n      <td>8</td>\n      <td>0</td>\n      <td>18</td>\n      <td>147</td>\n      <td>54</td>\n      <td>0</td>\n      <td>201</td>\n    </tr>\n    <tr>\n      <th>14</th>\n      <td>15</td>\n      <td>Total</td>\n      <td>339</td>\n      <td>194</td>\n      <td>0</td>\n      <td>533</td>\n      <td>337</td>\n      <td>131</td>\n      <td>0</td>\n      <td>468</td>\n      <td>1110</td>\n      <td>337</td>\n      <td>1</td>\n      <td>1448</td>\n    </tr>\n  </tbody>\n</table>\n</div>"
     },
     "metadata": {},
     "execution_count": 6
    }
   ],
   "source": [
    "table1[0].df"
   ]
  },
  {
   "cell_type": "code",
   "execution_count": 7,
   "metadata": {},
   "outputs": [],
   "source": [
    "table2 = camelot.read_pdf(fileName,\n",
    "                          flavor='stream',\n",
    "                          table_areas=[\"29.820096930533122,691.5713673315679,570.4295961227788,443.4301002894966\"],\n",
    "                          columns=[\"50,150.06242326332796,188.5399676898223,227.01751211631665,259.72342487883685,292.42933764135705,326.0971890145396,365.5366720516963,389.5851373182553,425.1768659127626,460.7685945072698,499.2461389337642,531.9520516962843\"],\n",
    "                          split_text=True,\n",
    "                          row_tol=11,\n",
    "                          strip_text=\"\\n\\t\",\n",
    "                          pages=\"1\"\n",
    "                         )"
   ]
  },
  {
   "cell_type": "code",
   "execution_count": 8,
   "metadata": {},
   "outputs": [
    {
     "output_type": "execute_result",
     "data": {
      "text/plain": [
       "    0                         1    2    3  4    5    6    7  8    9     10  \\\n",
       "0    1                 Avalanche    1    0  0    1    0    0  0    0    19   \n",
       "1    2          Exposure to cold   16    2  0   18    7    3  0   10    65   \n",
       "2    3                   Cyclone    0    0  0    0    0    0  0    0     9   \n",
       "3    4                   Tornado    0    2  0    2    2    0  0    2     3   \n",
       "4    5                   Tsunami    0    0  0    0    0    0  0    0     0   \n",
       "5    6                Earthquake    0    0  0    0    0    0  0    0     0   \n",
       "6    7                  Epidemic    0    0  0    0    0    0  0    0     0   \n",
       "7    8                     Flood  136   86  0  222  102   43  0  145   134   \n",
       "8    9           Heat/Sun Stroke   11    7  0   18   15   12  0   27   133   \n",
       "9   10                 Landslide    9   13  0   22    6    8  0   14    45   \n",
       "10  11                 Lightning  133   62  0  195  193   56  0  249   550   \n",
       "11  12           Torrential Rain    2    2  0    4    1    1  0    2     5   \n",
       "12  13               Forest Fire    0    2  0    2    1    0  0    1     0   \n",
       "13  14  Causes other than  above   31   18  0   49   10    8  0   18   147   \n",
       "14  15                     Total  339  194  0  533  337  131  0  468  1110   \n",
       "\n",
       "     11 12    13  \n",
       "0     0  0    19  \n",
       "1     7  1    73  \n",
       "2     0  0     9  \n",
       "3     1  0     4  \n",
       "4     0  0     0  \n",
       "5     0  0     0  \n",
       "6     1  0     1  \n",
       "7    50  0   184  \n",
       "8    30  0   163  \n",
       "9    14  0    59  \n",
       "10  177  0   727  \n",
       "11    3  0     8  \n",
       "12    0  0     0  \n",
       "13   54  0   201  \n",
       "14  337  1  1448  "
      ],
      "text/html": "<div>\n<style scoped>\n    .dataframe tbody tr th:only-of-type {\n        vertical-align: middle;\n    }\n\n    .dataframe tbody tr th {\n        vertical-align: top;\n    }\n\n    .dataframe thead th {\n        text-align: right;\n    }\n</style>\n<table border=\"1\" class=\"dataframe\">\n  <thead>\n    <tr style=\"text-align: right;\">\n      <th></th>\n      <th>0</th>\n      <th>1</th>\n      <th>2</th>\n      <th>3</th>\n      <th>4</th>\n      <th>5</th>\n      <th>6</th>\n      <th>7</th>\n      <th>8</th>\n      <th>9</th>\n      <th>10</th>\n      <th>11</th>\n      <th>12</th>\n      <th>13</th>\n    </tr>\n  </thead>\n  <tbody>\n    <tr>\n      <th>0</th>\n      <td>1</td>\n      <td>Avalanche</td>\n      <td>1</td>\n      <td>0</td>\n      <td>0</td>\n      <td>1</td>\n      <td>0</td>\n      <td>0</td>\n      <td>0</td>\n      <td>0</td>\n      <td>19</td>\n      <td>0</td>\n      <td>0</td>\n      <td>19</td>\n    </tr>\n    <tr>\n      <th>1</th>\n      <td>2</td>\n      <td>Exposure to cold</td>\n      <td>16</td>\n      <td>2</td>\n      <td>0</td>\n      <td>18</td>\n      <td>7</td>\n      <td>3</td>\n      <td>0</td>\n      <td>10</td>\n      <td>65</td>\n      <td>7</td>\n      <td>1</td>\n      <td>73</td>\n    </tr>\n    <tr>\n      <th>2</th>\n      <td>3</td>\n      <td>Cyclone</td>\n      <td>0</td>\n      <td>0</td>\n      <td>0</td>\n      <td>0</td>\n      <td>0</td>\n      <td>0</td>\n      <td>0</td>\n      <td>0</td>\n      <td>9</td>\n      <td>0</td>\n      <td>0</td>\n      <td>9</td>\n    </tr>\n    <tr>\n      <th>3</th>\n      <td>4</td>\n      <td>Tornado</td>\n      <td>0</td>\n      <td>2</td>\n      <td>0</td>\n      <td>2</td>\n      <td>2</td>\n      <td>0</td>\n      <td>0</td>\n      <td>2</td>\n      <td>3</td>\n      <td>1</td>\n      <td>0</td>\n      <td>4</td>\n    </tr>\n    <tr>\n      <th>4</th>\n      <td>5</td>\n      <td>Tsunami</td>\n      <td>0</td>\n      <td>0</td>\n      <td>0</td>\n      <td>0</td>\n      <td>0</td>\n      <td>0</td>\n      <td>0</td>\n      <td>0</td>\n      <td>0</td>\n      <td>0</td>\n      <td>0</td>\n      <td>0</td>\n    </tr>\n    <tr>\n      <th>5</th>\n      <td>6</td>\n      <td>Earthquake</td>\n      <td>0</td>\n      <td>0</td>\n      <td>0</td>\n      <td>0</td>\n      <td>0</td>\n      <td>0</td>\n      <td>0</td>\n      <td>0</td>\n      <td>0</td>\n      <td>0</td>\n      <td>0</td>\n      <td>0</td>\n    </tr>\n    <tr>\n      <th>6</th>\n      <td>7</td>\n      <td>Epidemic</td>\n      <td>0</td>\n      <td>0</td>\n      <td>0</td>\n      <td>0</td>\n      <td>0</td>\n      <td>0</td>\n      <td>0</td>\n      <td>0</td>\n      <td>0</td>\n      <td>1</td>\n      <td>0</td>\n      <td>1</td>\n    </tr>\n    <tr>\n      <th>7</th>\n      <td>8</td>\n      <td>Flood</td>\n      <td>136</td>\n      <td>86</td>\n      <td>0</td>\n      <td>222</td>\n      <td>102</td>\n      <td>43</td>\n      <td>0</td>\n      <td>145</td>\n      <td>134</td>\n      <td>50</td>\n      <td>0</td>\n      <td>184</td>\n    </tr>\n    <tr>\n      <th>8</th>\n      <td>9</td>\n      <td>Heat/Sun Stroke</td>\n      <td>11</td>\n      <td>7</td>\n      <td>0</td>\n      <td>18</td>\n      <td>15</td>\n      <td>12</td>\n      <td>0</td>\n      <td>27</td>\n      <td>133</td>\n      <td>30</td>\n      <td>0</td>\n      <td>163</td>\n    </tr>\n    <tr>\n      <th>9</th>\n      <td>10</td>\n      <td>Landslide</td>\n      <td>9</td>\n      <td>13</td>\n      <td>0</td>\n      <td>22</td>\n      <td>6</td>\n      <td>8</td>\n      <td>0</td>\n      <td>14</td>\n      <td>45</td>\n      <td>14</td>\n      <td>0</td>\n      <td>59</td>\n    </tr>\n    <tr>\n      <th>10</th>\n      <td>11</td>\n      <td>Lightning</td>\n      <td>133</td>\n      <td>62</td>\n      <td>0</td>\n      <td>195</td>\n      <td>193</td>\n      <td>56</td>\n      <td>0</td>\n      <td>249</td>\n      <td>550</td>\n      <td>177</td>\n      <td>0</td>\n      <td>727</td>\n    </tr>\n    <tr>\n      <th>11</th>\n      <td>12</td>\n      <td>Torrential Rain</td>\n      <td>2</td>\n      <td>2</td>\n      <td>0</td>\n      <td>4</td>\n      <td>1</td>\n      <td>1</td>\n      <td>0</td>\n      <td>2</td>\n      <td>5</td>\n      <td>3</td>\n      <td>0</td>\n      <td>8</td>\n    </tr>\n    <tr>\n      <th>12</th>\n      <td>13</td>\n      <td>Forest Fire</td>\n      <td>0</td>\n      <td>2</td>\n      <td>0</td>\n      <td>2</td>\n      <td>1</td>\n      <td>0</td>\n      <td>0</td>\n      <td>1</td>\n      <td>0</td>\n      <td>0</td>\n      <td>0</td>\n      <td>0</td>\n    </tr>\n    <tr>\n      <th>13</th>\n      <td>14</td>\n      <td>Causes other than  above</td>\n      <td>31</td>\n      <td>18</td>\n      <td>0</td>\n      <td>49</td>\n      <td>10</td>\n      <td>8</td>\n      <td>0</td>\n      <td>18</td>\n      <td>147</td>\n      <td>54</td>\n      <td>0</td>\n      <td>201</td>\n    </tr>\n    <tr>\n      <th>14</th>\n      <td>15</td>\n      <td>Total</td>\n      <td>339</td>\n      <td>194</td>\n      <td>0</td>\n      <td>533</td>\n      <td>337</td>\n      <td>131</td>\n      <td>0</td>\n      <td>468</td>\n      <td>1110</td>\n      <td>337</td>\n      <td>1</td>\n      <td>1448</td>\n    </tr>\n  </tbody>\n</table>\n</div>"
     },
     "metadata": {},
     "execution_count": 8
    }
   ],
   "source": [
    "table2[0].df"
   ]
  },
  {
   "cell_type": "code",
   "execution_count": 9,
   "metadata": {},
   "outputs": [],
   "source": [
    "table3 = camelot.read_pdf(fileName,\n",
    "                          flavor='stream',\n",
    "                          table_areas=[\"36.55366720516963,686.1958019815631,547.3430694668822,454.36433862351646\",],\n",
    "                          columns=[ \"63.487948303715676,201.04516962843297,270.3047495961228,337.64045234248795,409.7858481421648,488.66481421647825\"],\n",
    "                          split_text=True,\n",
    "                          row_tol=11,\n",
    "                          strip_text=\"\\n\\t\",\n",
    "                          pages=\"2\"\n",
    "                         )"
   ]
  },
  {
   "cell_type": "code",
   "execution_count": 10,
   "metadata": {},
   "outputs": [
    {
     "output_type": "execute_result",
     "data": {
      "text/plain": [
       "     0                        1     2     3   4     5      6\n",
       "0    1                Avalanche    35     0   0    35    0.4\n",
       "1    2         Exposure to cold   676   114   6   796    9.8\n",
       "2    3                  Cyclone    22    11   0    33    0.4\n",
       "3    4                  Tornado     8     7   0    15    0.2\n",
       "4    5                  Tsunami     0     0   0     0    0.0\n",
       "5    6               Earthquake     1     0   0     1    0.0\n",
       "6    7                 Epidemic     0     1   0     1    0.0\n",
       "7    8                    Flood   667   281   0   948   11.6\n",
       "8    9          Heat/Sun Stroke  1068   204   2  1274   15.6\n",
       "9   10                Landslide   174    90   0   264    3.2\n",
       "10  11                Lightning  2101   772   3  2876   35.3\n",
       "11  12          Torrential Rain    44    25   0    69    0.8\n",
       "12  13              Forest Fire     4     5   0     9    0.1\n",
       "13  14  Causes other than above  1501   323   0  1824   22.4\n",
       "14  15                    Total  6301  1833  11  8145  100.0"
      ],
      "text/html": "<div>\n<style scoped>\n    .dataframe tbody tr th:only-of-type {\n        vertical-align: middle;\n    }\n\n    .dataframe tbody tr th {\n        vertical-align: top;\n    }\n\n    .dataframe thead th {\n        text-align: right;\n    }\n</style>\n<table border=\"1\" class=\"dataframe\">\n  <thead>\n    <tr style=\"text-align: right;\">\n      <th></th>\n      <th>0</th>\n      <th>1</th>\n      <th>2</th>\n      <th>3</th>\n      <th>4</th>\n      <th>5</th>\n      <th>6</th>\n    </tr>\n  </thead>\n  <tbody>\n    <tr>\n      <th>0</th>\n      <td>1</td>\n      <td>Avalanche</td>\n      <td>35</td>\n      <td>0</td>\n      <td>0</td>\n      <td>35</td>\n      <td>0.4</td>\n    </tr>\n    <tr>\n      <th>1</th>\n      <td>2</td>\n      <td>Exposure to cold</td>\n      <td>676</td>\n      <td>114</td>\n      <td>6</td>\n      <td>796</td>\n      <td>9.8</td>\n    </tr>\n    <tr>\n      <th>2</th>\n      <td>3</td>\n      <td>Cyclone</td>\n      <td>22</td>\n      <td>11</td>\n      <td>0</td>\n      <td>33</td>\n      <td>0.4</td>\n    </tr>\n    <tr>\n      <th>3</th>\n      <td>4</td>\n      <td>Tornado</td>\n      <td>8</td>\n      <td>7</td>\n      <td>0</td>\n      <td>15</td>\n      <td>0.2</td>\n    </tr>\n    <tr>\n      <th>4</th>\n      <td>5</td>\n      <td>Tsunami</td>\n      <td>0</td>\n      <td>0</td>\n      <td>0</td>\n      <td>0</td>\n      <td>0.0</td>\n    </tr>\n    <tr>\n      <th>5</th>\n      <td>6</td>\n      <td>Earthquake</td>\n      <td>1</td>\n      <td>0</td>\n      <td>0</td>\n      <td>1</td>\n      <td>0.0</td>\n    </tr>\n    <tr>\n      <th>6</th>\n      <td>7</td>\n      <td>Epidemic</td>\n      <td>0</td>\n      <td>1</td>\n      <td>0</td>\n      <td>1</td>\n      <td>0.0</td>\n    </tr>\n    <tr>\n      <th>7</th>\n      <td>8</td>\n      <td>Flood</td>\n      <td>667</td>\n      <td>281</td>\n      <td>0</td>\n      <td>948</td>\n      <td>11.6</td>\n    </tr>\n    <tr>\n      <th>8</th>\n      <td>9</td>\n      <td>Heat/Sun Stroke</td>\n      <td>1068</td>\n      <td>204</td>\n      <td>2</td>\n      <td>1274</td>\n      <td>15.6</td>\n    </tr>\n    <tr>\n      <th>9</th>\n      <td>10</td>\n      <td>Landslide</td>\n      <td>174</td>\n      <td>90</td>\n      <td>0</td>\n      <td>264</td>\n      <td>3.2</td>\n    </tr>\n    <tr>\n      <th>10</th>\n      <td>11</td>\n      <td>Lightning</td>\n      <td>2101</td>\n      <td>772</td>\n      <td>3</td>\n      <td>2876</td>\n      <td>35.3</td>\n    </tr>\n    <tr>\n      <th>11</th>\n      <td>12</td>\n      <td>Torrential Rain</td>\n      <td>44</td>\n      <td>25</td>\n      <td>0</td>\n      <td>69</td>\n      <td>0.8</td>\n    </tr>\n    <tr>\n      <th>12</th>\n      <td>13</td>\n      <td>Forest Fire</td>\n      <td>4</td>\n      <td>5</td>\n      <td>0</td>\n      <td>9</td>\n      <td>0.1</td>\n    </tr>\n    <tr>\n      <th>13</th>\n      <td>14</td>\n      <td>Causes other than above</td>\n      <td>1501</td>\n      <td>323</td>\n      <td>0</td>\n      <td>1824</td>\n      <td>22.4</td>\n    </tr>\n    <tr>\n      <th>14</th>\n      <td>15</td>\n      <td>Total</td>\n      <td>6301</td>\n      <td>1833</td>\n      <td>11</td>\n      <td>8145</td>\n      <td>100.0</td>\n    </tr>\n  </tbody>\n</table>\n</div>"
     },
     "metadata": {},
     "execution_count": 10
    }
   ],
   "source": [
    "table3[0].df"
   ]
  },
  {
   "cell_type": "code",
   "execution_count": 11,
   "metadata": {},
   "outputs": [
    {
     "output_type": "execute_result",
     "data": {
      "text/plain": [
       "2"
      ]
     },
     "metadata": {},
     "execution_count": 11
    }
   ],
   "source": [
    "# List of Column headers as column are nested, i.e exhibit a multi level/index structure\n",
    "# The multi level structre will be generated and applied in the next \n",
    "column_header = [\n",
    "    [\"Below 14 years\",\"14 and Above – Below 18 years\",\"18 and Above – Below 30 years\"],\n",
    "    [\"30 and Above – Below 45 years\",\"45 and Above–Below 60 years\",\"60 years & Above\"]\n",
    "]\n",
    "len(column_header)"
   ]
  },
  {
   "cell_type": "code",
   "execution_count": 12,
   "metadata": {},
   "outputs": [],
   "source": [
    "def set_Column(df, title):\n",
    "    column_list = [\n",
    "        (\"Sl. No.\",''),\n",
    "        (\"State/UT\",''), \n",
    "        (title[0],'Male'),\n",
    "        (title[0],'Female'),\n",
    "        (title[0],'Transgender'),\n",
    "        (title[0],'Total'),\n",
    "        (title[1],'Male'),\n",
    "        (title[1],'Female'),\n",
    "        (title[1],'Transgender'),\n",
    "        (title[1],'Total'),\n",
    "        (title[2],'Male'),\n",
    "        (title[2],'Female'),\n",
    "        (title[2],'Transgender'),\n",
    "        (title[2],'Total')\n",
    "    ]\n",
    "    df.columns = pd.MultiIndex.from_tuples(column_list)"
   ]
  },
  {
   "cell_type": "code",
   "execution_count": 13,
   "metadata": {},
   "outputs": [],
   "source": [
    "tables = [table1[0],table2[0]]\n",
    "for i in range(len(tables)):\n",
    "    set_Column(tables[i].df, column_header[i])\n",
    "    tables[i].df.set_index([\"Sl. No.\",\"State/UT\"],inplace=True)"
   ]
  },
  {
   "cell_type": "code",
   "execution_count": 14,
   "metadata": {},
   "outputs": [],
   "source": [
    "column_list = [\n",
    "    (\"Sl. No.\",''),\n",
    "    (\"State/UT\",''), \n",
    "    (\"Total\",'Male'),\n",
    "    (\"Total\",'Female'),\n",
    "    (\"Total\",'Transgender'),\n",
    "    (\"Total\",'Total'),\n",
    "    (\"Total\",'Percentage Share')\n",
    "]\n",
    "table3[0].df.columns = pd.MultiIndex.from_tuples(column_list)\n",
    "table3[0].df.set_index([\"Sl. No.\",\"State/UT\"],inplace=True)\n",
    "table3[0].df.index = table1[0].df.index.copy()"
   ]
  },
  {
   "cell_type": "code",
   "execution_count": 15,
   "metadata": {},
   "outputs": [
    {
     "output_type": "execute_result",
     "data": {
      "text/plain": [
       "                                 Total                           \\\n",
       "                                  Male Female Transgender Total   \n",
       "Sl. No. State/UT                                                  \n",
       "1       Avalanche                   35      0           0    35   \n",
       "2       Exposure to cold           676    114           6   796   \n",
       "3       Cyclone                     22     11           0    33   \n",
       "4       Tornado                      8      7           0    15   \n",
       "5       Tsunami                      0      0           0     0   \n",
       "6       Earthquake                   1      0           0     1   \n",
       "7       Epidemic                     0      1           0     1   \n",
       "8       Flood                      667    281           0   948   \n",
       "9       Heat/Sun Stroke           1068    204           2  1274   \n",
       "10      Landslide                  174     90           0   264   \n",
       "11      Lightning                 2101    772           3  2876   \n",
       "12      Torrential Rain             44     25           0    69   \n",
       "13      Forest Fire                  4      5           0     9   \n",
       "14      Causes other than  above  1501    323           0  1824   \n",
       "15      Total                     6301   1833          11  8145   \n",
       "\n",
       "                                                   \n",
       "                                 Percentage Share  \n",
       "Sl. No. State/UT                                   \n",
       "1       Avalanche                             0.4  \n",
       "2       Exposure to cold                      9.8  \n",
       "3       Cyclone                               0.4  \n",
       "4       Tornado                               0.2  \n",
       "5       Tsunami                               0.0  \n",
       "6       Earthquake                            0.0  \n",
       "7       Epidemic                              0.0  \n",
       "8       Flood                                11.6  \n",
       "9       Heat/Sun Stroke                      15.6  \n",
       "10      Landslide                             3.2  \n",
       "11      Lightning                            35.3  \n",
       "12      Torrential Rain                       0.8  \n",
       "13      Forest Fire                           0.1  \n",
       "14      Causes other than  above             22.4  \n",
       "15      Total                               100.0  "
      ],
      "text/html": "<div>\n<style scoped>\n    .dataframe tbody tr th:only-of-type {\n        vertical-align: middle;\n    }\n\n    .dataframe tbody tr th {\n        vertical-align: top;\n    }\n\n    .dataframe thead tr th {\n        text-align: left;\n    }\n\n    .dataframe thead tr:last-of-type th {\n        text-align: right;\n    }\n</style>\n<table border=\"1\" class=\"dataframe\">\n  <thead>\n    <tr>\n      <th></th>\n      <th></th>\n      <th colspan=\"5\" halign=\"left\">Total</th>\n    </tr>\n    <tr>\n      <th></th>\n      <th></th>\n      <th>Male</th>\n      <th>Female</th>\n      <th>Transgender</th>\n      <th>Total</th>\n      <th>Percentage Share</th>\n    </tr>\n    <tr>\n      <th>Sl. No.</th>\n      <th>State/UT</th>\n      <th></th>\n      <th></th>\n      <th></th>\n      <th></th>\n      <th></th>\n    </tr>\n  </thead>\n  <tbody>\n    <tr>\n      <th>1</th>\n      <th>Avalanche</th>\n      <td>35</td>\n      <td>0</td>\n      <td>0</td>\n      <td>35</td>\n      <td>0.4</td>\n    </tr>\n    <tr>\n      <th>2</th>\n      <th>Exposure to cold</th>\n      <td>676</td>\n      <td>114</td>\n      <td>6</td>\n      <td>796</td>\n      <td>9.8</td>\n    </tr>\n    <tr>\n      <th>3</th>\n      <th>Cyclone</th>\n      <td>22</td>\n      <td>11</td>\n      <td>0</td>\n      <td>33</td>\n      <td>0.4</td>\n    </tr>\n    <tr>\n      <th>4</th>\n      <th>Tornado</th>\n      <td>8</td>\n      <td>7</td>\n      <td>0</td>\n      <td>15</td>\n      <td>0.2</td>\n    </tr>\n    <tr>\n      <th>5</th>\n      <th>Tsunami</th>\n      <td>0</td>\n      <td>0</td>\n      <td>0</td>\n      <td>0</td>\n      <td>0.0</td>\n    </tr>\n    <tr>\n      <th>6</th>\n      <th>Earthquake</th>\n      <td>1</td>\n      <td>0</td>\n      <td>0</td>\n      <td>1</td>\n      <td>0.0</td>\n    </tr>\n    <tr>\n      <th>7</th>\n      <th>Epidemic</th>\n      <td>0</td>\n      <td>1</td>\n      <td>0</td>\n      <td>1</td>\n      <td>0.0</td>\n    </tr>\n    <tr>\n      <th>8</th>\n      <th>Flood</th>\n      <td>667</td>\n      <td>281</td>\n      <td>0</td>\n      <td>948</td>\n      <td>11.6</td>\n    </tr>\n    <tr>\n      <th>9</th>\n      <th>Heat/Sun Stroke</th>\n      <td>1068</td>\n      <td>204</td>\n      <td>2</td>\n      <td>1274</td>\n      <td>15.6</td>\n    </tr>\n    <tr>\n      <th>10</th>\n      <th>Landslide</th>\n      <td>174</td>\n      <td>90</td>\n      <td>0</td>\n      <td>264</td>\n      <td>3.2</td>\n    </tr>\n    <tr>\n      <th>11</th>\n      <th>Lightning</th>\n      <td>2101</td>\n      <td>772</td>\n      <td>3</td>\n      <td>2876</td>\n      <td>35.3</td>\n    </tr>\n    <tr>\n      <th>12</th>\n      <th>Torrential Rain</th>\n      <td>44</td>\n      <td>25</td>\n      <td>0</td>\n      <td>69</td>\n      <td>0.8</td>\n    </tr>\n    <tr>\n      <th>13</th>\n      <th>Forest Fire</th>\n      <td>4</td>\n      <td>5</td>\n      <td>0</td>\n      <td>9</td>\n      <td>0.1</td>\n    </tr>\n    <tr>\n      <th>14</th>\n      <th>Causes other than  above</th>\n      <td>1501</td>\n      <td>323</td>\n      <td>0</td>\n      <td>1824</td>\n      <td>22.4</td>\n    </tr>\n    <tr>\n      <th>15</th>\n      <th>Total</th>\n      <td>6301</td>\n      <td>1833</td>\n      <td>11</td>\n      <td>8145</td>\n      <td>100.0</td>\n    </tr>\n  </tbody>\n</table>\n</div>"
     },
     "metadata": {},
     "execution_count": 15
    }
   ],
   "source": [
    "table3[0].df"
   ]
  },
  {
   "cell_type": "code",
   "execution_count": 16,
   "metadata": {},
   "outputs": [],
   "source": [
    "# Incase we're intersted in seeing the scraped tables at this point.\n",
    "# Commented as it takes too much screen space\n",
    "# Run if you want\n",
    "# printnAllTables(tables)\n",
    "\n",
    "# OR Print a simgle one according to your choice\n",
    "# tables[23].df"
   ]
  },
  {
   "cell_type": "code",
   "execution_count": 17,
   "metadata": {},
   "outputs": [],
   "source": [
    "# Concat all the tables one after the other, as they all have the same indexes.\n",
    "final = pd.concat([table1[0].df,table2[0].df,table3[0].df],axis=1)"
   ]
  },
  {
   "cell_type": "code",
   "execution_count": 18,
   "metadata": {},
   "outputs": [],
   "source": [
    "# Reset Index before saving file, for better formatting in RAW CSV\n",
    "final.reset_index().to_csv(\"Age and Gender-wise Distribution of Accidental Deaths due to Forces of Nature during 2019 (All India).csv\", index=False)"
   ]
  }
 ],
 "metadata": {
  "kernelspec": {
   "display_name": "Python 3",
   "language": "python",
   "name": "python3"
  },
  "language_info": {
   "codemirror_mode": {
    "name": "ipython",
    "version": 3
   },
   "file_extension": ".py",
   "mimetype": "text/x-python",
   "name": "python",
   "nbconvert_exporter": "python",
   "pygments_lexer": "ipython3",
   "version": "3.8.2-final"
  }
 },
 "nbformat": 4,
 "nbformat_minor": 4
}
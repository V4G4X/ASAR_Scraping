{
 "cells": [
  {
   "cell_type": "code",
   "execution_count": 1,
   "metadata": {},
   "outputs": [],
   "source": [
    "import wget\n",
    "import ssl\n",
    "import os\n",
    "ssl._create_default_https_context = ssl._create_unverified_context"
   ]
  },
  {
   "cell_type": "code",
   "execution_count": 2,
   "metadata": {},
   "outputs": [],
   "source": [
    "# Enter NCRB Individual PDF url\n",
    "pdf_url = 'https://ncrb.gov.in/sites/default/files/adsi_reports_previous_year/Table-1.3_2019.pdf'\n",
    "fileName = pdf_url[67:]\n",
    "try:\n",
    "    #Delete the file to redownload it\n",
    "    os.remove(fileName)\n",
    "except FileNotFoundError as e:\n",
    "    #Ignore in case FileNotFound Error occurs\n",
    "    pass\n",
    "# Download report\n",
    "fileName = wget.download(pdf_url,fileName)"
   ]
  },
  {
   "cell_type": "code",
   "execution_count": 3,
   "metadata": {},
   "outputs": [],
   "source": [
    "import numpy as np\n",
    "import pandas as pd\n",
    "import camelot"
   ]
  },
  {
   "cell_type": "code",
   "execution_count": 4,
   "metadata": {},
   "outputs": [
    {
     "output_type": "execute_result",
     "data": {
      "text/plain": [
       "'Table-1.3_2019.pdf'"
      ]
     },
     "metadata": {},
     "execution_count": 4
    }
   ],
   "source": [
    "fileName"
   ]
  },
  {
   "cell_type": "code",
   "execution_count": 5,
   "metadata": {},
   "outputs": [],
   "source": [
    "table1 = camelot.read_pdf(fileName,\n",
    "                          flavor='stream',\n",
    "                          table_areas=[\n",
    "                              \"24.048465266558967,701.6191598343628,587.7444911147012,75.3856218837887\"\n",
    "                              ],\n",
    "                          columns=[\n",
    "                              \"58.678255250403886,172.1870113085622,215.47424878836836,251.06597738287564,307.8203554119548,353.0314701130857,397.28064620355417,440.5678836833603,490.58869143780294,530.990113085622\"\n",
    "                              ],\n",
    "                          split_text=True,\n",
    "                          pages=\"1\"\n",
    "                         )"
   ]
  },
  {
   "cell_type": "code",
   "execution_count": 6,
   "metadata": {},
   "outputs": [],
   "source": [
    "table2 = camelot.read_pdf(fileName,\n",
    "                          flavor='stream',\n",
    "                          table_areas=[\n",
    "                              \"29.820096930533122,696.7773504125727,572.3534733441035,74.39160822339852\"\n",
    "                              ],\n",
    "                          columns=[\n",
    "                              \"59.640193861066244,176.996704361874,215.47424878836836,249.14210016155093,287.6196445880453,326.0971890145396,370.34636510500815,426.13880452342494,472.3118578352181,520.4087883683361\"\n",
    "                              ],\n",
    "                          split_text=True,\n",
    "                          pages=\"2\"\n",
    "                         )"
   ]
  },
  {
   "cell_type": "code",
   "execution_count": 7,
   "metadata": {},
   "outputs": [],
   "source": [
    "df1 = table1[0].df.copy()\n",
    "df2 = table2[0].df.copy()"
   ]
  },
  {
   "cell_type": "code",
   "execution_count": 8,
   "metadata": {},
   "outputs": [],
   "source": [
    "table = pd.concat([df1,df2])"
   ]
  },
  {
   "cell_type": "code",
   "execution_count": 9,
   "metadata": {},
   "outputs": [
    {
     "output_type": "execute_result",
     "data": {
      "text/plain": [
       "    0                  1     2     3      4      5      6      7      8   \\\n",
       "0                  STATES                                                  \n",
       "1    1     ANDHRA PRADESH   210   257   22.4  16599  17681    6.5  16809   \n",
       "2    2  ARUNACHAL PRADESH    35     7  -80.0    304    268  -11.8    339   \n",
       "3    3              ASSAM   225   136  -39.6   5031   5300    5.3   5256   \n",
       "4    4              BIHAR  1082  1521   40.6  11635  13690   17.7  12717   \n",
       "..  ..                ...   ...   ...    ...    ...    ...    ...    ...   \n",
       "49  50           VARANASI    93     9  -90.3    201    344   71.1    294   \n",
       "50  51        VASAI VIRAR     0     0      -   1132   1124   -0.7   1132   \n",
       "51  52         VIJAYAWADA    39    20  -48.7    492    514    4.5    531   \n",
       "52  53     VISHAKHAPATNAM     4     5   25.0    726    869   19.7    730   \n",
       "53         TOTAL (CITIES)   448   418   -6.7  60897  60986    0.1  61345   \n",
       "\n",
       "       9      10  \n",
       "0                 \n",
       "1   17938    6.7  \n",
       "2     275  -18.9  \n",
       "3    5436    3.4  \n",
       "4   15211   19.6  \n",
       "..    ...    ...  \n",
       "49    353   20.1  \n",
       "50   1124   -0.7  \n",
       "51    534    0.6  \n",
       "52    874   19.7  \n",
       "53  61404    0.1  \n",
       "\n",
       "[95 rows x 11 columns]"
      ],
      "text/html": "<div>\n<style scoped>\n    .dataframe tbody tr th:only-of-type {\n        vertical-align: middle;\n    }\n\n    .dataframe tbody tr th {\n        vertical-align: top;\n    }\n\n    .dataframe thead th {\n        text-align: right;\n    }\n</style>\n<table border=\"1\" class=\"dataframe\">\n  <thead>\n    <tr style=\"text-align: right;\">\n      <th></th>\n      <th>0</th>\n      <th>1</th>\n      <th>2</th>\n      <th>3</th>\n      <th>4</th>\n      <th>5</th>\n      <th>6</th>\n      <th>7</th>\n      <th>8</th>\n      <th>9</th>\n      <th>10</th>\n    </tr>\n  </thead>\n  <tbody>\n    <tr>\n      <th>0</th>\n      <td></td>\n      <td>STATES</td>\n      <td></td>\n      <td></td>\n      <td></td>\n      <td></td>\n      <td></td>\n      <td></td>\n      <td></td>\n      <td></td>\n      <td></td>\n    </tr>\n    <tr>\n      <th>1</th>\n      <td>1</td>\n      <td>ANDHRA PRADESH</td>\n      <td>210</td>\n      <td>257</td>\n      <td>22.4</td>\n      <td>16599</td>\n      <td>17681</td>\n      <td>6.5</td>\n      <td>16809</td>\n      <td>17938</td>\n      <td>6.7</td>\n    </tr>\n    <tr>\n      <th>2</th>\n      <td>2</td>\n      <td>ARUNACHAL PRADESH</td>\n      <td>35</td>\n      <td>7</td>\n      <td>-80.0</td>\n      <td>304</td>\n      <td>268</td>\n      <td>-11.8</td>\n      <td>339</td>\n      <td>275</td>\n      <td>-18.9</td>\n    </tr>\n    <tr>\n      <th>3</th>\n      <td>3</td>\n      <td>ASSAM</td>\n      <td>225</td>\n      <td>136</td>\n      <td>-39.6</td>\n      <td>5031</td>\n      <td>5300</td>\n      <td>5.3</td>\n      <td>5256</td>\n      <td>5436</td>\n      <td>3.4</td>\n    </tr>\n    <tr>\n      <th>4</th>\n      <td>4</td>\n      <td>BIHAR</td>\n      <td>1082</td>\n      <td>1521</td>\n      <td>40.6</td>\n      <td>11635</td>\n      <td>13690</td>\n      <td>17.7</td>\n      <td>12717</td>\n      <td>15211</td>\n      <td>19.6</td>\n    </tr>\n    <tr>\n      <th>...</th>\n      <td>...</td>\n      <td>...</td>\n      <td>...</td>\n      <td>...</td>\n      <td>...</td>\n      <td>...</td>\n      <td>...</td>\n      <td>...</td>\n      <td>...</td>\n      <td>...</td>\n      <td>...</td>\n    </tr>\n    <tr>\n      <th>49</th>\n      <td>50</td>\n      <td>VARANASI</td>\n      <td>93</td>\n      <td>9</td>\n      <td>-90.3</td>\n      <td>201</td>\n      <td>344</td>\n      <td>71.1</td>\n      <td>294</td>\n      <td>353</td>\n      <td>20.1</td>\n    </tr>\n    <tr>\n      <th>50</th>\n      <td>51</td>\n      <td>VASAI VIRAR</td>\n      <td>0</td>\n      <td>0</td>\n      <td>-</td>\n      <td>1132</td>\n      <td>1124</td>\n      <td>-0.7</td>\n      <td>1132</td>\n      <td>1124</td>\n      <td>-0.7</td>\n    </tr>\n    <tr>\n      <th>51</th>\n      <td>52</td>\n      <td>VIJAYAWADA</td>\n      <td>39</td>\n      <td>20</td>\n      <td>-48.7</td>\n      <td>492</td>\n      <td>514</td>\n      <td>4.5</td>\n      <td>531</td>\n      <td>534</td>\n      <td>0.6</td>\n    </tr>\n    <tr>\n      <th>52</th>\n      <td>53</td>\n      <td>VISHAKHAPATNAM</td>\n      <td>4</td>\n      <td>5</td>\n      <td>25.0</td>\n      <td>726</td>\n      <td>869</td>\n      <td>19.7</td>\n      <td>730</td>\n      <td>874</td>\n      <td>19.7</td>\n    </tr>\n    <tr>\n      <th>53</th>\n      <td></td>\n      <td>TOTAL (CITIES)</td>\n      <td>448</td>\n      <td>418</td>\n      <td>-6.7</td>\n      <td>60897</td>\n      <td>60986</td>\n      <td>0.1</td>\n      <td>61345</td>\n      <td>61404</td>\n      <td>0.1</td>\n    </tr>\n  </tbody>\n</table>\n<p>95 rows × 11 columns</p>\n</div>"
     },
     "metadata": {},
     "execution_count": 9
    }
   ],
   "source": [
    "table"
   ]
  },
  {
   "cell_type": "code",
   "execution_count": 10,
   "metadata": {},
   "outputs": [],
   "source": [
    "column_list = [\n",
    "    (\"Sl. No.\",''),\n",
    "    (\"State/UT\",''),\n",
    "    ('Deaths due to Forces of Nature','2018'),\n",
    "    ('Deaths due to Forces of Nature','2019'),\n",
    "    ('Deaths due to Forces of Nature','% Variation'),\n",
    "    ('Deaths due to Other Causes','2018'),\n",
    "    ('Deaths due to Other Causes','2019'),\n",
    "    ('Deaths due to Other Causes','% Variation'),\n",
    "    ('Total Accidental Deaths','2018'),\n",
    "    ('Total Accidental Deaths','2019'),\n",
    "    ('Total Accidental Deaths','% Variation'),\n",
    "]"
   ]
  },
  {
   "cell_type": "code",
   "execution_count": 11,
   "metadata": {},
   "outputs": [],
   "source": [
    "table.columns = pd.MultiIndex.from_tuples(column_list)\n",
    "table.set_index([\"Sl. No.\",\"State/UT\"],inplace=True)"
   ]
  },
  {
   "cell_type": "code",
   "execution_count": 12,
   "metadata": {},
   "outputs": [
    {
     "output_type": "execute_result",
     "data": {
      "text/plain": [
       "                          Deaths due to Forces of Nature                    \\\n",
       "                                                    2018  2019 % Variation   \n",
       "Sl. No. State/UT                                                             \n",
       "        STATES                                                               \n",
       "1       ANDHRA PRADESH                               210   257        22.4   \n",
       "2       ARUNACHAL PRADESH                             35     7       -80.0   \n",
       "3       ASSAM                                        225   136       -39.6   \n",
       "4       BIHAR                                       1082  1521        40.6   \n",
       "...                                                  ...   ...         ...   \n",
       "50      VARANASI                                      93     9       -90.3   \n",
       "51      VASAI VIRAR                                    0     0           -   \n",
       "52      VIJAYAWADA                                    39    20       -48.7   \n",
       "53      VISHAKHAPATNAM                                 4     5        25.0   \n",
       "        TOTAL (CITIES)                               448   418        -6.7   \n",
       "\n",
       "                          Deaths due to Other Causes                     \\\n",
       "                                                2018   2019 % Variation   \n",
       "Sl. No. State/UT                                                          \n",
       "        STATES                                                            \n",
       "1       ANDHRA PRADESH                         16599  17681         6.5   \n",
       "2       ARUNACHAL PRADESH                        304    268       -11.8   \n",
       "3       ASSAM                                   5031   5300         5.3   \n",
       "4       BIHAR                                  11635  13690        17.7   \n",
       "...                                              ...    ...         ...   \n",
       "50      VARANASI                                 201    344        71.1   \n",
       "51      VASAI VIRAR                             1132   1124        -0.7   \n",
       "52      VIJAYAWADA                               492    514         4.5   \n",
       "53      VISHAKHAPATNAM                           726    869        19.7   \n",
       "        TOTAL (CITIES)                         60897  60986         0.1   \n",
       "\n",
       "                          Total Accidental Deaths                     \n",
       "                                             2018   2019 % Variation  \n",
       "Sl. No. State/UT                                                      \n",
       "        STATES                                                        \n",
       "1       ANDHRA PRADESH                      16809  17938         6.7  \n",
       "2       ARUNACHAL PRADESH                     339    275       -18.9  \n",
       "3       ASSAM                                5256   5436         3.4  \n",
       "4       BIHAR                               12717  15211        19.6  \n",
       "...                                           ...    ...         ...  \n",
       "50      VARANASI                              294    353        20.1  \n",
       "51      VASAI VIRAR                          1132   1124        -0.7  \n",
       "52      VIJAYAWADA                            531    534         0.6  \n",
       "53      VISHAKHAPATNAM                        730    874        19.7  \n",
       "        TOTAL (CITIES)                      61345  61404         0.1  \n",
       "\n",
       "[95 rows x 9 columns]"
      ],
      "text/html": "<div>\n<style scoped>\n    .dataframe tbody tr th:only-of-type {\n        vertical-align: middle;\n    }\n\n    .dataframe tbody tr th {\n        vertical-align: top;\n    }\n\n    .dataframe thead tr th {\n        text-align: left;\n    }\n\n    .dataframe thead tr:last-of-type th {\n        text-align: right;\n    }\n</style>\n<table border=\"1\" class=\"dataframe\">\n  <thead>\n    <tr>\n      <th></th>\n      <th></th>\n      <th colspan=\"3\" halign=\"left\">Deaths due to Forces of Nature</th>\n      <th colspan=\"3\" halign=\"left\">Deaths due to Other Causes</th>\n      <th colspan=\"3\" halign=\"left\">Total Accidental Deaths</th>\n    </tr>\n    <tr>\n      <th></th>\n      <th></th>\n      <th>2018</th>\n      <th>2019</th>\n      <th>% Variation</th>\n      <th>2018</th>\n      <th>2019</th>\n      <th>% Variation</th>\n      <th>2018</th>\n      <th>2019</th>\n      <th>% Variation</th>\n    </tr>\n    <tr>\n      <th>Sl. No.</th>\n      <th>State/UT</th>\n      <th></th>\n      <th></th>\n      <th></th>\n      <th></th>\n      <th></th>\n      <th></th>\n      <th></th>\n      <th></th>\n      <th></th>\n    </tr>\n  </thead>\n  <tbody>\n    <tr>\n      <th></th>\n      <th>STATES</th>\n      <td></td>\n      <td></td>\n      <td></td>\n      <td></td>\n      <td></td>\n      <td></td>\n      <td></td>\n      <td></td>\n      <td></td>\n    </tr>\n    <tr>\n      <th>1</th>\n      <th>ANDHRA PRADESH</th>\n      <td>210</td>\n      <td>257</td>\n      <td>22.4</td>\n      <td>16599</td>\n      <td>17681</td>\n      <td>6.5</td>\n      <td>16809</td>\n      <td>17938</td>\n      <td>6.7</td>\n    </tr>\n    <tr>\n      <th>2</th>\n      <th>ARUNACHAL PRADESH</th>\n      <td>35</td>\n      <td>7</td>\n      <td>-80.0</td>\n      <td>304</td>\n      <td>268</td>\n      <td>-11.8</td>\n      <td>339</td>\n      <td>275</td>\n      <td>-18.9</td>\n    </tr>\n    <tr>\n      <th>3</th>\n      <th>ASSAM</th>\n      <td>225</td>\n      <td>136</td>\n      <td>-39.6</td>\n      <td>5031</td>\n      <td>5300</td>\n      <td>5.3</td>\n      <td>5256</td>\n      <td>5436</td>\n      <td>3.4</td>\n    </tr>\n    <tr>\n      <th>4</th>\n      <th>BIHAR</th>\n      <td>1082</td>\n      <td>1521</td>\n      <td>40.6</td>\n      <td>11635</td>\n      <td>13690</td>\n      <td>17.7</td>\n      <td>12717</td>\n      <td>15211</td>\n      <td>19.6</td>\n    </tr>\n    <tr>\n      <th>...</th>\n      <th>...</th>\n      <td>...</td>\n      <td>...</td>\n      <td>...</td>\n      <td>...</td>\n      <td>...</td>\n      <td>...</td>\n      <td>...</td>\n      <td>...</td>\n      <td>...</td>\n    </tr>\n    <tr>\n      <th>50</th>\n      <th>VARANASI</th>\n      <td>93</td>\n      <td>9</td>\n      <td>-90.3</td>\n      <td>201</td>\n      <td>344</td>\n      <td>71.1</td>\n      <td>294</td>\n      <td>353</td>\n      <td>20.1</td>\n    </tr>\n    <tr>\n      <th>51</th>\n      <th>VASAI VIRAR</th>\n      <td>0</td>\n      <td>0</td>\n      <td>-</td>\n      <td>1132</td>\n      <td>1124</td>\n      <td>-0.7</td>\n      <td>1132</td>\n      <td>1124</td>\n      <td>-0.7</td>\n    </tr>\n    <tr>\n      <th>52</th>\n      <th>VIJAYAWADA</th>\n      <td>39</td>\n      <td>20</td>\n      <td>-48.7</td>\n      <td>492</td>\n      <td>514</td>\n      <td>4.5</td>\n      <td>531</td>\n      <td>534</td>\n      <td>0.6</td>\n    </tr>\n    <tr>\n      <th>53</th>\n      <th>VISHAKHAPATNAM</th>\n      <td>4</td>\n      <td>5</td>\n      <td>25.0</td>\n      <td>726</td>\n      <td>869</td>\n      <td>19.7</td>\n      <td>730</td>\n      <td>874</td>\n      <td>19.7</td>\n    </tr>\n    <tr>\n      <th></th>\n      <th>TOTAL (CITIES)</th>\n      <td>448</td>\n      <td>418</td>\n      <td>-6.7</td>\n      <td>60897</td>\n      <td>60986</td>\n      <td>0.1</td>\n      <td>61345</td>\n      <td>61404</td>\n      <td>0.1</td>\n    </tr>\n  </tbody>\n</table>\n<p>95 rows × 9 columns</p>\n</div>"
     },
     "metadata": {},
     "execution_count": 12
    }
   ],
   "source": [
    "# Incase we're intersted in seeing the scraped tables at this point.\n",
    "# Commented as it takes too much screen space\n",
    "# Run if you want\n",
    "# printnAllTables(tables)\n",
    "\n",
    "# OR Print a simgle one according to your choice\n",
    "table"
   ]
  },
  {
   "cell_type": "code",
   "execution_count": 13,
   "metadata": {},
   "outputs": [],
   "source": [
    "# Reset Index before saving file, for better formatting in RAW CSV\n",
    "table.reset_index().to_csv(\"Percentage Variation of Accidental Deaths due to Forces of Nature, Other Causes and Total Accidental Deaths during 2019 over 2018 (State,UT & City-wise).csv\",index=False)"
   ]
  }
 ],
 "metadata": {
  "kernelspec": {
   "display_name": "Python 3",
   "language": "python",
   "name": "python3"
  },
  "language_info": {
   "codemirror_mode": {
    "name": "ipython",
    "version": 3
   },
   "file_extension": ".py",
   "mimetype": "text/x-python",
   "name": "python",
   "nbconvert_exporter": "python",
   "pygments_lexer": "ipython3",
   "version": "3.8.2-final"
  }
 },
 "nbformat": 4,
 "nbformat_minor": 4
}
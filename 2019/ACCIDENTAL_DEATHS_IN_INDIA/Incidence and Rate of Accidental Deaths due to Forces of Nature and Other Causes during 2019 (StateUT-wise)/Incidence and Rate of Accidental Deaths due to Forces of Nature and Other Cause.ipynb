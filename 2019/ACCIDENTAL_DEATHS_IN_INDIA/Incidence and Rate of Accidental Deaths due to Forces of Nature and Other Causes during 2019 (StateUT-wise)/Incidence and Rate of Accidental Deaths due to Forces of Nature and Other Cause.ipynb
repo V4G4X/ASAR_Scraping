{
 "cells": [
  {
   "cell_type": "code",
   "execution_count": 1,
   "metadata": {},
   "outputs": [],
   "source": [
    "import wget\n",
    "import ssl\n",
    "import os\n",
    "ssl._create_default_https_context = ssl._create_unverified_context"
   ]
  },
  {
   "cell_type": "code",
   "execution_count": 2,
   "metadata": {},
   "outputs": [],
   "source": [
    "# Enter NCRB Individual PDF url\n",
    "pdf_url = 'https://ncrb.gov.in/sites/default/files/adsi_reports_previous_year/Table-1.2_2019.pdf'\n",
    "fileName = pdf_url[67:]\n",
    "try:\n",
    "    #Delete the file to redownload it\n",
    "    os.remove(fileName)\n",
    "except FileNotFoundError as e:\n",
    "    #Ignore in case FileNotFound Error occurs\n",
    "    pass\n",
    "# Download report\n",
    "fileName = wget.download(pdf_url,fileName)"
   ]
  },
  {
   "cell_type": "code",
   "execution_count": 3,
   "metadata": {},
   "outputs": [],
   "source": [
    "import numpy as np\n",
    "import pandas as pd\n",
    "import camelot"
   ]
  },
  {
   "cell_type": "code",
   "execution_count": 4,
   "metadata": {},
   "outputs": [
    {
     "output_type": "execute_result",
     "data": {
      "text/plain": [
       "'Table-1.2_2019.pdf'"
      ]
     },
     "metadata": {},
     "execution_count": 4
    }
   ],
   "source": [
    "fileName"
   ]
  },
  {
   "cell_type": "code",
   "execution_count": 5,
   "metadata": {},
   "outputs": [],
   "source": [
    "tables = camelot.read_pdf(fileName,\n",
    "flavor='stream',\n",
    "table_areas=[\n",
    "    \"39.54765751211632,681.6608141389621,570.4749596122779,69.65407298672442\"\n",
    "    ],\n",
    "    columns=[\n",
    "        \"70.19709208400646,174.0096930533118,254.09369951534734,339.1211631663974,401.4087237479806,462.7075928917609,519.0630048465266\"\n",
    "        ],\n",
    "        row_tol=10,\n",
    "        split_text=True,\n",
    "        strip_test=\"\\n\",\n",
    "        pages=\"all\"\n",
    ")"
   ]
  },
  {
   "cell_type": "code",
   "execution_count": 6,
   "metadata": {},
   "outputs": [
    {
     "output_type": "execute_result",
     "data": {
      "text/plain": [
       "<TableList n=2>"
      ]
     },
     "metadata": {},
     "execution_count": 6
    }
   ],
   "source": [
    "tables"
   ]
  },
  {
   "cell_type": "code",
   "execution_count": 7,
   "metadata": {},
   "outputs": [],
   "source": [
    "def printnAllTables(tables):\n",
    "    for i in range(len(tables)):\n",
    "        print(\"Page No: \",(i+1))\n",
    "        print(tables[i].df)\n",
    "        print()"
   ]
  },
  {
   "cell_type": "code",
   "execution_count": 8,
   "metadata": {},
   "outputs": [
    {
     "output_type": "stream",
     "name": "stdout",
     "text": [
      "Page No:  1\n     0                  1     2       3       4      5        6     7\n0                  STATES                                            \n1    1     ANDHRA PRADESH   257   17681   17938    4.3    523.2  34.3\n2    2  ARUNACHAL PRADESH     7     268     275    0.1     15.1  18.2\n3    3              ASSAM   136    5300    5436    1.3    344.2  15.8\n4    4              BIHAR  1521   13690   15211    3.6   1201.1  12.7\n5    5       CHHATTISGARH   254   19535   19789    4.7    288.5  68.6\n6    6                GOA     3     792     795    0.2     15.4  51.5\n7    7            GUJARAT   140   23770   23910    5.7    682.5  35.0\n8    8            HARYANA   134   15505   15639    3.7    288.1  54.3\n9    9   HIMACHAL PRADESH    39    3217    3256    0.8     73.2  44.5\n10  10    JAMMU & KASHMIR    63    1388    1451    0.3    135.3  10.7\n11  11          JHARKHAND   556    7147    7703    1.8    375.8  20.5\n12  12          KARNATAKA   169   25282   25451    6.0    659.7  38.6\n13  13             KERALA   140   13623   13763    3.3    351.9  39.1\n14  14     MADHYA PRADESH   627   41804   42431   10.1    826.1  51.4\n15  15        MAHARASHTRA   573   69756   70329   16.7   1225.3  57.4\n16  16            MANIPUR     5     304     309    0.1     31.1   9.9\n17  17          MEGHALAYA    12     464     476    0.1     32.3  14.7\n18  18            MIZORAM     4     167     171    0.0     12.0  14.3\n19  19           NAGALAND     0      63      63    0.0     21.6   2.9\n20  20             ODISHA  1466   14993   16459    3.9    437.3  37.6\n21  21             PUNJAB   240   10808   11048    2.6    299.4  36.9\n22  22          RAJASTHAN   210   28487   28697    6.8    776.0  37.0\n23  23             SIKKIM     6     289     295    0.1      6.7  44.4\n24  24         TAMIL NADU    70   22334   22404    5.3    758.1  29.6\n25  25          TELANGANA   252   11468   11720    2.8    372.8  31.4\n26  26            TRIPURA    20     687     707    0.2     40.0  17.7\n27  27      UTTAR PRADESH   792   39804   40596    9.6   2259.7  18.0\n28  28        UTTARAKHAND    68    1818    1886    0.4    111.8  16.9\n29  29        WEST BENGAL   376   15609   15985    3.8    971.1  16.5\n30         TOTAL (STATES)  8140  406053  414193   98.4  13135.2  31.5\n31      UNION TERRITORIES                                            \n32  30      A & N ISLANDS     2     196     198    0.0      4.0  49.7\n33  31         CHANDIGARH     2     412     414    0.1     11.8  35.0\n34  32       D & N HAVELI     1     123     124    0.0      5.6  22.3\n35  33        DAMAN & DIU     0     148     148    0.0      4.2  35.0\n36  34         DELHI (UT)     0    4919    4919    1.2    199.4  24.7\n37  35        LAKSHADWEEP     0       5       5    0.0      0.7   7.4\n38  36         PUDUCHERRY     0    1103    1103    0.3     15.2  72.8\n39            TOTAL (UTs)     5    6906    6911    1.6    240.8  28.7\n40      TOTAL (ALL INDIA)  8145  412959  421104  100.0  13376.1  31.5\n\nPage No:  2\n     0                  1    2      3      4      5       6     7\n0    1               AGRA    2    459    461    0.8    17.5  26.3\n1    2          AHMEDABAD    5   1831   1836    3.0    63.5  28.9\n2    3          ALLAHABAD    0    321    321    0.5    12.2  26.3\n3    4           AMRITSAR   66    334    400    0.7    11.8  33.9\n4    5            ASANSOL    0    979    979    1.6    12.4  79.0\n5    6         AURANGABAD    0   1036   1036    1.7    11.9  87.1\n6    7          BENGALURU    0   4016   4016    6.5    85.0  47.2\n7    8             BHOPAL   56    684    740    1.2    18.8  39.4\n8    9  CHANDIGARH (CITY)    2    412    414    0.7    10.3  40.2\n9   10            CHENNAI    3   1942   1945    3.2    87.0  22.4\n10  11         COIMBATORE    0    524    524    0.9    21.5  24.4\n11  12       DELHI (CITY)    0   4516   4516    7.4   163.2  27.7\n12  13            DHANBAD   10    158    168    0.3    12.0  14.0\n13  14   DURG BHILAINAGAR    4    751    755    1.2    10.6  71.2\n14  15          FARIDABAD   17   1158   1175    1.9    14.1  83.3\n15  16          GHAZIABAD    5    483    488    0.8    23.6  20.7\n16  17            GWALIOR    2    312    314    0.5    11.0  28.5\n17  18          HYDERABAD    5    785    790    1.3    77.5  10.2\n18  19             INDORE    0   1142   1142    1.9    21.7  52.6\n19  20           JABALPUR    6    482    488    0.8    12.7  38.4\n20  21             JAIPUR    0   2628   2628    4.3    30.7  85.6\n21  22         JAMSHEDPUR   10    381    391    0.6    13.4  29.2\n22  23            JODHPUR    0   1113   1113    1.8    11.4  97.6\n23  24             KANNUR    2    224    226    0.4    16.4  13.8\n24  25             KANPUR   27   1493   1520    2.5    29.2  52.1\n25  26              KOCHI    0    595    595    1.0    21.2  28.1\n26  27            KOLKATA    0    322    322    0.5   141.1   2.3\n27  28             KOLLAM    0    581    581    0.9    11.1  52.3\n28  29               KOTA    3    606    609    1.0    10.0  60.9\n29  30          KOZHIKODE    4    541    545    0.9    20.3  26.8\n30  31            LUCKNOW    7    568    575    0.9    29.0  19.8\n31  32           LUDHIANA   46   1016   1062    1.7    16.1  66.0\n32  33            MADURAI    0    532    532    0.9    14.6  36.4\n33  34         MALAPPURAM    9    325    334    0.5    17.0  19.6\n34  35             MEERUT    0    212    212    0.3    14.3  14.8\n35  36             MUMBAI   34   9212   9246   15.1   184.1  50.2\n36  37             NAGPUR    1   2112   2113    3.4    25.0  84.5\n37  38              NASIK    0   1544   1544    2.5    15.6  99.0\n38  39              PATNA    9    216    225    0.4    20.5  11.0\n39  40               PUNE   17   3932   3949    6.4    50.5  78.2\n40  41             RAIPUR    0   1001   1001    1.6    11.2  89.4\n41  42             RAJKOT    1   1379   1380    2.2    13.9  99.3\n42  43             RANCHI   19    348    367    0.6    11.3  32.5\n43  44           SRINAGAR    0    119    119    0.2    12.7   9.4\n44  45              SURAT    0   2353   2353    3.8    45.9  51.3\n45  46  THIRUVANANTHAPURA    0    655    655    1.1    16.9  38.8\n46  47       M \\nTHRISSUR    6    764    770    1.3    18.6  41.4\n47  48    TIRUCHIRAPPALLI    0    250    250    0.4    10.2  24.5\n48  49           VADODARA    6    788    794    1.3    18.2  43.6\n49  50           VARANASI    9    344    353    0.6    14.4  24.5\n50  51        VASAI VIRAR    0   1124   1124    1.8    12.2  92.1\n51  52         VIJAYAWADA   20    514    534    0.9    14.9  35.8\n52  53     VISHAKHAPATNAM    5    869    874    1.4    17.3  50.5\n53         TOTAL (CITIES)  418  60986  61404  100.0  1607.2  38.2\n\n"
     ]
    }
   ],
   "source": [
    "# Incase we're intersted in seeing the original scraped tables.\n",
    "# Commented as it takes too much screen space\n",
    "# Run if you want\n",
    "printnAllTables(tables)"
   ]
  },
  {
   "cell_type": "code",
   "execution_count": 9,
   "metadata": {},
   "outputs": [
    {
     "output_type": "execute_result",
     "data": {
      "text/plain": [
       "45    THIRUVANANTHAPURAM\n",
       "46              THRISSUR\n",
       "Name: 1, dtype: object"
      ]
     },
     "metadata": {},
     "execution_count": 9
    }
   ],
   "source": [
    "# Custom Fixing City Name\n",
    "tables[1].df.iloc[45,1] = 'THIRUVANANTHAPURAM'\n",
    "tables[1].df.iloc[46,1] = 'THRISSUR'\n",
    "tables[1].df.iloc[45:47,1]"
   ]
  },
  {
   "cell_type": "code",
   "execution_count": 10,
   "metadata": {},
   "outputs": [],
   "source": [
    "# Incase we're intersted in seeing the scraped tables at this point.\n",
    "# Commented as it takes too much screen space\n",
    "# Run if you want\n",
    "# printnAllTables(tables)"
   ]
  },
  {
   "cell_type": "code",
   "execution_count": 11,
   "metadata": {},
   "outputs": [],
   "source": [
    "column_list_State = [\n",
    "    (\"Sl. No.\",''),\n",
    "    (\"State/UT\",''), \n",
    "    ('Total Accidental Deaths','Forces of Nature'),\n",
    "    ('Total Accidental Deaths','Other Causes'),\n",
    "    ('Total Accidental Deaths','Total'),\n",
    "    ('Percentage Share in Total Deaths',''),\n",
    "    ('Population(in Lakh)',''),\n",
    "    ('Rate of Accidental Deaths','')\n",
    "]\n",
    "column_list_City = [\n",
    "    (\"Sl. No.\",''),\n",
    "    (\"City\",''), \n",
    "    ('Total Accidental Deaths','Forces of Nature'),\n",
    "    ('Total Accidental Deaths','Other Causes'),\n",
    "    ('Total Accidental Deaths','Total'),\n",
    "    ('Percentage Share in Total Deaths',''),\n",
    "    ('Population(in Lakh)',''),\n",
    "    ('Rate of Accidental Deaths','')\n",
    "]"
   ]
  },
  {
   "cell_type": "code",
   "execution_count": 12,
   "metadata": {},
   "outputs": [],
   "source": [
    "tables[0].df.columns = pd.MultiIndex.from_tuples(column_list_State)\n",
    "tables[0].df.set_index([\"Sl. No.\",\"State/UT\"],inplace=True)\n",
    "tables[1].df.columns = pd.MultiIndex.from_tuples(column_list_City)\n",
    "tables[1].df.set_index([\"Sl. No.\",\"City\"],inplace=True)"
   ]
  },
  {
   "source": [
    "# Incase we're intersted in seeing the scraped tables at this point.\n",
    "# Commented as it takes too much screen space\n",
    "# Run if you want\n",
    "# printnAllTables(tables)\n",
    "\n",
    "# OR Print a simgle one according to your choice\n",
    "# tables[23].df"
   ],
   "cell_type": "code",
   "metadata": {},
   "execution_count": 13,
   "outputs": []
  },
  {
   "cell_type": "code",
   "execution_count": 14,
   "metadata": {},
   "outputs": [],
   "source": [
    "# Reset Index before saving file, for better formatting in RAW CSV\n",
    "tables[0].df.reset_index().to_csv(\"Incidence and Rate of Accidental Deaths due to Forces of Nature and Other Causes during 2019 (StateUT-wise).csv\",index=False)\n",
    "tables[1].df.reset_index().to_csv(\"Incidence and Rate of Accidental Deaths due to Forces of Nature and Other Causes during 2019 (City-wise).csv\",index=False)"
   ]
  }
 ],
 "metadata": {
  "kernelspec": {
   "display_name": "Python 3",
   "language": "python",
   "name": "python3"
  },
  "language_info": {
   "codemirror_mode": {
    "name": "ipython",
    "version": 3
   },
   "file_extension": ".py",
   "mimetype": "text/x-python",
   "name": "python",
   "nbconvert_exporter": "python",
   "pygments_lexer": "ipython3",
   "version": "3.8.2-final"
  }
 },
 "nbformat": 4,
 "nbformat_minor": 4
}
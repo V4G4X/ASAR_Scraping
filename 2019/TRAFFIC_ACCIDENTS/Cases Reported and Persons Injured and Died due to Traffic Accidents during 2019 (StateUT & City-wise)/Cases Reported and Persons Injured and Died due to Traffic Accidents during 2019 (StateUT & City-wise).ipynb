{
 "cells": [
  {
   "cell_type": "code",
   "execution_count": 1,
   "metadata": {},
   "outputs": [],
   "source": [
    "import wget\n",
    "import ssl\n",
    "import os\n",
    "ssl._create_default_https_context = ssl._create_unverified_context"
   ]
  },
  {
   "cell_type": "code",
   "execution_count": 2,
   "metadata": {},
   "outputs": [],
   "source": [
    "# Enter NCRB Individual PDF url\n",
    "pdf_url = 'https://ncrb.gov.in/sites/default/files/adsi_reports_previous_year/Table-1A.2_2019.pdf'\n",
    "fileName = pdf_url[67:]\n",
    "try:\n",
    "    #Delete the file to redownload it\n",
    "    os.remove(fileName)\n",
    "except FileNotFoundError as e:\n",
    "    #Ignore in case FileNotFound Error occurs\n",
    "    pass\n",
    "# Download report\n",
    "fileName = wget.download(pdf_url,fileName)"
   ]
  },
  {
   "cell_type": "code",
   "execution_count": 3,
   "metadata": {},
   "outputs": [],
   "source": [
    "import numpy as np\n",
    "import pandas as pd\n",
    "import camelot"
   ]
  },
  {
   "cell_type": "code",
   "execution_count": 4,
   "metadata": {},
   "outputs": [
    {
     "output_type": "execute_result",
     "data": {
      "text/plain": [
       "'Table-1A.2_2019.pdf'"
      ]
     },
     "metadata": {},
     "execution_count": 4
    }
   ],
   "source": [
    "fileName"
   ]
  },
  {
   "cell_type": "code",
   "execution_count": 5,
   "metadata": {},
   "outputs": [],
   "source": [
    "tables = camelot.read_pdf(fileName,\n",
    "                          flavor='stream',\n",
    "                          table_areas=[\n",
    "                              \"24.52943457189015,721.8202417037362,574.7583198707594,60.956277691379164\"\n",
    "                              ],\n",
    "                          columns=[\n",
    "                              \"47.134991922455576,148.13854604200324,190.6160904684976,220.28394184168016,255.87567043618742,288.5815831987076,321.2874959612278,351.10759289176093,382.8515670436188,413.63360258481424,447.30145395799684,485.77899838449116,528.104297253635\"\n",
    "                              ],\n",
    "                          split_text=True,\n",
    "                          pages=\"all\"\n",
    "                         )"
   ]
  },
  {
   "cell_type": "code",
   "execution_count": 6,
   "metadata": {},
   "outputs": [
    {
     "output_type": "execute_result",
     "data": {
      "text/plain": [
       "<TableList n=2>"
      ]
     },
     "metadata": {},
     "execution_count": 6
    }
   ],
   "source": [
    "tables"
   ]
  },
  {
   "cell_type": "code",
   "execution_count": 7,
   "metadata": {},
   "outputs": [],
   "source": [
    "def printnAllTables(tables):\n",
    "    for i in range(len(tables)):\n",
    "        print(\"Page No: \",(i+1))\n",
    "        print(tables[i].df)\n",
    "        print()"
   ]
  },
  {
   "cell_type": "code",
   "execution_count": 8,
   "metadata": {},
   "outputs": [],
   "source": [
    "# Incase we're intersted in seeing the original scraped tables.\n",
    "# Commented as it takes too much screen space\n",
    "# Run if you want\n",
    "# printnAllTables(tables)"
   ]
  },
  {
   "cell_type": "code",
   "execution_count": 9,
   "metadata": {},
   "outputs": [],
   "source": [
    "# Removes Garbage Rows that may have been detected Before the 'STATES' row\n",
    "# AND\n",
    "# Removes Garbage Rows that may have been detected after the 'TOTAL (ALL INDIA)' row\n",
    "def clean(table):\n",
    "    while(table.df.iloc[0,1] != 'STATES' and table.df.iloc[0,1] != 'AGRA'):\n",
    "        table.df = table.df.iloc[1:]\n",
    "    while(table.df.iloc[-1,1] != 'TOTAL (ALL INDIA)' and table.df.iloc[-1,1] != 'TOTAL (CITIES)'):\n",
    "        table.df = table.df.iloc[:-1]\n",
    "    # The Return line is unnecessary due to all changes being reflected in the original references\n",
    "    return table"
   ]
  },
  {
   "cell_type": "code",
   "execution_count": 10,
   "metadata": {},
   "outputs": [],
   "source": [
    "# Splits the second column into 1st column index and 2nd column test when faulty/required\n",
    "def split_by_first_space(df, strIndex, stpIndex):\n",
    "    df = df.iloc[strIndex:stpIndex+1]\n",
    "    for index, each in df.iterrows():\n",
    "        space = each[1].find(' ')\n",
    "        each[0] = each[1][:space]\n",
    "        each[1] = each[1][space:]"
   ]
  },
  {
   "cell_type": "code",
   "execution_count": 11,
   "metadata": {},
   "outputs": [],
   "source": [
    "def mergeRows(df, strIndex, stpIndex):\n",
    "    DF = df.loc[strIndex:stpIndex]\n",
    "    df = DF.T\n",
    "    l = []\n",
    "    for index, each in df.iterrows():\n",
    "        output = ''\n",
    "        for ind, cell in each.iteritems():\n",
    "            output += (str(cell) + ' ')\n",
    "#         if(output == ''):\n",
    "#             continue\n",
    "        l.append(output.strip())\n",
    "    l = pd.Series(l,name=str(strIndex))\n",
    "    DF.loc[strIndex] = l"
   ]
  },
  {
   "cell_type": "code",
   "execution_count": 12,
   "metadata": {},
   "outputs": [],
   "source": [
    "for each_table in tables:\n",
    "    clean(each_table)"
   ]
  },
  {
   "cell_type": "code",
   "execution_count": 13,
   "metadata": {},
   "outputs": [
    {
     "output_type": "stream",
     "name": "stdout",
     "text": [
      "Page No:  1\n    0                  1       2       3       4      5     6      7     8   \\\n1                  STATES                                                     \n2    1     ANDHRA PRADESH   20677   24619    7984   1511     1   1519     0   \n3    2  ARUNACHAL PRADESH     200     275     109      0     0      0     0   \n4    3              ASSAM    8055    7081    3245    591     0    593     5   \n5    4              BIHAR   10007    7206    7205   1589     0   1622   241   \n6    5       CHHATTISGARH   13899   13089    5003    466     0    466     1   \n7    6                GOA    3440    1460     299     50     0     50     0   \n8    7            GUJARAT   16503   15976    7428    994     0   1012     0   \n9    8            HARYANA   10937    9247    5269   1362   126   1278   104   \n10   9   HIMACHAL PRADESH    2896    4740    1124      0     0      0     0   \n11  10    JAMMU & KASHMIR    5795    7517    1009     44     0     45     0   \n12  11          JHARKHAND    5217    3818    3801    483     1    486     2   \n13  12          KARNATAKA   40644   50442   10951      0     0      0    22   \n14  13             KERALA   39944   44467    4370    250     1    254   160   \n15  14     MADHYA PRADESH   51641   53765   11856   1508    99   1409   230   \n16  15        MAHARASHTRA   27286   23289   14608   6338  2435   3916     0   \n17  16            MANIPUR     672    1055     156      0     0      0     0   \n18  17          MEGHALAYA     236     287     176      0     0      0     0   \n19  18            MIZORAM      57      25      63      0     0      0     0   \n20  19           NAGALAND      26      59      22      0     0      0     8   \n21  20             ODISHA   11064   11177    5333    444     0    446     0   \n22  21             PUNJAB    6316    3726    4613    893    65    831     0   \n23  22          RAJASTHAN   23478   22979   10563    803    30    775     0   \n24  23             SIKKIM     172     329      84      0     0      0     0   \n25  24         TAMIL NADU   57228   67137   10525   2266   203   2081     5   \n26  25          TELANGANA   21570   21999    6964    626     0    631     0   \n27  26            TRIPURA     655     816     239      5     0      5    27   \n28  27      UTTAR PRADESH   37537   22251   23285   3980   502   3521   851   \n29  28        UTTARAKHAND    1352    1457     867     41     0     42     8   \n30  29        WEST BENGAL   12233   11744    5724   2876    44   2832   113   \n31         TOTAL (STATES)  429737  432032  152875  27120  3507  23814  1777   \n32      UNION TERRITORIES                                                     \n33  30       A & NISLANDS     230     207      20      0     0      0     0   \n34  31         CHANDIGARH     304     275     104      0     0      0     0   \n35  32       D & N HAVELI      68     105      49      0     0      0     0   \n36  33        DAMAN & DIU      63      74      29      0     0      0     0   \n37  34         DELHI (UT)    5601    4949    1508    858    62    796    11   \n38  35        LAKSHADWEEP       1       1       0      0     0      0     0   \n39  36         PUDUCHERRY    1392    1619     147      9     0      9     0   \n40            TOTAL (UTs)    7659    7230    1857    867    62    805    11   \n41      TOTAL (ALL INDIA)  437396  439262  154732  27987  3569  24619  1788   \n\n     9     10      11      12      13  \n1                                      \n2     0     0   22188   24620    9503  \n3     0     0     200     275     109  \n4     0     5    8651    7081    3843  \n5     2   242   11837    7208    9069  \n6     0     1   14366   13089    5470  \n7     0     0    3490    1460     349  \n8     0     0   17497   15976    8440  \n9    23    84   12403    9396    6631  \n10    0     0    2896    4740    1124  \n11    0     0    5839    7517    1054  \n12    0     2    5702    3819    4289  \n13    5    15   40666   50447   10966  \n14    0   158   40354   44468    4782  \n15    6   232   53379   53870   13497  \n16    0     0   33624   25724   18524  \n17    0     0     672    1055     156  \n18    0     0     236     287     176  \n19    0     0      57      25      63  \n20    0     8      34      59      30  \n21    0     0   11508   11177    5779  \n22    0     0    7209    3791    5444  \n23    0     0   24281   23009   11338  \n24    0     0     172     329      84  \n25    0     5   59499   67340   12611  \n26    0     0   22196   21999    7595  \n27    0    27     687     816     271  \n28  123   855   42368   22876   27661  \n29    0    10    1401    1457     919  \n30    6   107   15222   11794    8663  \n31  165  1751  458634  435704  178440  \n32                                     \n33    0     0     230     207      20  \n34    0     0     304     275     104  \n35    0     0      68     105      49  \n36    0     0      63      74      29  \n37    0    11    6470    5011    2315  \n38    0     0       1       1       0  \n39    0     0    1401    1619     156  \n40    0    11    8537    7292    2673  \n41  165  1762  467171  442996  181113  \n\nPage No:  2\n    0                   1      2      3      4     5   6     7    8  9    10  \\\n2   37                AGRA    292    106    316     0   0     0   42  0   42   \n3   38           AHMEDABAD   1380   1148    439    24   0    24    0  0    0   \n4   39           ALLAHABAD    776    523    283     0   0     0    0  0    0   \n5   40            AMRITSAR    133     76     95     0   0     0    0  0    0   \n6   41             ASANSOL    442    354    314     7   0     7    0  0    0   \n7   42          AURANGABAD    516    372    226    41   0    41    0  0    0   \n8   43           BENGALURU   4684   4250    768     0   0     0    0  0    0   \n9   44              BHOPAL   2516   1909    123    20   0    20   12  0   12   \n10  45   CHANDIGARH (CITY)    304    275    104     0   0     0    0  0    0   \n11  46             CHENNAI   6871   6702   1252     0   0     0    0  0    0   \n12  47          COIMBATORE   1062   1073    132     0   0     0    0  0    0   \n13  48        DELHI (CITY)   5349   4739   1400   858  62   796   11  0   11   \n14  49             DHANBAD    171     75    127     0   0     0    0  0    0   \n15  50    DURG BHILAINAGAR    533    654     93    34   0    34    0  0    0   \n16  51           FARIDABAD    736    635    311     0   0     0    0  0    0   \n17  52           GHAZIABAD    197     28    201    59   0    59    0  0    0   \n18  53             GWALIOR   1218   1159    128     0   0     0   29  0   29   \n19  54           HYDERABAD   2900   2649    271     0   0     0    0  0    0   \n20  55              INDORE   3336   2606    297    13   0    13    0  0    0   \n21  56            JABALPUR   2167   2222    209     0   0     0    0  0    0   \n22  57              JAIPUR   3045   2451    721   136   0   138    0  0    0   \n23  58          JAMSHEDPUR    191    129     92     0   0     0    0  0    0   \n24  59             JODHPUR    686    527    260     0   0     0    0  0    0   \n25  60              KANNUR    657    811     82    30   1    30    0  0    0   \n26  61              KANPUR   1053    485    568     0   0     0   91  0   91   \n27  62               KOCHI   2138   2254    155     0   0     0   16  0   16   \n28  63             KOLKATA   2068   2004    267     0   0     0    0  0    0   \n29  64              KOLLAM   1940   1981    225     0   0     0   23  0   23   \n30  65                KOTA    491    486     96     0   0     0    0  0    0   \n31  66           KOZHIKODE   1597   1597    179    11   0    11    8  0    8   \n32  67             LUCKNOW    879    570    360    56  18    38    3  0    3   \n33  68            LUDHIANA    526    291    365     0   0     0    0  0    0   \n34  69             MADURAI    866    799    193     0   0     0    0  0    0   \n35  70          MALAPPURAM    838    902    149     4   0     4    0  0    0   \n36  71              MEERUT    511    359    186     0   0     0   17  0   17   \n37  72              MUMBAI    588    106    483     2   0     2    0  0    0   \n38  73              NAGPUR   1119    899    270    46   0    46    0  0    0   \n39  74               NASIK    189     36    189    34   0    34    0  0    0   \n40  75               PATNA    524    332    192     0   0     0    0  0    0   \n41  76                PUNE    308     94    227    29   5    29    0  0    0   \n42  77              RAIPUR   1257    729    142    42   0    42    0  0    0   \n43  78              RAJKOT    575    437    170    19   0    19    0  0    0   \n44  79              RANCHI    354    241    233     0   0     0    0  0    0   \n45  80            SRINAGAR    310    323     45     0   0     0    0  0    0   \n46  81               SURAT    865    718    292    25   0    25    0  0    0   \n47  82  THIRUVANANTHAPURAM   1704   1701    160     0   0     0   16  0   14   \n48  83            THRISSUR   2210   2491    213    36   0    36    0  0    0   \n49  84     TIRUCHIRAPPALLI    517    585    104     0   0     0    0  0    0   \n50  85            VADODARA    679    551    158    16   0    16    0  0    0   \n51  86            VARANASI    160     91     76    20   0    20    0  0    0   \n52  87         VASAI VIRAR    335    180    166     0   0     0    0  0    0   \n53  88          VIJAYAWADA   1499   1442    355     0   0     0    0  0    0   \n54  89      VISHAKHAPATNAM    966    826    320     6   1     6    0  0    0   \n55          TOTAL (CITIES)  67228  58983  14782  1568  87  1490  268  0  266   \n\n       11     12     13  \n2     334    106    358  \n3    1404   1148    463  \n4     776    523    283  \n5     133     76     95  \n6     449    354    321  \n7     557    372    267  \n8    4684   4250    768  \n9    2548   1909    155  \n10    304    275    104  \n11   6871   6702   1252  \n12   1062   1073    132  \n13   6218   4801   2207  \n14    171     75    127  \n15    567    654    127  \n16    736    635    311  \n17    256     28    260  \n18   1247   1159    157  \n19   2900   2649    271  \n20   3349   2606    310  \n21   2167   2222    209  \n22   3181   2451    859  \n23    191    129     92  \n24    686    527    260  \n25    687    812    112  \n26   1144    485    659  \n27   2154   2254    171  \n28   2068   2004    267  \n29   1963   1981    248  \n30    491    486     96  \n31   1616   1597    198  \n32    938    588    401  \n33    526    291    365  \n34    866    799    193  \n35    842    902    153  \n36    528    359    203  \n37    590    106    485  \n38   1165    899    316  \n39    223     36    223  \n40    524    332    192  \n41    337     99    256  \n42   1299    729    184  \n43    594    437    189  \n44    354    241    233  \n45    310    323     45  \n46    890    718    317  \n47   1720   1701    174  \n48   2246   2491    249  \n49    517    585    104  \n50    695    551    174  \n51    180     91     96  \n52    335    180    166  \n53   1499   1442    355  \n54    972    827    326  \n55  69064  59070  16538  \n\n"
     ]
    }
   ],
   "source": [
    "# Incase we're intersted in seeing the scraped tables at this point.\n",
    "# Commented as it takes too much screen space\n",
    "# Run if you want\n",
    "printnAllTables(tables)"
   ]
  },
  {
   "cell_type": "code",
   "execution_count": 14,
   "metadata": {},
   "outputs": [],
   "source": [
    "def set_Column(df, state):\n",
    "    column_list = [\n",
    "        (\"Sl. No.\",''),\n",
    "        (\"State/UT\" if(state) else \"City\",''), \n",
    "        ('Road Accidents','Cases'),\n",
    "        ('Road Accidents','Injured'),\n",
    "        ('Road Accidents','Died'),\n",
    "        ('Railway Accidents','Cases'),\n",
    "        ('Railway Accidents','Injured'),\n",
    "        ('Railway Accidents','Died'),\n",
    "        ('Railway Crossing Accidents','Cases'),\n",
    "        ('Railway Crossing Accidents','Injured'),\n",
    "        ('Railway Crossing Accidents','Died'),\n",
    "        ('Total Traffic Accidents','Cases'),\n",
    "        ('Total Traffic Accidents','Injured'),\n",
    "        ('Total Traffic Accidents','Died'),\n",
    "    ]\n",
    "    df.columns = pd.MultiIndex.from_tuples(column_list)"
   ]
  },
  {
   "cell_type": "code",
   "execution_count": 15,
   "metadata": {},
   "outputs": [],
   "source": [
    "for i in range(len(tables)):\n",
    "    state = not i\n",
    "    set_Column(tables[i].df, state)"
   ]
  },
  {
   "cell_type": "code",
   "execution_count": 16,
   "metadata": {},
   "outputs": [],
   "source": [
    "# Incase we're intersted in seeing the scraped tables at this point.\n",
    "# Commented as it takes too much screen space\n",
    "# Run if you want\n",
    "# printnAllTables(tables)\n",
    "\n",
    "# OR Print a simgle one according to your choice\n",
    "# tables[23].df"
   ]
  },
  {
   "cell_type": "code",
   "execution_count": 17,
   "metadata": {},
   "outputs": [],
   "source": [
    "# Reset Index before saving file, for better formatting in RAW CSV\n",
    "tables[0].df.to_csv(\"Cases Reported and Persons Injured and Died due to Traffic Accidents during 2019 (StateUT-wise).csv\",index=False)\n",
    "tables[1].df.to_csv(\"Cases Reported and Persons Injured and Died due to Traffic Accidents during 2019 (City-wise).csv\",index=False)"
   ]
  }
 ],
 "metadata": {
  "kernelspec": {
   "display_name": "Python 3",
   "language": "python",
   "name": "python3"
  },
  "language_info": {
   "codemirror_mode": {
    "name": "ipython",
    "version": 3
   },
   "file_extension": ".py",
   "mimetype": "text/x-python",
   "name": "python",
   "nbconvert_exporter": "python",
   "pygments_lexer": "ipython3",
   "version": "3.8.2-final"
  }
 },
 "nbformat": 4,
 "nbformat_minor": 4
}
{
 "cells": [
  {
   "cell_type": "code",
   "execution_count": 1,
   "metadata": {},
   "outputs": [],
   "source": [
    "import wget\n",
    "import ssl\n",
    "import os\n",
    "ssl._create_default_https_context = ssl._create_unverified_context"
   ]
  },
  {
   "cell_type": "code",
   "execution_count": 2,
   "metadata": {},
   "outputs": [],
   "source": [
    "# Enter NCRB Individual PDF url\n",
    "pdf_url = 'https://ncrb.gov.in/sites/default/files/adsi_reports_previous_year/Table-1A.3_2019.pdf'\n",
    "fileName = pdf_url[67:]\n",
    "try:\n",
    "    #Delete the file to redownload it\n",
    "    os.remove(fileName)\n",
    "except FileNotFoundError as e:\n",
    "    #Ignore in case FileNotFound Error occurs\n",
    "    pass\n",
    "# Download report\n",
    "fileName = wget.download(pdf_url,fileName)"
   ]
  },
  {
   "cell_type": "code",
   "execution_count": 3,
   "metadata": {},
   "outputs": [],
   "source": [
    "import numpy as np\n",
    "import pandas as pd\n",
    "import camelot"
   ]
  },
  {
   "cell_type": "code",
   "execution_count": 4,
   "metadata": {},
   "outputs": [
    {
     "output_type": "execute_result",
     "data": {
      "text/plain": [
       "'Table-1A.3_2019.pdf'"
      ]
     },
     "metadata": {},
     "execution_count": 4
    }
   ],
   "source": [
    "fileName"
   ]
  },
  {
   "cell_type": "code",
   "execution_count": 5,
   "metadata": {},
   "outputs": [],
   "source": [
    "tables = camelot.read_pdf(fileName,\n",
    "                          flavor='stream',\n",
    "                          table_areas=[\n",
    "                              \"45.97415185783522,667.8189815442427,580.8562197092084,64.71056134575319\"\n",
    "                              ],\n",
    "                          columns=[\n",
    "                              \"67.23101777059773,209.60258481421647,263.9806138933764,321.3247172859451,369.77059773828756,425.1373182552504,475.5605815831987,524.0064620355412\"\n",
    "                              ],\n",
    "                          split_text=True,\n",
    "                          row_tol=13,\n",
    "                          strip_text='\\n',\n",
    "                          pages=\"all\"\n",
    "                         )"
   ]
  },
  {
   "cell_type": "code",
   "execution_count": 6,
   "metadata": {},
   "outputs": [
    {
     "output_type": "execute_result",
     "data": {
      "text/plain": [
       "<TableList n=1>"
      ]
     },
     "metadata": {},
     "execution_count": 6
    }
   ],
   "source": [
    "tables"
   ]
  },
  {
   "cell_type": "code",
   "execution_count": 7,
   "metadata": {},
   "outputs": [],
   "source": [
    "def printnAllTables(tables):\n",
    "    for i in range(len(tables)):\n",
    "        print(\"Page No: \",(i+1))\n",
    "        print(tables[i].df)\n",
    "        print()"
   ]
  },
  {
   "cell_type": "code",
   "execution_count": 8,
   "metadata": {},
   "outputs": [
    {
     "output_type": "stream",
     "name": "stdout",
     "text": [
      "Page No:  1\n      0                                    1      2       3      4       5  \\\n0   1.1                  Truck/Lorry (Total)   6643   13352  15994   29228   \n1                1.1.1 Normal Goods Carriers   4520    9651  10553   21055   \n2           1.1.2 Trailer/Container Carriers    888    1437   2107    3230   \n3                              1.1.3 Tankers    473     747   1110    1741   \n4                               1.1.4 Others    762    1517   2224    3202   \n5   1.2                          Bus (Total)   2326    7893   6866   27155   \n6                           1.2.1 Government    483    1952   1924    7100   \n7                              1.2.2 Private   1769    5716   4654   19195   \n8                           1.2.3 School Bus     74     225    288     860   \n9   1.3       SUV/Station Wagon/etc. (Total)   1835    4117   4353   10326   \n10                          1.3.1 Government     35     105     96     187   \n11                             1.3.2 Private   1541    3319   3568    8606   \n12                                1.3.3 Taxi    259     693    689    1533   \n13  1.4                          Car (Total)   6669   23295  14527   53816   \n14                          1.4.1 Government    119     375    217    1021   \n15                             1.4.2 Private   5997   21318  12970   48702   \n16                                1.4.3 Taxi    553    1602   1340    4093   \n17  1.5                         Jeep (Total)   1535    3135   2339    6272   \n18                          1.5.1 Government     52      72     80     164   \n19                             1.5.2 Private   1483    3063   2259    6108   \n20  1.6                              Tractor   1394    2382   3057    6171   \n21  1.7  Three Wheeler/Auto Rickshaw (Total)   2249    7719   5033   23350   \n22                  1.7.1 Passenger Carriers   1910    6855   4214   21240   \n23                       1.7.2 Good Carriers    339     864    819    2110   \n24  1.8                  Two Wheeler (Total)  27654   62885  31093  107552   \n25                         1.8.1 Motor Cycle  24732   54871  26448   88437   \n26                             1.8.2 Scooter   2252    6375   3567   16280   \n27                              1.8.3 Others    670    1639   1078    2835   \n28  1.9                 Other Motor Vehicles    826    2280   3272    6041   \n29    1          Total (Motorized Transport)  51131  127058  86534  269911   \n30  2.1                              Bicycle    868    1544   1132    3284   \n31  2.2    Hand Drawn Vehicle/Cycle Rickshaw     92     135    120     598   \n32  2.3                 Animal Drawn Vehicle     71      54    123     197   \n33  2.4                           Pedestrian   1762    4524  10199   26576   \n34  2.5                               Others    897    1868   1803    3513   \n35    2      Total (Non-Motorized Transport)   3690    8125  13377   34168   \n36    3                          Grand Total  54821  135183  99911  304079   \n\n         6       7      8  \n0    42580   22637   14.6  \n1    30706   15073    9.7  \n2     4667    2995    1.9  \n3     2488    1583    1.0  \n4     4719    2986    1.9  \n5    35048    9192    5.9  \n6     9052    2407    1.6  \n7    24911    6423    4.2  \n8     1085     362    0.2  \n9    14443    6188    4.0  \n10     292     131    0.1  \n11   11925    5109    3.3  \n12    2226     948    0.6  \n13   77111   21196   13.7  \n14    1396     336    0.2  \n15   70020   18967   12.3  \n16    5695    1893    1.2  \n17    9407    3874    2.5  \n18     236     132    0.1  \n19    9171    3742    2.4  \n20    8553    4451    2.9  \n21   31069    7282    4.7  \n22   28095    6124    4.0  \n23    2974    1158    0.7  \n24  170437   58747   38.0  \n25  143308   51180   33.1  \n26   22655    5819    3.8  \n27    4474    1748    1.1  \n28    8321    4098    2.6  \n29  396969  137665   89.0  \n30    4828    2000    1.3  \n31     733     212    0.1  \n32     251     194    0.1  \n33   31100   11961    7.7  \n34    5381    2700    1.7  \n35   42293   17067   11.0  \n36  439262  154732  100.0  \n\n"
     ]
    }
   ],
   "source": [
    "# Incase we're intersted in seeing the original scraped tables.\n",
    "# Commented as it takes too much screen space\n",
    "# Run if you want\n",
    "printnAllTables(tables)"
   ]
  },
  {
   "cell_type": "code",
   "execution_count": 9,
   "metadata": {},
   "outputs": [],
   "source": [
    "# Removes Garbage Rows that may have been detected Before the 'STATES' row\n",
    "# AND\n",
    "# Removes Garbage Rows that may have been detected after the 'TOTAL (ALL INDIA)' row\n",
    "def clean(table):\n",
    "    while(table.df.iloc[0,1] != 'STATES'):\n",
    "        table.df = table.df.iloc[1:]\n",
    "    while(table.df.iloc[-1,1] != 'TOTAL (ALL INDIA)'):\n",
    "        table.df = table.df.iloc[:-1]\n",
    "    # The Return line is unnecessary due to all changes being reflected in the original references\n",
    "    return table"
   ]
  },
  {
   "cell_type": "code",
   "execution_count": 10,
   "metadata": {},
   "outputs": [],
   "source": [
    "# Splits the second column into 1st column index and 2nd column test when faulty/required\n",
    "def split_by_first_space(df, strIndex, stpIndex):\n",
    "    df = df.iloc[strIndex:stpIndex+1]\n",
    "    for index, each in df.iterrows():\n",
    "        space = each[1].find(' ')\n",
    "        each[0] = each[1][:space]\n",
    "        each[1] = each[1][space:]"
   ]
  },
  {
   "cell_type": "code",
   "execution_count": 11,
   "metadata": {},
   "outputs": [],
   "source": [
    "split_by_first_space(tables[0].df,1,4)\n",
    "split_by_first_space(tables[0].df,6,8)\n",
    "split_by_first_space(tables[0].df,10,12)\n",
    "split_by_first_space(tables[0].df,14,16)\n",
    "split_by_first_space(tables[0].df,18,19)\n",
    "split_by_first_space(tables[0].df,22,23)\n",
    "split_by_first_space(tables[0].df,25,27)"
   ]
  },
  {
   "cell_type": "code",
   "execution_count": 12,
   "metadata": {},
   "outputs": [],
   "source": [
    "def mergeRows(df, strIndex, stpIndex):\n",
    "    DF = df.loc[strIndex:stpIndex]\n",
    "    df = DF.T\n",
    "    l = []\n",
    "    for index, each in df.iterrows():\n",
    "        output = ''\n",
    "        for ind, cell in each.iteritems():\n",
    "            output += (str(cell) + ' ')\n",
    "#         if(output == ''):\n",
    "#             continue\n",
    "        l.append(output.strip())\n",
    "    l = pd.Series(l,name=str(strIndex))\n",
    "    DF.loc[strIndex] = l"
   ]
  },
  {
   "cell_type": "code",
   "execution_count": 13,
   "metadata": {},
   "outputs": [
    {
     "output_type": "stream",
     "name": "stdout",
     "text": [
      "Page No:  1\n        0                                    1      2       3      4       5  \\\n0     1.1                  Truck/Lorry (Total)   6643   13352  15994   29228   \n1   1.1.1                Normal Goods Carriers   4520    9651  10553   21055   \n2   1.1.2           Trailer/Container Carriers    888    1437   2107    3230   \n3   1.1.3                              Tankers    473     747   1110    1741   \n4   1.1.4                               Others    762    1517   2224    3202   \n5     1.2                          Bus (Total)   2326    7893   6866   27155   \n6   1.2.1                           Government    483    1952   1924    7100   \n7   1.2.2                              Private   1769    5716   4654   19195   \n8   1.2.3                           School Bus     74     225    288     860   \n9     1.3       SUV/Station Wagon/etc. (Total)   1835    4117   4353   10326   \n10  1.3.1                           Government     35     105     96     187   \n11  1.3.2                              Private   1541    3319   3568    8606   \n12  1.3.3                                 Taxi    259     693    689    1533   \n13    1.4                          Car (Total)   6669   23295  14527   53816   \n14  1.4.1                           Government    119     375    217    1021   \n15  1.4.2                              Private   5997   21318  12970   48702   \n16  1.4.3                                 Taxi    553    1602   1340    4093   \n17    1.5                         Jeep (Total)   1535    3135   2339    6272   \n18  1.5.1                           Government     52      72     80     164   \n19  1.5.2                              Private   1483    3063   2259    6108   \n20    1.6                              Tractor   1394    2382   3057    6171   \n21    1.7  Three Wheeler/Auto Rickshaw (Total)   2249    7719   5033   23350   \n22  1.7.1                   Passenger Carriers   1910    6855   4214   21240   \n23  1.7.2                        Good Carriers    339     864    819    2110   \n24    1.8                  Two Wheeler (Total)  27654   62885  31093  107552   \n25  1.8.1                          Motor Cycle  24732   54871  26448   88437   \n26  1.8.2                              Scooter   2252    6375   3567   16280   \n27  1.8.3                               Others    670    1639   1078    2835   \n28    1.9                 Other Motor Vehicles    826    2280   3272    6041   \n29      1          Total (Motorized Transport)  51131  127058  86534  269911   \n30    2.1                              Bicycle    868    1544   1132    3284   \n31    2.2    Hand Drawn Vehicle/Cycle Rickshaw     92     135    120     598   \n32    2.3                 Animal Drawn Vehicle     71      54    123     197   \n33    2.4                           Pedestrian   1762    4524  10199   26576   \n34    2.5                               Others    897    1868   1803    3513   \n35      2      Total (Non-Motorized Transport)   3690    8125  13377   34168   \n36      3                          Grand Total  54821  135183  99911  304079   \n\n         6       7      8  \n0    42580   22637   14.6  \n1    30706   15073    9.7  \n2     4667    2995    1.9  \n3     2488    1583    1.0  \n4     4719    2986    1.9  \n5    35048    9192    5.9  \n6     9052    2407    1.6  \n7    24911    6423    4.2  \n8     1085     362    0.2  \n9    14443    6188    4.0  \n10     292     131    0.1  \n11   11925    5109    3.3  \n12    2226     948    0.6  \n13   77111   21196   13.7  \n14    1396     336    0.2  \n15   70020   18967   12.3  \n16    5695    1893    1.2  \n17    9407    3874    2.5  \n18     236     132    0.1  \n19    9171    3742    2.4  \n20    8553    4451    2.9  \n21   31069    7282    4.7  \n22   28095    6124    4.0  \n23    2974    1158    0.7  \n24  170437   58747   38.0  \n25  143308   51180   33.1  \n26   22655    5819    3.8  \n27    4474    1748    1.1  \n28    8321    4098    2.6  \n29  396969  137665   89.0  \n30    4828    2000    1.3  \n31     733     212    0.1  \n32     251     194    0.1  \n33   31100   11961    7.7  \n34    5381    2700    1.7  \n35   42293   17067   11.0  \n36  439262  154732  100.0  \n\n"
     ]
    }
   ],
   "source": [
    "# Incase we're intersted in seeing the scraped tables at this point.\n",
    "# Commented as it takes too much screen space\n",
    "# Run if you want\n",
    "printnAllTables(tables)"
   ]
  },
  {
   "cell_type": "code",
   "execution_count": 14,
   "metadata": {},
   "outputs": [
    {
     "output_type": "execute_result",
     "data": {
      "text/plain": [
       "61"
      ]
     },
     "metadata": {},
     "execution_count": 14
    }
   ],
   "source": [
    "# List of Column headers as column are nested, i.e exhibit a multi level/index structure\n",
    "# The multi level structre will be generated and applied in the next \n",
    "column_header = [\n",
    "    \"Air Crash\",\n",
    "    \"Ship Accidents\",\n",
    "    \"Collapse of Structure(Total)\",\n",
    "    \"Collapse of Structure (Dwelling House/Residential building)\",\n",
    "    \"Collapse of Structure (Official/Commercial Building)\",\n",
    "    \"Collapse of Structure (Dam)\",\n",
    "    \"Collapse of Structure (Bridge)\",\n",
    "    \"Collapse of Structure (Others)\",\n",
    "    \"Drowning (Total)\",\n",
    "    \"Drowning (Boat Capsize)\",\n",
    "    \"Drowning (Accidental Falls into Water body)\",\n",
    "    \"Drowning (Other Cases)\",\n",
    "    \"Electrocution\",\n",
    "    \"Accidental Explosion (Total)\",\n",
    "    \"Accidental Explosion (Domestic Gas Cylinder)\",\n",
    "    \"Accidental Explosion (Industrial Boiler/Gas Cylinder Explosion)\",\n",
    "    \"Accidental Explosion (Ammunition Explosion in Armed Forces/Police/CPMF)\",\n",
    "    \"Accidental Explosion (Other)\",\n",
    "    \"Falls (Total)\",\n",
    "    \"Falls (from Height)\",\n",
    "    \"Falls (from Vehicles (Automobile like Bus, Trucks, etc.))\",\n",
    "    \"Falls (into Manhole)\",\n",
    "    \"Falls (into Pit)\",\n",
    "    \"Falls (into Borewell)\",\n",
    "    \"Falls (Others)\",\n",
    "    \"Factory / Machine Accidents\",\n",
    "    \"Accidental Fire (Total)\",\n",
    "    \"Accidental Fire (Electrical Short Circuit\",\n",
    "    \"Accidental Fire (Riot/Agitation)\",\n",
    "    \"Accidental Fire (Fireworks)\",\n",
    "    \"Accidental Fire (Cooking Gas Cylinder/Stove Burst)\",\n",
    "    \"Accidental Fire (Other Causes)\",\n",
    "    \"Firearm\",\n",
    "    \"Mines or Quarry Disaster\",\n",
    "    \"Traffic Accidents (Total)\",\n",
    "    \"Road Accidents\",\n",
    "    \"Railway Crossing Accidents\",\n",
    "    \"Railway Accidents\",\n",
    "    \"Stampede\",\n",
    "    \"Sudden Deaths (Total)\",\n",
    "    \"Sudden Deaths (Heart Attack)\",\n",
    "    \"Sudden Deaths (Others)\",\n",
    "    \"Deaths of Women during Pregnancy (Total)\",\n",
    "    \"Deaths of Women during Pregnancy (Due to Abortions)\",\n",
    "    \"Deaths of Women during Pregnancy (Other than Abortions)\",\n",
    "    \"Deaths due to Consumption of Illicit/Spurious Liquor\",\n",
    "    \"Killed / Injured by Animals\",\n",
    "    \"Poisoning (Total)\",\n",
    "    \"Poisoning (Food Poisoning)\",\n",
    "    \"Poisoning (Accidental Intake of Insecticides/Pesticides)\",\n",
    "    \"Poisoning [Poisonous Gases (Total)]\",\n",
    "    \"Poisoning [Poisonous Gases (Carbon Monoxide (CO) Gas)]\",\n",
    "    \"Poisoning [Poisonous Gases (Other poisonous Gases)]\",\n",
    "    \"Poisoning (Snake Bite)\",\n",
    "    \"Poisoning (Animal/Reptiles/Insects Bite)\",\n",
    "    \"Poisoning (Other)\",\n",
    "    \"Suffocation\",\n",
    "    \"Drug Overdose\",\n",
    "    \"Other than above Causes\",\n",
    "    \"Causes Not Known\",\n",
    "    \"Total\"\n",
    "]\n",
    "len(column_header)"
   ]
  },
  {
   "cell_type": "code",
   "execution_count": 15,
   "metadata": {},
   "outputs": [],
   "source": [
    "def set_Column(df):\n",
    "    column_list = [\n",
    "        (\"Sl. No.\",''),\n",
    "        (\"Mode Of Transport\",''), \n",
    "        ('No. of Offending Driver/Pedestrian','Died'),\n",
    "        ('No. of Offending Driver/Pedestrian','Injured'),\n",
    "        ('No. of Victims','Died'),\n",
    "        ('No. of Victims','Injured'),\n",
    "        ('Total Persons Injured',''),\n",
    "        ('Total Persons Died',''),\n",
    "        ('Percentage Share of Deaths','')\n",
    "    ]\n",
    "    df.columns = pd.MultiIndex.from_tuples(column_list)"
   ]
  },
  {
   "cell_type": "code",
   "execution_count": 16,
   "metadata": {},
   "outputs": [],
   "source": [
    "for i in range(len(tables)):\n",
    "    set_Column(tables[i].df)"
   ]
  },
  {
   "cell_type": "code",
   "execution_count": 17,
   "metadata": {},
   "outputs": [
    {
     "output_type": "execute_result",
     "data": {
      "text/plain": [
       "   Sl. No.                    Mode Of Transport  \\\n",
       "                                                  \n",
       "0      1.1                  Truck/Lorry (Total)   \n",
       "1    1.1.1                Normal Goods Carriers   \n",
       "2    1.1.2           Trailer/Container Carriers   \n",
       "3    1.1.3                              Tankers   \n",
       "4    1.1.4                               Others   \n",
       "5      1.2                          Bus (Total)   \n",
       "6    1.2.1                           Government   \n",
       "7    1.2.2                              Private   \n",
       "8    1.2.3                           School Bus   \n",
       "9      1.3       SUV/Station Wagon/etc. (Total)   \n",
       "10   1.3.1                           Government   \n",
       "11   1.3.2                              Private   \n",
       "12   1.3.3                                 Taxi   \n",
       "13     1.4                          Car (Total)   \n",
       "14   1.4.1                           Government   \n",
       "15   1.4.2                              Private   \n",
       "16   1.4.3                                 Taxi   \n",
       "17     1.5                         Jeep (Total)   \n",
       "18   1.5.1                           Government   \n",
       "19   1.5.2                              Private   \n",
       "20     1.6                              Tractor   \n",
       "21     1.7  Three Wheeler/Auto Rickshaw (Total)   \n",
       "22   1.7.1                   Passenger Carriers   \n",
       "23   1.7.2                        Good Carriers   \n",
       "24     1.8                  Two Wheeler (Total)   \n",
       "25   1.8.1                          Motor Cycle   \n",
       "26   1.8.2                              Scooter   \n",
       "27   1.8.3                               Others   \n",
       "28     1.9                 Other Motor Vehicles   \n",
       "29       1          Total (Motorized Transport)   \n",
       "30     2.1                              Bicycle   \n",
       "31     2.2    Hand Drawn Vehicle/Cycle Rickshaw   \n",
       "32     2.3                 Animal Drawn Vehicle   \n",
       "33     2.4                           Pedestrian   \n",
       "34     2.5                               Others   \n",
       "35       2      Total (Non-Motorized Transport)   \n",
       "36       3                          Grand Total   \n",
       "\n",
       "   No. of Offending Driver/Pedestrian         No. of Victims          \\\n",
       "                                 Died Injured           Died Injured   \n",
       "0                                6643   13352          15994   29228   \n",
       "1                                4520    9651          10553   21055   \n",
       "2                                 888    1437           2107    3230   \n",
       "3                                 473     747           1110    1741   \n",
       "4                                 762    1517           2224    3202   \n",
       "5                                2326    7893           6866   27155   \n",
       "6                                 483    1952           1924    7100   \n",
       "7                                1769    5716           4654   19195   \n",
       "8                                  74     225            288     860   \n",
       "9                                1835    4117           4353   10326   \n",
       "10                                 35     105             96     187   \n",
       "11                               1541    3319           3568    8606   \n",
       "12                                259     693            689    1533   \n",
       "13                               6669   23295          14527   53816   \n",
       "14                                119     375            217    1021   \n",
       "15                               5997   21318          12970   48702   \n",
       "16                                553    1602           1340    4093   \n",
       "17                               1535    3135           2339    6272   \n",
       "18                                 52      72             80     164   \n",
       "19                               1483    3063           2259    6108   \n",
       "20                               1394    2382           3057    6171   \n",
       "21                               2249    7719           5033   23350   \n",
       "22                               1910    6855           4214   21240   \n",
       "23                                339     864            819    2110   \n",
       "24                              27654   62885          31093  107552   \n",
       "25                              24732   54871          26448   88437   \n",
       "26                               2252    6375           3567   16280   \n",
       "27                                670    1639           1078    2835   \n",
       "28                                826    2280           3272    6041   \n",
       "29                              51131  127058          86534  269911   \n",
       "30                                868    1544           1132    3284   \n",
       "31                                 92     135            120     598   \n",
       "32                                 71      54            123     197   \n",
       "33                               1762    4524          10199   26576   \n",
       "34                                897    1868           1803    3513   \n",
       "35                               3690    8125          13377   34168   \n",
       "36                              54821  135183          99911  304079   \n",
       "\n",
       "   Total Persons Injured Total Persons Died Percentage Share of Deaths  \n",
       "                                                                        \n",
       "0                  42580              22637                       14.6  \n",
       "1                  30706              15073                        9.7  \n",
       "2                   4667               2995                        1.9  \n",
       "3                   2488               1583                        1.0  \n",
       "4                   4719               2986                        1.9  \n",
       "5                  35048               9192                        5.9  \n",
       "6                   9052               2407                        1.6  \n",
       "7                  24911               6423                        4.2  \n",
       "8                   1085                362                        0.2  \n",
       "9                  14443               6188                        4.0  \n",
       "10                   292                131                        0.1  \n",
       "11                 11925               5109                        3.3  \n",
       "12                  2226                948                        0.6  \n",
       "13                 77111              21196                       13.7  \n",
       "14                  1396                336                        0.2  \n",
       "15                 70020              18967                       12.3  \n",
       "16                  5695               1893                        1.2  \n",
       "17                  9407               3874                        2.5  \n",
       "18                   236                132                        0.1  \n",
       "19                  9171               3742                        2.4  \n",
       "20                  8553               4451                        2.9  \n",
       "21                 31069               7282                        4.7  \n",
       "22                 28095               6124                        4.0  \n",
       "23                  2974               1158                        0.7  \n",
       "24                170437              58747                       38.0  \n",
       "25                143308              51180                       33.1  \n",
       "26                 22655               5819                        3.8  \n",
       "27                  4474               1748                        1.1  \n",
       "28                  8321               4098                        2.6  \n",
       "29                396969             137665                       89.0  \n",
       "30                  4828               2000                        1.3  \n",
       "31                   733                212                        0.1  \n",
       "32                   251                194                        0.1  \n",
       "33                 31100              11961                        7.7  \n",
       "34                  5381               2700                        1.7  \n",
       "35                 42293              17067                       11.0  \n",
       "36                439262             154732                      100.0  "
      ],
      "text/html": "<div>\n<style scoped>\n    .dataframe tbody tr th:only-of-type {\n        vertical-align: middle;\n    }\n\n    .dataframe tbody tr th {\n        vertical-align: top;\n    }\n\n    .dataframe thead tr th {\n        text-align: left;\n    }\n</style>\n<table border=\"1\" class=\"dataframe\">\n  <thead>\n    <tr>\n      <th></th>\n      <th>Sl. No.</th>\n      <th>Mode Of Transport</th>\n      <th colspan=\"2\" halign=\"left\">No. of Offending Driver/Pedestrian</th>\n      <th colspan=\"2\" halign=\"left\">No. of Victims</th>\n      <th>Total Persons Injured</th>\n      <th>Total Persons Died</th>\n      <th>Percentage Share of Deaths</th>\n    </tr>\n    <tr>\n      <th></th>\n      <th></th>\n      <th></th>\n      <th>Died</th>\n      <th>Injured</th>\n      <th>Died</th>\n      <th>Injured</th>\n      <th></th>\n      <th></th>\n      <th></th>\n    </tr>\n  </thead>\n  <tbody>\n    <tr>\n      <th>0</th>\n      <td>1.1</td>\n      <td>Truck/Lorry (Total)</td>\n      <td>6643</td>\n      <td>13352</td>\n      <td>15994</td>\n      <td>29228</td>\n      <td>42580</td>\n      <td>22637</td>\n      <td>14.6</td>\n    </tr>\n    <tr>\n      <th>1</th>\n      <td>1.1.1</td>\n      <td>Normal Goods Carriers</td>\n      <td>4520</td>\n      <td>9651</td>\n      <td>10553</td>\n      <td>21055</td>\n      <td>30706</td>\n      <td>15073</td>\n      <td>9.7</td>\n    </tr>\n    <tr>\n      <th>2</th>\n      <td>1.1.2</td>\n      <td>Trailer/Container Carriers</td>\n      <td>888</td>\n      <td>1437</td>\n      <td>2107</td>\n      <td>3230</td>\n      <td>4667</td>\n      <td>2995</td>\n      <td>1.9</td>\n    </tr>\n    <tr>\n      <th>3</th>\n      <td>1.1.3</td>\n      <td>Tankers</td>\n      <td>473</td>\n      <td>747</td>\n      <td>1110</td>\n      <td>1741</td>\n      <td>2488</td>\n      <td>1583</td>\n      <td>1.0</td>\n    </tr>\n    <tr>\n      <th>4</th>\n      <td>1.1.4</td>\n      <td>Others</td>\n      <td>762</td>\n      <td>1517</td>\n      <td>2224</td>\n      <td>3202</td>\n      <td>4719</td>\n      <td>2986</td>\n      <td>1.9</td>\n    </tr>\n    <tr>\n      <th>5</th>\n      <td>1.2</td>\n      <td>Bus (Total)</td>\n      <td>2326</td>\n      <td>7893</td>\n      <td>6866</td>\n      <td>27155</td>\n      <td>35048</td>\n      <td>9192</td>\n      <td>5.9</td>\n    </tr>\n    <tr>\n      <th>6</th>\n      <td>1.2.1</td>\n      <td>Government</td>\n      <td>483</td>\n      <td>1952</td>\n      <td>1924</td>\n      <td>7100</td>\n      <td>9052</td>\n      <td>2407</td>\n      <td>1.6</td>\n    </tr>\n    <tr>\n      <th>7</th>\n      <td>1.2.2</td>\n      <td>Private</td>\n      <td>1769</td>\n      <td>5716</td>\n      <td>4654</td>\n      <td>19195</td>\n      <td>24911</td>\n      <td>6423</td>\n      <td>4.2</td>\n    </tr>\n    <tr>\n      <th>8</th>\n      <td>1.2.3</td>\n      <td>School Bus</td>\n      <td>74</td>\n      <td>225</td>\n      <td>288</td>\n      <td>860</td>\n      <td>1085</td>\n      <td>362</td>\n      <td>0.2</td>\n    </tr>\n    <tr>\n      <th>9</th>\n      <td>1.3</td>\n      <td>SUV/Station Wagon/etc. (Total)</td>\n      <td>1835</td>\n      <td>4117</td>\n      <td>4353</td>\n      <td>10326</td>\n      <td>14443</td>\n      <td>6188</td>\n      <td>4.0</td>\n    </tr>\n    <tr>\n      <th>10</th>\n      <td>1.3.1</td>\n      <td>Government</td>\n      <td>35</td>\n      <td>105</td>\n      <td>96</td>\n      <td>187</td>\n      <td>292</td>\n      <td>131</td>\n      <td>0.1</td>\n    </tr>\n    <tr>\n      <th>11</th>\n      <td>1.3.2</td>\n      <td>Private</td>\n      <td>1541</td>\n      <td>3319</td>\n      <td>3568</td>\n      <td>8606</td>\n      <td>11925</td>\n      <td>5109</td>\n      <td>3.3</td>\n    </tr>\n    <tr>\n      <th>12</th>\n      <td>1.3.3</td>\n      <td>Taxi</td>\n      <td>259</td>\n      <td>693</td>\n      <td>689</td>\n      <td>1533</td>\n      <td>2226</td>\n      <td>948</td>\n      <td>0.6</td>\n    </tr>\n    <tr>\n      <th>13</th>\n      <td>1.4</td>\n      <td>Car (Total)</td>\n      <td>6669</td>\n      <td>23295</td>\n      <td>14527</td>\n      <td>53816</td>\n      <td>77111</td>\n      <td>21196</td>\n      <td>13.7</td>\n    </tr>\n    <tr>\n      <th>14</th>\n      <td>1.4.1</td>\n      <td>Government</td>\n      <td>119</td>\n      <td>375</td>\n      <td>217</td>\n      <td>1021</td>\n      <td>1396</td>\n      <td>336</td>\n      <td>0.2</td>\n    </tr>\n    <tr>\n      <th>15</th>\n      <td>1.4.2</td>\n      <td>Private</td>\n      <td>5997</td>\n      <td>21318</td>\n      <td>12970</td>\n      <td>48702</td>\n      <td>70020</td>\n      <td>18967</td>\n      <td>12.3</td>\n    </tr>\n    <tr>\n      <th>16</th>\n      <td>1.4.3</td>\n      <td>Taxi</td>\n      <td>553</td>\n      <td>1602</td>\n      <td>1340</td>\n      <td>4093</td>\n      <td>5695</td>\n      <td>1893</td>\n      <td>1.2</td>\n    </tr>\n    <tr>\n      <th>17</th>\n      <td>1.5</td>\n      <td>Jeep (Total)</td>\n      <td>1535</td>\n      <td>3135</td>\n      <td>2339</td>\n      <td>6272</td>\n      <td>9407</td>\n      <td>3874</td>\n      <td>2.5</td>\n    </tr>\n    <tr>\n      <th>18</th>\n      <td>1.5.1</td>\n      <td>Government</td>\n      <td>52</td>\n      <td>72</td>\n      <td>80</td>\n      <td>164</td>\n      <td>236</td>\n      <td>132</td>\n      <td>0.1</td>\n    </tr>\n    <tr>\n      <th>19</th>\n      <td>1.5.2</td>\n      <td>Private</td>\n      <td>1483</td>\n      <td>3063</td>\n      <td>2259</td>\n      <td>6108</td>\n      <td>9171</td>\n      <td>3742</td>\n      <td>2.4</td>\n    </tr>\n    <tr>\n      <th>20</th>\n      <td>1.6</td>\n      <td>Tractor</td>\n      <td>1394</td>\n      <td>2382</td>\n      <td>3057</td>\n      <td>6171</td>\n      <td>8553</td>\n      <td>4451</td>\n      <td>2.9</td>\n    </tr>\n    <tr>\n      <th>21</th>\n      <td>1.7</td>\n      <td>Three Wheeler/Auto Rickshaw (Total)</td>\n      <td>2249</td>\n      <td>7719</td>\n      <td>5033</td>\n      <td>23350</td>\n      <td>31069</td>\n      <td>7282</td>\n      <td>4.7</td>\n    </tr>\n    <tr>\n      <th>22</th>\n      <td>1.7.1</td>\n      <td>Passenger Carriers</td>\n      <td>1910</td>\n      <td>6855</td>\n      <td>4214</td>\n      <td>21240</td>\n      <td>28095</td>\n      <td>6124</td>\n      <td>4.0</td>\n    </tr>\n    <tr>\n      <th>23</th>\n      <td>1.7.2</td>\n      <td>Good Carriers</td>\n      <td>339</td>\n      <td>864</td>\n      <td>819</td>\n      <td>2110</td>\n      <td>2974</td>\n      <td>1158</td>\n      <td>0.7</td>\n    </tr>\n    <tr>\n      <th>24</th>\n      <td>1.8</td>\n      <td>Two Wheeler (Total)</td>\n      <td>27654</td>\n      <td>62885</td>\n      <td>31093</td>\n      <td>107552</td>\n      <td>170437</td>\n      <td>58747</td>\n      <td>38.0</td>\n    </tr>\n    <tr>\n      <th>25</th>\n      <td>1.8.1</td>\n      <td>Motor Cycle</td>\n      <td>24732</td>\n      <td>54871</td>\n      <td>26448</td>\n      <td>88437</td>\n      <td>143308</td>\n      <td>51180</td>\n      <td>33.1</td>\n    </tr>\n    <tr>\n      <th>26</th>\n      <td>1.8.2</td>\n      <td>Scooter</td>\n      <td>2252</td>\n      <td>6375</td>\n      <td>3567</td>\n      <td>16280</td>\n      <td>22655</td>\n      <td>5819</td>\n      <td>3.8</td>\n    </tr>\n    <tr>\n      <th>27</th>\n      <td>1.8.3</td>\n      <td>Others</td>\n      <td>670</td>\n      <td>1639</td>\n      <td>1078</td>\n      <td>2835</td>\n      <td>4474</td>\n      <td>1748</td>\n      <td>1.1</td>\n    </tr>\n    <tr>\n      <th>28</th>\n      <td>1.9</td>\n      <td>Other Motor Vehicles</td>\n      <td>826</td>\n      <td>2280</td>\n      <td>3272</td>\n      <td>6041</td>\n      <td>8321</td>\n      <td>4098</td>\n      <td>2.6</td>\n    </tr>\n    <tr>\n      <th>29</th>\n      <td>1</td>\n      <td>Total (Motorized Transport)</td>\n      <td>51131</td>\n      <td>127058</td>\n      <td>86534</td>\n      <td>269911</td>\n      <td>396969</td>\n      <td>137665</td>\n      <td>89.0</td>\n    </tr>\n    <tr>\n      <th>30</th>\n      <td>2.1</td>\n      <td>Bicycle</td>\n      <td>868</td>\n      <td>1544</td>\n      <td>1132</td>\n      <td>3284</td>\n      <td>4828</td>\n      <td>2000</td>\n      <td>1.3</td>\n    </tr>\n    <tr>\n      <th>31</th>\n      <td>2.2</td>\n      <td>Hand Drawn Vehicle/Cycle Rickshaw</td>\n      <td>92</td>\n      <td>135</td>\n      <td>120</td>\n      <td>598</td>\n      <td>733</td>\n      <td>212</td>\n      <td>0.1</td>\n    </tr>\n    <tr>\n      <th>32</th>\n      <td>2.3</td>\n      <td>Animal Drawn Vehicle</td>\n      <td>71</td>\n      <td>54</td>\n      <td>123</td>\n      <td>197</td>\n      <td>251</td>\n      <td>194</td>\n      <td>0.1</td>\n    </tr>\n    <tr>\n      <th>33</th>\n      <td>2.4</td>\n      <td>Pedestrian</td>\n      <td>1762</td>\n      <td>4524</td>\n      <td>10199</td>\n      <td>26576</td>\n      <td>31100</td>\n      <td>11961</td>\n      <td>7.7</td>\n    </tr>\n    <tr>\n      <th>34</th>\n      <td>2.5</td>\n      <td>Others</td>\n      <td>897</td>\n      <td>1868</td>\n      <td>1803</td>\n      <td>3513</td>\n      <td>5381</td>\n      <td>2700</td>\n      <td>1.7</td>\n    </tr>\n    <tr>\n      <th>35</th>\n      <td>2</td>\n      <td>Total (Non-Motorized Transport)</td>\n      <td>3690</td>\n      <td>8125</td>\n      <td>13377</td>\n      <td>34168</td>\n      <td>42293</td>\n      <td>17067</td>\n      <td>11.0</td>\n    </tr>\n    <tr>\n      <th>36</th>\n      <td>3</td>\n      <td>Grand Total</td>\n      <td>54821</td>\n      <td>135183</td>\n      <td>99911</td>\n      <td>304079</td>\n      <td>439262</td>\n      <td>154732</td>\n      <td>100.0</td>\n    </tr>\n  </tbody>\n</table>\n</div>"
     },
     "metadata": {},
     "execution_count": 17
    }
   ],
   "source": [
    "# Incase we're intersted in seeing the scraped tables at this point.\n",
    "# Commented as it takes too much screen space\n",
    "# Run if you want\n",
    "# printnAllTables(tables)\n",
    "\n",
    "# OR Print a simgle one according to your choice\n",
    "tables[0].df"
   ]
  },
  {
   "cell_type": "code",
   "execution_count": 19,
   "metadata": {},
   "outputs": [],
   "source": [
    "# Reset Index before saving file, for better formatting in RAW CSV\n",
    "tables[0].df.to_csv(\"Mode of Transport – wise Number of Persons Died in Road Accidents during 2019 (All India).csv\",index=False)"
   ]
  }
 ],
 "metadata": {
  "kernelspec": {
   "display_name": "Python 3",
   "language": "python",
   "name": "python3"
  },
  "language_info": {
   "codemirror_mode": {
    "name": "ipython",
    "version": 3
   },
   "file_extension": ".py",
   "mimetype": "text/x-python",
   "name": "python",
   "nbconvert_exporter": "python",
   "pygments_lexer": "ipython3",
   "version": "3.8.2-final"
  }
 },
 "nbformat": 4,
 "nbformat_minor": 4
}
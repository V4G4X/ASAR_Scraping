{
 "cells": [
  {
   "cell_type": "code",
   "execution_count": 1,
   "metadata": {},
   "outputs": [],
   "source": [
    "import wget\n",
    "import ssl\n",
    "import os\n",
    "ssl._create_default_https_context = ssl._create_unverified_context"
   ]
  },
  {
   "cell_type": "code",
   "execution_count": 2,
   "metadata": {},
   "outputs": [],
   "source": [
    "# Enter NCRB Individual PDF url\n",
    "pdf_url = 'https://ncrb.gov.in/sites/default/files/adsi_reports_previous_year/Table-1A.6_2019.pdf'\n",
    "fileName = pdf_url[67:]\n",
    "try:\n",
    "    #Delete the file to redownload it\n",
    "    os.remove(fileName)\n",
    "except FileNotFoundError as e:\n",
    "    #Ignore in case FileNotFound Error occurs\n",
    "    pass\n",
    "# Download report\n",
    "fileName = wget.download(pdf_url,fileName)"
   ]
  },
  {
   "cell_type": "code",
   "execution_count": 3,
   "metadata": {},
   "outputs": [],
   "source": [
    "import numpy as np\n",
    "import pandas as pd\n",
    "import camelot"
   ]
  },
  {
   "cell_type": "code",
   "execution_count": 4,
   "metadata": {},
   "outputs": [
    {
     "output_type": "execute_result",
     "data": {
      "text/plain": [
       "'Table-1A.6_2019.pdf'"
      ]
     },
     "metadata": {},
     "execution_count": 4
    }
   ],
   "source": [
    "fileName"
   ]
  },
  {
   "cell_type": "code",
   "execution_count": 5,
   "metadata": {},
   "outputs": [],
   "source": [
    "tables = camelot.read_pdf(fileName,\n",
    "                          flavor='stream',\n",
    "                          table_areas=[\n",
    "                              \"41.84432956381261,708.3528537908206,577.6441357027464,55\"\n",
    "                              ],\n",
    "                          columns=[\n",
    "                              \"74.06927302100162,184.69221324717287,227.97945072697902,273.1905654281099,311.6681098546042,352.06953150242333,395.3567689822294,436.7201292407109,482.8931825525041,520\"\n",
    "                              ],\n",
    "                          split_text=True,\n",
    "                          pages=\"1-6\"\n",
    "                         )"
   ]
  },
  {
   "cell_type": "code",
   "execution_count": 6,
   "metadata": {},
   "outputs": [],
   "source": [
    "cityInd = [1,3]"
   ]
  },
  {
   "cell_type": "code",
   "execution_count": 7,
   "metadata": {},
   "outputs": [
    {
     "output_type": "stream",
     "name": "stdout",
     "text": [
      "    0          1        2        3    4    5    6    7    8     9     10\n0                  (Night)  (Night)                                     \n1  (1)        (2)      (3)      (4)  (5)  (6)  (7)  (8)  (9)  (10)  (11)\n2                       15       28   43   33   40   40   47    46   292\n3   37                AGRA                                              \n4   38  AHMEDABAD       84       48  124  237  224  208  261   194  1380\n    0          1     2     3     4     5     6     7     8     9     10\n0  (1)        (2)  (12)  (13)  (14)  (15)  (16)  (17)  (18)  (19)  (20)\n1                     1     4     7    10     6     6     5     3    42\n2   37             AGRA                                                \n3   38  AHMEDABAD     0     0     0     0     0     0     0     0     0\n4   39  ALLAHABAD     0     0     0     0     0     0     0     0     0\n"
     ]
    }
   ],
   "source": [
    "for each in cityInd:\n",
    "    print(tables[each].df.head())"
   ]
  },
  {
   "cell_type": "code",
   "execution_count": 8,
   "metadata": {},
   "outputs": [],
   "source": [
    "#Fixes Wierd Error casue by Camelot\n",
    "# At Page 2\n",
    "tables[1].df.iloc[2,1] = 'AGRA'\n",
    "tables[1].df.iloc[2,0] = tables[1].df.iloc[3,0]\n",
    "tables[1].df.drop(index=3, inplace=True)\n",
    "tables[1].df.index = range(len(tables[1].df))\n",
    "# At Page 4\n",
    "tables[3].df.iloc[1,1] = 'AGRA'\n",
    "tables[3].df.iloc[1,0] = tables[1].df.iloc[2,0]\n",
    "tables[3].df.drop(index=2, inplace=True)\n",
    "tables[3].df.index = range(len(tables[3].df))"
   ]
  },
  {
   "cell_type": "code",
   "execution_count": 9,
   "metadata": {},
   "outputs": [
    {
     "output_type": "stream",
     "name": "stdout",
     "text": [
      "    0          1        2        3    4    5    6    7    8     9     10\n0                  (Night)  (Night)                                     \n1  (1)        (2)      (3)      (4)  (5)  (6)  (7)  (8)  (9)  (10)  (11)\n2   37       AGRA       15       28   43   33   40   40   47    46   292\n3   38  AHMEDABAD       84       48  124  237  224  208  261   194  1380\n4   39  ALLAHABAD       87       83  122   86   93   99  123    83   776\n    0          1     2     3     4     5     6     7     8     9     10\n0  (1)        (2)  (12)  (13)  (14)  (15)  (16)  (17)  (18)  (19)  (20)\n1   37       AGRA     1     4     7    10     6     6     5     3    42\n2   38  AHMEDABAD     0     0     0     0     0     0     0     0     0\n3   39  ALLAHABAD     0     0     0     0     0     0     0     0     0\n4   40   AMRITSAR     0     0     0     0     0     0     0     0     0\n"
     ]
    }
   ],
   "source": [
    "for each in cityInd:\n",
    "    print(tables[each].df.head())"
   ]
  },
  {
   "cell_type": "code",
   "execution_count": 10,
   "metadata": {},
   "outputs": [
    {
     "output_type": "execute_result",
     "data": {
      "text/plain": [
       "    0       1   2   3    4    5    6    7    8    9     10\n",
       "36  71  MEERUT  41  33   42   51   65   86   98   95   511\n",
       "37              57  65   71   77   84   77   71   86   588\n",
       "38      MUMBAI  72                                        \n",
       "39  73  NAGPUR  55  54  108  187  171  188  189  167  1119"
      ],
      "text/html": "<div>\n<style scoped>\n    .dataframe tbody tr th:only-of-type {\n        vertical-align: middle;\n    }\n\n    .dataframe tbody tr th {\n        vertical-align: top;\n    }\n\n    .dataframe thead th {\n        text-align: right;\n    }\n</style>\n<table border=\"1\" class=\"dataframe\">\n  <thead>\n    <tr style=\"text-align: right;\">\n      <th></th>\n      <th>0</th>\n      <th>1</th>\n      <th>2</th>\n      <th>3</th>\n      <th>4</th>\n      <th>5</th>\n      <th>6</th>\n      <th>7</th>\n      <th>8</th>\n      <th>9</th>\n      <th>10</th>\n    </tr>\n  </thead>\n  <tbody>\n    <tr>\n      <th>36</th>\n      <td>71</td>\n      <td>MEERUT</td>\n      <td>41</td>\n      <td>33</td>\n      <td>42</td>\n      <td>51</td>\n      <td>65</td>\n      <td>86</td>\n      <td>98</td>\n      <td>95</td>\n      <td>511</td>\n    </tr>\n    <tr>\n      <th>37</th>\n      <td></td>\n      <td></td>\n      <td>57</td>\n      <td>65</td>\n      <td>71</td>\n      <td>77</td>\n      <td>84</td>\n      <td>77</td>\n      <td>71</td>\n      <td>86</td>\n      <td>588</td>\n    </tr>\n    <tr>\n      <th>38</th>\n      <td></td>\n      <td>MUMBAI</td>\n      <td>72</td>\n      <td></td>\n      <td></td>\n      <td></td>\n      <td></td>\n      <td></td>\n      <td></td>\n      <td></td>\n      <td></td>\n    </tr>\n    <tr>\n      <th>39</th>\n      <td>73</td>\n      <td>NAGPUR</td>\n      <td>55</td>\n      <td>54</td>\n      <td>108</td>\n      <td>187</td>\n      <td>171</td>\n      <td>188</td>\n      <td>189</td>\n      <td>167</td>\n      <td>1119</td>\n    </tr>\n  </tbody>\n</table>\n</div>"
     },
     "metadata": {},
     "execution_count": 10
    }
   ],
   "source": [
    "tables[1].df.loc[36:39]"
   ]
  },
  {
   "cell_type": "code",
   "execution_count": 11,
   "metadata": {},
   "outputs": [],
   "source": [
    "# At Page 2\n",
    "tables[1].df.loc[37,1] = 'MUMBAI'\n",
    "tables[1].df.loc[37,0] = tables[1].df.loc[38,2]\n",
    "tables[1].df.drop(index=38, inplace=True)\n",
    "tables[1].df.index = range(len(tables[1].df))"
   ]
  },
  {
   "cell_type": "code",
   "execution_count": 12,
   "metadata": {},
   "outputs": [
    {
     "output_type": "execute_result",
     "data": {
      "text/plain": [
       "<TableList n=6>"
      ]
     },
     "metadata": {},
     "execution_count": 12
    }
   ],
   "source": [
    "tables"
   ]
  },
  {
   "cell_type": "code",
   "execution_count": 13,
   "metadata": {},
   "outputs": [],
   "source": [
    "def printnAllTables(tables):\n",
    "    for i in range(len(tables)):\n",
    "        print(\"Page No: \",(i+1))\n",
    "        print(tables[i].df)\n",
    "        print()"
   ]
  },
  {
   "cell_type": "code",
   "execution_count": 14,
   "metadata": {},
   "outputs": [],
   "source": [
    "# Incase we're intersted in seeing the original scraped tables.\n",
    "# Commented as it takes too much screen space\n",
    "# Run if you want\n",
    "# printnAllTables(tables)"
   ]
  },
  {
   "cell_type": "code",
   "execution_count": 15,
   "metadata": {},
   "outputs": [],
   "source": [
    "# Removes Garbage Rows that may have been detected Before the 'STATES' row\n",
    "# AND\n",
    "# Removes Garbage Rows that may have been detected after the 'TOTAL (ALL INDIA)' row\n",
    "def clean(table):\n",
    "    while(table.df.iloc[0,1] != 'STATES' and table.df.iloc[0,1] != 'AGRA'):\n",
    "        table.df = table.df.iloc[1:]\n",
    "    while(table.df.iloc[-1,1] != 'TOTAL (ALL INDIA)' and table.df.iloc[-1,1] != 'TOTAL (CITIES)'):\n",
    "        table.df = table.df.iloc[:-1]\n",
    "    # The Return line is unnecessary due to all changes being reflected in the original references\n",
    "    return table"
   ]
  },
  {
   "cell_type": "code",
   "execution_count": 16,
   "metadata": {},
   "outputs": [],
   "source": [
    "# Splits the second column into 1st column index and 2nd column test when faulty/required\n",
    "def split_by_first_space(df, strIndex, stpIndex):\n",
    "    df = df.iloc[strIndex:stpIndex+1]\n",
    "    for index, each in df.iterrows():\n",
    "        space = each[1].find(' ')\n",
    "        each[0] = each[1][:space]\n",
    "        each[1] = each[1][space:]"
   ]
  },
  {
   "cell_type": "code",
   "execution_count": 17,
   "metadata": {},
   "outputs": [],
   "source": [
    "def mergeRows(df, strIndex, stpIndex):\n",
    "    DF = df.loc[strIndex:stpIndex]\n",
    "    df = DF.T\n",
    "    l = []\n",
    "    for index, each in df.iterrows():\n",
    "        output = ''\n",
    "        for ind, cell in each.iteritems():\n",
    "            output += (str(cell) + ' ')\n",
    "#         if(output == ''):\n",
    "#             continue\n",
    "        l.append(output.strip())\n",
    "    l = pd.Series(l,name=str(strIndex))\n",
    "    DF.loc[strIndex] = l"
   ]
  },
  {
   "cell_type": "code",
   "execution_count": 18,
   "metadata": {},
   "outputs": [],
   "source": [
    "for each_table in tables:\n",
    "    clean(each_table)"
   ]
  },
  {
   "cell_type": "code",
   "execution_count": 19,
   "metadata": {},
   "outputs": [],
   "source": [
    "# Incase we're intersted in seeing the scraped tables at this point.\n",
    "# Commented as it takes too much screen space\n",
    "# Run if you want\n",
    "# printnAllTables(tables)"
   ]
  },
  {
   "cell_type": "code",
   "execution_count": 20,
   "metadata": {},
   "outputs": [],
   "source": [
    "table7_8 = camelot.read_pdf(fileName,\n",
    "                          flavor='stream',\n",
    "                          table_areas=[\n",
    "                              \"41.84432956381261,708.3528537908206,577.6441357027464,55\"\n",
    "                              ],\n",
    "                          columns=[\n",
    "                              \"74.06927302100162,184.69221324717287,227.97945072697902,273.1905654281099,311.6681098546042,352.06953150242333,395.3567689822294,436.7201292407109,482.8931825525041,510\"\n",
    "                              ],\n",
    "                          split_text=True,\n",
    "                          pages=\"7-8\"\n",
    "                         )"
   ]
  },
  {
   "cell_type": "code",
   "execution_count": 21,
   "metadata": {},
   "outputs": [],
   "source": [
    "for each_table in table7_8:\n",
    "    clean(each_table)"
   ]
  },
  {
   "cell_type": "code",
   "execution_count": 22,
   "metadata": {},
   "outputs": [],
   "source": [
    "tableList = [each.df.copy() for each in tables] + [each.df.copy() for each in table7_8]\n",
    "states = [ each.copy() for index,each in enumerate(tableList) if(index%2==0)]\n",
    "cities = [ each.copy() for index,each in enumerate(tableList) if(index%2==1)]"
   ]
  },
  {
   "cell_type": "code",
   "execution_count": 23,
   "metadata": {},
   "outputs": [
    {
     "output_type": "execute_result",
     "data": {
      "text/plain": [
       "9"
      ]
     },
     "metadata": {},
     "execution_count": 23
    }
   ],
   "source": [
    "# List of Column headers as column are nested, i.e exhibit a multi level/index structure\n",
    "# The multi level structre will be generated and applied in the next \n",
    "time_header = [\n",
    "    '0000 hrs to 0300 hrs. (Night)',\n",
    "    '0300 hrs to 0600 hrs. (Night)',\n",
    "    '0600 hrs to 0900 hrs (Day)',\n",
    "    '0900 hrs to 1200 hrs (Day)',\n",
    "    '1200 hrs to 1500 hrs (Day)',\n",
    "    '1500 hrs to 1800 hrs (Day)',\n",
    "    '1800 hrs to 2100hrs (Night)',\n",
    "    '2100 hrs. to 2400hrs(Night)',\n",
    "    'Total'\n",
    "]\n",
    "column_header = [\n",
    "    'Road Accidents',\n",
    "    'Railway Crossing Accidents',\n",
    "    'Railway Accidents',\n",
    "    'Total(Traffic Accidents)'\n",
    "]\n",
    "len(time_header)"
   ]
  },
  {
   "cell_type": "code",
   "execution_count": 24,
   "metadata": {},
   "outputs": [],
   "source": [
    "def set_Column(df, title, state):\n",
    "    column_list = [\n",
    "        (\"Sl. No.\",''),\n",
    "        (\"State/UT\" if(state) else \"City\",''), \n",
    "        (title,time_header[0]),\n",
    "        (title,time_header[1]),\n",
    "        (title,time_header[2]),\n",
    "        (title,time_header[3]),\n",
    "        (title,time_header[4]),\n",
    "        (title,time_header[5]),\n",
    "        (title,time_header[6]),\n",
    "        (title,time_header[7]),\n",
    "        (title,time_header[8])\n",
    "    ]\n",
    "    df.columns = pd.MultiIndex.from_tuples(column_list)"
   ]
  },
  {
   "cell_type": "code",
   "execution_count": 25,
   "metadata": {},
   "outputs": [],
   "source": [
    "for i,(state,city) in enumerate(zip(states,cities)):\n",
    "    set_Column(df=city, title=column_header[i], state=False)\n",
    "    city.set_index([\"Sl. No.\",\"City\"],inplace=True)\n",
    "    set_Column(df=state, title=column_header[i], state=True)\n",
    "    state.set_index([\"Sl. No.\",\"State/UT\"],inplace=True)"
   ]
  },
  {
   "cell_type": "code",
   "execution_count": 26,
   "metadata": {},
   "outputs": [],
   "source": [
    "for state in states:\n",
    "    state.index = states[0].index.copy()"
   ]
  },
  {
   "cell_type": "code",
   "execution_count": 27,
   "metadata": {},
   "outputs": [],
   "source": [
    "State = pd.concat(states,axis=1)\n",
    "City = pd.concat(cities,axis=1)"
   ]
  },
  {
   "cell_type": "code",
   "execution_count": 28,
   "metadata": {},
   "outputs": [],
   "source": [
    "# Incase we're intersted in seeing the scraped tables at this point.\n",
    "# Commented as it takes too much screen space\n",
    "# Run if you want\n",
    "# printnAllTables(tables)\n",
    "\n",
    "# OR Print a simgle one according to your choice\n",
    "# tables[23].df"
   ]
  },
  {
   "cell_type": "code",
   "execution_count": 29,
   "metadata": {},
   "outputs": [],
   "source": [
    "# Reset Index before saving file, for better formatting in RAW CSV\n",
    "State.reset_index().to_csv(\"Time of Occurrence – wise Number of Traffic Accidents during 2019 (StateUT-wise).csv\",index=False)\n",
    "City.reset_index().to_csv(\"Time of Occurrence – wise Number of Traffic Accidents during 2019 (City-wise).csv\",index=False)"
   ]
  }
 ],
 "metadata": {
  "kernelspec": {
   "display_name": "Python 3",
   "language": "python",
   "name": "python3"
  },
  "language_info": {
   "codemirror_mode": {
    "name": "ipython",
    "version": 3
   },
   "file_extension": ".py",
   "mimetype": "text/x-python",
   "name": "python",
   "nbconvert_exporter": "python",
   "pygments_lexer": "ipython3",
   "version": "3.8.2-final"
  }
 },
 "nbformat": 4,
 "nbformat_minor": 4
}
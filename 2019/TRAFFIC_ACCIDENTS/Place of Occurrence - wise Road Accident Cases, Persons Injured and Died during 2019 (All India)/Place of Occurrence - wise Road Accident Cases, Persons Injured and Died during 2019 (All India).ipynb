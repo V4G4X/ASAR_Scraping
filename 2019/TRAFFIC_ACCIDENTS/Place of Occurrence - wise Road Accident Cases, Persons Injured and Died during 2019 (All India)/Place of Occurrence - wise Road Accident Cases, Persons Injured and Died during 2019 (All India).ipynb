{
 "cells": [
  {
   "cell_type": "code",
   "execution_count": 1,
   "metadata": {},
   "outputs": [],
   "source": [
    "import wget\n",
    "import ssl\n",
    "import os\n",
    "ssl._create_default_https_context = ssl._create_unverified_context"
   ]
  },
  {
   "cell_type": "code",
   "execution_count": 2,
   "metadata": {},
   "outputs": [],
   "source": [
    "# Enter NCRB Individual PDF url\n",
    "pdf_url = 'https://ncrb.gov.in/sites/default/files/adsi_reports_previous_year/Table-1A.10_2019.pdf'\n",
    "fileName = pdf_url[67:]\n",
    "try:\n",
    "    #Delete the file to redownload it\n",
    "    os.remove(fileName)\n",
    "except FileNotFoundError as e:\n",
    "    #Ignore in case FileNotFound Error occurs\n",
    "    pass\n",
    "# Download report\n",
    "fileName = wget.download(pdf_url,fileName)"
   ]
  },
  {
   "cell_type": "code",
   "execution_count": 3,
   "metadata": {},
   "outputs": [],
   "source": [
    "import numpy as np\n",
    "import pandas as pd\n",
    "import camelot"
   ]
  },
  {
   "cell_type": "code",
   "execution_count": 4,
   "metadata": {},
   "outputs": [
    {
     "output_type": "execute_result",
     "data": {
      "text/plain": [
       "'Table-1A.10_2019.pdf'"
      ]
     },
     "metadata": {},
     "execution_count": 4
    }
   ],
   "source": [
    "fileName"
   ]
  },
  {
   "cell_type": "code",
   "execution_count": 5,
   "metadata": {},
   "outputs": [],
   "source": [
    "tables = camelot.read_pdf(fileName,\n",
    "                          flavor='stream',\n",
    "                          table_areas=[\n",
    "                              \"32.22494345718902,674.6843840085317,564.1769951534734,158.11386192027007\"\n",
    "                              ],\n",
    "                          columns=[\n",
    "                              \"46.17305331179322,175.0728271405493,213.55037156704364,252.027915993538,290.50546042003236,320.3255573505655,360.72697899838454,400.16646203554126,441.52982229402267,473.2737964458805,522.3326655896608\"\n",
    "                              ],\n",
    "                          split_text=True,\n",
    "                          strip_text='\\n\\t',\n",
    "                          row_tol=15,\n",
    "                          pages=\"all\"\n",
    "                         )"
   ]
  },
  {
   "cell_type": "code",
   "execution_count": 6,
   "metadata": {},
   "outputs": [
    {
     "output_type": "execute_result",
     "data": {
      "text/plain": [
       "<TableList n=1>"
      ]
     },
     "metadata": {},
     "execution_count": 6
    }
   ],
   "source": [
    "tables"
   ]
  },
  {
   "cell_type": "code",
   "execution_count": 7,
   "metadata": {},
   "outputs": [],
   "source": [
    "def printnAllTables(tables):\n",
    "    for i in range(len(tables)):\n",
    "        print(\"Page No: \",(i+1))\n",
    "        print(tables[i].df)\n",
    "        print()"
   ]
  },
  {
   "cell_type": "code",
   "execution_count": 8,
   "metadata": {},
   "outputs": [
    {
     "output_type": "stream",
     "name": "stdout",
     "text": [
      "Page No:  1\n    0                                             1       2       3      4   \\\n0                                         Rural Area                          \n1    1  Near School/College/ Educational institution   18753   14609   4206   \n2    2                         Near Residential Area   75201   58760  16045   \n3    3                          Near Religious Place   13191   10766   2846   \n4    4            Near Recreation Place/ Cinema Hall   11715    9824   2578   \n5    5                                  Near Factory   12937   10682   2391   \n6    6                                        Others  128582  118443  22788   \n7    7                             Sub Total (Rural)  260379  223084  50854   \n8                                         Urban Area                          \n9    8  Near School/College/ Educational institution   18390   14414   3821   \n10   9                         Near Residential Area   55742   41126  10430   \n11  10                          Near Religious Place   10578    8131   2215   \n12  11            Near Recreation Place/ Cinema Hall   11722    8433   2227   \n13  12                  Near Factory/Industrial area   14480   10230   2792   \n14  13                        At Pedestrian Crossing   10591    6609   1905   \n15  14                                        Others   55514   42820  10171   \n16  15                             Sub Total (Urban)  177017  131763  33561   \n17  16                                   Grand Total  437396  354847  84415   \n\n   5       6       7      8  9       10     11  \n0                                               \n1   0   18815    5873   1194  0    7067    4.3  \n2   0   74805   25326   4382  0   29708   17.2  \n3   0   13612    3579    730  0    4309    3.0  \n4   0   12402    3212    537  0    3749    2.7  \n5   0   13073    3738    670  0    4408    3.0  \n6   0  141231   44066   6053  0   50119   29.4  \n7   0  273938   85794  13566  0   99360   59.5  \n8                                               \n9   0   18235    5095   1023  0    6118    4.2  \n10  0   51556   14686   2763  1   17450   12.7  \n11  0   10346    2993    556  0    3549    2.4  \n12  0   10660    2848    495  0    3343    2.7  \n13  0   13022    3841    668  0    4509    3.3  \n14  0    8514    2606    514  1    3121    2.4  \n15  0   52991   14724   2558  0   17282   12.7  \n16  0  165324   46793   8577  2   55372   40.5  \n17  0  439262  132587  22143  2  154732  100.0  \n\n"
     ]
    }
   ],
   "source": [
    "# Incase we're intersted in seeing the original scraped tables.\n",
    "# Commented as it takes too much screen space\n",
    "# Run if you want\n",
    "printnAllTables(tables)"
   ]
  },
  {
   "cell_type": "code",
   "execution_count": 9,
   "metadata": {},
   "outputs": [],
   "source": [
    "# Splits the second column into 1st column index and 2nd column test when faulty/required\n",
    "def split_by_first_space(df, strIndex, stpIndex):\n",
    "    df = df.iloc[strIndex:stpIndex+1]\n",
    "    for index, each in df.iterrows():\n",
    "        space = each[1].find(' ')\n",
    "        each[0] = each[1][:space]\n",
    "        each[1] = each[1][space:]"
   ]
  },
  {
   "cell_type": "code",
   "execution_count": 10,
   "metadata": {},
   "outputs": [],
   "source": [
    "def mergeRows(df, strIndex, stpIndex):\n",
    "    DF = df.loc[strIndex:stpIndex]\n",
    "    df = DF.T\n",
    "    l = []\n",
    "    for index, each in df.iterrows():\n",
    "        output = ''\n",
    "        for ind, cell in each.iteritems():\n",
    "            output += (str(cell) + ' ')\n",
    "#         if(output == ''):\n",
    "#             continue\n",
    "        l.append(output.strip())\n",
    "    l = pd.Series(l,name=str(strIndex))\n",
    "    DF.loc[strIndex] = l"
   ]
  },
  {
   "cell_type": "code",
   "execution_count": 11,
   "metadata": {},
   "outputs": [],
   "source": [
    "# Incase we're intersted in seeing the scraped tables at this point.\n",
    "# Commented as it takes too much screen space\n",
    "# Run if you want\n",
    "# printnAllTables(tables)   "
   ]
  },
  {
   "cell_type": "code",
   "execution_count": 12,
   "metadata": {},
   "outputs": [],
   "source": [
    "def set_Column(df):\n",
    "    column_list = [\n",
    "        (\"Sl. No.\",''),\n",
    "        (\"Cause\",''), \n",
    "        (\"No. of Cases\",''),\n",
    "        ('No. of Persons Injured','Male'),\n",
    "        ('No. of Persons Injured','Female'),\n",
    "        ('No. of Persons Injured','Transgender'),\n",
    "        ('No. of Persons Injured','Total'),\n",
    "        ('No. of Persons Died','Male'),\n",
    "        ('No. of Persons Died','Female'),\n",
    "        ('No. of Persons Died','Transgender'),\n",
    "        ('No. of Persons Died','Total'),\n",
    "        ('Percentage Share (Cases)','')\n",
    "    ]\n",
    "    df.columns = pd.MultiIndex.from_tuples(column_list)"
   ]
  },
  {
   "cell_type": "code",
   "execution_count": 13,
   "metadata": {},
   "outputs": [],
   "source": [
    "for i in range(len(tables)):\n",
    "    set_Column(tables[i].df)"
   ]
  },
  {
   "cell_type": "code",
   "execution_count": 14,
   "metadata": {},
   "outputs": [],
   "source": [
    "# Incase we're intersted in seeing the scraped tables at this point.\n",
    "# Commented as it takes too much screen space\n",
    "# Run if you want\n",
    "# printnAllTables(tables)\n",
    "\n",
    "# OR Print a simgle one according to your choice\n",
    "# tables[23].df"
   ]
  },
  {
   "cell_type": "code",
   "execution_count": 15,
   "metadata": {},
   "outputs": [],
   "source": [
    "# Reset Index before saving file, for better formatting in RAW CSV\n",
    "tables[0].df.to_csv(\"Place of Occurrence - wise Road Accident Cases, Persons Injured and Died during 2019 (All India).csv\",index=False)"
   ]
  }
 ],
 "metadata": {
  "kernelspec": {
   "display_name": "Python 3",
   "language": "python",
   "name": "python3"
  },
  "language_info": {
   "codemirror_mode": {
    "name": "ipython",
    "version": 3
   },
   "file_extension": ".py",
   "mimetype": "text/x-python",
   "name": "python",
   "nbconvert_exporter": "python",
   "pygments_lexer": "ipython3",
   "version": "3.8.2-final"
  }
 },
 "nbformat": 4,
 "nbformat_minor": 4
}
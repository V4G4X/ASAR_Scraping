{
 "cells": [
  {
   "cell_type": "code",
   "execution_count": 1,
   "metadata": {},
   "outputs": [],
   "source": [
    "import wget\n",
    "import ssl\n",
    "import os\n",
    "ssl._create_default_https_context = ssl._create_unverified_context"
   ]
  },
  {
   "cell_type": "code",
   "execution_count": 2,
   "metadata": {},
   "outputs": [],
   "source": [
    "# Enter NCRB Individual PDF url\n",
    "pdf_url = 'https://ncrb.gov.in/sites/default/files/adsi_reports_previous_year/Table-1A.13_2019.pdf'\n",
    "fileName = pdf_url[67:]\n",
    "try:\n",
    "    #Delete the file to redownload it\n",
    "    os.remove(fileName)\n",
    "except FileNotFoundError as e:\n",
    "    #Ignore in case FileNotFound Error occurs\n",
    "    pass\n",
    "# Download report\n",
    "fileName = wget.download(pdf_url,fileName)"
   ]
  },
  {
   "cell_type": "code",
   "execution_count": 3,
   "metadata": {},
   "outputs": [],
   "source": [
    "import numpy as np\n",
    "import pandas as pd\n",
    "import camelot"
   ]
  },
  {
   "cell_type": "code",
   "execution_count": 4,
   "metadata": {},
   "outputs": [
    {
     "output_type": "execute_result",
     "data": {
      "text/plain": [
       "'Table-1A.13_2019.pdf'"
      ]
     },
     "metadata": {},
     "execution_count": 4
    }
   ],
   "source": [
    "fileName"
   ]
  },
  {
   "cell_type": "code",
   "execution_count": 5,
   "metadata": {},
   "outputs": [],
   "source": [
    "tables = camelot.read_pdf(fileName,\n",
    "                          flavor='stream',\n",
    "                          table_areas=[\n",
    "                              \"33.18688206785138,718.9343728652543,562.2531179321487,63.842146529861076\"\n",
    "                              ],\n",
    "                          columns=[\n",
    "                              \"50.982746365105015,165.4534410339257,203.93098546042006,242.4085298869144,280.88607431340876,330.9068820678514,378.041873990307,425.1768659127626,476.1596122778676,521.3707269789984\"\n",
    "                              ],\n",
    "                          split_text=True,\n",
    "                          pages=\"all\"\n",
    "                         )"
   ]
  },
  {
   "cell_type": "code",
   "execution_count": 6,
   "metadata": {},
   "outputs": [
    {
     "output_type": "execute_result",
     "data": {
      "text/plain": [
       "<TableList n=2>"
      ]
     },
     "metadata": {},
     "execution_count": 6
    }
   ],
   "source": [
    "tables"
   ]
  },
  {
   "cell_type": "code",
   "execution_count": 7,
   "metadata": {},
   "outputs": [],
   "source": [
    "def printnAllTables(tables):\n",
    "    for i in range(len(tables)):\n",
    "        print(\"Page No: \",(i+1))\n",
    "        print(tables[i].df)\n",
    "        print()"
   ]
  },
  {
   "cell_type": "code",
   "execution_count": 8,
   "metadata": {},
   "outputs": [],
   "source": [
    "# Incase we're intersted in seeing the original scraped tables.\n",
    "# Commented as it takes too much screen space\n",
    "# Run if you want\n",
    "# printnAllTables(tables)"
   ]
  },
  {
   "cell_type": "code",
   "execution_count": 9,
   "metadata": {},
   "outputs": [],
   "source": [
    "# Removes Garbage Rows that may have been detected Before the 'STATES' row\n",
    "# AND\n",
    "# Removes Garbage Rows that may have been detected after the 'TOTAL (ALL INDIA)' row\n",
    "def clean(table):\n",
    "    while(table.df.iloc[0,1] != 'STATES'):\n",
    "        table.df = table.df.iloc[1:]\n",
    "    while(table.df.iloc[-1,1] != 'TOTAL (ALL INDIA)'):\n",
    "        table.df = table.df.iloc[:-1]\n",
    "    # The Return line is unnecessary due to all changes being reflected in the original references\n",
    "    return table"
   ]
  },
  {
   "cell_type": "code",
   "execution_count": 10,
   "metadata": {},
   "outputs": [],
   "source": [
    "# Splits the second column into 1st column index and 2nd column test when faulty/required\n",
    "def split_by_first_space(df, strIndex, stpIndex):\n",
    "    df = df.iloc[strIndex:stpIndex+1]\n",
    "    for index, each in df.iterrows():\n",
    "        space = each[1].find(' ')\n",
    "        each[0] = each[1][:space]\n",
    "        each[1] = each[1][space:]"
   ]
  },
  {
   "cell_type": "code",
   "execution_count": 11,
   "metadata": {},
   "outputs": [],
   "source": [
    "def mergeRows(df, strIndex, stpIndex):\n",
    "    DF = df.loc[strIndex:stpIndex]\n",
    "    df = DF.T\n",
    "    l = []\n",
    "    for index, each in df.iterrows():\n",
    "        output = ''\n",
    "        for ind, cell in each.iteritems():\n",
    "            output += (str(cell) + ' ')\n",
    "#         if(output == ''):\n",
    "#             continue\n",
    "        l.append(output.strip())\n",
    "    l = pd.Series(l,name=str(strIndex))\n",
    "    DF.loc[strIndex] = l"
   ]
  },
  {
   "cell_type": "code",
   "execution_count": 12,
   "metadata": {},
   "outputs": [],
   "source": [
    "for each_table in tables:\n",
    "    clean(each_table)"
   ]
  },
  {
   "cell_type": "code",
   "execution_count": 13,
   "metadata": {},
   "outputs": [
    {
     "output_type": "stream",
     "name": "stdout",
     "text": [
      "Page No:  1\n    0                   1   2  3   4  5  6  7   8  9   10\n1                   STATES                               \n2    1      ANDHRA PRADESH   6  1   6  0  0  0   0  0   0\n3    2   ARUNACHAL PRADESH   0  0   0  0  0  0   0  0   0\n4    3               ASSAM   0  0   0  0  0  0   0  0   0\n5    4               BIHAR   0  0   0  0  0  0   0  0   0\n6    5        CHHATTISGARH   0  0   0  0  0  0   0  0   0\n7    6                 GOA   0  0   0  0  0  0   0  0   0\n8    7             GUJARAT   0  0   0  0  0  0   0  0   0\n9    8             HARYANA   0  0   0  0  0  0   0  0   0\n10   9    HIMACHAL PRADESH   0  0   0  0  0  0   0  0   0\n11  10     JAMMU & KASHMIR   0  0   0  0  0  0   0  0   0\n12  11           JHARKHAND   0  0   0  0  0  0   8  0   8\n13  12           KARNATAKA   0  0   0  0  0  0   0  0   0\n14  13              KERALA   4  0   4  0  0  0   2  0   2\n15  14      MADHYA PRADESH  12  0  12  0  0  0   0  0   0\n16  15         MAHARASHTRA   0  0   0  0  0  0   0  0   0\n17  16             MANIPUR   0  0   0  0  0  0   0  0   0\n18  17           MEGHALAYA   0  0   0  0  0  0   0  0   0\n19  18             MIZORAM   0  0   0  0  0  0   0  0   0\n20  19            NAGALAND   0  0   0  0  0  0   0  0   0\n21  20              ODISHA   0  0   0  0  0  0   0  0   0\n22  21              PUNJAB   0  0   0  0  0  0   0  0   0\n23  22           RAJASTHAN   0  0   0  0  0  0   0  0   0\n24  23              SIKKIM   0  0   0  0  0  0   0  0   0\n25  24          TAMIL NADU   0  0   0  0  0  0   0  0   0\n26  25           TELANGANA   0  0   0  0  0  0   0  0   0\n27  26             TRIPURA   0  0   0  0  0  0   0  0   0\n28  27       UTTAR PRADESH  29  0  29  0  0  0   0  0   0\n29  28         UTTARAKHAND   0  0   0  0  0  0   0  0   0\n30  29         WEST BENGAL   0  0   0  0  0  0   0  0   0\n31          TOTAL (STATES)  51  1  51  0  0  0  10  0  10\n32      UNION  TERRITORIES                               \n33  30        A & NISLANDS   0  0   0  0  0  0   0  0   0\n34  31          CHANDIGARH   0  0   0  0  0  0   0  0   0\n35  32        D & N HAVELI   0  0   0  0  0  0   0  0   0\n36  33         DAMAN & DIU   0  0   0  0  0  0   0  0   0\n37  34          DELHI (UT)   0  0   0  0  0  0   0  0   0\n38  35         LAKSHADWEEP   0  0   0  0  0  0   0  0   0\n39  36          PUDUCHERRY   0  0   0  0  0  0   0  0   0\n40             TOTAL (UTs)   0  0   0  0  0  0   0  0   0\n41       TOTAL (ALL INDIA)  51  1  51  0  0  0  10  0  10\n\nPage No:  2\n    0                  1    2    3    4      5     6      7      8     9   \\\n2                  STATES                                                   \n3    1     ANDHRA PRADESH    0    0    0   1505     0   1513   1511     1   \n4    2  ARUNACHAL PRADESH    0    0    0      0     0      0      0     0   \n5    3              ASSAM    0    0    0    591     0    593    591     0   \n6    4              BIHAR    3    0    3   1586     0   1619   1589     0   \n7    5       CHHATTISGARH    0    0    0    466     0    466    466     0   \n8    6                GOA    0    0    0     50     0     50     50     0   \n9    7            GUJARAT    0    0    0    994     0   1012    994     0   \n10   8            HARYANA    0    0    0   1362   126   1278   1362   126   \n11   9   HIMACHAL PRADESH    0    0    0      0     0      0      0     0   \n12  10    JAMMU & KASHMIR    0    0    0     44     0     45     44     0   \n13  11          JHARKHAND   31    0   31    444     1    447    483     1   \n14  12          KARNATAKA    0    0    0      0     0      0      0     0   \n15  13             KERALA   14    0   14    230     1    234    250     1   \n16  14     MADHYA PRADESH    2    0    2   1494    99   1395   1508    99   \n17  15        MAHARASHTRA    0    0    0   6338  2435   3916   6338  2435   \n18  16            MANIPUR    0    0    0      0     0      0      0     0   \n19  17          MEGHALAYA    0    0    0      0     0      0      0     0   \n20  18            MIZORAM    0    0    0      0     0      0      0     0   \n21  19           NAGALAND    0    0    0      0     0      0      0     0   \n22  20             ODISHA    1    0    1    443     0    445    444     0   \n23  21             PUNJAB    0    0    0    893    65    831    893    65   \n24  22          RAJASTHAN   17    0   17    786    30    758    803    30   \n25  23             SIKKIM    0    0    0      0     0      0      0     0   \n26  24         TAMIL NADU    0    0    0   2266   203   2081   2266   203   \n27  25          TELANGANA    0    0    0    626     0    631    626     0   \n28  26            TRIPURA    0    0    0      5     0      5      5     0   \n29  27      UTTAR PRADESH  155  120  300   3796   382   3192   3980   502   \n30  28        UTTARAKHAND   41    0   42      0     0      0     41     0   \n31  29        WEST BENGAL    0    0    0   2876    44   2832   2876    44   \n32         TOTAL (STATES)  264  120  410  26795  3386  23343  27120  3507   \n33      UNION TERRITORIES                                                   \n34  30       A & NISLANDS    0    0    0      0     0      0      0     0   \n35  31         CHANDIGARH    0    0    0      0     0      0      0     0   \n36  32       D & N HAVELI    0    0    0      0     0      0      0     0   \n37  33        DAMAN & DIU    0    0    0      0     0      0      0     0   \n38  34         DELHI (UT)    0    0    0    858    62    796    858    62   \n39  35        LAKSHADWEEP    0    0    0      0     0      0      0     0   \n40  36         PUDUCHERRY    0    0    0      9     0      9      9     0   \n41            TOTAL (UTs)    0    0    0    867    62    805    867    62   \n42      TOTAL (ALL INDIA)  264  120  410  27662  3448  24148  27987  3569   \n\n       10  \n2          \n3    1519  \n4       0  \n5     593  \n6    1622  \n7     466  \n8      50  \n9    1012  \n10   1278  \n11      0  \n12     45  \n13    486  \n14      0  \n15    254  \n16   1409  \n17   3916  \n18      0  \n19      0  \n20      0  \n21      0  \n22    446  \n23    831  \n24    775  \n25      0  \n26   2081  \n27    631  \n28      5  \n29   3521  \n30     42  \n31   2832  \n32  23814  \n33         \n34      0  \n35      0  \n36      0  \n37      0  \n38    796  \n39      0  \n40      9  \n41    805  \n42  24619  \n\n"
     ]
    }
   ],
   "source": [
    "# Incase we're intersted in seeing the scraped tables at this point.\n",
    "# Commented as it takes too much screen space\n",
    "# Run if you want\n",
    "printnAllTables(tables)"
   ]
  },
  {
   "cell_type": "code",
   "execution_count": 14,
   "metadata": {},
   "outputs": [
    {
     "output_type": "execute_result",
     "data": {
      "text/plain": [
       "2"
      ]
     },
     "metadata": {},
     "execution_count": 14
    }
   ],
   "source": [
    "# List of Column headers as column are nested, i.e exhibit a multi level/index structure\n",
    "# The multi level structre will be generated and applied in the next \n",
    "column_header = [\n",
    "    (\"Fault of Driver\",\"Sabotage by Extremist/Terrorist/Others\",\"Signalmen's Error\"),\n",
    "    (\"Mechanical Failures (like Poor Design, Track Faults,Bridge/Tunnel Collapse etc.)\",\"Other Causes\",\"Total\")\n",
    "]\n",
    "len(column_header)"
   ]
  },
  {
   "cell_type": "code",
   "execution_count": 15,
   "metadata": {},
   "outputs": [],
   "source": [
    "def set_Column(df, title):\n",
    "    column_list = [\n",
    "        (\"Sl. No.\",''),\n",
    "        (\"State/UT\",''), \n",
    "        (title[0],'Cases'),\n",
    "        (title[0],'Injured'),\n",
    "        (title[0],'Dead'),\n",
    "        (title[1],'Cases'),\n",
    "        (title[1],'Injured'),\n",
    "        (title[1],'Dead'),\n",
    "        (title[2],'Cases'),\n",
    "        (title[2],'Injured'),\n",
    "        (title[2],'Dead')\n",
    "    ]\n",
    "    df.columns = pd.MultiIndex.from_tuples(column_list)"
   ]
  },
  {
   "cell_type": "code",
   "execution_count": 16,
   "metadata": {},
   "outputs": [],
   "source": [
    "for i in range(len(tables)):\n",
    "    set_Column(tables[i].df, column_header[i])\n",
    "    tables[i].df.set_index([\"Sl. No.\",\"State/UT\"],inplace=True)"
   ]
  },
  {
   "cell_type": "code",
   "execution_count": 17,
   "metadata": {},
   "outputs": [],
   "source": [
    "# Incase we're intersted in seeing the scraped tables at this point.\n",
    "# Commented as it takes too much screen space\n",
    "# Run if you want\n",
    "# printnAllTables(tables)\n",
    "\n",
    "# OR Print a simgle one according to your choice\n",
    "# tables[23].df"
   ]
  },
  {
   "cell_type": "code",
   "execution_count": 18,
   "metadata": {},
   "outputs": [],
   "source": [
    "# Convert List of tables to list of DataFrames\n",
    "DataFrames = [each.df.copy() for each in tables]"
   ]
  },
  {
   "cell_type": "code",
   "execution_count": 19,
   "metadata": {},
   "outputs": [],
   "source": [
    "# Setting a common Index for concatenation\n",
    "DataFrames[1].index = DataFrames[0].index.copy()"
   ]
  },
  {
   "cell_type": "code",
   "execution_count": 20,
   "metadata": {},
   "outputs": [],
   "source": [
    "# Concat all the tables one after the other, as they all have the same indexes.\n",
    "final = pd.concat(DataFrames,axis=1)"
   ]
  },
  {
   "cell_type": "code",
   "execution_count": 21,
   "metadata": {},
   "outputs": [],
   "source": [
    "# Reset Index before saving file, for better formatting in RAW CSV\n",
    "final.reset_index().to_csv(\"Cause - wise Distribution of Railway Accidents during 2019 (State & UT-wise).csv\",index=False)"
   ]
  }
 ],
 "metadata": {
  "kernelspec": {
   "display_name": "Python 3",
   "language": "python",
   "name": "python3"
  },
  "language_info": {
   "codemirror_mode": {
    "name": "ipython",
    "version": 3
   },
   "file_extension": ".py",
   "mimetype": "text/x-python",
   "name": "python",
   "nbconvert_exporter": "python",
   "pygments_lexer": "ipython3",
   "version": "3.8.2-final"
  }
 },
 "nbformat": 4,
 "nbformat_minor": 4
}
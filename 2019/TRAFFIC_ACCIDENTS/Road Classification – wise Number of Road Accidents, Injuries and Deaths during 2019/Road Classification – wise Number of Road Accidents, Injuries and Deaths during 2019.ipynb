{
 "cells": [
  {
   "cell_type": "code",
   "execution_count": 1,
   "metadata": {},
   "outputs": [],
   "source": [
    "import wget\n",
    "import ssl\n",
    "import os\n",
    "ssl._create_default_https_context = ssl._create_unverified_context"
   ]
  },
  {
   "cell_type": "code",
   "execution_count": 2,
   "metadata": {},
   "outputs": [],
   "source": [
    "# Enter NCRB Individual PDF url\n",
    "pdf_url = 'https://ncrb.gov.in/sites/default/files/adsi_reports_previous_year/Table-1A.7_2019.pdf'\n",
    "fileName = pdf_url[67:]\n",
    "try:\n",
    "    #Delete the file to redownload it\n",
    "    os.remove(fileName)\n",
    "except FileNotFoundError as e:\n",
    "    #Ignore in case FileNotFound Error occurs\n",
    "    pass\n",
    "# Download report\n",
    "fileName = wget.download(pdf_url,fileName)"
   ]
  },
  {
   "cell_type": "code",
   "execution_count": 3,
   "metadata": {},
   "outputs": [],
   "source": [
    "import numpy as np\n",
    "import pandas as pd\n",
    "import camelot"
   ]
  },
  {
   "cell_type": "code",
   "execution_count": 4,
   "metadata": {},
   "outputs": [
    {
     "output_type": "execute_result",
     "data": {
      "text/plain": [
       "'Table-1A.7_2019.pdf'"
      ]
     },
     "metadata": {},
     "execution_count": 4
    }
   ],
   "source": [
    "fileName"
   ]
  },
  {
   "cell_type": "code",
   "execution_count": 5,
   "metadata": {},
   "outputs": [],
   "source": [
    "table1_2 = camelot.read_pdf(fileName,\n",
    "                          flavor='stream',\n",
    "                          table_areas=[\n",
    "                              \"33.18688206785138,728.5539356601939,565.1389337641358,72.4997530453068\"\n",
    "                              ],\n",
    "                          columns=[\n",
    "                              \"52,157.75793214862682,203.93098546042006,246.25628432956384,284.7338287560582,331.86882067851377,373.2321809369952,423.25298869143785,477.12155088852995,520.4087883683361\"\n",
    "                              ],\n",
    "                          split_text=True,\n",
    "                          pages=\"1-2\"\n",
    "                         )"
   ]
  },
  {
   "cell_type": "code",
   "execution_count": 6,
   "metadata": {},
   "outputs": [
    {
     "output_type": "execute_result",
     "data": {
      "text/plain": [
       "     0                  1     2     3    4     5     6    7    8     9     10\n",
       "0   (1)                (2)   (3)   (4)  (5)   (6)   (7)  (8)  (9)  (10)  (11)\n",
       "1    37               AGRA    36    10   44    85    15   97   23     6    24\n",
       "2    38          AHMEDABAD   136    71   69    76    49   26    6     3     3\n",
       "3    39          ALLAHABAD   197   146   82   166   130   77    0     0     0\n",
       "4    40           AMRITSAR    30    19   21    48    28   31    0     0     0\n",
       "5    41            ASANSOL   205   164  146    34    26   24    0     0     0\n",
       "6    42         AURANGABAD    30    26   17   116    67   68    0     0     0\n",
       "7    43          BENGALURU   761   770  167   211   188   40    0     0     0\n",
       "8    44             BHOPAL   206   152   18   985   657   61    0     0     0\n",
       "9    45  CHANDIGARH (CITY)    36    27   13     0     0    0    0     0     0\n",
       "10   46            CHENNAI  1349  1502  283  1234  1641  253    0     0     0\n",
       "11                           328   345   47   352   352   40    0     0     0\n",
       "12              COIMBATORE    47                                             \n",
       "13   48       DELHI (CITY)   701   618  271   590   500  187    0     0     0\n",
       "14   49            DHANBAD    97    37   82    61    35   35    0     0     0"
      ],
      "text/html": "<div>\n<style scoped>\n    .dataframe tbody tr th:only-of-type {\n        vertical-align: middle;\n    }\n\n    .dataframe tbody tr th {\n        vertical-align: top;\n    }\n\n    .dataframe thead th {\n        text-align: right;\n    }\n</style>\n<table border=\"1\" class=\"dataframe\">\n  <thead>\n    <tr style=\"text-align: right;\">\n      <th></th>\n      <th>0</th>\n      <th>1</th>\n      <th>2</th>\n      <th>3</th>\n      <th>4</th>\n      <th>5</th>\n      <th>6</th>\n      <th>7</th>\n      <th>8</th>\n      <th>9</th>\n      <th>10</th>\n    </tr>\n  </thead>\n  <tbody>\n    <tr>\n      <th>0</th>\n      <td>(1)</td>\n      <td>(2)</td>\n      <td>(3)</td>\n      <td>(4)</td>\n      <td>(5)</td>\n      <td>(6)</td>\n      <td>(7)</td>\n      <td>(8)</td>\n      <td>(9)</td>\n      <td>(10)</td>\n      <td>(11)</td>\n    </tr>\n    <tr>\n      <th>1</th>\n      <td>37</td>\n      <td>AGRA</td>\n      <td>36</td>\n      <td>10</td>\n      <td>44</td>\n      <td>85</td>\n      <td>15</td>\n      <td>97</td>\n      <td>23</td>\n      <td>6</td>\n      <td>24</td>\n    </tr>\n    <tr>\n      <th>2</th>\n      <td>38</td>\n      <td>AHMEDABAD</td>\n      <td>136</td>\n      <td>71</td>\n      <td>69</td>\n      <td>76</td>\n      <td>49</td>\n      <td>26</td>\n      <td>6</td>\n      <td>3</td>\n      <td>3</td>\n    </tr>\n    <tr>\n      <th>3</th>\n      <td>39</td>\n      <td>ALLAHABAD</td>\n      <td>197</td>\n      <td>146</td>\n      <td>82</td>\n      <td>166</td>\n      <td>130</td>\n      <td>77</td>\n      <td>0</td>\n      <td>0</td>\n      <td>0</td>\n    </tr>\n    <tr>\n      <th>4</th>\n      <td>40</td>\n      <td>AMRITSAR</td>\n      <td>30</td>\n      <td>19</td>\n      <td>21</td>\n      <td>48</td>\n      <td>28</td>\n      <td>31</td>\n      <td>0</td>\n      <td>0</td>\n      <td>0</td>\n    </tr>\n    <tr>\n      <th>5</th>\n      <td>41</td>\n      <td>ASANSOL</td>\n      <td>205</td>\n      <td>164</td>\n      <td>146</td>\n      <td>34</td>\n      <td>26</td>\n      <td>24</td>\n      <td>0</td>\n      <td>0</td>\n      <td>0</td>\n    </tr>\n    <tr>\n      <th>6</th>\n      <td>42</td>\n      <td>AURANGABAD</td>\n      <td>30</td>\n      <td>26</td>\n      <td>17</td>\n      <td>116</td>\n      <td>67</td>\n      <td>68</td>\n      <td>0</td>\n      <td>0</td>\n      <td>0</td>\n    </tr>\n    <tr>\n      <th>7</th>\n      <td>43</td>\n      <td>BENGALURU</td>\n      <td>761</td>\n      <td>770</td>\n      <td>167</td>\n      <td>211</td>\n      <td>188</td>\n      <td>40</td>\n      <td>0</td>\n      <td>0</td>\n      <td>0</td>\n    </tr>\n    <tr>\n      <th>8</th>\n      <td>44</td>\n      <td>BHOPAL</td>\n      <td>206</td>\n      <td>152</td>\n      <td>18</td>\n      <td>985</td>\n      <td>657</td>\n      <td>61</td>\n      <td>0</td>\n      <td>0</td>\n      <td>0</td>\n    </tr>\n    <tr>\n      <th>9</th>\n      <td>45</td>\n      <td>CHANDIGARH (CITY)</td>\n      <td>36</td>\n      <td>27</td>\n      <td>13</td>\n      <td>0</td>\n      <td>0</td>\n      <td>0</td>\n      <td>0</td>\n      <td>0</td>\n      <td>0</td>\n    </tr>\n    <tr>\n      <th>10</th>\n      <td>46</td>\n      <td>CHENNAI</td>\n      <td>1349</td>\n      <td>1502</td>\n      <td>283</td>\n      <td>1234</td>\n      <td>1641</td>\n      <td>253</td>\n      <td>0</td>\n      <td>0</td>\n      <td>0</td>\n    </tr>\n    <tr>\n      <th>11</th>\n      <td></td>\n      <td></td>\n      <td>328</td>\n      <td>345</td>\n      <td>47</td>\n      <td>352</td>\n      <td>352</td>\n      <td>40</td>\n      <td>0</td>\n      <td>0</td>\n      <td>0</td>\n    </tr>\n    <tr>\n      <th>12</th>\n      <td></td>\n      <td>COIMBATORE</td>\n      <td>47</td>\n      <td></td>\n      <td></td>\n      <td></td>\n      <td></td>\n      <td></td>\n      <td></td>\n      <td></td>\n      <td></td>\n    </tr>\n    <tr>\n      <th>13</th>\n      <td>48</td>\n      <td>DELHI (CITY)</td>\n      <td>701</td>\n      <td>618</td>\n      <td>271</td>\n      <td>590</td>\n      <td>500</td>\n      <td>187</td>\n      <td>0</td>\n      <td>0</td>\n      <td>0</td>\n    </tr>\n    <tr>\n      <th>14</th>\n      <td>49</td>\n      <td>DHANBAD</td>\n      <td>97</td>\n      <td>37</td>\n      <td>82</td>\n      <td>61</td>\n      <td>35</td>\n      <td>35</td>\n      <td>0</td>\n      <td>0</td>\n      <td>0</td>\n    </tr>\n  </tbody>\n</table>\n</div>"
     },
     "metadata": {},
     "execution_count": 6
    }
   ],
   "source": [
    "table1_2[1].df.head(15)"
   ]
  },
  {
   "cell_type": "code",
   "execution_count": 7,
   "metadata": {},
   "outputs": [],
   "source": [
    "# Fix Coimbatore's mis-read by Camelot\n",
    "table1_2[1].df.iloc[11,0] = table1_2[1].df.iloc[12,2]\n",
    "table1_2[1].df.iloc[11,1] = table1_2[1].df.iloc[12,1]\n",
    "# Drop the faulty Row\n",
    "table1_2[1].df.drop(index = 12,inplace=True)\n",
    "# And Reset the index\n",
    "table1_2[1].df.index = range(len(table1_2[1].df))"
   ]
  },
  {
   "cell_type": "code",
   "execution_count": 8,
   "metadata": {},
   "outputs": [],
   "source": [
    "table3_4 = camelot.read_pdf(fileName,\n",
    "                          flavor='stream',\n",
    "                          table_areas=[\n",
    "                              \"49.53983844911148,729.4838345587917,564.1769951534734,71.50573938491661\"\n",
    "                              ],\n",
    "                          columns=[\n",
    "                              \"69.25957996768983,190.46384491114702,233.75108239095317,298.2009693053312,366.49861066235866,429.024620355412,501.1700161550889\"\n",
    "                              ],\n",
    "                          split_text=True,\n",
    "                          pages=\"3-4\"\n",
    "                         )"
   ]
  },
  {
   "cell_type": "code",
   "execution_count": 9,
   "metadata": {},
   "outputs": [],
   "source": [
    "# tables"
   ]
  },
  {
   "cell_type": "code",
   "execution_count": 10,
   "metadata": {},
   "outputs": [],
   "source": [
    "def printnAllTables(tables):\n",
    "    for i in range(len(tables)):\n",
    "        print(\"Page No: \",(i+1))\n",
    "        print(tables[i].df)\n",
    "        print()"
   ]
  },
  {
   "cell_type": "code",
   "execution_count": 11,
   "metadata": {},
   "outputs": [],
   "source": [
    "# Incase we're intersted in seeing the original scraped tables.\n",
    "# Commented as it takes too much screen space\n",
    "# Run if you want\n",
    "# printnAllTables(tables)"
   ]
  },
  {
   "cell_type": "code",
   "execution_count": 12,
   "metadata": {},
   "outputs": [],
   "source": [
    "# Removes Garbage Rows that may have been detected Before the 'STATES' row\n",
    "# AND\n",
    "# Removes Garbage Rows that may have been detected after the 'TOTAL (ALL INDIA)' row\n",
    "def clean(table):\n",
    "    while(table.df.iloc[0,1] != 'STATES' and table.df.iloc[0,1] != 'AGRA'):\n",
    "        table.df = table.df.iloc[1:]\n",
    "    while(table.df.iloc[-1,1] != 'TOTAL (ALL INDIA)' and table.df.iloc[-1,1] != 'TOTAL (CITIES)'):\n",
    "        table.df = table.df.iloc[:-1]\n",
    "    # The Return line is unnecessary due to all changes being reflected in the original references\n",
    "    return table"
   ]
  },
  {
   "cell_type": "code",
   "execution_count": 13,
   "metadata": {},
   "outputs": [],
   "source": [
    "# Splits the second column into 1st column index and 2nd column test when faulty/required\n",
    "def split_by_first_space(df, strIndex, stpIndex):\n",
    "    df = df.iloc[strIndex:stpIndex+1]\n",
    "    for index, each in df.iterrows():\n",
    "        space = each[1].find(' ')\n",
    "        each[0] = each[1][:space]\n",
    "        each[1] = each[1][space:]"
   ]
  },
  {
   "cell_type": "code",
   "execution_count": 14,
   "metadata": {},
   "outputs": [],
   "source": [
    "def mergeRows(df, strIndex, stpIndex):\n",
    "    DF = df.loc[strIndex:stpIndex]\n",
    "    df = DF.T\n",
    "    l = []\n",
    "    for index, each in df.iterrows():\n",
    "        output = ''\n",
    "        for ind, cell in each.iteritems():\n",
    "            output += (str(cell) + ' ')\n",
    "#         if(output == ''):\n",
    "#             continue\n",
    "        l.append(output.strip())\n",
    "    l = pd.Series(l,name=str(strIndex))\n",
    "    DF.loc[strIndex] = l"
   ]
  },
  {
   "cell_type": "code",
   "execution_count": 15,
   "metadata": {},
   "outputs": [],
   "source": [
    "for each_table in table1_2:\n",
    "    clean(each_table)"
   ]
  },
  {
   "cell_type": "code",
   "execution_count": 16,
   "metadata": {},
   "outputs": [],
   "source": [
    "for each_table in table3_4:\n",
    "    clean(each_table)"
   ]
  },
  {
   "cell_type": "code",
   "execution_count": 17,
   "metadata": {},
   "outputs": [],
   "source": [
    "# Incase we're intersted in seeing the scraped tables at this point.\n",
    "# Commented as it takes too much screen space\n",
    "# Run if you want\n",
    "# printnAllTables(table1_2)\n",
    "# printnAllTables(table3_4)"
   ]
  },
  {
   "cell_type": "code",
   "execution_count": 18,
   "metadata": {},
   "outputs": [],
   "source": [
    "states = [table1_2[0].df.copy(), table3_4[0].df.copy()]\n",
    "cities = [table1_2[1].df.copy(), table3_4[1].df.copy()]"
   ]
  },
  {
   "cell_type": "code",
   "execution_count": 19,
   "metadata": {},
   "outputs": [
    {
     "output_type": "execute_result",
     "data": {
      "text/plain": [
       "2"
      ]
     },
     "metadata": {},
     "execution_count": 19
    }
   ],
   "source": [
    "# List of Column headers as column are nested, i.e exhibit a multi level/index structure\n",
    "# The multi level structre will be generated and applied in the next \n",
    "column_header = [\n",
    "    ['National Highways','State Highways','Expressways'],\n",
    "    ['Other Roads','Total']\n",
    "]\n",
    "len(column_header)"
   ]
  },
  {
   "cell_type": "code",
   "execution_count": 20,
   "metadata": {},
   "outputs": [],
   "source": [
    "def set_Column(df, title, state, last):\n",
    "    if(not last):\n",
    "        column_list = [\n",
    "            (\"Sl. No.\",''),\n",
    "            (\"State/UT\" if(state) else \"City\",''), \n",
    "            (title[0],'Cases'),\n",
    "            (title[0],'Injured'),\n",
    "            (title[0],'Dead'),\n",
    "            (title[1],'Cases'),\n",
    "            (title[1],'Injured'),\n",
    "            (title[1],'Dead'),\n",
    "            (title[2],'Cases'),\n",
    "            (title[2],'Injured'),\n",
    "            (title[2],'Dead')\n",
    "            ]\n",
    "    else:\n",
    "        column_list = [\n",
    "            (\"Sl. No.\",''),\n",
    "            (\"State/UT\" if(state) else \"City\",''), \n",
    "            (title[0],'Cases'),\n",
    "            (title[0],'Injured'),\n",
    "            (title[0],'Dead'),\n",
    "            (title[1],'Cases'),\n",
    "            (title[1],'Injured'),\n",
    "            (title[1],'Dead')\n",
    "            ]\n",
    "    df.columns = pd.MultiIndex.from_tuples(column_list)"
   ]
  },
  {
   "cell_type": "code",
   "execution_count": 21,
   "metadata": {},
   "outputs": [],
   "source": [
    "for i,(state,city) in enumerate(zip(states,cities)):\n",
    "    set_Column(df=state,title=column_header[i],state=True,last=i)\n",
    "    state.set_index([\"Sl. No.\",\"State/UT\"],inplace=True)\n",
    "    set_Column(df=city,title=column_header[i],state=False,last=i)\n",
    "    city.set_index([\"Sl. No.\",\"City\"],inplace=True)"
   ]
  },
  {
   "cell_type": "code",
   "execution_count": 22,
   "metadata": {},
   "outputs": [],
   "source": [
    "# Incase we're intersted in seeing the scraped tables at this point.\n",
    "# Commented as it takes too much screen space\n",
    "# Run if you want\n",
    "# printnAllTables(tables)\n",
    "\n",
    "# OR Print a simgle one according to your choice\n",
    "# tables[23].df"
   ]
  },
  {
   "cell_type": "code",
   "execution_count": 23,
   "metadata": {},
   "outputs": [],
   "source": [
    "# Concat all the tables one after the other, as they all have the same indexes.\n",
    "State = pd.concat(states,axis=1)\n",
    "City  = pd.concat(cities,axis=1)"
   ]
  },
  {
   "cell_type": "code",
   "execution_count": 24,
   "metadata": {},
   "outputs": [],
   "source": [
    "# Reset Index before saving file, for better formatting in RAW CSV\n",
    "State.reset_index().to_csv(\"Road Classification – wise Number of Road Accidents, Injuries and Deaths during 2019(StateUT-wise).csv\",index=False)\n",
    "City.reset_index().to_csv(\"Road Classification – wise Number of Road Accidents, Injuries and Deaths during 2019(City-wise).csv\",index=False)"
   ]
  }
 ],
 "metadata": {
  "kernelspec": {
   "display_name": "Python 3",
   "language": "python",
   "name": "python3"
  },
  "language_info": {
   "codemirror_mode": {
    "name": "ipython",
    "version": 3
   },
   "file_extension": ".py",
   "mimetype": "text/x-python",
   "name": "python",
   "nbconvert_exporter": "python",
   "pygments_lexer": "ipython3",
   "version": "3.8.2-final"
  }
 },
 "nbformat": 4,
 "nbformat_minor": 4
}
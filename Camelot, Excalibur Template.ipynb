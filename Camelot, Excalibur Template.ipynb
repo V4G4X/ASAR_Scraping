{
 "cells": [
  {
   "cell_type": "code",
   "execution_count": null,
   "metadata": {},
   "outputs": [],
   "source": [
    "import wget\n",
    "import ssl\n",
    "import os\n",
    "ssl._create_default_https_context = ssl._create_unverified_context"
   ]
  },
  {
   "cell_type": "code",
   "execution_count": null,
   "metadata": {},
   "outputs": [],
   "source": [
    "# Enter NCRB Individual PDF url\n",
    "pdf_url = 'https://ncrb.gov.in/sites/default/files/adsi_reports_previous_year/Table-1.9_2019.pdf'\n",
    "fileName = pdf_url[67:]\n",
    "try:\n",
    "    #Delete the file to redownload it\n",
    "    os.remove(fileName)\n",
    "except FileNotFoundError as e:\n",
    "    #Ignore in case FileNotFound Error occurs\n",
    "    pass\n",
    "# Download report\n",
    "fileName = wget.download(pdf_url,fileName)"
   ]
  },
  {
   "cell_type": "code",
   "execution_count": null,
   "metadata": {},
   "outputs": [],
   "source": [
    "import numpy as np\n",
    "import pandas as pd\n",
    "import camelot"
   ]
  },
  {
   "cell_type": "code",
   "execution_count": null,
   "metadata": {},
   "outputs": [],
   "source": [
    "fileName"
   ]
  },
  {
   "cell_type": "code",
   "execution_count": null,
   "metadata": {},
   "outputs": [],
   "source": [
    "tables = camelot.read_pdf(fileName,\n",
    "                          flavor='stream',\n",
    "                          table_areas=[\n",
    "                              \"33.776054792655636,721.2102930792192,564.5445283018868,64.47573400376504\"\n",
    "                              ],\n",
    "                          columns=[\n",
    "                              \"54.83050080775445,161.60568659127628,203.93098546042006,256.83760904684976,308.7822940226172,340.526268174475,379.00381260096935,430.9484975767367,477.12155088852995,515.5990953150243\"\n",
    "                              ],\n",
    "                          split_text=True,\n",
    "                          pages=\"all\"\n",
    "                         )"
   ]
  },
  {
   "cell_type": "code",
   "execution_count": null,
   "metadata": {},
   "outputs": [],
   "source": [
    "tables"
   ]
  },
  {
   "cell_type": "code",
   "execution_count": null,
   "metadata": {},
   "outputs": [],
   "source": [
    "def printnAllTables(tables):\n",
    "    for i in range(len(tables)):\n",
    "        print(\"Page No: \",(i+1))\n",
    "        print(tables[i].df)\n",
    "        print()"
   ]
  },
  {
   "cell_type": "code",
   "execution_count": null,
   "metadata": {},
   "outputs": [],
   "source": [
    "# Incase we're intersted in seeing the original scraped tables.\n",
    "# Commented as it takes too much screen space\n",
    "# Run if you want\n",
    "# printnAllTables(tables)"
   ]
  },
  {
   "cell_type": "code",
   "execution_count": null,
   "metadata": {},
   "outputs": [],
   "source": [
    "# Removes Garbage Rows that may have been detected Before the 'STATES' row\n",
    "# AND\n",
    "# Removes Garbage Rows that may have been detected after the 'TOTAL (ALL INDIA)' row\n",
    "def clean(table):\n",
    "    while(table.df.iloc[0,1] != 'STATES'):\n",
    "        table.df = table.df.iloc[1:]\n",
    "    while(table.df.iloc[-1,1] != 'TOTAL (ALL INDIA)'):\n",
    "        table.df = table.df.iloc[:-1]\n",
    "    # The Return line is unnecessary due to all changes being reflected in the original references\n",
    "    return table"
   ]
  },
  {
   "cell_type": "code",
   "execution_count": null,
   "metadata": {},
   "outputs": [],
   "source": [
    "# Splits the second column into 1st column index and 2nd column test when faulty/required\n",
    "def split_by_first_space(df, strIndex, stpIndex):\n",
    "    df = df.iloc[strIndex:stpIndex+1]\n",
    "    for index, each in df.iterrows():\n",
    "        space = each[1].find(' ')\n",
    "        each[0] = each[1][:space]\n",
    "        each[1] = each[1][space:]"
   ]
  },
  {
   "cell_type": "code",
   "execution_count": null,
   "metadata": {},
   "outputs": [],
   "source": [
    "for each_table in tables:\n",
    "    clean(each_table)"
   ]
  },
  {
   "cell_type": "code",
   "execution_count": null,
   "metadata": {},
   "outputs": [],
   "source": [
    "# Incase we're intersted in seeing the scraped tables at this point.\n",
    "# Commented as it takes too much screen space\n",
    "# Run if you want\n",
    "# printnAllTables(tables)"
   ]
  },
  {
   "cell_type": "code",
   "execution_count": null,
   "metadata": {},
   "outputs": [],
   "source": [
    "# List of Column headers as column are nested, i.e exhibit a multi level/index structure\n",
    "# The multi level structre will be generated and applied in the next \n",
    "column_header = [\n",
    "    \"Air Crash\",\n",
    "    \"Ship Accidents\",\n",
    "    \"Collapse of Structure(Total)\",\n",
    "    \"Collapse of Structure (Dwelling House/Residential building)\",\n",
    "    \"Collapse of Structure (Official/Commercial Building)\",\n",
    "    \"Collapse of Structure (Dam)\",\n",
    "    \"Collapse of Structure (Bridge)\",\n",
    "    \"Collapse of Structure (Others)\",\n",
    "    \"Drowning (Total)\",\n",
    "    \"Drowning (Boat Capsize)\",\n",
    "    \"Drowning (Accidental Falls into Water body)\",\n",
    "    \"Drowning (Other Cases)\",\n",
    "    \"Electrocution\",\n",
    "    \"Accidental Explosion (Total)\",\n",
    "    \"Accidental Explosion (Domestic Gas Cylinder)\",\n",
    "    \"Accidental Explosion (Industrial Boiler/Gas Cylinder Explosion)\",\n",
    "    \"Accidental Explosion (Ammunition Explosion in Armed Forces/Police/CPMF)\",\n",
    "    \"Accidental Explosion (Other)\",\n",
    "    \"Falls (Total)\",\n",
    "    \"Falls (from Height)\",\n",
    "    \"Falls (from Vehicles (Automobile like Bus, Trucks, etc.))\",\n",
    "    \"Falls (into Manhole)\",\n",
    "    \"Falls (into Pit)\",\n",
    "    \"Falls (into Borewell)\",\n",
    "    \"Falls (Others)\",\n",
    "    \"Factory / Machine Accidents\",\n",
    "    \"Accidental Fire (Total)\",\n",
    "    \"Accidental Fire (Electrical Short Circuit\",\n",
    "    \"Accidental Fire (Riot/Agitation)\",\n",
    "    \"Accidental Fire (Fireworks)\",\n",
    "    \"Accidental Fire (Cooking Gas Cylinder/Stove Burst)\",\n",
    "    \"Accidental Fire (Other Causes)\",\n",
    "    \"Firearm\",\n",
    "    \"Mines or Quarry Disaster\",\n",
    "    \"Traffic Accidents (Total)\",\n",
    "    \"Road Accidents\",\n",
    "    \"Railway Crossing Accidents\",\n",
    "    \"Railway Accidents\",\n",
    "    \"Stampede\",\n",
    "    \"Sudden Deaths (Total)\",\n",
    "    \"Sudden Deaths (Heart Attack)\",\n",
    "    \"Sudden Deaths (Others)\",\n",
    "    \"Deaths of Women during Pregnancy (Total)\",\n",
    "    \"Deaths of Women during Pregnancy (Due to Abortions)\",\n",
    "    \"Deaths of Women during Pregnancy (Other than Abortions)\",\n",
    "    \"Deaths due to Consumption of Illicit/Spurious Liquor\",\n",
    "    \"Killed / Injured by Animals\",\n",
    "    \"Poisoning (Total)\",\n",
    "    \"Poisoning (Food Poisoning)\",\n",
    "    \"Poisoning (Accidental Intake of Insecticides/Pesticides)\",\n",
    "    \"Poisoning [Poisonous Gases (Total)]\",\n",
    "    \"Poisoning [Poisonous Gases (Carbon Monoxide (CO) Gas)]\",\n",
    "    \"Poisoning [Poisonous Gases (Other poisonous Gases)]\",\n",
    "    \"Poisoning (Snake Bite)\",\n",
    "    \"Poisoning (Animal/Reptiles/Insects Bite)\",\n",
    "    \"Poisoning (Other)\",\n",
    "    \"Suffocation\",\n",
    "    \"Drug Overdose\",\n",
    "    \"Other than above Causes\",\n",
    "    \"Causes Not Known\",\n",
    "    \"Total\"\n",
    "]\n",
    "len(column_header)"
   ]
  },
  {
   "cell_type": "code",
   "execution_count": null,
   "metadata": {},
   "outputs": [],
   "source": [
    "def set_Column(df, title):\n",
    "    column_list = [\n",
    "        (\"Sl. No.\",'',''),\n",
    "        (\"State/UT\",'',''), \n",
    "        (title,\"No. of Cases\",''),\n",
    "        (title,'No. of Persons Injured','Male'),\n",
    "        (title,'No. of Persons Injured','Female'),\n",
    "        (title,'No. of Persons Injured','Transgender'),\n",
    "        (title,'No. of Persons Injured','Total'),\n",
    "        (title,'No. of Persons Died','Male'),\n",
    "        (title,'No. of Persons Died','Female'),\n",
    "        (title,'No. of Persons Died','Transgender'),\n",
    "        (title,'No. of Persons Died','Total'),\n",
    "    ]\n",
    "    df.columns = pd.MultiIndex.from_tuples(column_list)"
   ]
  },
  {
   "cell_type": "code",
   "execution_count": null,
   "metadata": {},
   "outputs": [],
   "source": [
    "for i in range(len(tables)):\n",
    "    set_Column(tables[i].df, column_header[i])\n",
    "    tables[i].df.set_index([\"Sl. No.\",\"State/UT\"],inplace=True)"
   ]
  },
  {
   "cell_type": "code",
   "execution_count": null,
   "metadata": {},
   "outputs": [],
   "source": [
    "# Incase we're intersted in seeing the scraped tables at this point.\n",
    "# Commented as it takes too much screen space\n",
    "# Run if you want\n",
    "# printnAllTables(tables)\n",
    "\n",
    "# OR Print a simgle one according to your choice\n",
    "# tables[23].df"
   ]
  },
  {
   "cell_type": "code",
   "execution_count": null,
   "metadata": {},
   "outputs": [],
   "source": [
    "# Convert List of tables to list of DataFrames\n",
    "DataFrames = [each.df.copy() for each in tables]\n",
    "# Concat all the tables one after the other, as they all have the same indexes.\n",
    "final = pd.concat(DataFrames,axis=1)"
   ]
  },
  {
   "cell_type": "code",
   "execution_count": null,
   "metadata": {},
   "outputs": [],
   "source": [
    "# Reset Index before saving file, for better formatting in RAW CSV\n",
    "final.reset_index().to_csv(\"Other Causes-wise Number of Cases, Persons Injured & Persons Died during 2019 (State & UT-wise).csv\",index=False)"
   ]
  }
 ],
 "metadata": {
  "kernelspec": {
   "display_name": "Python 3",
   "language": "python",
   "name": "python3"
  },
  "language_info": {
   "codemirror_mode": {
    "name": "ipython",
    "version": 3
   },
   "file_extension": ".py",
   "mimetype": "text/x-python",
   "name": "python",
   "nbconvert_exporter": "python",
   "pygments_lexer": "ipython3",
   "version": "3.8.2-final"
  }
 },
 "nbformat": 4,
 "nbformat_minor": 4
}